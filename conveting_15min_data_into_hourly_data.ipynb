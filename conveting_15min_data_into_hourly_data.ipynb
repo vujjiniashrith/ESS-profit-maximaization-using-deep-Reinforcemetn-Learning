{
  "cells": [
    {
      "cell_type": "markdown",
      "metadata": {
        "id": "view-in-github",
        "colab_type": "text"
      },
      "source": [
        "<a href=\"https://colab.research.google.com/github/vujjiniashrith/ESS-profit-maximaization-using-deep-Reinforcemetn-Learning/blob/Data/conveting_15min_data_into_hourly_data.ipynb\" target=\"_parent\"><img src=\"https://colab.research.google.com/assets/colab-badge.svg\" alt=\"Open In Colab\"/></a>"
      ]
    },
    {
      "cell_type": "code",
      "execution_count": null,
      "id": "38ede217",
      "metadata": {
        "id": "38ede217"
      },
      "outputs": [],
      "source": [
        "import numpy as np\n",
        "import pandas as pd\n",
        "import matplotlib.pyplot as plt\n",
        "\n"
      ]
    },
    {
      "cell_type": "code",
      "execution_count": null,
      "id": "01690611",
      "metadata": {
        "id": "01690611"
      },
      "outputs": [],
      "source": [
        "df = pd.read_csv('data.csv')"
      ]
    },
    {
      "cell_type": "code",
      "execution_count": null,
      "id": "6bd362eb",
      "metadata": {
        "id": "6bd362eb",
        "outputId": "c289e29b-ecdd-41a7-9d96-e5922794d868"
      },
      "outputs": [
        {
          "data": {
            "text/plain": [
              "(2810560, 5)"
            ]
          },
          "execution_count": 3,
          "metadata": {},
          "output_type": "execute_result"
        }
      ],
      "source": [
        "df.shape"
      ]
    },
    {
      "cell_type": "code",
      "execution_count": null,
      "id": "ddf783a0",
      "metadata": {
        "id": "ddf783a0",
        "outputId": "774ee324-a2b2-48a7-f039-f150ac1f1c39"
      },
      "outputs": [
        {
          "data": {
            "text/html": [
              "<div>\n",
              "<style scoped>\n",
              "    .dataframe tbody tr th:only-of-type {\n",
              "        vertical-align: middle;\n",
              "    }\n",
              "\n",
              "    .dataframe tbody tr th {\n",
              "        vertical-align: top;\n",
              "    }\n",
              "\n",
              "    .dataframe thead th {\n",
              "        text-align: right;\n",
              "    }\n",
              "</style>\n",
              "<table border=\"1\" class=\"dataframe\">\n",
              "  <thead>\n",
              "    <tr style=\"text-align: right;\">\n",
              "      <th></th>\n",
              "      <th>dataid</th>\n",
              "      <th>local_15min</th>\n",
              "      <th>gen</th>\n",
              "      <th>use</th>\n",
              "      <th>myid</th>\n",
              "    </tr>\n",
              "  </thead>\n",
              "  <tbody>\n",
              "    <tr>\n",
              "      <th>0</th>\n",
              "      <td>26</td>\n",
              "      <td>2016-01-01 00:00:00</td>\n",
              "      <td>-0.002000</td>\n",
              "      <td>0.518533</td>\n",
              "      <td>1</td>\n",
              "    </tr>\n",
              "    <tr>\n",
              "      <th>1</th>\n",
              "      <td>26</td>\n",
              "      <td>2016-01-01 00:15:00</td>\n",
              "      <td>-0.001400</td>\n",
              "      <td>0.585400</td>\n",
              "      <td>1</td>\n",
              "    </tr>\n",
              "    <tr>\n",
              "      <th>2</th>\n",
              "      <td>26</td>\n",
              "      <td>2016-01-01 00:30:00</td>\n",
              "      <td>-0.000667</td>\n",
              "      <td>0.587933</td>\n",
              "      <td>1</td>\n",
              "    </tr>\n",
              "    <tr>\n",
              "      <th>3</th>\n",
              "      <td>26</td>\n",
              "      <td>2016-01-01 00:45:00</td>\n",
              "      <td>-0.001000</td>\n",
              "      <td>0.416667</td>\n",
              "      <td>1</td>\n",
              "    </tr>\n",
              "    <tr>\n",
              "      <th>4</th>\n",
              "      <td>26</td>\n",
              "      <td>2016-01-01 01:00:00</td>\n",
              "      <td>-0.001000</td>\n",
              "      <td>0.423600</td>\n",
              "      <td>1</td>\n",
              "    </tr>\n",
              "  </tbody>\n",
              "</table>\n",
              "</div>"
            ],
            "text/plain": [
              "   dataid          local_15min       gen       use  myid\n",
              "0      26  2016-01-01 00:00:00 -0.002000  0.518533     1\n",
              "1      26  2016-01-01 00:15:00 -0.001400  0.585400     1\n",
              "2      26  2016-01-01 00:30:00 -0.000667  0.587933     1\n",
              "3      26  2016-01-01 00:45:00 -0.001000  0.416667     1\n",
              "4      26  2016-01-01 01:00:00 -0.001000  0.423600     1"
            ]
          },
          "execution_count": 4,
          "metadata": {},
          "output_type": "execute_result"
        }
      ],
      "source": [
        "df.head()"
      ]
    },
    {
      "cell_type": "code",
      "execution_count": null,
      "id": "e05a2d33",
      "metadata": {
        "id": "e05a2d33"
      },
      "outputs": [],
      "source": [
        "df = df[df['dataid']==26]"
      ]
    },
    {
      "cell_type": "code",
      "execution_count": null,
      "id": "2bfb0305",
      "metadata": {
        "id": "2bfb0305",
        "outputId": "6bcfdf75-54cf-419c-873d-9cb278392213"
      },
      "outputs": [
        {
          "data": {
            "text/plain": [
              "(35132, 5)"
            ]
          },
          "execution_count": 6,
          "metadata": {},
          "output_type": "execute_result"
        }
      ],
      "source": [
        "df.shape"
      ]
    },
    {
      "cell_type": "code",
      "execution_count": null,
      "id": "34700264",
      "metadata": {
        "id": "34700264",
        "outputId": "91af01be-7127-4219-a930-d0892b6109ab"
      },
      "outputs": [
        {
          "data": {
            "text/html": [
              "<div>\n",
              "<style scoped>\n",
              "    .dataframe tbody tr th:only-of-type {\n",
              "        vertical-align: middle;\n",
              "    }\n",
              "\n",
              "    .dataframe tbody tr th {\n",
              "        vertical-align: top;\n",
              "    }\n",
              "\n",
              "    .dataframe thead th {\n",
              "        text-align: right;\n",
              "    }\n",
              "</style>\n",
              "<table border=\"1\" class=\"dataframe\">\n",
              "  <thead>\n",
              "    <tr style=\"text-align: right;\">\n",
              "      <th></th>\n",
              "      <th>dataid</th>\n",
              "      <th>local_15min</th>\n",
              "      <th>gen</th>\n",
              "      <th>use</th>\n",
              "      <th>myid</th>\n",
              "    </tr>\n",
              "  </thead>\n",
              "  <tbody>\n",
              "    <tr>\n",
              "      <th>35127</th>\n",
              "      <td>26</td>\n",
              "      <td>2016-12-31 22:45:00</td>\n",
              "      <td>0.004267</td>\n",
              "      <td>2.803267</td>\n",
              "      <td>1</td>\n",
              "    </tr>\n",
              "    <tr>\n",
              "      <th>35128</th>\n",
              "      <td>26</td>\n",
              "      <td>2016-12-31 23:00:00</td>\n",
              "      <td>0.008533</td>\n",
              "      <td>2.635267</td>\n",
              "      <td>1</td>\n",
              "    </tr>\n",
              "    <tr>\n",
              "      <th>35129</th>\n",
              "      <td>26</td>\n",
              "      <td>2016-12-31 23:15:00</td>\n",
              "      <td>0.013200</td>\n",
              "      <td>2.806267</td>\n",
              "      <td>1</td>\n",
              "    </tr>\n",
              "    <tr>\n",
              "      <th>35130</th>\n",
              "      <td>26</td>\n",
              "      <td>2016-12-31 23:30:00</td>\n",
              "      <td>0.004933</td>\n",
              "      <td>1.884200</td>\n",
              "      <td>1</td>\n",
              "    </tr>\n",
              "    <tr>\n",
              "      <th>35131</th>\n",
              "      <td>26</td>\n",
              "      <td>2016-12-31 23:45:00</td>\n",
              "      <td>0.004733</td>\n",
              "      <td>1.786133</td>\n",
              "      <td>1</td>\n",
              "    </tr>\n",
              "  </tbody>\n",
              "</table>\n",
              "</div>"
            ],
            "text/plain": [
              "       dataid          local_15min       gen       use  myid\n",
              "35127      26  2016-12-31 22:45:00  0.004267  2.803267     1\n",
              "35128      26  2016-12-31 23:00:00  0.008533  2.635267     1\n",
              "35129      26  2016-12-31 23:15:00  0.013200  2.806267     1\n",
              "35130      26  2016-12-31 23:30:00  0.004933  1.884200     1\n",
              "35131      26  2016-12-31 23:45:00  0.004733  1.786133     1"
            ]
          },
          "execution_count": 7,
          "metadata": {},
          "output_type": "execute_result"
        }
      ],
      "source": [
        "df.tail()"
      ]
    },
    {
      "cell_type": "code",
      "execution_count": null,
      "id": "34b43e5e",
      "metadata": {
        "id": "34b43e5e",
        "outputId": "19350b2f-b6b6-4f3e-ac54-096d6c9355a3"
      },
      "outputs": [
        {
          "name": "stdout",
          "output_type": "stream",
          "text": [
            "Index(['dataid', 'local_15min', 'gen', 'use', 'myid'], dtype='object')\n"
          ]
        }
      ],
      "source": [
        "print(df.columns)"
      ]
    },
    {
      "cell_type": "code",
      "execution_count": null,
      "id": "3bd80eae",
      "metadata": {
        "id": "3bd80eae"
      },
      "outputs": [],
      "source": [
        "columns_to_drop = ['dataid',  'myid']"
      ]
    },
    {
      "cell_type": "code",
      "execution_count": null,
      "id": "18ac108d",
      "metadata": {
        "id": "18ac108d"
      },
      "outputs": [],
      "source": [
        "df.drop(columns=columns_to_drop,inplace=True)"
      ]
    },
    {
      "cell_type": "code",
      "execution_count": null,
      "id": "54b0a25e",
      "metadata": {
        "id": "54b0a25e",
        "outputId": "02306f18-8333-4d4f-b326-24c039733098"
      },
      "outputs": [
        {
          "data": {
            "text/html": [
              "<div>\n",
              "<style scoped>\n",
              "    .dataframe tbody tr th:only-of-type {\n",
              "        vertical-align: middle;\n",
              "    }\n",
              "\n",
              "    .dataframe tbody tr th {\n",
              "        vertical-align: top;\n",
              "    }\n",
              "\n",
              "    .dataframe thead th {\n",
              "        text-align: right;\n",
              "    }\n",
              "</style>\n",
              "<table border=\"1\" class=\"dataframe\">\n",
              "  <thead>\n",
              "    <tr style=\"text-align: right;\">\n",
              "      <th></th>\n",
              "      <th>local_15min</th>\n",
              "      <th>gen</th>\n",
              "      <th>use</th>\n",
              "    </tr>\n",
              "  </thead>\n",
              "  <tbody>\n",
              "    <tr>\n",
              "      <th>0</th>\n",
              "      <td>2016-01-01 00:00:00</td>\n",
              "      <td>-0.002000</td>\n",
              "      <td>0.518533</td>\n",
              "    </tr>\n",
              "    <tr>\n",
              "      <th>1</th>\n",
              "      <td>2016-01-01 00:15:00</td>\n",
              "      <td>-0.001400</td>\n",
              "      <td>0.585400</td>\n",
              "    </tr>\n",
              "    <tr>\n",
              "      <th>2</th>\n",
              "      <td>2016-01-01 00:30:00</td>\n",
              "      <td>-0.000667</td>\n",
              "      <td>0.587933</td>\n",
              "    </tr>\n",
              "    <tr>\n",
              "      <th>3</th>\n",
              "      <td>2016-01-01 00:45:00</td>\n",
              "      <td>-0.001000</td>\n",
              "      <td>0.416667</td>\n",
              "    </tr>\n",
              "    <tr>\n",
              "      <th>4</th>\n",
              "      <td>2016-01-01 01:00:00</td>\n",
              "      <td>-0.001000</td>\n",
              "      <td>0.423600</td>\n",
              "    </tr>\n",
              "  </tbody>\n",
              "</table>\n",
              "</div>"
            ],
            "text/plain": [
              "           local_15min       gen       use\n",
              "0  2016-01-01 00:00:00 -0.002000  0.518533\n",
              "1  2016-01-01 00:15:00 -0.001400  0.585400\n",
              "2  2016-01-01 00:30:00 -0.000667  0.587933\n",
              "3  2016-01-01 00:45:00 -0.001000  0.416667\n",
              "4  2016-01-01 01:00:00 -0.001000  0.423600"
            ]
          },
          "execution_count": 11,
          "metadata": {},
          "output_type": "execute_result"
        }
      ],
      "source": [
        "df.head()"
      ]
    },
    {
      "cell_type": "code",
      "execution_count": null,
      "id": "64174540",
      "metadata": {
        "id": "64174540"
      },
      "outputs": [],
      "source": [
        "df['local_15min'] = pd.to_datetime(df['local_15min'])\n"
      ]
    },
    {
      "cell_type": "code",
      "execution_count": null,
      "id": "c79c1edd",
      "metadata": {
        "id": "c79c1edd"
      },
      "outputs": [],
      "source": [
        "df.set_index('local_15min', inplace=True)\n",
        "\n",
        "# Resample the data to one-hour intervals and aggregate using a function (e.g., sum)\n",
        "hourly_data = df.resample('1H').sum()\n",
        "\n",
        "# Reset the index to make 'local_15min' a regular column\n",
        "hourly_data.reset_index(inplace=True)\n",
        "\n"
      ]
    },
    {
      "cell_type": "code",
      "execution_count": null,
      "id": "48f5351b",
      "metadata": {
        "id": "48f5351b",
        "outputId": "049b5eae-bf67-4be9-e989-04e8312d4934"
      },
      "outputs": [
        {
          "data": {
            "text/html": [
              "<div>\n",
              "<style scoped>\n",
              "    .dataframe tbody tr th:only-of-type {\n",
              "        vertical-align: middle;\n",
              "    }\n",
              "\n",
              "    .dataframe tbody tr th {\n",
              "        vertical-align: top;\n",
              "    }\n",
              "\n",
              "    .dataframe thead th {\n",
              "        text-align: right;\n",
              "    }\n",
              "</style>\n",
              "<table border=\"1\" class=\"dataframe\">\n",
              "  <thead>\n",
              "    <tr style=\"text-align: right;\">\n",
              "      <th></th>\n",
              "      <th>gen</th>\n",
              "      <th>use</th>\n",
              "    </tr>\n",
              "    <tr>\n",
              "      <th>local_15min</th>\n",
              "      <th></th>\n",
              "      <th></th>\n",
              "    </tr>\n",
              "  </thead>\n",
              "  <tbody>\n",
              "    <tr>\n",
              "      <th>2016-01-01 00:00:00</th>\n",
              "      <td>-0.002000</td>\n",
              "      <td>0.518533</td>\n",
              "    </tr>\n",
              "    <tr>\n",
              "      <th>2016-01-01 00:15:00</th>\n",
              "      <td>-0.001400</td>\n",
              "      <td>0.585400</td>\n",
              "    </tr>\n",
              "    <tr>\n",
              "      <th>2016-01-01 00:30:00</th>\n",
              "      <td>-0.000667</td>\n",
              "      <td>0.587933</td>\n",
              "    </tr>\n",
              "    <tr>\n",
              "      <th>2016-01-01 00:45:00</th>\n",
              "      <td>-0.001000</td>\n",
              "      <td>0.416667</td>\n",
              "    </tr>\n",
              "    <tr>\n",
              "      <th>2016-01-01 01:00:00</th>\n",
              "      <td>-0.001000</td>\n",
              "      <td>0.423600</td>\n",
              "    </tr>\n",
              "  </tbody>\n",
              "</table>\n",
              "</div>"
            ],
            "text/plain": [
              "                          gen       use\n",
              "local_15min                            \n",
              "2016-01-01 00:00:00 -0.002000  0.518533\n",
              "2016-01-01 00:15:00 -0.001400  0.585400\n",
              "2016-01-01 00:30:00 -0.000667  0.587933\n",
              "2016-01-01 00:45:00 -0.001000  0.416667\n",
              "2016-01-01 01:00:00 -0.001000  0.423600"
            ]
          },
          "execution_count": 14,
          "metadata": {},
          "output_type": "execute_result"
        }
      ],
      "source": [
        "df.head()"
      ]
    },
    {
      "cell_type": "code",
      "execution_count": null,
      "id": "624883e9",
      "metadata": {
        "id": "624883e9",
        "outputId": "b2d8f887-9aed-4af5-8bd1-8fde7432347a"
      },
      "outputs": [
        {
          "name": "stdout",
          "output_type": "stream",
          "text": [
            "             local_15min       gen        use\n",
            "0    2016-01-01 00:00:00 -0.005067   2.108533\n",
            "1    2016-01-01 01:00:00 -0.002533   1.852600\n",
            "2    2016-01-01 02:00:00 -0.004333   1.988000\n",
            "3    2016-01-01 03:00:00 -0.005133   1.993267\n",
            "4    2016-01-01 04:00:00 -0.003133   1.781533\n",
            "...                  ...       ...        ...\n",
            "8779 2016-12-31 19:00:00  0.019667  12.455867\n",
            "8780 2016-12-31 20:00:00  0.041067  21.469133\n",
            "8781 2016-12-31 21:00:00  0.011467  10.920000\n",
            "8782 2016-12-31 22:00:00  0.014533  13.135600\n",
            "8783 2016-12-31 23:00:00  0.031400   9.111867\n",
            "\n",
            "[8784 rows x 3 columns]\n"
          ]
        }
      ],
      "source": [
        "print(hourly_data)"
      ]
    },
    {
      "cell_type": "code",
      "execution_count": null,
      "id": "875a6832",
      "metadata": {
        "id": "875a6832"
      },
      "outputs": [],
      "source": [
        "consumer_data = pd.DataFrame(hourly_data)"
      ]
    },
    {
      "cell_type": "code",
      "execution_count": null,
      "id": "966e8a10",
      "metadata": {
        "id": "966e8a10",
        "outputId": "5029095f-d530-438d-91be-19386315a473"
      },
      "outputs": [
        {
          "data": {
            "text/html": [
              "<div>\n",
              "<style scoped>\n",
              "    .dataframe tbody tr th:only-of-type {\n",
              "        vertical-align: middle;\n",
              "    }\n",
              "\n",
              "    .dataframe tbody tr th {\n",
              "        vertical-align: top;\n",
              "    }\n",
              "\n",
              "    .dataframe thead th {\n",
              "        text-align: right;\n",
              "    }\n",
              "</style>\n",
              "<table border=\"1\" class=\"dataframe\">\n",
              "  <thead>\n",
              "    <tr style=\"text-align: right;\">\n",
              "      <th></th>\n",
              "      <th>local_15min</th>\n",
              "      <th>gen</th>\n",
              "      <th>use</th>\n",
              "    </tr>\n",
              "  </thead>\n",
              "  <tbody>\n",
              "    <tr>\n",
              "      <th>0</th>\n",
              "      <td>2016-01-01 00:00:00</td>\n",
              "      <td>-0.005067</td>\n",
              "      <td>2.108533</td>\n",
              "    </tr>\n",
              "    <tr>\n",
              "      <th>1</th>\n",
              "      <td>2016-01-01 01:00:00</td>\n",
              "      <td>-0.002533</td>\n",
              "      <td>1.852600</td>\n",
              "    </tr>\n",
              "    <tr>\n",
              "      <th>2</th>\n",
              "      <td>2016-01-01 02:00:00</td>\n",
              "      <td>-0.004333</td>\n",
              "      <td>1.988000</td>\n",
              "    </tr>\n",
              "    <tr>\n",
              "      <th>3</th>\n",
              "      <td>2016-01-01 03:00:00</td>\n",
              "      <td>-0.005133</td>\n",
              "      <td>1.993267</td>\n",
              "    </tr>\n",
              "    <tr>\n",
              "      <th>4</th>\n",
              "      <td>2016-01-01 04:00:00</td>\n",
              "      <td>-0.003133</td>\n",
              "      <td>1.781533</td>\n",
              "    </tr>\n",
              "  </tbody>\n",
              "</table>\n",
              "</div>"
            ],
            "text/plain": [
              "          local_15min       gen       use\n",
              "0 2016-01-01 00:00:00 -0.005067  2.108533\n",
              "1 2016-01-01 01:00:00 -0.002533  1.852600\n",
              "2 2016-01-01 02:00:00 -0.004333  1.988000\n",
              "3 2016-01-01 03:00:00 -0.005133  1.993267\n",
              "4 2016-01-01 04:00:00 -0.003133  1.781533"
            ]
          },
          "execution_count": 17,
          "metadata": {},
          "output_type": "execute_result"
        }
      ],
      "source": [
        "consumer_data.head()"
      ]
    },
    {
      "cell_type": "code",
      "execution_count": null,
      "id": "24cf5e23",
      "metadata": {
        "id": "24cf5e23",
        "outputId": "d8929ca1-0aee-42a4-8a74-504559ad3bf9"
      },
      "outputs": [
        {
          "data": {
            "text/plain": [
              "(8784, 3)"
            ]
          },
          "execution_count": 18,
          "metadata": {},
          "output_type": "execute_result"
        }
      ],
      "source": [
        "consumer_data.shape"
      ]
    },
    {
      "cell_type": "code",
      "execution_count": null,
      "id": "c9bd643d",
      "metadata": {
        "id": "c9bd643d"
      },
      "outputs": [],
      "source": [
        "df1 = consumer_data.copy()"
      ]
    },
    {
      "cell_type": "code",
      "execution_count": null,
      "id": "4f0ef8ce",
      "metadata": {
        "id": "4f0ef8ce",
        "outputId": "4b9e8d68-9ec0-417e-c5f0-e2f844e90ca8"
      },
      "outputs": [
        {
          "data": {
            "text/html": [
              "<div>\n",
              "<style scoped>\n",
              "    .dataframe tbody tr th:only-of-type {\n",
              "        vertical-align: middle;\n",
              "    }\n",
              "\n",
              "    .dataframe tbody tr th {\n",
              "        vertical-align: top;\n",
              "    }\n",
              "\n",
              "    .dataframe thead th {\n",
              "        text-align: right;\n",
              "    }\n",
              "</style>\n",
              "<table border=\"1\" class=\"dataframe\">\n",
              "  <thead>\n",
              "    <tr style=\"text-align: right;\">\n",
              "      <th></th>\n",
              "      <th>local_15min</th>\n",
              "      <th>gen</th>\n",
              "      <th>use</th>\n",
              "    </tr>\n",
              "  </thead>\n",
              "  <tbody>\n",
              "    <tr>\n",
              "      <th>8779</th>\n",
              "      <td>2016-12-31 19:00:00</td>\n",
              "      <td>0.019667</td>\n",
              "      <td>12.455867</td>\n",
              "    </tr>\n",
              "    <tr>\n",
              "      <th>8780</th>\n",
              "      <td>2016-12-31 20:00:00</td>\n",
              "      <td>0.041067</td>\n",
              "      <td>21.469133</td>\n",
              "    </tr>\n",
              "    <tr>\n",
              "      <th>8781</th>\n",
              "      <td>2016-12-31 21:00:00</td>\n",
              "      <td>0.011467</td>\n",
              "      <td>10.920000</td>\n",
              "    </tr>\n",
              "    <tr>\n",
              "      <th>8782</th>\n",
              "      <td>2016-12-31 22:00:00</td>\n",
              "      <td>0.014533</td>\n",
              "      <td>13.135600</td>\n",
              "    </tr>\n",
              "    <tr>\n",
              "      <th>8783</th>\n",
              "      <td>2016-12-31 23:00:00</td>\n",
              "      <td>0.031400</td>\n",
              "      <td>9.111867</td>\n",
              "    </tr>\n",
              "  </tbody>\n",
              "</table>\n",
              "</div>"
            ],
            "text/plain": [
              "             local_15min       gen        use\n",
              "8779 2016-12-31 19:00:00  0.019667  12.455867\n",
              "8780 2016-12-31 20:00:00  0.041067  21.469133\n",
              "8781 2016-12-31 21:00:00  0.011467  10.920000\n",
              "8782 2016-12-31 22:00:00  0.014533  13.135600\n",
              "8783 2016-12-31 23:00:00  0.031400   9.111867"
            ]
          },
          "execution_count": 25,
          "metadata": {},
          "output_type": "execute_result"
        }
      ],
      "source": [
        "df1.tail()"
      ]
    },
    {
      "cell_type": "code",
      "execution_count": null,
      "id": "95a8fab9",
      "metadata": {
        "id": "95a8fab9"
      },
      "outputs": [],
      "source": [
        "df1 = df1.rename(columns={'local_15min': 'dateTime'})"
      ]
    },
    {
      "cell_type": "code",
      "execution_count": null,
      "id": "9b322f65",
      "metadata": {
        "id": "9b322f65",
        "outputId": "4fb1ea62-12ea-4565-a20b-373afba3e302"
      },
      "outputs": [
        {
          "data": {
            "text/html": [
              "<div>\n",
              "<style scoped>\n",
              "    .dataframe tbody tr th:only-of-type {\n",
              "        vertical-align: middle;\n",
              "    }\n",
              "\n",
              "    .dataframe tbody tr th {\n",
              "        vertical-align: top;\n",
              "    }\n",
              "\n",
              "    .dataframe thead th {\n",
              "        text-align: right;\n",
              "    }\n",
              "</style>\n",
              "<table border=\"1\" class=\"dataframe\">\n",
              "  <thead>\n",
              "    <tr style=\"text-align: right;\">\n",
              "      <th></th>\n",
              "      <th>dateTime</th>\n",
              "      <th>gen</th>\n",
              "      <th>use</th>\n",
              "    </tr>\n",
              "  </thead>\n",
              "  <tbody>\n",
              "    <tr>\n",
              "      <th>0</th>\n",
              "      <td>2016-01-01 00:00:00</td>\n",
              "      <td>-0.005067</td>\n",
              "      <td>2.108533</td>\n",
              "    </tr>\n",
              "    <tr>\n",
              "      <th>1</th>\n",
              "      <td>2016-01-01 01:00:00</td>\n",
              "      <td>-0.002533</td>\n",
              "      <td>1.852600</td>\n",
              "    </tr>\n",
              "    <tr>\n",
              "      <th>2</th>\n",
              "      <td>2016-01-01 02:00:00</td>\n",
              "      <td>-0.004333</td>\n",
              "      <td>1.988000</td>\n",
              "    </tr>\n",
              "    <tr>\n",
              "      <th>3</th>\n",
              "      <td>2016-01-01 03:00:00</td>\n",
              "      <td>-0.005133</td>\n",
              "      <td>1.993267</td>\n",
              "    </tr>\n",
              "    <tr>\n",
              "      <th>4</th>\n",
              "      <td>2016-01-01 04:00:00</td>\n",
              "      <td>-0.003133</td>\n",
              "      <td>1.781533</td>\n",
              "    </tr>\n",
              "  </tbody>\n",
              "</table>\n",
              "</div>"
            ],
            "text/plain": [
              "             dateTime       gen       use\n",
              "0 2016-01-01 00:00:00 -0.005067  2.108533\n",
              "1 2016-01-01 01:00:00 -0.002533  1.852600\n",
              "2 2016-01-01 02:00:00 -0.004333  1.988000\n",
              "3 2016-01-01 03:00:00 -0.005133  1.993267\n",
              "4 2016-01-01 04:00:00 -0.003133  1.781533"
            ]
          },
          "execution_count": 27,
          "metadata": {},
          "output_type": "execute_result"
        }
      ],
      "source": [
        "df1.head()"
      ]
    },
    {
      "cell_type": "code",
      "execution_count": null,
      "id": "51ea4bc3",
      "metadata": {
        "id": "51ea4bc3"
      },
      "outputs": [],
      "source": [
        "df1.drop(columns = ['gen'],inplace=True)"
      ]
    },
    {
      "cell_type": "code",
      "execution_count": null,
      "id": "559bb11d",
      "metadata": {
        "id": "559bb11d",
        "outputId": "61c111aa-eafc-44bb-bb88-7b912dc513c2"
      },
      "outputs": [
        {
          "data": {
            "text/html": [
              "<div>\n",
              "<style scoped>\n",
              "    .dataframe tbody tr th:only-of-type {\n",
              "        vertical-align: middle;\n",
              "    }\n",
              "\n",
              "    .dataframe tbody tr th {\n",
              "        vertical-align: top;\n",
              "    }\n",
              "\n",
              "    .dataframe thead th {\n",
              "        text-align: right;\n",
              "    }\n",
              "</style>\n",
              "<table border=\"1\" class=\"dataframe\">\n",
              "  <thead>\n",
              "    <tr style=\"text-align: right;\">\n",
              "      <th></th>\n",
              "      <th>dateTime</th>\n",
              "      <th>use</th>\n",
              "    </tr>\n",
              "  </thead>\n",
              "  <tbody>\n",
              "    <tr>\n",
              "      <th>0</th>\n",
              "      <td>2016-01-01 00:00:00</td>\n",
              "      <td>2.108533</td>\n",
              "    </tr>\n",
              "    <tr>\n",
              "      <th>1</th>\n",
              "      <td>2016-01-01 01:00:00</td>\n",
              "      <td>1.852600</td>\n",
              "    </tr>\n",
              "    <tr>\n",
              "      <th>2</th>\n",
              "      <td>2016-01-01 02:00:00</td>\n",
              "      <td>1.988000</td>\n",
              "    </tr>\n",
              "    <tr>\n",
              "      <th>3</th>\n",
              "      <td>2016-01-01 03:00:00</td>\n",
              "      <td>1.993267</td>\n",
              "    </tr>\n",
              "    <tr>\n",
              "      <th>4</th>\n",
              "      <td>2016-01-01 04:00:00</td>\n",
              "      <td>1.781533</td>\n",
              "    </tr>\n",
              "  </tbody>\n",
              "</table>\n",
              "</div>"
            ],
            "text/plain": [
              "             dateTime       use\n",
              "0 2016-01-01 00:00:00  2.108533\n",
              "1 2016-01-01 01:00:00  1.852600\n",
              "2 2016-01-01 02:00:00  1.988000\n",
              "3 2016-01-01 03:00:00  1.993267\n",
              "4 2016-01-01 04:00:00  1.781533"
            ]
          },
          "execution_count": 30,
          "metadata": {},
          "output_type": "execute_result"
        }
      ],
      "source": [
        "df1.head()"
      ]
    },
    {
      "cell_type": "code",
      "execution_count": null,
      "id": "ea436b6f",
      "metadata": {
        "id": "ea436b6f"
      },
      "outputs": [],
      "source": [
        "df1.to_csv('consumer_data_hourly.csv',index = False)"
      ]
    },
    {
      "cell_type": "code",
      "execution_count": null,
      "id": "579c8558",
      "metadata": {
        "id": "579c8558"
      },
      "outputs": [],
      "source": []
    }
  ],
  "metadata": {
    "kernelspec": {
      "display_name": "Python 3 (ipykernel)",
      "language": "python",
      "name": "python3"
    },
    "language_info": {
      "codemirror_mode": {
        "name": "ipython",
        "version": 3
      },
      "file_extension": ".py",
      "mimetype": "text/x-python",
      "name": "python",
      "nbconvert_exporter": "python",
      "pygments_lexer": "ipython3",
      "version": "3.9.13"
    },
    "colab": {
      "provenance": [],
      "include_colab_link": true
    }
  },
  "nbformat": 4,
  "nbformat_minor": 5
}