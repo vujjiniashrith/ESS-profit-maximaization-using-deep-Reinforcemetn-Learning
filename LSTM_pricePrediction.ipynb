{
  "cells": [
    {
      "cell_type": "markdown",
      "metadata": {
        "id": "view-in-github",
        "colab_type": "text"
      },
      "source": [
        "<a href=\"https://colab.research.google.com/github/vujjiniashrith/ESS-profit-maximaization-using-deep-Reinforcemetn-Learning/blob/main/LSTM_pricePrediction.ipynb\" target=\"_parent\"><img src=\"https://colab.research.google.com/assets/colab-badge.svg\" alt=\"Open In Colab\"/></a>"
      ]
    },
    {
      "cell_type": "code",
      "execution_count": null,
      "id": "fed94d85",
      "metadata": {
        "id": "fed94d85"
      },
      "outputs": [],
      "source": [
        "import numpy as np\n",
        "import pandas as pd\n",
        "import matplotlib.pyplot as plt\n",
        "import seaborn as sns\n",
        "from sklearn.preprocessing import MinMaxScaler"
      ]
    },
    {
      "cell_type": "code",
      "execution_count": null,
      "id": "4c1ca923",
      "metadata": {
        "id": "4c1ca923"
      },
      "outputs": [],
      "source": [
        "from tensorflow.keras.models import Sequential"
      ]
    },
    {
      "cell_type": "code",
      "execution_count": null,
      "id": "0e086f2e",
      "metadata": {
        "id": "0e086f2e"
      },
      "outputs": [],
      "source": [
        "from tensorflow.keras.layers import Dense"
      ]
    },
    {
      "cell_type": "code",
      "execution_count": null,
      "id": "8e294f77",
      "metadata": {
        "id": "8e294f77"
      },
      "outputs": [],
      "source": [
        "from tensorflow.keras.layers import LSTM"
      ]
    },
    {
      "cell_type": "code",
      "execution_count": null,
      "id": "9b3073cd",
      "metadata": {
        "id": "9b3073cd"
      },
      "outputs": [],
      "source": [
        "df1 = pd.read_csv(\"da_hrl_lmps_2.csv\")\n"
      ]
    },
    {
      "cell_type": "code",
      "execution_count": null,
      "id": "0e2116af",
      "metadata": {
        "id": "0e2116af"
      },
      "outputs": [],
      "source": [
        "df2 = pd.read_csv(\"da_hrl_lmps _1.csv\")"
      ]
    },
    {
      "cell_type": "code",
      "execution_count": null,
      "id": "3c5efa51",
      "metadata": {
        "id": "3c5efa51",
        "outputId": "162decd7-8dca-48ab-8088-7986bc51ee36"
      },
      "outputs": [
        {
          "data": {
            "text/html": [
              "<div>\n",
              "<style scoped>\n",
              "    .dataframe tbody tr th:only-of-type {\n",
              "        vertical-align: middle;\n",
              "    }\n",
              "\n",
              "    .dataframe tbody tr th {\n",
              "        vertical-align: top;\n",
              "    }\n",
              "\n",
              "    .dataframe thead th {\n",
              "        text-align: right;\n",
              "    }\n",
              "</style>\n",
              "<table border=\"1\" class=\"dataframe\">\n",
              "  <thead>\n",
              "    <tr style=\"text-align: right;\">\n",
              "      <th></th>\n",
              "      <th>datetime_beginning_utc</th>\n",
              "      <th>datetime_beginning_ept</th>\n",
              "      <th>pnode_id</th>\n",
              "      <th>pnode_name</th>\n",
              "      <th>voltage</th>\n",
              "      <th>equipment</th>\n",
              "      <th>type</th>\n",
              "      <th>zone</th>\n",
              "      <th>system_energy_price_da</th>\n",
              "      <th>total_lmp_da</th>\n",
              "      <th>congestion_price_da</th>\n",
              "      <th>marginal_loss_price_da</th>\n",
              "      <th>row_is_current</th>\n",
              "      <th>version_nbr</th>\n",
              "    </tr>\n",
              "  </thead>\n",
              "  <tbody>\n",
              "    <tr>\n",
              "      <th>0</th>\n",
              "      <td>1/1/2022 5:00:00 AM</td>\n",
              "      <td>1/1/2022 12:00:00 AM</td>\n",
              "      <td>48612</td>\n",
              "      <td>BRIDGEWA</td>\n",
              "      <td>230 KV</td>\n",
              "      <td>26KV</td>\n",
              "      <td>LOAD</td>\n",
              "      <td>PSEG</td>\n",
              "      <td>21.02</td>\n",
              "      <td>19.94</td>\n",
              "      <td>-0.53</td>\n",
              "      <td>-0.55</td>\n",
              "      <td>True</td>\n",
              "      <td>1</td>\n",
              "    </tr>\n",
              "    <tr>\n",
              "      <th>1</th>\n",
              "      <td>1/1/2022 6:00:00 AM</td>\n",
              "      <td>1/1/2022 1:00:00 AM</td>\n",
              "      <td>48612</td>\n",
              "      <td>BRIDGEWA</td>\n",
              "      <td>230 KV</td>\n",
              "      <td>26KV</td>\n",
              "      <td>LOAD</td>\n",
              "      <td>PSEG</td>\n",
              "      <td>18.43</td>\n",
              "      <td>17.80</td>\n",
              "      <td>-0.01</td>\n",
              "      <td>-0.62</td>\n",
              "      <td>True</td>\n",
              "      <td>1</td>\n",
              "    </tr>\n",
              "    <tr>\n",
              "      <th>2</th>\n",
              "      <td>1/1/2022 7:00:00 AM</td>\n",
              "      <td>1/1/2022 2:00:00 AM</td>\n",
              "      <td>48612</td>\n",
              "      <td>BRIDGEWA</td>\n",
              "      <td>230 KV</td>\n",
              "      <td>26KV</td>\n",
              "      <td>LOAD</td>\n",
              "      <td>PSEG</td>\n",
              "      <td>18.11</td>\n",
              "      <td>17.47</td>\n",
              "      <td>0.00</td>\n",
              "      <td>-0.64</td>\n",
              "      <td>True</td>\n",
              "      <td>1</td>\n",
              "    </tr>\n",
              "    <tr>\n",
              "      <th>3</th>\n",
              "      <td>1/1/2022 8:00:00 AM</td>\n",
              "      <td>1/1/2022 3:00:00 AM</td>\n",
              "      <td>48612</td>\n",
              "      <td>BRIDGEWA</td>\n",
              "      <td>230 KV</td>\n",
              "      <td>26KV</td>\n",
              "      <td>LOAD</td>\n",
              "      <td>PSEG</td>\n",
              "      <td>18.15</td>\n",
              "      <td>17.31</td>\n",
              "      <td>-0.11</td>\n",
              "      <td>-0.73</td>\n",
              "      <td>True</td>\n",
              "      <td>1</td>\n",
              "    </tr>\n",
              "    <tr>\n",
              "      <th>4</th>\n",
              "      <td>1/1/2022 9:00:00 AM</td>\n",
              "      <td>1/1/2022 4:00:00 AM</td>\n",
              "      <td>48612</td>\n",
              "      <td>BRIDGEWA</td>\n",
              "      <td>230 KV</td>\n",
              "      <td>26KV</td>\n",
              "      <td>LOAD</td>\n",
              "      <td>PSEG</td>\n",
              "      <td>17.70</td>\n",
              "      <td>17.06</td>\n",
              "      <td>0.06</td>\n",
              "      <td>-0.70</td>\n",
              "      <td>True</td>\n",
              "      <td>1</td>\n",
              "    </tr>\n",
              "  </tbody>\n",
              "</table>\n",
              "</div>"
            ],
            "text/plain": [
              "  datetime_beginning_utc datetime_beginning_ept  pnode_id pnode_name voltage  \\\n",
              "0    1/1/2022 5:00:00 AM   1/1/2022 12:00:00 AM     48612   BRIDGEWA  230 KV   \n",
              "1    1/1/2022 6:00:00 AM    1/1/2022 1:00:00 AM     48612   BRIDGEWA  230 KV   \n",
              "2    1/1/2022 7:00:00 AM    1/1/2022 2:00:00 AM     48612   BRIDGEWA  230 KV   \n",
              "3    1/1/2022 8:00:00 AM    1/1/2022 3:00:00 AM     48612   BRIDGEWA  230 KV   \n",
              "4    1/1/2022 9:00:00 AM    1/1/2022 4:00:00 AM     48612   BRIDGEWA  230 KV   \n",
              "\n",
              "  equipment  type  zone  system_energy_price_da  total_lmp_da  \\\n",
              "0      26KV  LOAD  PSEG                   21.02         19.94   \n",
              "1      26KV  LOAD  PSEG                   18.43         17.80   \n",
              "2      26KV  LOAD  PSEG                   18.11         17.47   \n",
              "3      26KV  LOAD  PSEG                   18.15         17.31   \n",
              "4      26KV  LOAD  PSEG                   17.70         17.06   \n",
              "\n",
              "   congestion_price_da  marginal_loss_price_da  row_is_current  version_nbr  \n",
              "0                -0.53                   -0.55            True            1  \n",
              "1                -0.01                   -0.62            True            1  \n",
              "2                 0.00                   -0.64            True            1  \n",
              "3                -0.11                   -0.73            True            1  \n",
              "4                 0.06                   -0.70            True            1  "
            ]
          },
          "execution_count": 146,
          "metadata": {},
          "output_type": "execute_result"
        }
      ],
      "source": [
        "df1.head()"
      ]
    },
    {
      "cell_type": "code",
      "execution_count": null,
      "id": "9cfb9e07",
      "metadata": {
        "id": "9cfb9e07",
        "outputId": "12aee5a3-9493-4a57-e05b-d03290f0b71d"
      },
      "outputs": [
        {
          "data": {
            "text/html": [
              "<div>\n",
              "<style scoped>\n",
              "    .dataframe tbody tr th:only-of-type {\n",
              "        vertical-align: middle;\n",
              "    }\n",
              "\n",
              "    .dataframe tbody tr th {\n",
              "        vertical-align: top;\n",
              "    }\n",
              "\n",
              "    .dataframe thead th {\n",
              "        text-align: right;\n",
              "    }\n",
              "</style>\n",
              "<table border=\"1\" class=\"dataframe\">\n",
              "  <thead>\n",
              "    <tr style=\"text-align: right;\">\n",
              "      <th></th>\n",
              "      <th>datetime_beginning_utc</th>\n",
              "      <th>datetime_beginning_ept</th>\n",
              "      <th>pnode_id</th>\n",
              "      <th>pnode_name</th>\n",
              "      <th>voltage</th>\n",
              "      <th>equipment</th>\n",
              "      <th>type</th>\n",
              "      <th>zone</th>\n",
              "      <th>system_energy_price_da</th>\n",
              "      <th>total_lmp_da</th>\n",
              "      <th>congestion_price_da</th>\n",
              "      <th>marginal_loss_price_da</th>\n",
              "      <th>row_is_current</th>\n",
              "      <th>version_nbr</th>\n",
              "    </tr>\n",
              "  </thead>\n",
              "  <tbody>\n",
              "    <tr>\n",
              "      <th>0</th>\n",
              "      <td>1/1/2023 5:00:00 AM</td>\n",
              "      <td>1/1/2023 12:00:00 AM</td>\n",
              "      <td>48612</td>\n",
              "      <td>BRIDGEWA</td>\n",
              "      <td>230 KV</td>\n",
              "      <td>26KV</td>\n",
              "      <td>LOAD</td>\n",
              "      <td>PSEG</td>\n",
              "      <td>24.21</td>\n",
              "      <td>23.62</td>\n",
              "      <td>-0.22</td>\n",
              "      <td>-0.37</td>\n",
              "      <td>True</td>\n",
              "      <td>1</td>\n",
              "    </tr>\n",
              "    <tr>\n",
              "      <th>1</th>\n",
              "      <td>1/1/2023 6:00:00 AM</td>\n",
              "      <td>1/1/2023 1:00:00 AM</td>\n",
              "      <td>48612</td>\n",
              "      <td>BRIDGEWA</td>\n",
              "      <td>230 KV</td>\n",
              "      <td>26KV</td>\n",
              "      <td>LOAD</td>\n",
              "      <td>PSEG</td>\n",
              "      <td>23.54</td>\n",
              "      <td>23.19</td>\n",
              "      <td>-0.13</td>\n",
              "      <td>-0.22</td>\n",
              "      <td>True</td>\n",
              "      <td>1</td>\n",
              "    </tr>\n",
              "    <tr>\n",
              "      <th>2</th>\n",
              "      <td>1/1/2023 7:00:00 AM</td>\n",
              "      <td>1/1/2023 2:00:00 AM</td>\n",
              "      <td>48612</td>\n",
              "      <td>BRIDGEWA</td>\n",
              "      <td>230 KV</td>\n",
              "      <td>26KV</td>\n",
              "      <td>LOAD</td>\n",
              "      <td>PSEG</td>\n",
              "      <td>22.84</td>\n",
              "      <td>22.11</td>\n",
              "      <td>-0.38</td>\n",
              "      <td>-0.35</td>\n",
              "      <td>True</td>\n",
              "      <td>1</td>\n",
              "    </tr>\n",
              "    <tr>\n",
              "      <th>3</th>\n",
              "      <td>1/1/2023 8:00:00 AM</td>\n",
              "      <td>1/1/2023 3:00:00 AM</td>\n",
              "      <td>48612</td>\n",
              "      <td>BRIDGEWA</td>\n",
              "      <td>230 KV</td>\n",
              "      <td>26KV</td>\n",
              "      <td>LOAD</td>\n",
              "      <td>PSEG</td>\n",
              "      <td>22.70</td>\n",
              "      <td>21.79</td>\n",
              "      <td>-0.52</td>\n",
              "      <td>-0.39</td>\n",
              "      <td>True</td>\n",
              "      <td>1</td>\n",
              "    </tr>\n",
              "    <tr>\n",
              "      <th>4</th>\n",
              "      <td>1/1/2023 9:00:00 AM</td>\n",
              "      <td>1/1/2023 4:00:00 AM</td>\n",
              "      <td>48612</td>\n",
              "      <td>BRIDGEWA</td>\n",
              "      <td>230 KV</td>\n",
              "      <td>26KV</td>\n",
              "      <td>LOAD</td>\n",
              "      <td>PSEG</td>\n",
              "      <td>22.71</td>\n",
              "      <td>22.08</td>\n",
              "      <td>-0.24</td>\n",
              "      <td>-0.39</td>\n",
              "      <td>True</td>\n",
              "      <td>1</td>\n",
              "    </tr>\n",
              "  </tbody>\n",
              "</table>\n",
              "</div>"
            ],
            "text/plain": [
              "  datetime_beginning_utc datetime_beginning_ept  pnode_id pnode_name voltage  \\\n",
              "0    1/1/2023 5:00:00 AM   1/1/2023 12:00:00 AM     48612   BRIDGEWA  230 KV   \n",
              "1    1/1/2023 6:00:00 AM    1/1/2023 1:00:00 AM     48612   BRIDGEWA  230 KV   \n",
              "2    1/1/2023 7:00:00 AM    1/1/2023 2:00:00 AM     48612   BRIDGEWA  230 KV   \n",
              "3    1/1/2023 8:00:00 AM    1/1/2023 3:00:00 AM     48612   BRIDGEWA  230 KV   \n",
              "4    1/1/2023 9:00:00 AM    1/1/2023 4:00:00 AM     48612   BRIDGEWA  230 KV   \n",
              "\n",
              "  equipment  type  zone  system_energy_price_da  total_lmp_da  \\\n",
              "0      26KV  LOAD  PSEG                   24.21         23.62   \n",
              "1      26KV  LOAD  PSEG                   23.54         23.19   \n",
              "2      26KV  LOAD  PSEG                   22.84         22.11   \n",
              "3      26KV  LOAD  PSEG                   22.70         21.79   \n",
              "4      26KV  LOAD  PSEG                   22.71         22.08   \n",
              "\n",
              "   congestion_price_da  marginal_loss_price_da  row_is_current  version_nbr  \n",
              "0                -0.22                   -0.37            True            1  \n",
              "1                -0.13                   -0.22            True            1  \n",
              "2                -0.38                   -0.35            True            1  \n",
              "3                -0.52                   -0.39            True            1  \n",
              "4                -0.24                   -0.39            True            1  "
            ]
          },
          "execution_count": 147,
          "metadata": {},
          "output_type": "execute_result"
        }
      ],
      "source": [
        "df2.head()"
      ]
    },
    {
      "cell_type": "code",
      "execution_count": null,
      "id": "2ca7ee31",
      "metadata": {
        "id": "2ca7ee31"
      },
      "outputs": [],
      "source": [
        "df = pd.concat([df1,df2])\n",
        "df = df.reset_index(drop = True)"
      ]
    },
    {
      "cell_type": "code",
      "execution_count": null,
      "id": "ed94694c",
      "metadata": {
        "id": "ed94694c",
        "outputId": "d849ff65-d91a-415a-f5b8-75bb6e8bb028"
      },
      "outputs": [
        {
          "data": {
            "text/html": [
              "<div>\n",
              "<style scoped>\n",
              "    .dataframe tbody tr th:only-of-type {\n",
              "        vertical-align: middle;\n",
              "    }\n",
              "\n",
              "    .dataframe tbody tr th {\n",
              "        vertical-align: top;\n",
              "    }\n",
              "\n",
              "    .dataframe thead th {\n",
              "        text-align: right;\n",
              "    }\n",
              "</style>\n",
              "<table border=\"1\" class=\"dataframe\">\n",
              "  <thead>\n",
              "    <tr style=\"text-align: right;\">\n",
              "      <th></th>\n",
              "      <th>datetime_beginning_utc</th>\n",
              "      <th>datetime_beginning_ept</th>\n",
              "      <th>pnode_id</th>\n",
              "      <th>pnode_name</th>\n",
              "      <th>voltage</th>\n",
              "      <th>equipment</th>\n",
              "      <th>type</th>\n",
              "      <th>zone</th>\n",
              "      <th>system_energy_price_da</th>\n",
              "      <th>total_lmp_da</th>\n",
              "      <th>congestion_price_da</th>\n",
              "      <th>marginal_loss_price_da</th>\n",
              "      <th>row_is_current</th>\n",
              "      <th>version_nbr</th>\n",
              "    </tr>\n",
              "  </thead>\n",
              "  <tbody>\n",
              "    <tr>\n",
              "      <th>14756</th>\n",
              "      <td>9/9/2023 12:00:00 AM</td>\n",
              "      <td>9/8/2023 8:00:00 PM</td>\n",
              "      <td>48612</td>\n",
              "      <td>BRIDGEWA</td>\n",
              "      <td>230 KV</td>\n",
              "      <td>26KV</td>\n",
              "      <td>LOAD</td>\n",
              "      <td>PSEG</td>\n",
              "      <td>34.58</td>\n",
              "      <td>29.99</td>\n",
              "      <td>-5.73</td>\n",
              "      <td>1.14</td>\n",
              "      <td>True</td>\n",
              "      <td>1</td>\n",
              "    </tr>\n",
              "    <tr>\n",
              "      <th>14757</th>\n",
              "      <td>9/9/2023 1:00:00 AM</td>\n",
              "      <td>9/8/2023 9:00:00 PM</td>\n",
              "      <td>48612</td>\n",
              "      <td>BRIDGEWA</td>\n",
              "      <td>230 KV</td>\n",
              "      <td>26KV</td>\n",
              "      <td>LOAD</td>\n",
              "      <td>PSEG</td>\n",
              "      <td>29.40</td>\n",
              "      <td>28.12</td>\n",
              "      <td>-1.91</td>\n",
              "      <td>0.63</td>\n",
              "      <td>True</td>\n",
              "      <td>1</td>\n",
              "    </tr>\n",
              "    <tr>\n",
              "      <th>14758</th>\n",
              "      <td>9/9/2023 2:00:00 AM</td>\n",
              "      <td>9/8/2023 10:00:00 PM</td>\n",
              "      <td>48612</td>\n",
              "      <td>BRIDGEWA</td>\n",
              "      <td>230 KV</td>\n",
              "      <td>26KV</td>\n",
              "      <td>LOAD</td>\n",
              "      <td>PSEG</td>\n",
              "      <td>25.86</td>\n",
              "      <td>25.74</td>\n",
              "      <td>-0.63</td>\n",
              "      <td>0.51</td>\n",
              "      <td>True</td>\n",
              "      <td>1</td>\n",
              "    </tr>\n",
              "    <tr>\n",
              "      <th>14759</th>\n",
              "      <td>9/9/2023 3:00:00 AM</td>\n",
              "      <td>9/8/2023 11:00:00 PM</td>\n",
              "      <td>48612</td>\n",
              "      <td>BRIDGEWA</td>\n",
              "      <td>230 KV</td>\n",
              "      <td>26KV</td>\n",
              "      <td>LOAD</td>\n",
              "      <td>PSEG</td>\n",
              "      <td>22.68</td>\n",
              "      <td>23.16</td>\n",
              "      <td>0.06</td>\n",
              "      <td>0.42</td>\n",
              "      <td>True</td>\n",
              "      <td>1</td>\n",
              "    </tr>\n",
              "    <tr>\n",
              "      <th>14760</th>\n",
              "      <td>9/9/2023 4:00:00 AM</td>\n",
              "      <td>9/9/2023 12:00:00 AM</td>\n",
              "      <td>48612</td>\n",
              "      <td>BRIDGEWA</td>\n",
              "      <td>230 KV</td>\n",
              "      <td>26KV</td>\n",
              "      <td>LOAD</td>\n",
              "      <td>PSEG</td>\n",
              "      <td>24.02</td>\n",
              "      <td>22.96</td>\n",
              "      <td>-1.43</td>\n",
              "      <td>0.37</td>\n",
              "      <td>True</td>\n",
              "      <td>1</td>\n",
              "    </tr>\n",
              "  </tbody>\n",
              "</table>\n",
              "</div>"
            ],
            "text/plain": [
              "      datetime_beginning_utc datetime_beginning_ept  pnode_id pnode_name  \\\n",
              "14756   9/9/2023 12:00:00 AM    9/8/2023 8:00:00 PM     48612   BRIDGEWA   \n",
              "14757    9/9/2023 1:00:00 AM    9/8/2023 9:00:00 PM     48612   BRIDGEWA   \n",
              "14758    9/9/2023 2:00:00 AM   9/8/2023 10:00:00 PM     48612   BRIDGEWA   \n",
              "14759    9/9/2023 3:00:00 AM   9/8/2023 11:00:00 PM     48612   BRIDGEWA   \n",
              "14760    9/9/2023 4:00:00 AM   9/9/2023 12:00:00 AM     48612   BRIDGEWA   \n",
              "\n",
              "      voltage equipment  type  zone  system_energy_price_da  total_lmp_da  \\\n",
              "14756  230 KV      26KV  LOAD  PSEG                   34.58         29.99   \n",
              "14757  230 KV      26KV  LOAD  PSEG                   29.40         28.12   \n",
              "14758  230 KV      26KV  LOAD  PSEG                   25.86         25.74   \n",
              "14759  230 KV      26KV  LOAD  PSEG                   22.68         23.16   \n",
              "14760  230 KV      26KV  LOAD  PSEG                   24.02         22.96   \n",
              "\n",
              "       congestion_price_da  marginal_loss_price_da  row_is_current  \\\n",
              "14756                -5.73                    1.14            True   \n",
              "14757                -1.91                    0.63            True   \n",
              "14758                -0.63                    0.51            True   \n",
              "14759                 0.06                    0.42            True   \n",
              "14760                -1.43                    0.37            True   \n",
              "\n",
              "       version_nbr  \n",
              "14756            1  \n",
              "14757            1  \n",
              "14758            1  \n",
              "14759            1  \n",
              "14760            1  "
            ]
          },
          "execution_count": 149,
          "metadata": {},
          "output_type": "execute_result"
        }
      ],
      "source": [
        "df.tail()"
      ]
    },
    {
      "cell_type": "code",
      "execution_count": null,
      "id": "0cfad4b5",
      "metadata": {
        "id": "0cfad4b5",
        "outputId": "5ff9ffbe-dfe7-4063-8911-daa68afc89d4"
      },
      "outputs": [
        {
          "data": {
            "text/plain": [
              "(14761, 14)"
            ]
          },
          "execution_count": 150,
          "metadata": {},
          "output_type": "execute_result"
        }
      ],
      "source": [
        "df.shape"
      ]
    },
    {
      "cell_type": "code",
      "execution_count": null,
      "id": "860bbb47",
      "metadata": {
        "id": "860bbb47"
      },
      "outputs": [],
      "source": [
        "columns = df.columns"
      ]
    },
    {
      "cell_type": "code",
      "execution_count": null,
      "id": "5fb3f79b",
      "metadata": {
        "id": "5fb3f79b",
        "outputId": "edafca8a-f28f-4415-ff20-0c494748a3e3"
      },
      "outputs": [
        {
          "data": {
            "text/plain": [
              "Index(['datetime_beginning_utc', 'datetime_beginning_ept', 'pnode_id',\n",
              "       'pnode_name', 'voltage', 'equipment', 'type', 'zone',\n",
              "       'system_energy_price_da', 'total_lmp_da', 'congestion_price_da',\n",
              "       'marginal_loss_price_da', 'row_is_current', 'version_nbr'],\n",
              "      dtype='object')"
            ]
          },
          "execution_count": 152,
          "metadata": {},
          "output_type": "execute_result"
        }
      ],
      "source": [
        "columns"
      ]
    },
    {
      "cell_type": "code",
      "execution_count": null,
      "id": "3bce7400",
      "metadata": {
        "id": "3bce7400"
      },
      "outputs": [],
      "source": [
        "columns_to_drop = ['datetime_beginning_utc', 'pnode_id',\n",
        "       'pnode_name', 'voltage', 'equipment', 'type', 'zone',\n",
        "        'total_lmp_da', 'congestion_price_da',\n",
        "       'marginal_loss_price_da', 'row_is_current', 'version_nbr']"
      ]
    },
    {
      "cell_type": "code",
      "execution_count": null,
      "id": "e5fed20a",
      "metadata": {
        "id": "e5fed20a"
      },
      "outputs": [],
      "source": [
        "df = df.drop(columns = columns_to_drop)"
      ]
    },
    {
      "cell_type": "code",
      "execution_count": null,
      "id": "ae7a7740",
      "metadata": {
        "id": "ae7a7740",
        "outputId": "245bfb20-e313-4755-d4c5-f64ce0612243"
      },
      "outputs": [
        {
          "data": {
            "text/plain": [
              "(14761, 2)"
            ]
          },
          "execution_count": 155,
          "metadata": {},
          "output_type": "execute_result"
        }
      ],
      "source": [
        "df.shape"
      ]
    },
    {
      "cell_type": "code",
      "execution_count": null,
      "id": "e09afa64",
      "metadata": {
        "id": "e09afa64",
        "outputId": "9c419b23-c077-4e1c-913f-9757eb59571a"
      },
      "outputs": [
        {
          "data": {
            "text/plain": [
              "[<matplotlib.lines.Line2D at 0x155255fcb20>]"
            ]
          },
          "execution_count": 156,
          "metadata": {},
          "output_type": "execute_result"
        },
        {
          "data": {
            "image/png": "[encoded data removed]",
            "text/plain": [
              "<Figure size 640x480 with 1 Axes>"
            ]
          },
          "metadata": {},
          "output_type": "display_data"
        }
      ],
      "source": [
        "plt.plot(df['system_energy_price_da'][720:720*2])"
      ]
    },
    {
      "cell_type": "code",
      "execution_count": null,
      "id": "2e709112",
      "metadata": {
        "id": "2e709112"
      },
      "outputs": [],
      "source": [
        "columns_to_name = ['datetime','price']"
      ]
    },
    {
      "cell_type": "code",
      "execution_count": null,
      "id": "6e60092e",
      "metadata": {
        "id": "6e60092e"
      },
      "outputs": [],
      "source": [
        "df.columns = columns_to_name"
      ]
    },
    {
      "cell_type": "code",
      "execution_count": null,
      "id": "2e9e2941",
      "metadata": {
        "id": "2e9e2941",
        "outputId": "8a556757-3665-4b17-df87-9b4eb2118835"
      },
      "outputs": [
        {
          "data": {
            "text/html": [
              "<div>\n",
              "<style scoped>\n",
              "    .dataframe tbody tr th:only-of-type {\n",
              "        vertical-align: middle;\n",
              "    }\n",
              "\n",
              "    .dataframe tbody tr th {\n",
              "        vertical-align: top;\n",
              "    }\n",
              "\n",
              "    .dataframe thead th {\n",
              "        text-align: right;\n",
              "    }\n",
              "</style>\n",
              "<table border=\"1\" class=\"dataframe\">\n",
              "  <thead>\n",
              "    <tr style=\"text-align: right;\">\n",
              "      <th></th>\n",
              "      <th>datetime</th>\n",
              "      <th>price</th>\n",
              "    </tr>\n",
              "  </thead>\n",
              "  <tbody>\n",
              "  </tbody>\n",
              "</table>\n",
              "</div>"
            ],
            "text/plain": [
              "Empty DataFrame\n",
              "Columns: [datetime, price]\n",
              "Index: []"
            ]
          },
          "execution_count": 159,
          "metadata": {},
          "output_type": "execute_result"
        }
      ],
      "source": [
        "df[df.datetime.isnull()==True]#greatest dataset ever no null values"
      ]
    },
    {
      "cell_type": "code",
      "execution_count": null,
      "id": "cad7f5ab",
      "metadata": {
        "id": "cad7f5ab",
        "outputId": "7f92ce1a-5172-4f57-8864-bac949b6e4c2"
      },
      "outputs": [
        {
          "data": {
            "text/plain": [
              "0        21.02\n",
              "1        18.43\n",
              "2        18.11\n",
              "3        18.15\n",
              "4        17.70\n",
              "         ...  \n",
              "14756    34.58\n",
              "14757    29.40\n",
              "14758    25.86\n",
              "14759    22.68\n",
              "14760    24.02\n",
              "Name: price, Length: 14761, dtype: float64"
            ]
          },
          "execution_count": 160,
          "metadata": {},
          "output_type": "execute_result"
        }
      ],
      "source": [
        "df = df.price\n",
        "df"
      ]
    },
    {
      "cell_type": "code",
      "execution_count": null,
      "id": "40b40b7e",
      "metadata": {
        "id": "40b40b7e",
        "outputId": "f314f500-6293-4c47-f43b-a586dc164238"
      },
      "outputs": [
        {
          "data": {
            "text/plain": [
              "[<matplotlib.lines.Line2D at 0x155256685b0>]"
            ]
          },
          "execution_count": 161,
          "metadata": {},
          "output_type": "execute_result"
        },
        {
          "data": {
            "image/png": "[encoded data removed]",
            "text/plain": [
              "<Figure size 640x480 with 1 Axes>"
            ]
          },
          "metadata": {},
          "output_type": "display_data"
        }
      ],
      "source": [
        "plt.plot(df)"
      ]
    },
    {
      "cell_type": "code",
      "execution_count": null,
      "id": "30979f5e",
      "metadata": {
        "id": "30979f5e",
        "outputId": "2b4dae64-d09b-4280-a1cf-b7fd52bd2b9b"
      },
      "outputs": [
        {
          "data": {
            "text/plain": [
              "<AxesSubplot:>"
            ]
          },
          "execution_count": 123,
          "metadata": {},
          "output_type": "execute_result"
        },
        {
          "data": {
            "image/png": "[encoded data removed]",
            "text/plain": [
              "<Figure size 640x480 with 1 Axes>"
            ]
          },
          "metadata": {},
          "output_type": "display_data"
        }
      ],
      "source": [
        "sns.boxplot(data = df.price)"
      ]
    },
    {
      "cell_type": "code",
      "execution_count": null,
      "id": "321a50f9",
      "metadata": {
        "id": "321a50f9"
      },
      "outputs": [],
      "source": []
    },
    {
      "cell_type": "code",
      "execution_count": null,
      "id": "b1707c44",
      "metadata": {
        "id": "b1707c44"
      },
      "outputs": [],
      "source": [
        "##scaling the data\n",
        "scaler=MinMaxScaler(feature_range=(0,1))\n",
        "df1=scaler.fit_transform(np.array(df).reshape(-1,1))"
      ]
    },
    {
      "cell_type": "code",
      "execution_count": null,
      "id": "acbe4019",
      "metadata": {
        "id": "acbe4019",
        "outputId": "5f1b9585-c284-459f-ceb6-48acc215018d"
      },
      "outputs": [
        {
          "data": {
            "text/plain": [
              "array([[0.02669266],\n",
              "       [0.02088796],\n",
              "       [0.02017078],\n",
              "       ...,\n",
              "       [0.03754006],\n",
              "       [0.03041305],\n",
              "       [0.03341626]])"
            ]
          },
          "execution_count": 163,
          "metadata": {},
          "output_type": "execute_result"
        }
      ],
      "source": [
        "df1"
      ]
    },
    {
      "cell_type": "code",
      "execution_count": null,
      "id": "0863783d",
      "metadata": {
        "id": "0863783d"
      },
      "outputs": [],
      "source": [
        "total_size = len(df1)\n",
        "training_size = int(total_size * 0.70)\n",
        "valid_size = int(total_size * 0.20)\n",
        "test_size = total_size - training_size - valid_size\n",
        "\n",
        "train_data = df1[0:training_size,:]\n",
        "valid_data = df1[training_size:training_size+valid_size,:]\n",
        "test_data = df1[training_size+valid_size : ,:]"
      ]
    },
    {
      "cell_type": "code",
      "execution_count": null,
      "id": "ae4f2622",
      "metadata": {
        "id": "ae4f2622",
        "outputId": "15f9ef7e-8267-40ea-d700-5e0e8357a183"
      },
      "outputs": [
        {
          "data": {
            "text/plain": [
              "(10332, 1)"
            ]
          },
          "execution_count": 166,
          "metadata": {},
          "output_type": "execute_result"
        }
      ],
      "source": [
        "train_data.shape"
      ]
    },
    {
      "cell_type": "code",
      "execution_count": null,
      "id": "82b05447",
      "metadata": {
        "id": "82b05447",
        "outputId": "14c15a71-d416-42e3-d12c-9ebfbb93c468"
      },
      "outputs": [
        {
          "data": {
            "text/plain": [
              "(2952, 1)"
            ]
          },
          "execution_count": 167,
          "metadata": {},
          "output_type": "execute_result"
        }
      ],
      "source": [
        "valid_data.shape"
      ]
    },
    {
      "cell_type": "code",
      "execution_count": null,
      "id": "ce462a9b",
      "metadata": {
        "id": "ce462a9b",
        "outputId": "f04c67c5-e848-430f-9020-6cbc078fa17c"
      },
      "outputs": [
        {
          "data": {
            "text/plain": [
              "(1477, 1)"
            ]
          },
          "execution_count": 168,
          "metadata": {},
          "output_type": "execute_result"
        }
      ],
      "source": [
        "test_data.shape"
      ]
    },
    {
      "cell_type": "code",
      "execution_count": null,
      "id": "b2c02faa",
      "metadata": {
        "id": "b2c02faa"
      },
      "outputs": [],
      "source": [
        "# convert an array of values into a dataset matrix\n",
        "def create_dataset(dataset, time_step=None):\n",
        "    dataX, dataY = [], []\n",
        "    for i in range(len(dataset)-time_step-1):\n",
        "        a = dataset[i:(i+time_step), 0]   ###i=0, 0,1,2,3-----23   24\n",
        "        dataX.append(a)\n",
        "        dataY.append(dataset[i + time_step, 0])\n",
        "    return np.array(dataX), np.array(dataY)"
      ]
    },
    {
      "cell_type": "code",
      "execution_count": null,
      "id": "f8c03218",
      "metadata": {
        "id": "f8c03218"
      },
      "outputs": [],
      "source": [
        "time_step = 24\n",
        "X_train, y_train = create_dataset(train_data, time_step)\n",
        "X_val, y_val = create_dataset(valid_data, time_step)\n",
        "X_test, y_test = create_dataset(test_data, time_step)"
      ]
    },
    {
      "cell_type": "code",
      "execution_count": null,
      "id": "23854126",
      "metadata": {
        "id": "23854126",
        "outputId": "1b73e1bb-d7a7-4b7f-f749-ec5fedbd0e9b"
      },
      "outputs": [
        {
          "name": "stdout",
          "output_type": "stream",
          "text": [
            "(10307, 24)\n",
            "(10307,)\n"
          ]
        },
        {
          "data": {
            "text/plain": [
              "(None, None)"
            ]
          },
          "execution_count": 172,
          "metadata": {},
          "output_type": "execute_result"
        }
      ],
      "source": [
        "print(X_train.shape), print(y_train.shape)"
      ]
    },
    {
      "cell_type": "code",
      "execution_count": null,
      "id": "23ae21ba",
      "metadata": {
        "id": "23ae21ba"
      },
      "outputs": [],
      "source": [
        "# reshape input to be [samples, time steps, features] which is required for LSTM\n",
        "X_train =X_train.reshape(X_train.shape[0],X_train.shape[1] , 1)\n",
        "X_val = X_val.reshape(X_val.shape[0],X_val.shape[1] , 1)\n",
        "X_test = X_test.reshape(X_test.shape[0],X_test.shape[1] , 1)"
      ]
    },
    {
      "cell_type": "code",
      "execution_count": null,
      "id": "8234ea53",
      "metadata": {
        "id": "8234ea53"
      },
      "outputs": [],
      "source": [
        "model=Sequential()\n",
        "model.add(LSTM(50,return_sequences=True,input_shape=(24,1)))\n",
        "model.add(LSTM(50,return_sequences=True))\n",
        "model.add(LSTM(50))\n",
        "model.add(Dense(1))\n",
        "model.compile(loss='mean_squared_error',optimizer='adam')"
      ]
    },
    {
      "cell_type": "code",
      "execution_count": null,
      "id": "49941c60",
      "metadata": {
        "id": "49941c60",
        "outputId": "007e6cf8-1b70-4a90-eeb5-afcfede83ff6"
      },
      "outputs": [
        {
          "name": "stdout",
          "output_type": "stream",
          "text": [
            "Model: \"sequential\"\n",
            "_________________________________________________________________\n",
            " Layer (type)                Output Shape              Param #   \n",
            "=================================================================\n",
            " lstm (LSTM)                 (None, 24, 50)            10400     \n",
            "                                                                 \n",
            " lstm_1 (LSTM)               (None, 24, 50)            20200     \n",
            "                                                                 \n",
            " lstm_2 (LSTM)               (None, 50)                20200     \n",
            "                                                                 \n",
            " dense (Dense)               (None, 1)                 51        \n",
            "                                                                 \n",
            "=================================================================\n",
            "Total params: 50851 (198.64 KB)\n",
            "Trainable params: 50851 (198.64 KB)\n",
            "Non-trainable params: 0 (0.00 Byte)\n",
            "_________________________________________________________________\n"
          ]
        }
      ],
      "source": [
        "model.summary()"
      ]
    },
    {
      "cell_type": "code",
      "execution_count": null,
      "id": "b2abec79",
      "metadata": {
        "id": "b2abec79",
        "outputId": "37e3073d-6855-403b-c8fb-926f24bf8e36"
      },
      "outputs": [
        {
          "name": "stdout",
          "output_type": "stream",
          "text": [
            "Epoch 1/60\n",
            "162/162 [==============================] - 13s 52ms/step - loss: 0.0037 - val_loss: 0.0011\n",
            "Epoch 2/60\n",
            "162/162 [==============================] - 7s 46ms/step - loss: 0.0015 - val_loss: 2.4050e-04\n",
            "Epoch 3/60\n",
            "162/162 [==============================] - 7s 46ms/step - loss: 0.0012 - val_loss: 2.2443e-04\n",
            "Epoch 4/60\n",
            "162/162 [==============================] - 7s 44ms/step - loss: 0.0012 - val_loss: 2.1096e-04\n",
            "Epoch 5/60\n",
            "162/162 [==============================] - 7s 45ms/step - loss: 7.7862e-04 - val_loss: 1.4746e-04\n",
            "Epoch 6/60\n",
            "162/162 [==============================] - 7s 42ms/step - loss: 5.3889e-04 - val_loss: 1.2362e-04\n",
            "Epoch 7/60\n",
            "162/162 [==============================] - 7s 43ms/step - loss: 4.6454e-04 - val_loss: 9.9047e-05\n",
            "Epoch 8/60\n",
            "162/162 [==============================] - 7s 43ms/step - loss: 4.2469e-04 - val_loss: 1.3133e-04\n",
            "Epoch 9/60\n",
            "162/162 [==============================] - 7s 42ms/step - loss: 4.0677e-04 - val_loss: 1.2149e-04\n",
            "Epoch 10/60\n",
            "162/162 [==============================] - 7s 44ms/step - loss: 3.9026e-04 - val_loss: 9.6110e-05\n",
            "Epoch 11/60\n",
            "162/162 [==============================] - 7s 43ms/step - loss: 3.5514e-04 - val_loss: 7.6542e-05\n",
            "Epoch 12/60\n",
            "162/162 [==============================] - 7s 44ms/step - loss: 3.5416e-04 - val_loss: 7.1028e-05\n",
            "Epoch 13/60\n",
            "162/162 [==============================] - 7s 42ms/step - loss: 3.3535e-04 - val_loss: 6.6881e-05\n",
            "Epoch 14/60\n",
            "162/162 [==============================] - 7s 43ms/step - loss: 3.3686e-04 - val_loss: 1.0337e-04\n",
            "Epoch 15/60\n",
            "162/162 [==============================] - 7s 42ms/step - loss: 3.1914e-04 - val_loss: 8.2730e-05\n",
            "Epoch 16/60\n",
            "162/162 [==============================] - 7s 42ms/step - loss: 3.4175e-04 - val_loss: 8.6717e-05\n",
            "Epoch 17/60\n",
            "162/162 [==============================] - 7s 42ms/step - loss: 3.3789e-04 - val_loss: 1.4038e-04\n",
            "Epoch 18/60\n",
            "162/162 [==============================] - 7s 46ms/step - loss: 3.3309e-04 - val_loss: 6.3371e-05\n",
            "Epoch 19/60\n",
            "162/162 [==============================] - 8s 52ms/step - loss: 3.1240e-04 - val_loss: 1.1907e-04\n",
            "Epoch 20/60\n",
            "162/162 [==============================] - 8s 50ms/step - loss: 3.2253e-04 - val_loss: 1.0408e-04\n",
            "Epoch 21/60\n",
            "162/162 [==============================] - 8s 51ms/step - loss: 3.2768e-04 - val_loss: 5.8154e-05\n",
            "Epoch 22/60\n",
            "162/162 [==============================] - 9s 54ms/step - loss: 3.1098e-04 - val_loss: 8.4010e-05\n",
            "Epoch 23/60\n",
            "162/162 [==============================] - 9s 53ms/step - loss: 3.2543e-04 - val_loss: 2.1739e-04\n",
            "Epoch 24/60\n",
            "162/162 [==============================] - 8s 50ms/step - loss: 3.1348e-04 - val_loss: 7.9266e-05\n",
            "Epoch 25/60\n",
            "162/162 [==============================] - 8s 52ms/step - loss: 3.0928e-04 - val_loss: 6.1537e-05\n",
            "Epoch 26/60\n",
            "162/162 [==============================] - 8s 51ms/step - loss: 3.2834e-04 - val_loss: 6.3723e-05\n",
            "Epoch 27/60\n",
            "162/162 [==============================] - 8s 51ms/step - loss: 3.0999e-04 - val_loss: 5.5951e-05\n",
            "Epoch 28/60\n",
            "162/162 [==============================] - 8s 51ms/step - loss: 3.0054e-04 - val_loss: 6.1624e-05\n",
            "Epoch 29/60\n",
            "162/162 [==============================] - 9s 53ms/step - loss: 2.9666e-04 - val_loss: 5.7041e-05\n",
            "Epoch 30/60\n",
            "162/162 [==============================] - 8s 52ms/step - loss: 3.1621e-04 - val_loss: 5.6636e-05\n",
            "Epoch 31/60\n",
            "162/162 [==============================] - 8s 52ms/step - loss: 2.9155e-04 - val_loss: 7.1681e-05\n",
            "Epoch 32/60\n",
            "162/162 [==============================] - 9s 53ms/step - loss: 2.9731e-04 - val_loss: 2.3481e-04\n",
            "Epoch 33/60\n",
            "162/162 [==============================] - 8s 50ms/step - loss: 3.0191e-04 - val_loss: 9.9801e-05\n",
            "Epoch 34/60\n",
            "162/162 [==============================] - 9s 55ms/step - loss: 2.8689e-04 - val_loss: 5.3805e-05\n",
            "Epoch 35/60\n",
            "162/162 [==============================] - 10s 61ms/step - loss: 2.8152e-04 - val_loss: 1.1057e-04\n",
            "Epoch 36/60\n",
            "162/162 [==============================] - 9s 55ms/step - loss: 2.8608e-04 - val_loss: 6.7499e-05\n",
            "Epoch 37/60\n",
            "162/162 [==============================] - 8s 50ms/step - loss: 2.7307e-04 - val_loss: 6.2458e-05\n",
            "Epoch 38/60\n",
            "162/162 [==============================] - 9s 56ms/step - loss: 2.6575e-04 - val_loss: 5.8682e-05\n",
            "Epoch 39/60\n",
            "162/162 [==============================] - 9s 53ms/step - loss: 2.8026e-04 - val_loss: 6.8907e-05\n",
            "Epoch 40/60\n",
            "162/162 [==============================] - 8s 50ms/step - loss: 2.8545e-04 - val_loss: 5.4276e-05\n",
            "Epoch 41/60\n",
            "162/162 [==============================] - 8s 52ms/step - loss: 2.6587e-04 - val_loss: 5.3488e-05\n",
            "Epoch 42/60\n",
            "162/162 [==============================] - 10s 59ms/step - loss: 2.5761e-04 - val_loss: 5.5674e-05\n",
            "Epoch 43/60\n",
            "162/162 [==============================] - 9s 53ms/step - loss: 2.6162e-04 - val_loss: 1.4492e-04\n",
            "Epoch 44/60\n",
            "162/162 [==============================] - 8s 49ms/step - loss: 2.5822e-04 - val_loss: 5.9484e-05\n",
            "Epoch 45/60\n",
            "162/162 [==============================] - 8s 50ms/step - loss: 2.5383e-04 - val_loss: 5.5186e-05\n",
            "Epoch 46/60\n",
            "162/162 [==============================] - 8s 51ms/step - loss: 2.5711e-04 - val_loss: 1.2010e-04\n",
            "Epoch 47/60\n",
            "162/162 [==============================] - 9s 55ms/step - loss: 2.5935e-04 - val_loss: 4.9656e-05\n",
            "Epoch 48/60\n",
            "162/162 [==============================] - 9s 53ms/step - loss: 2.4813e-04 - val_loss: 6.7618e-05\n",
            "Epoch 49/60\n",
            "162/162 [==============================] - 9s 52ms/step - loss: 2.4591e-04 - val_loss: 5.7468e-05\n",
            "Epoch 50/60\n",
            "162/162 [==============================] - 8s 52ms/step - loss: 2.4993e-04 - val_loss: 5.7452e-05\n",
            "Epoch 51/60\n",
            "162/162 [==============================] - 9s 57ms/step - loss: 2.4755e-04 - val_loss: 4.9825e-05\n",
            "Epoch 52/60\n",
            "162/162 [==============================] - 9s 54ms/step - loss: 2.4694e-04 - val_loss: 5.2861e-05\n",
            "Epoch 53/60\n",
            "162/162 [==============================] - 9s 56ms/step - loss: 2.5412e-04 - val_loss: 5.6145e-05\n",
            "Epoch 54/60\n",
            "162/162 [==============================] - 9s 58ms/step - loss: 2.5515e-04 - val_loss: 6.6451e-05\n",
            "Epoch 55/60\n",
            "162/162 [==============================] - 9s 52ms/step - loss: 2.3757e-04 - val_loss: 5.4549e-05\n",
            "Epoch 56/60\n",
            "162/162 [==============================] - 8s 49ms/step - loss: 2.4491e-04 - val_loss: 6.2851e-05\n",
            "Epoch 57/60\n",
            "162/162 [==============================] - 8s 51ms/step - loss: 2.4056e-04 - val_loss: 4.9317e-05\n",
            "Epoch 58/60\n",
            "162/162 [==============================] - 9s 54ms/step - loss: 2.4074e-04 - val_loss: 5.7423e-05\n",
            "Epoch 59/60\n",
            "162/162 [==============================] - 8s 51ms/step - loss: 2.2802e-04 - val_loss: 4.7081e-05\n",
            "Epoch 60/60\n",
            "162/162 [==============================] - 9s 53ms/step - loss: 2.3091e-04 - val_loss: 8.7125e-05\n"
          ]
        },
        {
          "data": {
            "text/plain": [
              "<keras.src.callbacks.History at 0x15526b4a7f0>"
            ]
          },
          "execution_count": 176,
          "metadata": {},
          "output_type": "execute_result"
        }
      ],
      "source": [
        "model.fit(X_train,y_train,validation_data=(X_val,y_val),epochs=60,batch_size=64,verbose=1)"
      ]
    },
    {
      "cell_type": "code",
      "execution_count": null,
      "id": "19a89e3c",
      "metadata": {
        "id": "19a89e3c",
        "outputId": "04aee1d5-b43d-4e98-e6d7-1b3733315230"
      },
      "outputs": [
        {
          "name": "stdout",
          "output_type": "stream",
          "text": [
            "323/323 [==============================] - 4s 9ms/step\n",
            "92/92 [==============================] - 1s 9ms/step\n",
            "46/46 [==============================] - 0s 8ms/step\n"
          ]
        }
      ],
      "source": [
        "### Lets Do the prediction and check performance metrics\n",
        "train_predict=model.predict(X_train)\n",
        "val_predict=model.predict(X_val)\n",
        "test_predict = model.predict(X_test)"
      ]
    },
    {
      "cell_type": "code",
      "execution_count": null,
      "id": "d94b8eb3",
      "metadata": {
        "id": "d94b8eb3"
      },
      "outputs": [],
      "source": [
        "##Transform back to original form\n",
        "train_predict=scaler.inverse_transform(train_predict)\n",
        "val_predict=scaler.inverse_transform(val_predict)\n",
        "test_predict = scaler.inverse_transform(test_predict)"
      ]
    },
    {
      "cell_type": "code",
      "execution_count": null,
      "id": "0598bdfc",
      "metadata": {
        "id": "0598bdfc",
        "outputId": "42fcda86-b318-4b66-dbc9-bc86e33863f0"
      },
      "outputs": [
        {
          "data": {
            "text/plain": [
              "((10307, 1), (10307,))"
            ]
          },
          "execution_count": 189,
          "metadata": {},
          "output_type": "execute_result"
        }
      ],
      "source": [
        "train_predict.shape, y_train.shape\n"
      ]
    },
    {
      "cell_type": "code",
      "execution_count": null,
      "id": "85f09fbf",
      "metadata": {
        "id": "85f09fbf"
      },
      "outputs": [],
      "source": [
        "import math\n",
        "from sklearn.metrics import mean_squared_error"
      ]
    },
    {
      "cell_type": "code",
      "execution_count": null,
      "id": "02267c05",
      "metadata": {
        "id": "02267c05",
        "outputId": "c2477433-e1a2-4d4e-d352-35ba252919fc"
      },
      "outputs": [
        {
          "data": {
            "text/plain": [
              "6.8098860102203425"
            ]
          },
          "execution_count": 191,
          "metadata": {},
          "output_type": "execute_result"
        }
      ],
      "source": [
        "math.sqrt(mean_squared_error(scaler.inverse_transform(y_train.reshape(-1,1)),train_predict))"
      ]
    },
    {
      "cell_type": "code",
      "execution_count": null,
      "id": "4c3ac0df",
      "metadata": {
        "id": "4c3ac0df",
        "outputId": "ea69e272-bcb7-4d03-a0d0-095a527161bf"
      },
      "outputs": [
        {
          "data": {
            "text/plain": [
              "4.164775090614649"
            ]
          },
          "execution_count": 192,
          "metadata": {},
          "output_type": "execute_result"
        }
      ],
      "source": [
        "math.sqrt(mean_squared_error(scaler.inverse_transform(y_val.reshape(-1,1)),val_predict))"
      ]
    },
    {
      "cell_type": "code",
      "execution_count": null,
      "id": "75c8b7a5",
      "metadata": {
        "id": "75c8b7a5",
        "outputId": "e41c411e-8d79-447a-c89a-428e78d77e3b"
      },
      "outputs": [
        {
          "data": {
            "text/plain": [
              "7.363189919307196"
            ]
          },
          "execution_count": 193,
          "metadata": {},
          "output_type": "execute_result"
        }
      ],
      "source": [
        "math.sqrt(mean_squared_error(scaler.inverse_transform(y_test.reshape(-1,1)),test_predict))"
      ]
    },
    {
      "cell_type": "code",
      "execution_count": null,
      "id": "35733a35",
      "metadata": {
        "id": "35733a35",
        "outputId": "3e6cdf73-67c0-4c87-9724-d6ac1118126e"
      },
      "outputs": [
        {
          "data": {
            "text/plain": [
              "(1452, 1)"
            ]
          },
          "execution_count": 194,
          "metadata": {},
          "output_type": "execute_result"
        }
      ],
      "source": [
        "test_predict.shape"
      ]
    },
    {
      "cell_type": "code",
      "execution_count": null,
      "id": "97512e02",
      "metadata": {
        "id": "97512e02",
        "outputId": "7cddd7b0-b5bb-4598-e65d-a448172097a5"
      },
      "outputs": [
        {
          "data": {
            "image/png": "[encoded data removed]",
            "text/plain": [
              "<Figure size 640x480 with 1 Axes>"
            ]
          },
          "metadata": {},
          "output_type": "display_data"
        }
      ],
      "source": [
        "### Plotting\n",
        "# # shift train predictions for plotting\n",
        "look_back=time_step\n",
        "trainPredictPlot = np.empty_like(df1)\n",
        "trainPredictPlot[:, :] = np.nan\n",
        "trainPredictPlot[look_back:len(train_predict)+look_back, :] = train_predict\n",
        "\n",
        "# shift validation predictions for plotting\n",
        "validPredictPlot = np.empty_like(df1)\n",
        "validPredictPlot[:, :] = np.nan\n",
        "validPredictPlot[len(train_predict)+(look_back*2)+1:training_size+valid_size-1, :] = val_predict\n",
        "\n",
        "# shift test predictions for plotting\n",
        "testPredictPlot = np.empty_like(df1)\n",
        "testPredictPlot[:, :] = np.nan\n",
        "testPredictPlot[len(train_predict)+(look_back*2)+valid_size+1:len(df1)-1, :] = test_predict\n",
        "\n",
        "# plot baseline and predictions\n",
        "plt.plot(scaler.inverse_transform(df1))\n",
        "plt.plot(trainPredictPlot)\n",
        "plt.plot(validPredictPlot)\n",
        "plt.plot(testPredictPlot)\n",
        "plt.show()"
      ]
    },
    {
      "cell_type": "code",
      "execution_count": null,
      "id": "b5c32014",
      "metadata": {
        "id": "b5c32014",
        "outputId": "12c19d71-bc7f-498a-f1c1-8c6a726ff2db"
      },
      "outputs": [
        {
          "data": {
            "text/plain": [
              "1477"
            ]
          },
          "execution_count": 196,
          "metadata": {},
          "output_type": "execute_result"
        }
      ],
      "source": [
        "len(test_data)"
      ]
    },
    {
      "cell_type": "code",
      "execution_count": null,
      "id": "93b5a40c",
      "metadata": {
        "id": "93b5a40c",
        "outputId": "a651e836-e296-4b20-a4ce-a8ae08ea004e"
      },
      "outputs": [
        {
          "data": {
            "text/plain": [
              "(1, 24)"
            ]
          },
          "execution_count": 198,
          "metadata": {},
          "output_type": "execute_result"
        }
      ],
      "source": [
        "x_input=test_data[1453:].reshape(1,-1)\n",
        "x_input.shape"
      ]
    },
    {
      "cell_type": "code",
      "execution_count": null,
      "id": "2edf9aa0",
      "metadata": {
        "id": "2edf9aa0"
      },
      "outputs": [],
      "source": [
        "temp_input=list(x_input)\n",
        "temp_input=temp_input[0].tolist()"
      ]
    },
    {
      "cell_type": "code",
      "execution_count": null,
      "id": "0fe66c14",
      "metadata": {
        "id": "0fe66c14",
        "outputId": "c645aebf-979c-4ce4-8598-acd74fa0a8ea"
      },
      "outputs": [
        {
          "name": "stdout",
          "output_type": "stream",
          "text": [
            "[0.04053498]\n",
            "25\n",
            "1 hour input [0.02167238 0.01810888 0.02028284 0.02821668 0.03644187 0.03541092\n",
            " 0.03509716 0.03749524 0.0445326  0.05044936 0.0546404  0.07028396\n",
            " 0.0783971  0.08917726 0.10455187 0.09937471 0.07835227 0.06613774\n",
            " 0.05708331 0.0454739  0.03754006 0.03041305 0.03341626 0.04053498]\n",
            "1 hour output [[0.04820202]]\n",
            "2 hour input [0.01810888 0.02028284 0.02821668 0.03644187 0.03541092 0.03509716\n",
            " 0.03749524 0.0445326  0.05044936 0.0546404  0.07028396 0.0783971\n",
            " 0.08917726 0.10455187 0.09937471 0.07835227 0.06613774 0.05708331\n",
            " 0.0454739  0.03754006 0.03041305 0.03341626 0.04053498 0.04820202]\n",
            "2 hour output [[0.05472867]]\n",
            "3 hour input [0.02028284 0.02821668 0.03644187 0.03541092 0.03509716 0.03749524\n",
            " 0.0445326  0.05044936 0.0546404  0.07028396 0.0783971  0.08917726\n",
            " 0.10455187 0.09937471 0.07835227 0.06613774 0.05708331 0.0454739\n",
            " 0.03754006 0.03041305 0.03341626 0.04053498 0.04820202 0.05472867]\n",
            "3 hour output [[0.05779465]]\n",
            "4 hour input [0.02821668 0.03644187 0.03541092 0.03509716 0.03749524 0.0445326\n",
            " 0.05044936 0.0546404  0.07028396 0.0783971  0.08917726 0.10455187\n",
            " 0.09937471 0.07835227 0.06613774 0.05708331 0.0454739  0.03754006\n",
            " 0.03041305 0.03341626 0.04053498 0.04820202 0.05472867 0.05779465]\n",
            "4 hour output [[0.05794916]]\n",
            "5 hour input [0.03644187 0.03541092 0.03509716 0.03749524 0.0445326  0.05044936\n",
            " 0.0546404  0.07028396 0.0783971  0.08917726 0.10455187 0.09937471\n",
            " 0.07835227 0.06613774 0.05708331 0.0454739  0.03754006 0.03041305\n",
            " 0.03341626 0.04053498 0.04820202 0.05472867 0.05779465 0.05794916]\n",
            "5 hour output [[0.05782468]]\n",
            "6 hour input [0.03541092 0.03509716 0.03749524 0.0445326  0.05044936 0.0546404\n",
            " 0.07028396 0.0783971  0.08917726 0.10455187 0.09937471 0.07835227\n",
            " 0.06613774 0.05708331 0.0454739  0.03754006 0.03041305 0.03341626\n",
            " 0.04053498 0.04820202 0.05472867 0.05779465 0.05794916 0.05782468]\n",
            "6 hour output [[0.05972978]]\n",
            "7 hour input [0.03509716 0.03749524 0.0445326  0.05044936 0.0546404  0.07028396\n",
            " 0.0783971  0.08917726 0.10455187 0.09937471 0.07835227 0.06613774\n",
            " 0.05708331 0.0454739  0.03754006 0.03041305 0.03341626 0.04053498\n",
            " 0.04820202 0.05472867 0.05779465 0.05794916 0.05782468 0.05972978]\n",
            "7 hour output [[0.06422538]]\n",
            "8 hour input [0.03749524 0.0445326  0.05044936 0.0546404  0.07028396 0.0783971\n",
            " 0.08917726 0.10455187 0.09937471 0.07835227 0.06613774 0.05708331\n",
            " 0.0454739  0.03754006 0.03041305 0.03341626 0.04053498 0.04820202\n",
            " 0.05472867 0.05779465 0.05794916 0.05782468 0.05972978 0.06422538]\n",
            "8 hour output [[0.07103758]]\n",
            "9 hour input [0.0445326  0.05044936 0.0546404  0.07028396 0.0783971  0.08917726\n",
            " 0.10455187 0.09937471 0.07835227 0.06613774 0.05708331 0.0454739\n",
            " 0.03754006 0.03041305 0.03341626 0.04053498 0.04820202 0.05472867\n",
            " 0.05779465 0.05794916 0.05782468 0.05972978 0.06422538 0.07103758]\n",
            "9 hour output [[0.07951887]]\n",
            "10 hour input [0.05044936 0.0546404  0.07028396 0.0783971  0.08917726 0.10455187\n",
            " 0.09937471 0.07835227 0.06613774 0.05708331 0.0454739  0.03754006\n",
            " 0.03041305 0.03341626 0.04053498 0.04820202 0.05472867 0.05779465\n",
            " 0.05794916 0.05782468 0.05972978 0.06422538 0.07103758 0.07951887]\n",
            "10 hour output [[0.08885826]]\n",
            "11 hour input [0.0546404  0.07028396 0.0783971  0.08917726 0.10455187 0.09937471\n",
            " 0.07835227 0.06613774 0.05708331 0.0454739  0.03754006 0.03041305\n",
            " 0.03341626 0.04053498 0.04820202 0.05472867 0.05779465 0.05794916\n",
            " 0.05782468 0.05972978 0.06422538 0.07103758 0.07951887 0.08885826]\n",
            "11 hour output [[0.09831628]]\n",
            "12 hour input [0.07028396 0.0783971  0.08917726 0.10455187 0.09937471 0.07835227\n",
            " 0.06613774 0.05708331 0.0454739  0.03754006 0.03041305 0.03341626\n",
            " 0.04053498 0.04820202 0.05472867 0.05779465 0.05794916 0.05782468\n",
            " 0.05972978 0.06422538 0.07103758 0.07951887 0.08885826 0.09831628]\n",
            "12 hour output [[0.10746941]]\n",
            "13 hour input [0.0783971  0.08917726 0.10455187 0.09937471 0.07835227 0.06613774\n",
            " 0.05708331 0.0454739  0.03754006 0.03041305 0.03341626 0.04053498\n",
            " 0.04820202 0.05472867 0.05779465 0.05794916 0.05782468 0.05972978\n",
            " 0.06422538 0.07103758 0.07951887 0.08885826 0.09831628 0.10746941]\n",
            "13 hour output [[0.11532968]]\n",
            "14 hour input [0.08917726 0.10455187 0.09937471 0.07835227 0.06613774 0.05708331\n",
            " 0.0454739  0.03754006 0.03041305 0.03341626 0.04053498 0.04820202\n",
            " 0.05472867 0.05779465 0.05794916 0.05782468 0.05972978 0.06422538\n",
            " 0.07103758 0.07951887 0.08885826 0.09831628 0.10746941 0.11532968]\n",
            "14 hour output [[0.11829767]]\n",
            "15 hour input [0.10455187 0.09937471 0.07835227 0.06613774 0.05708331 0.0454739\n",
            " 0.03754006 0.03041305 0.03341626 0.04053498 0.04820202 0.05472867\n",
            " 0.05779465 0.05794916 0.05782468 0.05972978 0.06422538 0.07103758\n",
            " 0.07951887 0.08885826 0.09831628 0.10746941 0.11532968 0.11829767]\n",
            "15 hour output [[0.11292049]]\n",
            "16 hour input [0.09937471 0.07835227 0.06613774 0.05708331 0.0454739  0.03754006\n",
            " 0.03041305 0.03341626 0.04053498 0.04820202 0.05472867 0.05779465\n",
            " 0.05794916 0.05782468 0.05972978 0.06422538 0.07103758 0.07951887\n",
            " 0.08885826 0.09831628 0.10746941 0.11532968 0.11829767 0.11292049]\n",
            "16 hour output [[0.10287619]]\n",
            "17 hour input [0.07835227 0.06613774 0.05708331 0.0454739  0.03754006 0.03041305\n",
            " 0.03341626 0.04053498 0.04820202 0.05472867 0.05779465 0.05794916\n",
            " 0.05782468 0.05972978 0.06422538 0.07103758 0.07951887 0.08885826\n",
            " 0.09831628 0.10746941 0.11532968 0.11829767 0.11292049 0.10287619]\n",
            "17 hour output [[0.09357694]]\n",
            "18 hour input [0.06613774 0.05708331 0.0454739  0.03754006 0.03041305 0.03341626\n",
            " 0.04053498 0.04820202 0.05472867 0.05779465 0.05794916 0.05782468\n",
            " 0.05972978 0.06422538 0.07103758 0.07951887 0.08885826 0.09831628\n",
            " 0.10746941 0.11532968 0.11829767 0.11292049 0.10287619 0.09357694]\n",
            "18 hour output [[0.08621985]]\n",
            "19 hour input [0.05708331 0.0454739  0.03754006 0.03041305 0.03341626 0.04053498\n",
            " 0.04820202 0.05472867 0.05779465 0.05794916 0.05782468 0.05972978\n",
            " 0.06422538 0.07103758 0.07951887 0.08885826 0.09831628 0.10746941\n",
            " 0.11532968 0.11829767 0.11292049 0.10287619 0.09357694 0.08621985]\n",
            "19 hour output [[0.0806]]\n",
            "20 hour input [0.0454739  0.03754006 0.03041305 0.03341626 0.04053498 0.04820202\n",
            " 0.05472867 0.05779465 0.05794916 0.05782468 0.05972978 0.06422538\n",
            " 0.07103758 0.07951887 0.08885826 0.09831628 0.10746941 0.11532968\n",
            " 0.11829767 0.11292049 0.10287619 0.09357694 0.08621985 0.0806    ]\n",
            "20 hour output [[0.07648342]]\n",
            "21 hour input [0.03754006 0.03041305 0.03341626 0.04053498 0.04820202 0.05472867\n",
            " 0.05779465 0.05794916 0.05782468 0.05972978 0.06422538 0.07103758\n",
            " 0.07951887 0.08885826 0.09831628 0.10746941 0.11532968 0.11829767\n",
            " 0.11292049 0.10287619 0.09357694 0.08621985 0.0806     0.07648342]\n",
            "21 hour output [[0.07383016]]\n",
            "22 hour input [0.03041305 0.03341626 0.04053498 0.04820202 0.05472867 0.05779465\n",
            " 0.05794916 0.05782468 0.05972978 0.06422538 0.07103758 0.07951887\n",
            " 0.08885826 0.09831628 0.10746941 0.11532968 0.11829767 0.11292049\n",
            " 0.10287619 0.09357694 0.08621985 0.0806     0.07648342 0.07383016]\n",
            "22 hour output [[0.07294549]]\n",
            "23 hour input [0.03341626 0.04053498 0.04820202 0.05472867 0.05779465 0.05794916\n",
            " 0.05782468 0.05972978 0.06422538 0.07103758 0.07951887 0.08885826\n",
            " 0.09831628 0.10746941 0.11532968 0.11829767 0.11292049 0.10287619\n",
            " 0.09357694 0.08621985 0.0806     0.07648342 0.07383016 0.07294549]\n",
            "23 hour output [[0.07401687]]\n",
            "[[0.04053498059511185], [0.048202015459537506], [0.0547286719083786], [0.05779465287923813], [0.05794915556907654], [0.05782468244433403], [0.05972978472709656], [0.06422537565231323], [0.07103757560253143], [0.0795188695192337], [0.08885826170444489], [0.09831628203392029], [0.10746940970420837], [0.11532968282699585], [0.11829766631126404], [0.11292049288749695], [0.10287618637084961], [0.09357693791389465], [0.08621984720230103], [0.08060000091791153], [0.07648342102766037], [0.07383016496896744], [0.0729454904794693], [0.07401686906814575]]\n"
          ]
        }
      ],
      "source": [
        "# demonstrate prediction for next 24 hours\n",
        "\n",
        "lst_output=[]\n",
        "n_steps=24\n",
        "i=0\n",
        "while(i<24):\n",
        "\n",
        "    if(len(temp_input)>24):\n",
        "        #print(temp_input)\n",
        "        x_input=np.array(temp_input[1:])\n",
        "        print(\"{} hour input {}\".format(i,x_input))\n",
        "        x_input=x_input.reshape(1,-1)\n",
        "        x_input = x_input.reshape((1, n_steps, 1))\n",
        "        #print(x_input)\n",
        "        yhat = model.predict(x_input, verbose=0)\n",
        "        print(\"{} hour output {}\".format(i,yhat))\n",
        "        temp_input.extend(yhat[0].tolist())\n",
        "        temp_input=temp_input[1:]\n",
        "        #print(temp_input)\n",
        "        lst_output.extend(yhat.tolist())\n",
        "        i=i+1\n",
        "    else:\n",
        "        x_input = x_input.reshape((1, n_steps,1))\n",
        "        yhat = model.predict(x_input, verbose=0)\n",
        "        print(yhat[0])\n",
        "        temp_input.extend(yhat[0].tolist())\n",
        "        print(len(temp_input))\n",
        "        lst_output.extend(yhat.tolist())\n",
        "        i=i+1\n",
        "\n",
        "\n",
        "print(lst_output)"
      ]
    },
    {
      "cell_type": "code",
      "execution_count": null,
      "id": "1c2d1b74",
      "metadata": {
        "id": "1c2d1b74"
      },
      "outputs": [],
      "source": [
        "day_new=np.arange(1,25)\n",
        "day_pred=np.arange(25,49)"
      ]
    },
    {
      "cell_type": "code",
      "execution_count": null,
      "id": "1bb52a63",
      "metadata": {
        "id": "1bb52a63",
        "outputId": "a03f511b-8aa6-44e9-b714-c10f67a0b913"
      },
      "outputs": [
        {
          "data": {
            "text/plain": [
              "14761"
            ]
          },
          "execution_count": 203,
          "metadata": {},
          "output_type": "execute_result"
        }
      ],
      "source": [
        "len(df1)"
      ]
    },
    {
      "cell_type": "code",
      "execution_count": null,
      "id": "1a257947",
      "metadata": {
        "id": "1a257947",
        "outputId": "dbc9c177-2095-47f7-843e-ac4da68145cd"
      },
      "outputs": [
        {
          "data": {
            "text/plain": [
              "[<matplotlib.lines.Line2D at 0x155312eaca0>]"
            ]
          },
          "execution_count": 204,
          "metadata": {},
          "output_type": "execute_result"
        },
        {
          "data": {
            "image/png": "[encoded data removed]",
            "text/plain": [
              "<Figure size 640x480 with 1 Axes>"
            ]
          },
          "metadata": {},
          "output_type": "display_data"
        }
      ],
      "source": [
        "plt.plot(day_new,scaler.inverse_transform(df1[14761-24:]))\n",
        "plt.plot(day_pred,scaler.inverse_transform(lst_output))"
      ]
    },
    {
      "cell_type": "code",
      "execution_count": null,
      "id": "111fc1c9",
      "metadata": {
        "id": "111fc1c9"
      },
      "outputs": [],
      "source": []
    }
  ],
  "metadata": {
    "kernelspec": {
      "display_name": "Python 3 (ipykernel)",
      "language": "python",
      "name": "python3"
    },
    "language_info": {
      "codemirror_mode": {
        "name": "ipython",
        "version": 3
      },
      "file_extension": ".py",
      "mimetype": "text/x-python",
      "name": "python",
      "nbconvert_exporter": "python",
      "pygments_lexer": "ipython3",
      "version": "3.9.13"
    },
    "colab": {
      "provenance": [],
      "include_colab_link": true
    }
  },
  "nbformat": 4,
  "nbformat_minor": 5
}