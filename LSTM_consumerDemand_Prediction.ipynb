{
  "cells": [
    {
      "cell_type": "markdown",
      "metadata": {
        "id": "view-in-github",
        "colab_type": "text"
      },
      "source": [
        "<a href=\"https://colab.research.google.com/github/vujjiniashrith/ESS-profit-maximization-using-deep-Reinforcement-Learning/blob/main/LSTM_consumerDemand_Prediction.ipynb\" target=\"_parent\"><img src=\"https://colab.research.google.com/assets/colab-badge.svg\" alt=\"Open In Colab\"/></a>"
      ]
    },
    {
      "cell_type": "code",
      "execution_count": null,
      "id": "7a62709a",
      "metadata": {
        "id": "7a62709a"
      },
      "outputs": [],
      "source": [
        "import numpy as np\n",
        "import pandas as pd\n",
        "import matplotlib.pyplot as plt\n",
        "\n",
        "from sklearn.preprocessing import MinMaxScaler"
      ]
    },
    {
      "cell_type": "code",
      "execution_count": null,
      "id": "72d30c23",
      "metadata": {
        "id": "72d30c23"
      },
      "outputs": [],
      "source": [
        "# !pip install scikit-learn"
      ]
    },
    {
      "cell_type": "code",
      "execution_count": null,
      "id": "320c83b0",
      "metadata": {
        "id": "320c83b0"
      },
      "outputs": [],
      "source": []
    },
    {
      "cell_type": "code",
      "execution_count": null,
      "id": "9adf8f1c",
      "metadata": {
        "id": "9adf8f1c"
      },
      "outputs": [],
      "source": [
        "# !pip install numpy==1.23.5\n",
        "# !pip install pandas==1.3.4"
      ]
    },
    {
      "cell_type": "code",
      "execution_count": null,
      "id": "0a9d42ca",
      "metadata": {
        "id": "0a9d42ca"
      },
      "outputs": [],
      "source": [
        "# !pip install --upgrade tensorflow==2.6.0\n",
        "# !pip install --upgrade keras==2.6"
      ]
    },
    {
      "cell_type": "code",
      "execution_count": null,
      "id": "fdd787ce",
      "metadata": {
        "id": "fdd787ce",
        "outputId": "9178b59d-4764-4151-9a6f-7163a18d3c62"
      },
      "outputs": [
        {
          "name": "stdout",
          "output_type": "stream",
          "text": [
            "Package                      Version             \r\n",
            "---------------------------- --------------------\r\n",
            "absl-py                      0.15.0              \r\n",
            "aiohttp                      3.8.4               \r\n",
            "aiosignal                    1.3.1               \r\n",
            "anyio                        3.6.2               \r\n",
            "apturl                       0.5.2               \r\n",
            "argon2-cffi                  21.3.0              \r\n",
            "argon2-cffi-bindings         21.2.0              \r\n",
            "array-record                 0.4.0               \r\n",
            "astor                        0.8.1               \r\n",
            "asttokens                    2.2.1               \r\n",
            "astunparse                   1.6.3               \r\n",
            "async-timeout                4.0.2               \r\n",
            "attrs                        22.2.0              \r\n",
            "backcall                     0.2.0               \r\n",
            "bcrypt                       3.1.7               \r\n",
            "beautifulsoup4               4.12.2              \r\n",
            "bleach                       6.0.0               \r\n",
            "blinker                      1.4                 \r\n",
            "Brlapi                       0.7.0               \r\n",
            "cachetools                   5.3.2               \r\n",
            "carla                        0.9.13              \r\n",
            "certifi                      2022.12.7           \r\n",
            "cffi                         1.15.1              \r\n",
            "chardet                      3.0.4               \r\n",
            "charset-normalizer           3.1.0               \r\n",
            "chrome-gnome-shell           0.0.0               \r\n",
            "clang                        5.0                 \r\n",
            "Click                        7.0                 \r\n",
            "cloudpickle                  2.2.0               \r\n",
            "colorama                     0.4.3               \r\n",
            "comm                         0.1.3               \r\n",
            "command-not-found            0.3                 \r\n",
            "cryptography                 2.8                 \r\n",
            "cupshelpers                  1.0                 \r\n",
            "cycler                       0.11.0              \r\n",
            "Cython                       0.29.33             \r\n",
            "datasets                     2.11.0              \r\n",
            "dbus-python                  1.2.16              \r\n",
            "debugpy                      1.6.7               \r\n",
            "decorator                    5.1.1               \r\n",
            "defer                        1.0.6               \r\n",
            "defusedxml                   0.7.1               \r\n",
            "dill                         0.3.6               \r\n",
            "distro                       1.4.0               \r\n",
            "distro-info                  0.23+ubuntu1.1      \r\n",
            "dm-tree                      0.1.8               \r\n",
            "docker-pycreds               0.4.0               \r\n",
            "duplicity                    0.8.12.0            \r\n",
            "entrypoints                  0.3                 \r\n",
            "etils                        1.3.0               \r\n",
            "executing                    1.2.0               \r\n",
            "fasteners                    0.14.1              \r\n",
            "fastjsonschema               2.16.3              \r\n",
            "filelock                     3.9.0               \r\n",
            "flatbuffers                  1.12                \r\n",
            "fonttools                    4.43.1              \r\n",
            "frozenlist                   1.3.3               \r\n",
            "fsspec                       2023.4.0            \r\n",
            "future                       0.18.2              \r\n",
            "gast                         0.4.0               \r\n",
            "gfootball                    2.10.3              \r\n",
            "gitdb                        4.0.10              \r\n",
            "GitPython                    3.1.31              \r\n",
            "google-auth                  2.23.3              \r\n",
            "google-auth-oauthlib         0.4.6               \r\n",
            "google-pasta                 0.2.0               \r\n",
            "googleapis-common-protos     1.61.0              \r\n",
            "grpcio                       1.50.0              \r\n",
            "gym                          0.25.2              \r\n",
            "gym-notices                  0.0.8               \r\n",
            "h5py                         3.1.0               \r\n",
            "httplib2                     0.14.0              \r\n",
            "huggingface-hub              0.13.4              \r\n",
            "idna                         2.8                 \r\n",
            "imageio                      2.9.0               \r\n",
            "importlib-metadata           6.5.0               \r\n",
            "importlib-resources          5.12.0              \r\n",
            "ipdb                         0.13.9              \r\n",
            "ipykernel                    6.22.0              \r\n",
            "ipython                      8.11.0              \r\n",
            "ipython-genutils             0.2.0               \r\n",
            "ipywidgets                   8.0.6               \r\n",
            "jedi                         0.18.2              \r\n",
            "Jinja2                       3.1.2               \r\n",
            "joblib                       1.3.2               \r\n",
            "jsonschema                   4.17.3              \r\n",
            "jupyter                      1.0.0               \r\n",
            "jupyter-client               8.2.0               \r\n",
            "jupyter-console              6.6.3               \r\n",
            "jupyter-core                 5.3.0               \r\n",
            "jupyter-events               0.6.3               \r\n",
            "jupyter-server               2.5.0               \r\n",
            "jupyter-server-terminals     0.4.4               \r\n",
            "jupyterlab-pygments          0.2.2               \r\n",
            "jupyterlab-widgets           3.0.7               \r\n",
            "keras                        2.8.0               \r\n",
            "Keras-Applications           1.0.8               \r\n",
            "Keras-Preprocessing          1.1.2               \r\n",
            "keras-rl2                    1.0.5               \r\n",
            "keyring                      18.0.1              \r\n",
            "kiwisolver                   1.4.4               \r\n",
            "language-selector            0.1                 \r\n",
            "launchpadlib                 1.10.13             \r\n",
            "lazr.restfulclient           0.14.2              \r\n",
            "lazr.uri                     1.0.3               \r\n",
            "libclang                     16.0.6              \r\n",
            "lockfile                     0.12.2              \r\n",
            "louis                        3.12.0              \r\n",
            "macaroonbakery               1.3.1               \r\n",
            "Mako                         1.1.0               \r\n",
            "Markdown                     3.5                 \r\n",
            "MarkupSafe                   2.1.2               \r\n",
            "matplotlib                   3.5.2               \r\n",
            "matplotlib-inline            0.1.6               \r\n",
            "mistune                      2.0.5               \r\n",
            "monotonic                    1.5                 \r\n",
            "msgpack                      1.0.4               \r\n",
            "multidict                    6.0.4               \r\n",
            "multiprocess                 0.70.14             \r\n",
            "nbclassic                    0.5.5               \r\n",
            "nbclient                     0.7.3               \r\n",
            "nbconvert                    7.3.1               \r\n",
            "nbformat                     5.8.0               \r\n",
            "nest-asyncio                 1.5.6               \r\n",
            "netifaces                    0.10.4              \r\n",
            "networkx                     2.8.8               \r\n",
            "notebook                     6.5.4               \r\n",
            "notebook-shim                0.2.2               \r\n",
            "numpy                        1.24.3              \r\n",
            "nvidia-cublas-cu11           11.11.3.6           \r\n",
            "nvidia-cuda-cupti-cu11       11.8.87             \r\n",
            "nvidia-cuda-nvcc-cu11        11.8.89             \r\n",
            "nvidia-cuda-runtime-cu11     11.8.89             \r\n",
            "nvidia-cudnn-cu11            8.6.0.163           \r\n",
            "nvidia-cufft-cu11            10.9.0.58           \r\n",
            "nvidia-curand-cu11           10.3.0.86           \r\n",
            "nvidia-cusolver-cu11         11.4.1.48           \r\n",
            "nvidia-cusparse-cu11         11.7.5.86           \r\n",
            "nvidia-dali-cuda110          1.18.0              \r\n",
            "nvidia-dali-nvtf-plugin      1.18.0+nv22.10      \r\n",
            "nvidia-horovod               0.25.0+nv22.10      \r\n",
            "nvidia-nccl-cu11             2.15.5              \r\n",
            "nvidia-pyindex               1.0.9               \r\n",
            "nvidia-tensorflow            1.15.5+nv22.10      \r\n",
            "oauthlib                     3.1.0               \r\n",
            "olefile                      0.46                \r\n",
            "opencv-python                4.8.0.76            \r\n",
            "opt-einsum                   3.3.0               \r\n",
            "packaging                    23.1                \r\n",
            "pandas                       1.4.4               \r\n",
            "pandocfilters                1.5.0               \r\n",
            "paramiko                     2.6.0               \r\n",
            "parso                        0.8.3               \r\n",
            "pathtools                    0.1.2               \r\n",
            "pexpect                      4.6.0               \r\n",
            "pickleshare                  0.7.5               \r\n",
            "Pillow                       7.0.0               \r\n",
            "pip                          20.0.2              \r\n",
            "pkgutil-resolve-name         1.3.10              \r\n",
            "platformdirs                 3.2.0               \r\n",
            "prometheus-client            0.16.0              \r\n",
            "promise                      2.3                 \r\n",
            "prompt-toolkit               3.0.38              \r\n",
            "protobuf                     3.20.3              \r\n",
            "psutil                       5.9.4               \r\n",
            "ptyprocess                   0.7.0               \r\n",
            "pure-eval                    0.2.2               \r\n",
            "pyarrow                      11.0.0              \r\n",
            "pyasn1                       0.5.0               \r\n",
            "pyasn1-modules               0.3.0               \r\n",
            "pycairo                      1.16.2              \r\n",
            "pycparser                    2.21                \r\n",
            "pycups                       1.9.73              \r\n",
            "pygame                       2.1.0               \r\n",
            "pyglet                       2.0.9               \r\n",
            "Pygments                     2.14.0              \r\n",
            "PyGObject                    3.36.0              \r\n",
            "PyJWT                        1.7.1               \r\n",
            "pymacaroons                  0.13.0              \r\n",
            "PyNaCl                       1.3.0               \r\n",
            "pyparsing                    3.0.9               \r\n",
            "pyRFC3339                    1.1                 \r\n",
            "pyrsistent                   0.19.3              \r\n",
            "python-apt                   2.0.1+ubuntu0.20.4.1\r\n",
            "python-dateutil              2.8.2               \r\n",
            "python-debian                0.1.36+ubuntu1.1    \r\n",
            "python-json-logger           2.0.7               \r\n",
            "pytz                         2023.3              \r\n",
            "pyxdg                        0.26                \r\n",
            "PyYAML                       6.0                 \r\n",
            "pyzmq                        25.0.2              \r\n",
            "qtconsole                    5.4.2               \r\n",
            "QtPy                         2.3.1               \r\n",
            "ray                          1.8.0               \r\n",
            "redis                        4.5.1               \r\n",
            "regex                        2023.3.23           \r\n",
            "reportlab                    3.5.34              \r\n",
            "requests                     2.22.0              \r\n",
            "requests-oauthlib            1.3.1               \r\n",
            "requests-unixsocket          0.2.0               \r\n",
            "responses                    0.18.0              \r\n",
            "rfc3339-validator            0.1.4               \r\n",
            "rfc3986-validator            0.1.1               \r\n",
            "rsa                          4.9                 \r\n",
            "scikit-learn                 1.0.2               \r\n",
            "scipy                        1.9.1               \r\n",
            "screen-resolution-extra      0.0.0               \r\n",
            "seaborn                      0.11.2              \r\n",
            "SecretStorage                2.3.1               \r\n",
            "Send2Trash                   1.8.0               \r\n",
            "sentry-sdk                   1.16.0              \r\n",
            "setproctitle                 1.2.2               \r\n",
            "setuptools                   45.2.0              \r\n",
            "shortuuid                    1.0.11              \r\n",
            "simplejson                   3.16.0              \r\n",
            "six                          1.15.0              \r\n",
            "smmap                        5.0.0               \r\n",
            "sniffio                      1.3.0               \r\n",
            "soupsieve                    2.4.1               \r\n",
            "ssh-import-id                5.10                \r\n",
            "stack-data                   0.6.2               \r\n",
            "systemd-python               234                 \r\n",
            "tensorboard                  2.8.0               \r\n",
            "tensorboard-data-server      0.6.1               \r\n",
            "tensorboard-plugin-wit       1.8.1               \r\n",
            "tensorflow                   2.8.0               \r\n",
            "tensorflow-datasets          4.9.2               \r\n",
            "tensorflow-estimator         2.6.0               \r\n",
            "tensorflow-io-gcs-filesystem 0.34.0              \r\n",
            "tensorflow-metadata          1.14.0              \r\n",
            "termcolor                    1.1.0               \r\n",
            "terminado                    0.17.1              \r\n",
            "tf-estimator-nightly         2.8.0.dev2021122109 \r\n",
            "threadpoolctl                3.2.0               \r\n",
            "tinycss2                     1.2.1               \r\n",
            "tokenizers                   0.13.3              \r\n",
            "toml                         0.10.2              \r\n",
            "torch                        1.11.0              \r\n",
            "tornado                      6.3                 \r\n",
            "tqdm                         4.65.0              \r\n",
            "traitlets                    5.9.0               \r\n",
            "transformers                 4.28.1              \r\n",
            "typing-extensions            3.7.4.3             \r\n",
            "tzdata                       2023.3              \r\n",
            "ubuntu-advantage-tools       8001                \r\n",
            "ubuntu-drivers-common        0.0.0               \r\n",
            "ufw                          0.36                \r\n",
            "unattended-upgrades          0.1                 \r\n",
            "urllib3                      1.26.14             \r\n",
            "usb-creator                  0.3.7               \r\n",
            "wadllib                      1.3.3               \r\n",
            "wandb                        0.12.14             \r\n",
            "wcwidth                      0.2.6               \r\n",
            "webencodings                 0.5.1               \r\n",
            "websocket-client             1.5.1               \r\n",
            "werkzeug                     3.0.1               \r\n",
            "wheel                        0.41.2              \r\n",
            "widgetsnbextension           4.0.7               \r\n",
            "wrapt                        1.12.1              \r\n",
            "xkit                         0.0.0               \r\n",
            "xxhash                       3.2.0               \r\n",
            "yarl                         1.8.2               \r\n",
            "zipp                         3.15.0              \r\n"
          ]
        }
      ],
      "source": [
        "!pip list"
      ]
    },
    {
      "cell_type": "code",
      "execution_count": null,
      "id": "3083a886",
      "metadata": {
        "id": "3083a886"
      },
      "outputs": [],
      "source": [
        "import tensorflow as tf\n",
        "physical_devices = tf.config.list_physical_devices('GPU')\n",
        "tf.config.experimental.set_memory_growth(physical_devices[0], enable=True)"
      ]
    },
    {
      "cell_type": "code",
      "execution_count": null,
      "id": "f8191bf8",
      "metadata": {
        "id": "f8191bf8"
      },
      "outputs": [],
      "source": [
        "\n"
      ]
    },
    {
      "cell_type": "code",
      "execution_count": null,
      "id": "3f7a47bb",
      "metadata": {
        "id": "3f7a47bb"
      },
      "outputs": [],
      "source": [
        "from tensorflow.keras.models import Sequential"
      ]
    },
    {
      "cell_type": "code",
      "execution_count": null,
      "id": "44a8494f",
      "metadata": {
        "id": "44a8494f"
      },
      "outputs": [],
      "source": [
        "\n",
        "\n",
        "\n",
        "from tensorflow.keras.layers import Dense"
      ]
    },
    {
      "cell_type": "code",
      "execution_count": null,
      "id": "2acceb9d",
      "metadata": {
        "id": "2acceb9d"
      },
      "outputs": [],
      "source": [
        "from tensorflow.keras.layers import LSTM"
      ]
    },
    {
      "cell_type": "code",
      "execution_count": null,
      "id": "d107e8cb",
      "metadata": {
        "id": "d107e8cb"
      },
      "outputs": [],
      "source": [
        "df = pd.read_csv(\"consumer_data_hourly.csv\")\n"
      ]
    },
    {
      "cell_type": "code",
      "execution_count": null,
      "id": "02752937",
      "metadata": {
        "id": "02752937",
        "outputId": "054d35a0-2069-477a-ca4c-bd11e01ffdcc"
      },
      "outputs": [
        {
          "data": {
            "text/html": [
              "<div>\n",
              "<style scoped>\n",
              "    .dataframe tbody tr th:only-of-type {\n",
              "        vertical-align: middle;\n",
              "    }\n",
              "\n",
              "    .dataframe tbody tr th {\n",
              "        vertical-align: top;\n",
              "    }\n",
              "\n",
              "    .dataframe thead th {\n",
              "        text-align: right;\n",
              "    }\n",
              "</style>\n",
              "<table border=\"1\" class=\"dataframe\">\n",
              "  <thead>\n",
              "    <tr style=\"text-align: right;\">\n",
              "      <th></th>\n",
              "      <th>dateTime</th>\n",
              "      <th>use</th>\n",
              "    </tr>\n",
              "  </thead>\n",
              "  <tbody>\n",
              "    <tr>\n",
              "      <th>0</th>\n",
              "      <td>2016-01-01 00:00:00</td>\n",
              "      <td>2.108533</td>\n",
              "    </tr>\n",
              "    <tr>\n",
              "      <th>1</th>\n",
              "      <td>2016-01-01 01:00:00</td>\n",
              "      <td>1.852600</td>\n",
              "    </tr>\n",
              "    <tr>\n",
              "      <th>2</th>\n",
              "      <td>2016-01-01 02:00:00</td>\n",
              "      <td>1.988000</td>\n",
              "    </tr>\n",
              "    <tr>\n",
              "      <th>3</th>\n",
              "      <td>2016-01-01 03:00:00</td>\n",
              "      <td>1.993267</td>\n",
              "    </tr>\n",
              "    <tr>\n",
              "      <th>4</th>\n",
              "      <td>2016-01-01 04:00:00</td>\n",
              "      <td>1.781533</td>\n",
              "    </tr>\n",
              "  </tbody>\n",
              "</table>\n",
              "</div>"
            ],
            "text/plain": [
              "              dateTime       use\n",
              "0  2016-01-01 00:00:00  2.108533\n",
              "1  2016-01-01 01:00:00  1.852600\n",
              "2  2016-01-01 02:00:00  1.988000\n",
              "3  2016-01-01 03:00:00  1.993267\n",
              "4  2016-01-01 04:00:00  1.781533"
            ]
          },
          "execution_count": 46,
          "metadata": {},
          "output_type": "execute_result"
        }
      ],
      "source": [
        "df.head()"
      ]
    },
    {
      "cell_type": "code",
      "execution_count": null,
      "id": "88ccd045",
      "metadata": {
        "id": "88ccd045",
        "outputId": "ba1a0d6c-80e6-4384-91a6-df2d50f9ff3c"
      },
      "outputs": [
        {
          "data": {
            "text/html": [
              "<div>\n",
              "<style scoped>\n",
              "    .dataframe tbody tr th:only-of-type {\n",
              "        vertical-align: middle;\n",
              "    }\n",
              "\n",
              "    .dataframe tbody tr th {\n",
              "        vertical-align: top;\n",
              "    }\n",
              "\n",
              "    .dataframe thead th {\n",
              "        text-align: right;\n",
              "    }\n",
              "</style>\n",
              "<table border=\"1\" class=\"dataframe\">\n",
              "  <thead>\n",
              "    <tr style=\"text-align: right;\">\n",
              "      <th></th>\n",
              "      <th>dateTime</th>\n",
              "      <th>use</th>\n",
              "    </tr>\n",
              "  </thead>\n",
              "  <tbody>\n",
              "    <tr>\n",
              "      <th>8779</th>\n",
              "      <td>2016-12-31 19:00:00</td>\n",
              "      <td>12.455867</td>\n",
              "    </tr>\n",
              "    <tr>\n",
              "      <th>8780</th>\n",
              "      <td>2016-12-31 20:00:00</td>\n",
              "      <td>21.469133</td>\n",
              "    </tr>\n",
              "    <tr>\n",
              "      <th>8781</th>\n",
              "      <td>2016-12-31 21:00:00</td>\n",
              "      <td>10.920000</td>\n",
              "    </tr>\n",
              "    <tr>\n",
              "      <th>8782</th>\n",
              "      <td>2016-12-31 22:00:00</td>\n",
              "      <td>13.135600</td>\n",
              "    </tr>\n",
              "    <tr>\n",
              "      <th>8783</th>\n",
              "      <td>2016-12-31 23:00:00</td>\n",
              "      <td>9.111867</td>\n",
              "    </tr>\n",
              "  </tbody>\n",
              "</table>\n",
              "</div>"
            ],
            "text/plain": [
              "                 dateTime        use\n",
              "8779  2016-12-31 19:00:00  12.455867\n",
              "8780  2016-12-31 20:00:00  21.469133\n",
              "8781  2016-12-31 21:00:00  10.920000\n",
              "8782  2016-12-31 22:00:00  13.135600\n",
              "8783  2016-12-31 23:00:00   9.111867"
            ]
          },
          "execution_count": 47,
          "metadata": {},
          "output_type": "execute_result"
        }
      ],
      "source": [
        "df.tail()"
      ]
    },
    {
      "cell_type": "code",
      "execution_count": null,
      "id": "c0047e00",
      "metadata": {
        "id": "c0047e00",
        "outputId": "3a6f6221-50fa-403d-9c9e-b075c2c802ae"
      },
      "outputs": [
        {
          "data": {
            "text/plain": [
              "(8784, 2)"
            ]
          },
          "execution_count": 48,
          "metadata": {},
          "output_type": "execute_result"
        }
      ],
      "source": [
        "df.shape"
      ]
    },
    {
      "cell_type": "code",
      "execution_count": null,
      "id": "8bfb8e91",
      "metadata": {
        "id": "8bfb8e91"
      },
      "outputs": [],
      "source": [
        "columns = df.columns"
      ]
    },
    {
      "cell_type": "code",
      "execution_count": null,
      "id": "be13ff32",
      "metadata": {
        "id": "be13ff32",
        "outputId": "78c4443e-7ff7-4e71-b0ec-1eb120b207a6"
      },
      "outputs": [
        {
          "data": {
            "text/plain": [
              "Index(['dateTime', 'use'], dtype='object')"
            ]
          },
          "execution_count": 50,
          "metadata": {},
          "output_type": "execute_result"
        }
      ],
      "source": [
        "columns"
      ]
    },
    {
      "cell_type": "code",
      "execution_count": null,
      "id": "4ee12f65",
      "metadata": {
        "id": "4ee12f65",
        "outputId": "08fe6e6e-d744-4e67-e139-99dde708822f"
      },
      "outputs": [
        {
          "data": {
            "text/plain": [
              "(8784, 2)"
            ]
          },
          "execution_count": 51,
          "metadata": {},
          "output_type": "execute_result"
        }
      ],
      "source": [
        "df.shape"
      ]
    },
    {
      "cell_type": "code",
      "execution_count": null,
      "id": "9a752114",
      "metadata": {
        "id": "9a752114",
        "outputId": "bea0b45a-b13a-44e3-8b79-a1ca347b4eec"
      },
      "outputs": [
        {
          "data": {
            "text/plain": [
              "[<matplotlib.lines.Line2D at 0x7fbb5ff4b160>]"
            ]
          },
          "execution_count": 52,
          "metadata": {},
          "output_type": "execute_result"
        },
        {
          "data": {
            "image/png": "[encoded data removed]",
            "text/plain": [
              "<Figure size 640x480 with 1 Axes>"
            ]
          },
          "metadata": {},
          "output_type": "display_data"
        }
      ],
      "source": [
        "plt.plot(df['use'][0:100])"
      ]
    },
    {
      "cell_type": "code",
      "execution_count": null,
      "id": "5bffec26",
      "metadata": {
        "id": "5bffec26"
      },
      "outputs": [],
      "source": [
        "columns_to_name = ['datetime','price']"
      ]
    },
    {
      "cell_type": "code",
      "execution_count": null,
      "id": "5a668ac2",
      "metadata": {
        "id": "5a668ac2"
      },
      "outputs": [],
      "source": [
        "df.columns = columns_to_name"
      ]
    },
    {
      "cell_type": "code",
      "execution_count": null,
      "id": "33e8231b",
      "metadata": {
        "id": "33e8231b",
        "outputId": "8666ab33-3e59-48fa-d2f8-4c7bad4cac99"
      },
      "outputs": [
        {
          "data": {
            "text/html": [
              "<div>\n",
              "<style scoped>\n",
              "    .dataframe tbody tr th:only-of-type {\n",
              "        vertical-align: middle;\n",
              "    }\n",
              "\n",
              "    .dataframe tbody tr th {\n",
              "        vertical-align: top;\n",
              "    }\n",
              "\n",
              "    .dataframe thead th {\n",
              "        text-align: right;\n",
              "    }\n",
              "</style>\n",
              "<table border=\"1\" class=\"dataframe\">\n",
              "  <thead>\n",
              "    <tr style=\"text-align: right;\">\n",
              "      <th></th>\n",
              "      <th>datetime</th>\n",
              "      <th>price</th>\n",
              "    </tr>\n",
              "  </thead>\n",
              "  <tbody>\n",
              "  </tbody>\n",
              "</table>\n",
              "</div>"
            ],
            "text/plain": [
              "Empty DataFrame\n",
              "Columns: [datetime, price]\n",
              "Index: []"
            ]
          },
          "execution_count": 55,
          "metadata": {},
          "output_type": "execute_result"
        }
      ],
      "source": [
        "df[df.datetime.isnull()==True]#greatest dataset ever no null values"
      ]
    },
    {
      "cell_type": "code",
      "execution_count": null,
      "id": "250096f4",
      "metadata": {
        "id": "250096f4",
        "outputId": "44601018-0411-476a-b91a-1ff901b24309"
      },
      "outputs": [
        {
          "data": {
            "text/plain": [
              "0        2.108533\n",
              "1        1.852600\n",
              "2        1.988000\n",
              "3        1.993267\n",
              "4        1.781533\n",
              "          ...    \n",
              "8779    12.455867\n",
              "8780    21.469133\n",
              "8781    10.920000\n",
              "8782    13.135600\n",
              "8783     9.111867\n",
              "Name: price, Length: 8784, dtype: float64"
            ]
          },
          "execution_count": 56,
          "metadata": {},
          "output_type": "execute_result"
        }
      ],
      "source": [
        "df = df.price\n",
        "df"
      ]
    },
    {
      "cell_type": "code",
      "execution_count": null,
      "id": "40cd4359",
      "metadata": {
        "id": "40cd4359",
        "outputId": "eb30314b-2823-4bc5-d8c3-c04e8683dc42"
      },
      "outputs": [
        {
          "data": {
            "text/plain": [
              "[<matplotlib.lines.Line2D at 0x7fbb5ff19700>]"
            ]
          },
          "execution_count": 57,
          "metadata": {},
          "output_type": "execute_result"
        },
        {
          "data": {
            "image/png": "[encoded data removed]",
            "text/plain": [
              "<Figure size 640x480 with 1 Axes>"
            ]
          },
          "metadata": {},
          "output_type": "display_data"
        }
      ],
      "source": [
        "plt.plot(df)"
      ]
    },
    {
      "cell_type": "code",
      "execution_count": null,
      "id": "6a83e121",
      "metadata": {
        "id": "6a83e121"
      },
      "outputs": [],
      "source": []
    },
    {
      "cell_type": "code",
      "execution_count": null,
      "id": "5ce1618b",
      "metadata": {
        "id": "5ce1618b"
      },
      "outputs": [],
      "source": []
    },
    {
      "cell_type": "code",
      "execution_count": null,
      "id": "733c35b4",
      "metadata": {
        "id": "733c35b4"
      },
      "outputs": [],
      "source": [
        "##scaling the data\n",
        "scaler=MinMaxScaler(feature_range=(0,1))\n",
        "df1=scaler.fit_transform(np.array(df).reshape(-1,1))"
      ]
    },
    {
      "cell_type": "code",
      "execution_count": null,
      "id": "b8897546",
      "metadata": {
        "id": "b8897546",
        "outputId": "9f8b2761-54ad-45a4-f1d5-25527ba01bc4"
      },
      "outputs": [
        {
          "data": {
            "text/plain": [
              "array([[0.07059223],\n",
              "       [0.06202376],\n",
              "       [0.06655685],\n",
              "       ...,\n",
              "       [0.36559399],\n",
              "       [0.43977073],\n",
              "       [0.30505895]])"
            ]
          },
          "execution_count": 59,
          "metadata": {},
          "output_type": "execute_result"
        }
      ],
      "source": [
        "df1"
      ]
    },
    {
      "cell_type": "code",
      "execution_count": null,
      "id": "e6a4a2b9",
      "metadata": {
        "id": "e6a4a2b9"
      },
      "outputs": [],
      "source": [
        "total_size = len(df1)\n",
        "training_size = int(total_size * 0.9)\n",
        "valid_size = int(total_size * 0)\n",
        "test_size = total_size - training_size - valid_size\n",
        "\n",
        "train_data = df1[0:training_size,:]\n",
        "valid_data = df1[training_size:training_size+valid_size,:]\n",
        "test_data = df1[training_size+valid_size : ,:]"
      ]
    },
    {
      "cell_type": "code",
      "execution_count": null,
      "id": "c4cf0e24",
      "metadata": {
        "id": "c4cf0e24",
        "outputId": "37839440-9cac-47db-aaf8-0c79f39a446d"
      },
      "outputs": [
        {
          "data": {
            "text/plain": [
              "(7905, 1)"
            ]
          },
          "execution_count": 61,
          "metadata": {},
          "output_type": "execute_result"
        }
      ],
      "source": [
        "train_data.shape"
      ]
    },
    {
      "cell_type": "code",
      "execution_count": null,
      "id": "cb60a5c2",
      "metadata": {
        "id": "cb60a5c2",
        "outputId": "01685862-4451-4185-c212-0fec2292f7ba"
      },
      "outputs": [
        {
          "data": {
            "text/plain": [
              "(0, 1)"
            ]
          },
          "execution_count": 62,
          "metadata": {},
          "output_type": "execute_result"
        }
      ],
      "source": [
        "valid_data.shape"
      ]
    },
    {
      "cell_type": "code",
      "execution_count": null,
      "id": "e75fadc4",
      "metadata": {
        "id": "e75fadc4",
        "outputId": "d7f5fc42-7438-4484-fcbb-cb06a62db556"
      },
      "outputs": [
        {
          "data": {
            "text/plain": [
              "(879, 1)"
            ]
          },
          "execution_count": 63,
          "metadata": {},
          "output_type": "execute_result"
        }
      ],
      "source": [
        "test_data.shape"
      ]
    },
    {
      "cell_type": "code",
      "execution_count": null,
      "id": "50f4d2bd",
      "metadata": {
        "id": "50f4d2bd"
      },
      "outputs": [],
      "source": [
        "# convert an array of values into a dataset matrix\n",
        "def create_dataset(dataset, time_step=None):\n",
        "    dataX, dataY = [], []\n",
        "    for i in range(len(dataset)-time_step-1):\n",
        "        a = dataset[i:(i+time_step), 0]   ###i=0, 0,1,2,3-----23   24\n",
        "        dataX.append(a)\n",
        "        dataY.append(dataset[i + time_step, 0])\n",
        "    return np.array(dataX), np.array(dataY)"
      ]
    },
    {
      "cell_type": "code",
      "execution_count": null,
      "id": "dd68e07f",
      "metadata": {
        "id": "dd68e07f"
      },
      "outputs": [],
      "source": [
        "time_step = 24\n",
        "X_train, y_train = create_dataset(train_data, time_step)\n",
        "X_val, y_val = create_dataset(valid_data, time_step)\n",
        "X_test, y_test = create_dataset(test_data, time_step)"
      ]
    },
    {
      "cell_type": "code",
      "execution_count": null,
      "id": "bf66dbe5",
      "metadata": {
        "id": "bf66dbe5",
        "outputId": "a322dc26-7c58-4e1a-a35f-dbe6a322ead1"
      },
      "outputs": [
        {
          "name": "stdout",
          "output_type": "stream",
          "text": [
            "(7880, 24)\n",
            "(7880,)\n"
          ]
        },
        {
          "data": {
            "text/plain": [
              "(None, None)"
            ]
          },
          "execution_count": 66,
          "metadata": {},
          "output_type": "execute_result"
        }
      ],
      "source": [
        "print(X_train.shape), print(y_train.shape)"
      ]
    },
    {
      "cell_type": "code",
      "execution_count": null,
      "id": "6009c9a7",
      "metadata": {
        "id": "6009c9a7"
      },
      "outputs": [],
      "source": [
        "# reshape input to be [samples, time steps, features] which is required for LSTM\n",
        "X_train =X_train.reshape(X_train.shape[0],X_train.shape[1] , 1)\n",
        "#X_val = X_val.reshape(X_val.shape[0],X_val.shape[1] , 1)\n",
        "X_test = X_test.reshape(X_test.shape[0],X_test.shape[1] , 1)"
      ]
    },
    {
      "cell_type": "code",
      "execution_count": null,
      "id": "fa8cb855",
      "metadata": {
        "id": "fa8cb855"
      },
      "outputs": [],
      "source": [
        "from tensorflow.keras.layers import GRU, Dense\n",
        "\n",
        "model = Sequential()\n",
        "model.add(GRU(50, return_sequences=True, input_shape=(24, 1)))\n",
        "model.add(GRU(100, return_sequences=True))\n",
        "model.add(GRU(100, return_sequences=True))\n",
        "model.add(GRU(50))\n",
        "model.add(Dense(1))\n",
        "model.compile(loss='mean_squared_error', optimizer='adam')\n",
        "\n",
        "\n",
        "\n"
      ]
    },
    {
      "cell_type": "code",
      "execution_count": null,
      "id": "31a53b50",
      "metadata": {
        "id": "31a53b50",
        "outputId": "36aba531-b024-4495-eab6-a046bd83b507"
      },
      "outputs": [
        {
          "name": "stdout",
          "output_type": "stream",
          "text": [
            "Model: \"sequential_1\"\n",
            "_________________________________________________________________\n",
            " Layer (type)                Output Shape              Param #   \n",
            "=================================================================\n",
            " gru_4 (GRU)                 (None, 24, 50)            7950      \n",
            "                                                                 \n",
            " gru_5 (GRU)                 (None, 24, 100)           45600     \n",
            "                                                                 \n",
            " gru_6 (GRU)                 (None, 24, 100)           60600     \n",
            "                                                                 \n",
            " gru_7 (GRU)                 (None, 50)                22800     \n",
            "                                                                 \n",
            " dense_1 (Dense)             (None, 1)                 51        \n",
            "                                                                 \n",
            "=================================================================\n",
            "Total params: 137,001\n",
            "Trainable params: 137,001\n",
            "Non-trainable params: 0\n",
            "_________________________________________________________________\n"
          ]
        }
      ],
      "source": [
        "model.summary()"
      ]
    },
    {
      "cell_type": "code",
      "execution_count": null,
      "id": "04f95c69",
      "metadata": {
        "id": "04f95c69",
        "outputId": "8e797c67-aab3-4412-864f-754c64860a3d"
      },
      "outputs": [
        {
          "name": "stdout",
          "output_type": "stream",
          "text": [
            "Epoch 1/100\n",
            "158/158 [==============================] - 4s 10ms/step - loss: 0.0163\n",
            "Epoch 2/100\n",
            "158/158 [==============================] - 2s 10ms/step - loss: 0.0127\n",
            "Epoch 3/100\n",
            "158/158 [==============================] - 1s 8ms/step - loss: 0.0121\n",
            "Epoch 4/100\n",
            "158/158 [==============================] - 2s 10ms/step - loss: 0.0114\n",
            "Epoch 5/100\n",
            "158/158 [==============================] - 2s 11ms/step - loss: 0.0109\n",
            "Epoch 6/100\n",
            "158/158 [==============================] - 2s 10ms/step - loss: 0.0110\n",
            "Epoch 7/100\n",
            "158/158 [==============================] - 2s 10ms/step - loss: 0.0109\n",
            "Epoch 8/100\n",
            "158/158 [==============================] - 1s 9ms/step - loss: 0.0107\n",
            "Epoch 9/100\n",
            "158/158 [==============================] - 2s 11ms/step - loss: 0.0106\n",
            "Epoch 10/100\n",
            "158/158 [==============================] - 2s 10ms/step - loss: 0.0105\n",
            "Epoch 11/100\n",
            "158/158 [==============================] - 2s 10ms/step - loss: 0.0105\n",
            "Epoch 12/100\n",
            "158/158 [==============================] - 1s 8ms/step - loss: 0.0106\n",
            "Epoch 13/100\n",
            "158/158 [==============================] - 1s 8ms/step - loss: 0.0104\n",
            "Epoch 14/100\n",
            "158/158 [==============================] - 1s 9ms/step - loss: 0.0106\n",
            "Epoch 15/100\n",
            "158/158 [==============================] - 1s 7ms/step - loss: 0.0103\n",
            "Epoch 16/100\n",
            "158/158 [==============================] - 1s 5ms/step - loss: 0.0104\n",
            "Epoch 17/100\n",
            "158/158 [==============================] - 1s 7ms/step - loss: 0.0104\n",
            "Epoch 18/100\n",
            "158/158 [==============================] - 2s 10ms/step - loss: 0.0102\n",
            "Epoch 19/100\n",
            "158/158 [==============================] - 1s 9ms/step - loss: 0.0103\n",
            "Epoch 20/100\n",
            "158/158 [==============================] - 1s 9ms/step - loss: 0.0102\n",
            "Epoch 21/100\n",
            "158/158 [==============================] - 2s 11ms/step - loss: 0.0102\n",
            "Epoch 22/100\n",
            "158/158 [==============================] - 2s 11ms/step - loss: 0.0102\n",
            "Epoch 23/100\n",
            "158/158 [==============================] - 2s 11ms/step - loss: 0.0102\n",
            "Epoch 24/100\n",
            "158/158 [==============================] - 2s 10ms/step - loss: 0.0102\n",
            "Epoch 25/100\n",
            "158/158 [==============================] - 2s 10ms/step - loss: 0.0101\n",
            "Epoch 26/100\n",
            "158/158 [==============================] - 2s 10ms/step - loss: 0.0101\n",
            "Epoch 27/100\n",
            "158/158 [==============================] - 2s 11ms/step - loss: 0.0101\n",
            "Epoch 28/100\n",
            "158/158 [==============================] - 2s 11ms/step - loss: 0.0100\n",
            "Epoch 29/100\n",
            "158/158 [==============================] - 2s 10ms/step - loss: 0.0099\n",
            "Epoch 30/100\n",
            "158/158 [==============================] - 2s 11ms/step - loss: 0.0099\n",
            "Epoch 31/100\n",
            "158/158 [==============================] - 2s 11ms/step - loss: 0.0100\n",
            "Epoch 32/100\n",
            "158/158 [==============================] - 2s 10ms/step - loss: 0.0099\n",
            "Epoch 33/100\n",
            "158/158 [==============================] - 1s 9ms/step - loss: 0.0099\n",
            "Epoch 34/100\n",
            "158/158 [==============================] - 2s 11ms/step - loss: 0.0098\n",
            "Epoch 35/100\n",
            "158/158 [==============================] - 2s 11ms/step - loss: 0.0098\n",
            "Epoch 36/100\n",
            "158/158 [==============================] - 2s 10ms/step - loss: 0.0098\n",
            "Epoch 37/100\n",
            "158/158 [==============================] - 2s 10ms/step - loss: 0.0096\n",
            "Epoch 38/100\n",
            "158/158 [==============================] - 2s 10ms/step - loss: 0.0096\n",
            "Epoch 39/100\n",
            "158/158 [==============================] - 1s 9ms/step - loss: 0.0096\n",
            "Epoch 40/100\n",
            "158/158 [==============================] - 2s 11ms/step - loss: 0.0095\n",
            "Epoch 41/100\n",
            "158/158 [==============================] - 2s 10ms/step - loss: 0.0094\n",
            "Epoch 42/100\n",
            "158/158 [==============================] - 2s 11ms/step - loss: 0.0095\n",
            "Epoch 43/100\n",
            "158/158 [==============================] - 2s 11ms/step - loss: 0.0096\n",
            "Epoch 44/100\n",
            "158/158 [==============================] - 2s 11ms/step - loss: 0.0093\n",
            "Epoch 45/100\n",
            "158/158 [==============================] - 2s 11ms/step - loss: 0.0093\n",
            "Epoch 46/100\n",
            "158/158 [==============================] - 2s 10ms/step - loss: 0.0092\n",
            "Epoch 47/100\n",
            "158/158 [==============================] - 1s 6ms/step - loss: 0.0092\n",
            "Epoch 48/100\n",
            "158/158 [==============================] - 2s 10ms/step - loss: 0.0090\n",
            "Epoch 49/100\n",
            "158/158 [==============================] - 1s 5ms/step - loss: 0.0089\n",
            "Epoch 50/100\n",
            "158/158 [==============================] - 1s 9ms/step - loss: 0.0089\n",
            "Epoch 51/100\n",
            "158/158 [==============================] - 1s 9ms/step - loss: 0.0089\n",
            "Epoch 52/100\n",
            "158/158 [==============================] - 1s 8ms/step - loss: 0.0087\n",
            "Epoch 53/100\n",
            "158/158 [==============================] - 2s 10ms/step - loss: 0.0086\n",
            "Epoch 54/100\n",
            "158/158 [==============================] - 2s 10ms/step - loss: 0.0085\n",
            "Epoch 55/100\n",
            "158/158 [==============================] - 2s 11ms/step - loss: 0.0083\n",
            "Epoch 56/100\n",
            "158/158 [==============================] - 2s 11ms/step - loss: 0.0081\n",
            "Epoch 57/100\n",
            "158/158 [==============================] - 2s 11ms/step - loss: 0.0081\n",
            "Epoch 58/100\n",
            "158/158 [==============================] - 2s 11ms/step - loss: 0.0082\n",
            "Epoch 59/100\n",
            "158/158 [==============================] - 2s 11ms/step - loss: 0.0078\n",
            "Epoch 60/100\n",
            "158/158 [==============================] - 1s 9ms/step - loss: 0.0076\n",
            "Epoch 61/100\n",
            "158/158 [==============================] - 2s 10ms/step - loss: 0.0075\n",
            "Epoch 62/100\n",
            "158/158 [==============================] - 2s 11ms/step - loss: 0.0073\n",
            "Epoch 63/100\n",
            "158/158 [==============================] - 2s 10ms/step - loss: 0.0072\n",
            "Epoch 64/100\n",
            "158/158 [==============================] - 1s 7ms/step - loss: 0.0068\n",
            "Epoch 65/100\n",
            "158/158 [==============================] - 1s 6ms/step - loss: 0.0066\n",
            "Epoch 66/100\n",
            "158/158 [==============================] - 1s 6ms/step - loss: 0.0064\n",
            "Epoch 67/100\n",
            "158/158 [==============================] - 1s 7ms/step - loss: 0.0060\n",
            "Epoch 68/100\n",
            "158/158 [==============================] - 1s 7ms/step - loss: 0.0057\n",
            "Epoch 69/100\n",
            "158/158 [==============================] - 1s 6ms/step - loss: 0.0055\n",
            "Epoch 70/100\n",
            "158/158 [==============================] - 1s 7ms/step - loss: 0.0054\n",
            "Epoch 71/100\n",
            "158/158 [==============================] - 1s 6ms/step - loss: 0.0050\n",
            "Epoch 72/100\n",
            "158/158 [==============================] - 1s 7ms/step - loss: 0.0047\n",
            "Epoch 73/100\n",
            "158/158 [==============================] - 1s 7ms/step - loss: 0.0045\n",
            "Epoch 74/100\n",
            "158/158 [==============================] - 1s 7ms/step - loss: 0.0042\n",
            "Epoch 75/100\n",
            "158/158 [==============================] - 1s 7ms/step - loss: 0.0039\n",
            "Epoch 76/100\n",
            "158/158 [==============================] - 1s 7ms/step - loss: 0.0036\n",
            "Epoch 77/100\n",
            "158/158 [==============================] - 1s 7ms/step - loss: 0.0035\n",
            "Epoch 78/100\n",
            "158/158 [==============================] - 1s 6ms/step - loss: 0.0033\n",
            "Epoch 79/100\n",
            "158/158 [==============================] - 1s 7ms/step - loss: 0.0030\n",
            "Epoch 80/100\n",
            "158/158 [==============================] - 1s 6ms/step - loss: 0.0029\n",
            "Epoch 81/100\n",
            "158/158 [==============================] - 1s 7ms/step - loss: 0.0027\n",
            "Epoch 82/100\n",
            "158/158 [==============================] - 1s 7ms/step - loss: 0.0025\n",
            "Epoch 83/100\n",
            "158/158 [==============================] - 1s 7ms/step - loss: 0.0024\n",
            "Epoch 84/100\n",
            "158/158 [==============================] - 1s 7ms/step - loss: 0.0022\n",
            "Epoch 85/100\n",
            "158/158 [==============================] - 1s 7ms/step - loss: 0.0020\n",
            "Epoch 86/100\n",
            "158/158 [==============================] - 1s 7ms/step - loss: 0.0019\n",
            "Epoch 87/100\n",
            "158/158 [==============================] - 1s 7ms/step - loss: 0.0017\n",
            "Epoch 88/100\n",
            "158/158 [==============================] - 1s 6ms/step - loss: 0.0017\n",
            "Epoch 89/100\n",
            "158/158 [==============================] - 1s 7ms/step - loss: 0.0016\n",
            "Epoch 90/100\n",
            "158/158 [==============================] - 1s 6ms/step - loss: 0.0017\n",
            "Epoch 91/100\n",
            "158/158 [==============================] - 1s 7ms/step - loss: 0.0015\n",
            "Epoch 92/100\n",
            "158/158 [==============================] - 1s 6ms/step - loss: 0.0014\n",
            "Epoch 93/100\n",
            "158/158 [==============================] - 1s 7ms/step - loss: 0.0013\n",
            "Epoch 94/100\n",
            "158/158 [==============================] - 1s 7ms/step - loss: 0.0013\n",
            "Epoch 95/100\n",
            "158/158 [==============================] - 1s 6ms/step - loss: 0.0011\n",
            "Epoch 96/100\n",
            "158/158 [==============================] - 1s 6ms/step - loss: 0.0010\n",
            "Epoch 97/100\n",
            "158/158 [==============================] - 1s 6ms/step - loss: 0.0010\n",
            "Epoch 98/100\n",
            "158/158 [==============================] - 1s 7ms/step - loss: 9.5557e-04\n",
            "Epoch 99/100\n"
          ]
        },
        {
          "name": "stdout",
          "output_type": "stream",
          "text": [
            "158/158 [==============================] - 1s 7ms/step - loss: 8.9930e-04\n",
            "Epoch 100/100\n",
            "158/158 [==============================] - 1s 6ms/step - loss: 8.1932e-04\n"
          ]
        },
        {
          "data": {
            "text/plain": [
              "<keras.callbacks.History at 0x7fbb5fdca130>"
            ]
          },
          "execution_count": 70,
          "metadata": {},
          "output_type": "execute_result"
        }
      ],
      "source": [
        "model.fit(X_train,y_train,validation_data=(X_val,y_val),epochs=100,batch_size=50,verbose=1)"
      ]
    },
    {
      "cell_type": "code",
      "execution_count": null,
      "id": "5d3ef6c1",
      "metadata": {
        "id": "5d3ef6c1"
      },
      "outputs": [],
      "source": [
        "### Lets Do the prediction and check performance metrics\n",
        "train_predict=model.predict(X_train)\n",
        "#val_predict=model.predict(X_val)\n",
        "test_predict = model.predict(X_test)"
      ]
    },
    {
      "cell_type": "code",
      "execution_count": null,
      "id": "319d904d",
      "metadata": {
        "id": "319d904d"
      },
      "outputs": [],
      "source": [
        "##Transform back to original form\n",
        "train_predict=scaler.inverse_transform(train_predict)\n",
        "#val_predict=scaler.inverse_transform(val_predict)\n",
        "test_predict = scaler.inverse_transform(test_predict)"
      ]
    },
    {
      "cell_type": "code",
      "execution_count": null,
      "id": "49a5108e",
      "metadata": {
        "id": "49a5108e",
        "outputId": "f8f95d62-0faa-4de2-e084-3fd63606653e"
      },
      "outputs": [
        {
          "data": {
            "text/plain": [
              "((7880, 1), (7880,))"
            ]
          },
          "execution_count": 73,
          "metadata": {},
          "output_type": "execute_result"
        }
      ],
      "source": [
        "train_predict.shape, y_train.shape\n"
      ]
    },
    {
      "cell_type": "code",
      "execution_count": null,
      "id": "910d369e",
      "metadata": {
        "id": "910d369e"
      },
      "outputs": [],
      "source": [
        "import math\n",
        "from sklearn.metrics import mean_squared_error"
      ]
    },
    {
      "cell_type": "code",
      "execution_count": null,
      "id": "ea137fd5",
      "metadata": {
        "id": "ea137fd5",
        "outputId": "fc4e1215-55b4-4381-ada0-d3dd5d60399f"
      },
      "outputs": [
        {
          "data": {
            "text/plain": [
              "0.8091694811189314"
            ]
          },
          "execution_count": 75,
          "metadata": {},
          "output_type": "execute_result"
        }
      ],
      "source": [
        "math.sqrt(mean_squared_error(scaler.inverse_transform(y_train.reshape(-1,1)),train_predict))"
      ]
    },
    {
      "cell_type": "code",
      "execution_count": null,
      "id": "2b4ef2cc",
      "metadata": {
        "id": "2b4ef2cc"
      },
      "outputs": [],
      "source": [
        "#math.sqrt(mean_squared_error(scaler.inverse_transform(y_val.reshape(-1,1)),val_predict))"
      ]
    },
    {
      "cell_type": "code",
      "execution_count": null,
      "id": "2d4d4812",
      "metadata": {
        "id": "2d4d4812",
        "outputId": "bbcaaac2-dc74-4264-9137-4c0e5171b138"
      },
      "outputs": [
        {
          "data": {
            "text/plain": [
              "2.6559081976050978"
            ]
          },
          "execution_count": 77,
          "metadata": {},
          "output_type": "execute_result"
        }
      ],
      "source": [
        "math.sqrt(mean_squared_error(scaler.inverse_transform(y_test.reshape(-1,1)),test_predict))"
      ]
    },
    {
      "cell_type": "code",
      "execution_count": null,
      "id": "4d1ade5f",
      "metadata": {
        "id": "4d1ade5f",
        "outputId": "49cee8ce-bebb-4e26-ad8c-ef982b06768e"
      },
      "outputs": [
        {
          "data": {
            "text/plain": [
              "(854, 1)"
            ]
          },
          "execution_count": 78,
          "metadata": {},
          "output_type": "execute_result"
        }
      ],
      "source": [
        "test_predict.shape"
      ]
    },
    {
      "cell_type": "code",
      "execution_count": null,
      "id": "4daa3c89",
      "metadata": {
        "id": "4daa3c89",
        "outputId": "d9b4c4f3-45a2-4a5a-a06e-c14bf93f34ec"
      },
      "outputs": [
        {
          "data": {
            "text/plain": [
              "[<matplotlib.lines.Line2D at 0x7fb9d067fdc0>]"
            ]
          },
          "execution_count": 79,
          "metadata": {},
          "output_type": "execute_result"
        },
        {
          "data": {
            "image/png": "[encoded data removed]",
            "text/plain": [
              "<Figure size 640x480 with 1 Axes>"
            ]
          },
          "metadata": {},
          "output_type": "display_data"
        }
      ],
      "source": [
        "plt.plot(train_predict)\n",
        "plt.plot(scaler.inverse_transform(train_data))\n"
      ]
    },
    {
      "cell_type": "code",
      "execution_count": null,
      "id": "7959991a",
      "metadata": {
        "id": "7959991a",
        "outputId": "381302a0-370e-462e-b5fa-6aa573ad2ae1"
      },
      "outputs": [
        {
          "data": {
            "text/plain": [
              "[<matplotlib.lines.Line2D at 0x7fb9d0657040>]"
            ]
          },
          "execution_count": 80,
          "metadata": {},
          "output_type": "execute_result"
        },
        {
          "data": {
            "image/png": "[encoded data removed]",
            "text/plain": [
              "<Figure size 640x480 with 1 Axes>"
            ]
          },
          "metadata": {},
          "output_type": "display_data"
        }
      ],
      "source": [
        "plt.plot(scaler.inverse_transform(test_data[:100]))"
      ]
    },
    {
      "cell_type": "code",
      "execution_count": null,
      "id": "0f30472f",
      "metadata": {
        "id": "0f30472f",
        "outputId": "c4267e39-9373-492c-a62f-042e0f80b035"
      },
      "outputs": [
        {
          "data": {
            "image/png": "[encoded data removed]",
            "text/plain": [
              "<Figure size 640x480 with 1 Axes>"
            ]
          },
          "metadata": {},
          "output_type": "display_data"
        }
      ],
      "source": [
        "### Plotting\n",
        "# # shift train predictions for plotting\n",
        "look_back=time_step\n",
        "trainPredictPlot = np.empty_like(df1)\n",
        "trainPredictPlot[:, :] = np.nan\n",
        "trainPredictPlot[look_back:len(train_predict)+look_back, :] = train_predict\n",
        "\n",
        "# shift validation predictions for plotting\n",
        "#validPredictPlot = np.empty_like(df1)\n",
        "#validPredictPlot[:, :] = np.nan\n",
        "#validPredictPlot[len(train_predict)+(look_back*2)+1:training_size+valid_size-1, :] = val_predict\n",
        "\n",
        "# shift test predictions for plotting\n",
        "testPredictPlot = np.empty_like(df1)\n",
        "testPredictPlot[:, :] = np.nan\n",
        "testPredictPlot[len(train_predict)+(look_back*2)+valid_size+1:len(df1)-1, :] = test_predict\n",
        "\n",
        "# plot baseline and predictions\n",
        "plt.plot(scaler.inverse_transform(df1))\n",
        "plt.plot(trainPredictPlot)\n",
        "#plt.plot(validPredictPlot)\n",
        "plt.plot(testPredictPlot)\n",
        "plt.show()"
      ]
    },
    {
      "cell_type": "code",
      "execution_count": null,
      "id": "cab12742",
      "metadata": {
        "id": "cab12742",
        "outputId": "ac9dcb24-ca28-4794-ecf5-76b3595fdaee"
      },
      "outputs": [
        {
          "data": {
            "text/plain": [
              "879"
            ]
          },
          "execution_count": 82,
          "metadata": {},
          "output_type": "execute_result"
        }
      ],
      "source": [
        "len(test_data)"
      ]
    },
    {
      "cell_type": "code",
      "execution_count": null,
      "id": "7911ed0f",
      "metadata": {
        "id": "7911ed0f",
        "outputId": "532003fd-d8cc-4170-8561-32b066413529"
      },
      "outputs": [
        {
          "data": {
            "text/plain": [
              "(1, 24)"
            ]
          },
          "execution_count": 83,
          "metadata": {},
          "output_type": "execute_result"
        }
      ],
      "source": [
        "x_input=test_data[879-24:].reshape(1,-1)\n",
        "x_input.shape"
      ]
    },
    {
      "cell_type": "code",
      "execution_count": null,
      "id": "8297d13d",
      "metadata": {
        "id": "8297d13d"
      },
      "outputs": [],
      "source": [
        "temp_input=list(x_input)\n",
        "temp_input=temp_input[0].tolist()"
      ]
    },
    {
      "cell_type": "code",
      "execution_count": null,
      "id": "556a8ee5",
      "metadata": {
        "id": "556a8ee5",
        "outputId": "5d5891f6-ca90-4081-dab8-2d3ba93c2245"
      },
      "outputs": [
        {
          "name": "stdout",
          "output_type": "stream",
          "text": [
            "[0.36413446]\n",
            "25\n",
            "1 hour input [0.11634058 0.10107178 0.10887246 0.10146684 0.09371973 0.10545534\n",
            " 0.09424647 0.09190515 0.11402604 0.11955013 0.11320468 0.11254179\n",
            " 0.11347252 0.15846647 0.1618635  0.31317433 0.8217986  0.50907959\n",
            " 0.41701374 0.71877162 0.36559399 0.43977073 0.30505895 0.36413446]\n",
            "1 hour output [[0.22056973]]\n",
            "2 hour input [0.10107178 0.10887246 0.10146684 0.09371973 0.10545534 0.09424647\n",
            " 0.09190515 0.11402604 0.11955013 0.11320468 0.11254179 0.11347252\n",
            " 0.15846647 0.1618635  0.31317433 0.8217986  0.50907959 0.41701374\n",
            " 0.71877162 0.36559399 0.43977073 0.30505895 0.36413446 0.22056973]\n",
            "2 hour output [[0.18392114]]\n",
            "3 hour input [0.10887246 0.10146684 0.09371973 0.10545534 0.09424647 0.09190515\n",
            " 0.11402604 0.11955013 0.11320468 0.11254179 0.11347252 0.15846647\n",
            " 0.1618635  0.31317433 0.8217986  0.50907959 0.41701374 0.71877162\n",
            " 0.36559399 0.43977073 0.30505895 0.36413446 0.22056973 0.18392114]\n",
            "3 hour output [[0.18116404]]\n",
            "4 hour input [0.10146684 0.09371973 0.10545534 0.09424647 0.09190515 0.11402604\n",
            " 0.11955013 0.11320468 0.11254179 0.11347252 0.15846647 0.1618635\n",
            " 0.31317433 0.8217986  0.50907959 0.41701374 0.71877162 0.36559399\n",
            " 0.43977073 0.30505895 0.36413446 0.22056973 0.18392114 0.18116404]\n",
            "4 hour output [[0.1516257]]\n",
            "5 hour input [0.09371973 0.10545534 0.09424647 0.09190515 0.11402604 0.11955013\n",
            " 0.11320468 0.11254179 0.11347252 0.15846647 0.1618635  0.31317433\n",
            " 0.8217986  0.50907959 0.41701374 0.71877162 0.36559399 0.43977073\n",
            " 0.30505895 0.36413446 0.22056973 0.18392114 0.18116404 0.15162569]\n",
            "5 hour output [[0.09099562]]\n",
            "6 hour input [0.10545534 0.09424647 0.09190515 0.11402604 0.11955013 0.11320468\n",
            " 0.11254179 0.11347252 0.15846647 0.1618635  0.31317433 0.8217986\n",
            " 0.50907959 0.41701374 0.71877162 0.36559399 0.43977073 0.30505895\n",
            " 0.36413446 0.22056973 0.18392114 0.18116404 0.15162569 0.09099562]\n",
            "6 hour output [[0.15251374]]\n",
            "7 hour input [0.09424647 0.09190515 0.11402604 0.11955013 0.11320468 0.11254179\n",
            " 0.11347252 0.15846647 0.1618635  0.31317433 0.8217986  0.50907959\n",
            " 0.41701374 0.71877162 0.36559399 0.43977073 0.30505895 0.36413446\n",
            " 0.22056973 0.18392114 0.18116404 0.15162569 0.09099562 0.15251374]\n",
            "7 hour output [[0.08195675]]\n",
            "8 hour input [0.09190515 0.11402604 0.11955013 0.11320468 0.11254179 0.11347252\n",
            " 0.15846647 0.1618635  0.31317433 0.8217986  0.50907959 0.41701374\n",
            " 0.71877162 0.36559399 0.43977073 0.30505895 0.36413446 0.22056973\n",
            " 0.18392114 0.18116404 0.15162569 0.09099562 0.15251374 0.08195675]\n",
            "8 hour output [[0.06873085]]\n",
            "9 hour input [0.11402604 0.11955013 0.11320468 0.11254179 0.11347252 0.15846647\n",
            " 0.1618635  0.31317433 0.8217986  0.50907959 0.41701374 0.71877162\n",
            " 0.36559399 0.43977073 0.30505895 0.36413446 0.22056973 0.18392114\n",
            " 0.18116404 0.15162569 0.09099562 0.15251374 0.08195675 0.06873085]\n",
            "9 hour output [[0.10326923]]\n",
            "10 hour input [0.11955013 0.11320468 0.11254179 0.11347252 0.15846647 0.1618635\n",
            " 0.31317433 0.8217986  0.50907959 0.41701374 0.71877162 0.36559399\n",
            " 0.43977073 0.30505895 0.36413446 0.22056973 0.18392114 0.18116404\n",
            " 0.15162569 0.09099562 0.15251374 0.08195675 0.06873085 0.10326923]\n",
            "10 hour output [[0.07201745]]\n",
            "11 hour input [0.11320468 0.11254179 0.11347252 0.15846647 0.1618635  0.31317433\n",
            " 0.8217986  0.50907959 0.41701374 0.71877162 0.36559399 0.43977073\n",
            " 0.30505895 0.36413446 0.22056973 0.18392114 0.18116404 0.15162569\n",
            " 0.09099562 0.15251374 0.08195675 0.06873085 0.10326923 0.07201745]\n",
            "11 hour output [[0.1238554]]\n",
            "12 hour input [0.11254179 0.11347252 0.15846647 0.1618635  0.31317433 0.8217986\n",
            " 0.50907959 0.41701374 0.71877162 0.36559399 0.43977073 0.30505895\n",
            " 0.36413446 0.22056973 0.18392114 0.18116404 0.15162569 0.09099562\n",
            " 0.15251374 0.08195675 0.06873085 0.10326923 0.07201745 0.1238554 ]\n",
            "12 hour output [[0.12663537]]\n",
            "13 hour input [0.11347252 0.15846647 0.1618635  0.31317433 0.8217986  0.50907959\n",
            " 0.41701374 0.71877162 0.36559399 0.43977073 0.30505895 0.36413446\n",
            " 0.22056973 0.18392114 0.18116404 0.15162569 0.09099562 0.15251374\n",
            " 0.08195675 0.06873085 0.10326923 0.07201745 0.1238554  0.12663537]\n",
            "13 hour output [[0.13919446]]\n",
            "14 hour input [0.15846647 0.1618635  0.31317433 0.8217986  0.50907959 0.41701374\n",
            " 0.71877162 0.36559399 0.43977073 0.30505895 0.36413446 0.22056973\n",
            " 0.18392114 0.18116404 0.15162569 0.09099562 0.15251374 0.08195675\n",
            " 0.06873085 0.10326923 0.07201745 0.1238554  0.12663537 0.13919446]\n",
            "14 hour output [[0.22512472]]\n",
            "15 hour input [0.1618635  0.31317433 0.8217986  0.50907959 0.41701374 0.71877162\n",
            " 0.36559399 0.43977073 0.30505895 0.36413446 0.22056973 0.18392114\n",
            " 0.18116404 0.15162569 0.09099562 0.15251374 0.08195675 0.06873085\n",
            " 0.10326923 0.07201745 0.1238554  0.12663537 0.13919446 0.22512472]\n",
            "15 hour output [[0.19218689]]\n",
            "16 hour input [0.31317433 0.8217986  0.50907959 0.41701374 0.71877162 0.36559399\n",
            " 0.43977073 0.30505895 0.36413446 0.22056973 0.18392114 0.18116404\n",
            " 0.15162569 0.09099562 0.15251374 0.08195675 0.06873085 0.10326923\n",
            " 0.07201745 0.1238554  0.12663537 0.13919446 0.22512472 0.19218689]\n",
            "16 hour output [[0.2778259]]\n",
            "17 hour input [0.8217986  0.50907959 0.41701374 0.71877162 0.36559399 0.43977073\n",
            " 0.30505895 0.36413446 0.22056973 0.18392114 0.18116404 0.15162569\n",
            " 0.09099562 0.15251374 0.08195675 0.06873085 0.10326923 0.07201745\n",
            " 0.1238554  0.12663537 0.13919446 0.22512472 0.19218689 0.27782589]\n",
            "17 hour output [[0.47533143]]\n",
            "18 hour input [0.50907959 0.41701374 0.71877162 0.36559399 0.43977073 0.30505895\n",
            " 0.36413446 0.22056973 0.18392114 0.18116404 0.15162569 0.09099562\n",
            " 0.15251374 0.08195675 0.06873085 0.10326923 0.07201745 0.1238554\n",
            " 0.12663537 0.13919446 0.22512472 0.19218689 0.27782589 0.47533143]\n",
            "18 hour output [[0.31723025]]\n",
            "19 hour input [0.41701374 0.71877162 0.36559399 0.43977073 0.30505895 0.36413446\n",
            " 0.22056973 0.18392114 0.18116404 0.15162569 0.09099562 0.15251374\n",
            " 0.08195675 0.06873085 0.10326923 0.07201745 0.1238554  0.12663537\n",
            " 0.13919446 0.22512472 0.19218689 0.27782589 0.47533143 0.31723025]\n",
            "19 hour output [[0.28899553]]\n",
            "20 hour input [0.71877162 0.36559399 0.43977073 0.30505895 0.36413446 0.22056973\n",
            " 0.18392114 0.18116404 0.15162569 0.09099562 0.15251374 0.08195675\n",
            " 0.06873085 0.10326923 0.07201745 0.1238554  0.12663537 0.13919446\n",
            " 0.22512472 0.19218689 0.27782589 0.47533143 0.31723025 0.28899553]\n",
            "20 hour output [[0.39267054]]\n",
            "21 hour input [0.36559399 0.43977073 0.30505895 0.36413446 0.22056973 0.18392114\n",
            " 0.18116404 0.15162569 0.09099562 0.15251374 0.08195675 0.06873085\n",
            " 0.10326923 0.07201745 0.1238554  0.12663537 0.13919446 0.22512472\n",
            " 0.19218689 0.27782589 0.47533143 0.31723025 0.28899553 0.39267054]\n",
            "21 hour output [[0.50848496]]\n",
            "22 hour input [0.43977073 0.30505895 0.36413446 0.22056973 0.18392114 0.18116404\n",
            " 0.15162569 0.09099562 0.15251374 0.08195675 0.06873085 0.10326923\n",
            " 0.07201745 0.1238554  0.12663537 0.13919446 0.22512472 0.19218689\n",
            " 0.27782589 0.47533143 0.31723025 0.28899553 0.39267054 0.50848496]\n",
            "22 hour output [[0.31024405]]\n",
            "23 hour input [0.30505895 0.36413446 0.22056973 0.18392114 0.18116404 0.15162569\n",
            " 0.09099562 0.15251374 0.08195675 0.06873085 0.10326923 0.07201745\n",
            " 0.1238554  0.12663537 0.13919446 0.22512472 0.19218689 0.27782589\n",
            " 0.47533143 0.31723025 0.28899553 0.39267054 0.50848496 0.31024405]\n",
            "23 hour output [[0.29936308]]\n",
            "[[0.36413446068763733], [0.22056972980499268], [0.18392114341259003], [0.18116404116153717], [0.15162569284439087], [0.09099562466144562], [0.15251374244689941], [0.08195675164461136], [0.06873085349798203], [0.10326923429965973], [0.07201744616031647], [0.12385539710521698], [0.1266353726387024], [0.13919445872306824], [0.22512471675872803], [0.1921868920326233], [0.27782589197158813], [0.4753314256668091], [0.3172302544116974], [0.28899553418159485], [0.39267054200172424], [0.508484959602356], [0.31024405360221863], [0.29936307668685913]]\n"
          ]
        }
      ],
      "source": [
        "# demonstrate prediction for next 24 hours\n",
        "\n",
        "lst_output=[]\n",
        "n_steps=24\n",
        "i=0\n",
        "while(i<24):\n",
        "\n",
        "    if(len(temp_input)>24):\n",
        "        #print(temp_input)\n",
        "        x_input=np.array(temp_input[1:])\n",
        "        print(\"{} hour input {}\".format(i,x_input))\n",
        "        x_input=x_input.reshape(1,-1)\n",
        "        x_input = x_input.reshape((1, n_steps, 1))\n",
        "        #print(x_input)\n",
        "        yhat = model.predict(x_input, verbose=0)\n",
        "        print(\"{} hour output {}\".format(i,yhat))\n",
        "        temp_input.extend(yhat[0].tolist())\n",
        "        temp_input=temp_input[1:]\n",
        "        #print(temp_input)\n",
        "        lst_output.extend(yhat.tolist())\n",
        "        i=i+1\n",
        "    else:\n",
        "        x_input = x_input.reshape((1, n_steps,1))\n",
        "        yhat = model.predict(x_input, verbose=0)\n",
        "        print(yhat[0])\n",
        "        temp_input.extend(yhat[0].tolist())\n",
        "        print(len(temp_input))\n",
        "        lst_output.extend(yhat.tolist())\n",
        "        i=i+1\n",
        "\n",
        "\n",
        "print(lst_output)"
      ]
    },
    {
      "cell_type": "code",
      "execution_count": null,
      "id": "8d232107",
      "metadata": {
        "id": "8d232107"
      },
      "outputs": [],
      "source": [
        "day_new=np.arange(1,25)\n",
        "day_pred=np.arange(25,49)"
      ]
    },
    {
      "cell_type": "code",
      "execution_count": null,
      "id": "bc1443b3",
      "metadata": {
        "id": "bc1443b3",
        "outputId": "68866b0e-3cb8-4a78-8268-66a85c65293e"
      },
      "outputs": [
        {
          "data": {
            "text/plain": [
              "8784"
            ]
          },
          "execution_count": 87,
          "metadata": {},
          "output_type": "execute_result"
        }
      ],
      "source": [
        "len(df1)"
      ]
    },
    {
      "cell_type": "code",
      "execution_count": null,
      "id": "b0ddedef",
      "metadata": {
        "id": "b0ddedef",
        "outputId": "574b3635-9c5b-46a1-c05c-98f6a32f2614"
      },
      "outputs": [
        {
          "data": {
            "text/plain": [
              "[<matplotlib.lines.Line2D at 0x7fb9d055c580>]"
            ]
          },
          "execution_count": 88,
          "metadata": {},
          "output_type": "execute_result"
        },
        {
          "data": {
            "image/png": "[encoded data removed]",
            "text/plain": [
              "<Figure size 640x480 with 1 Axes>"
            ]
          },
          "metadata": {},
          "output_type": "display_data"
        }
      ],
      "source": [
        "plt.plot(day_new,scaler.inverse_transform(df1[8784-24:]))\n",
        "plt.plot(day_pred,scaler.inverse_transform(lst_output))"
      ]
    },
    {
      "cell_type": "code",
      "execution_count": null,
      "id": "23ad7023",
      "metadata": {
        "id": "23ad7023"
      },
      "outputs": [],
      "source": []
    },
    {
      "cell_type": "code",
      "execution_count": null,
      "id": "08b95b27",
      "metadata": {
        "id": "08b95b27"
      },
      "outputs": [],
      "source": []
    },
    {
      "cell_type": "code",
      "execution_count": null,
      "id": "a34172c3",
      "metadata": {
        "id": "a34172c3"
      },
      "outputs": [],
      "source": []
    },
    {
      "cell_type": "code",
      "execution_count": null,
      "id": "09f4e14c",
      "metadata": {
        "id": "09f4e14c"
      },
      "outputs": [],
      "source": []
    },
    {
      "cell_type": "code",
      "execution_count": null,
      "id": "c9d06aab",
      "metadata": {
        "id": "c9d06aab"
      },
      "outputs": [],
      "source": []
    },
    {
      "cell_type": "code",
      "execution_count": null,
      "id": "7e80041f",
      "metadata": {
        "id": "7e80041f"
      },
      "outputs": [],
      "source": []
    },
    {
      "cell_type": "code",
      "execution_count": null,
      "id": "a68db2ae",
      "metadata": {
        "id": "a68db2ae"
      },
      "outputs": [],
      "source": []
    }
  ],
  "metadata": {
    "kernelspec": {
      "display_name": "Python 3 (ipykernel)",
      "language": "python",
      "name": "python3"
    },
    "language_info": {
      "codemirror_mode": {
        "name": "ipython",
        "version": 3
      },
      "file_extension": ".py",
      "mimetype": "text/x-python",
      "name": "python",
      "nbconvert_exporter": "python",
      "pygments_lexer": "ipython3",
      "version": "3.8.10"
    },
    "colab": {
      "provenance": [],
      "include_colab_link": true
    }
  },
  "nbformat": 4,
  "nbformat_minor": 5
}