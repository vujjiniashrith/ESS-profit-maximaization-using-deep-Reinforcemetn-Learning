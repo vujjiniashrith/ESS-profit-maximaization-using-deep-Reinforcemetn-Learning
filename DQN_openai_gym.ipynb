{
  "cells": [
    {
      "cell_type": "markdown",
      "metadata": {
        "id": "view-in-github",
        "colab_type": "text"
      },
      "source": [
        "<a href=\"https://colab.research.google.com/github/vujjiniashrith/ESS-profit-maximaization-using-deep-Reinforcemetn-Learning/blob/main/DQN_openai_gym.ipynb\" target=\"_parent\"><img src=\"https://colab.research.google.com/assets/colab-badge.svg\" alt=\"Open In Colab\"/></a>"
      ]
    },
    {
      "cell_type": "code",
      "execution_count": null,
      "id": "9663802d",
      "metadata": {
        "id": "9663802d"
      },
      "outputs": [],
      "source": [
        "import numpy as np\n",
        "import pandas as pd\n",
        "import matplotlib.pyplot as plt\n",
        "import seaborn as sns\n",
        "import gym\n",
        "import random\n"
      ]
    },
    {
      "cell_type": "code",
      "execution_count": null,
      "id": "e4d05f82",
      "metadata": {
        "id": "e4d05f82"
      },
      "outputs": [],
      "source": [
        "from gym import Env\n",
        "from gym import spaces\n",
        "from gym.spaces import Discrete, Box\n"
      ]
    },
    {
      "cell_type": "code",
      "execution_count": null,
      "id": "167ca535",
      "metadata": {
        "id": "167ca535"
      },
      "outputs": [],
      "source": [
        "data_elec = pd.read_csv(\"electicity_data_hourly.csv\")\n",
        "data_cons = pd.read_csv(\"consumer_data_hourly.csv\")"
      ]
    },
    {
      "cell_type": "code",
      "execution_count": null,
      "id": "d1f00057",
      "metadata": {
        "id": "d1f00057",
        "outputId": "5a2e7ab4-b902-4a86-89b2-dfe21d3768b6"
      },
      "outputs": [
        {
          "name": "stdout",
          "output_type": "stream",
          "text": [
            "Index(['datetime', 'system_energy_price_da'], dtype='object')\n"
          ]
        }
      ],
      "source": [
        "print(data_elec.columns)"
      ]
    },
    {
      "cell_type": "code",
      "execution_count": null,
      "id": "7bc6279b",
      "metadata": {
        "id": "7bc6279b",
        "outputId": "6d765a9a-a0dc-4543-f1bd-9f0abbae4c81"
      },
      "outputs": [
        {
          "name": "stdout",
          "output_type": "stream",
          "text": [
            "Index(['dateTime', 'use'], dtype='object')\n"
          ]
        }
      ],
      "source": [
        "print(data_cons.columns)"
      ]
    },
    {
      "cell_type": "code",
      "execution_count": null,
      "id": "488424d0",
      "metadata": {
        "id": "488424d0",
        "outputId": "7f1c8c02-c2f4-46f7-d996-37aa4cb1a303"
      },
      "outputs": [
        {
          "data": {
            "text/html": [
              "<div>\n",
              "<style scoped>\n",
              "    .dataframe tbody tr th:only-of-type {\n",
              "        vertical-align: middle;\n",
              "    }\n",
              "\n",
              "    .dataframe tbody tr th {\n",
              "        vertical-align: top;\n",
              "    }\n",
              "\n",
              "    .dataframe thead th {\n",
              "        text-align: right;\n",
              "    }\n",
              "</style>\n",
              "<table border=\"1\" class=\"dataframe\">\n",
              "  <thead>\n",
              "    <tr style=\"text-align: right;\">\n",
              "      <th></th>\n",
              "      <th>datetime</th>\n",
              "      <th>system_energy_price_da</th>\n",
              "    </tr>\n",
              "  </thead>\n",
              "  <tbody>\n",
              "    <tr>\n",
              "      <th>0</th>\n",
              "      <td>2022-01-01 00:00:00</td>\n",
              "      <td>21.02</td>\n",
              "    </tr>\n",
              "    <tr>\n",
              "      <th>1</th>\n",
              "      <td>2022-01-01 01:00:00</td>\n",
              "      <td>18.43</td>\n",
              "    </tr>\n",
              "    <tr>\n",
              "      <th>2</th>\n",
              "      <td>2022-01-01 02:00:00</td>\n",
              "      <td>18.11</td>\n",
              "    </tr>\n",
              "    <tr>\n",
              "      <th>3</th>\n",
              "      <td>2022-01-01 03:00:00</td>\n",
              "      <td>18.15</td>\n",
              "    </tr>\n",
              "    <tr>\n",
              "      <th>4</th>\n",
              "      <td>2022-01-01 04:00:00</td>\n",
              "      <td>17.70</td>\n",
              "    </tr>\n",
              "    <tr>\n",
              "      <th>5</th>\n",
              "      <td>2022-01-01 05:00:00</td>\n",
              "      <td>17.67</td>\n",
              "    </tr>\n",
              "  </tbody>\n",
              "</table>\n",
              "</div>"
            ],
            "text/plain": [
              "              datetime  system_energy_price_da\n",
              "0  2022-01-01 00:00:00                   21.02\n",
              "1  2022-01-01 01:00:00                   18.43\n",
              "2  2022-01-01 02:00:00                   18.11\n",
              "3  2022-01-01 03:00:00                   18.15\n",
              "4  2022-01-01 04:00:00                   17.70\n",
              "5  2022-01-01 05:00:00                   17.67"
            ]
          },
          "execution_count": 7,
          "metadata": {},
          "output_type": "execute_result"
        }
      ],
      "source": [
        "data_elec.head(6)"
      ]
    },
    {
      "cell_type": "code",
      "execution_count": null,
      "id": "d0c097a8",
      "metadata": {
        "id": "d0c097a8"
      },
      "outputs": [],
      "source": [
        "data_elec.rename(columns={'system_energy_price_da':'price'},inplace = True)"
      ]
    },
    {
      "cell_type": "code",
      "execution_count": null,
      "id": "33fb4644",
      "metadata": {
        "id": "33fb4644"
      },
      "outputs": [],
      "source": [
        "data_cons.rename(columns={'use':'usage'},inplace = True)"
      ]
    },
    {
      "cell_type": "code",
      "execution_count": null,
      "id": "03da744d",
      "metadata": {
        "id": "03da744d",
        "outputId": "0818bb26-e25a-4f18-b91a-0e4fff49b8af"
      },
      "outputs": [
        {
          "data": {
            "text/html": [
              "<div>\n",
              "<style scoped>\n",
              "    .dataframe tbody tr th:only-of-type {\n",
              "        vertical-align: middle;\n",
              "    }\n",
              "\n",
              "    .dataframe tbody tr th {\n",
              "        vertical-align: top;\n",
              "    }\n",
              "\n",
              "    .dataframe thead th {\n",
              "        text-align: right;\n",
              "    }\n",
              "</style>\n",
              "<table border=\"1\" class=\"dataframe\">\n",
              "  <thead>\n",
              "    <tr style=\"text-align: right;\">\n",
              "      <th></th>\n",
              "      <th>dateTime</th>\n",
              "      <th>usage</th>\n",
              "    </tr>\n",
              "  </thead>\n",
              "  <tbody>\n",
              "    <tr>\n",
              "      <th>0</th>\n",
              "      <td>2016-01-01 00:00:00</td>\n",
              "      <td>2.108533</td>\n",
              "    </tr>\n",
              "    <tr>\n",
              "      <th>1</th>\n",
              "      <td>2016-01-01 01:00:00</td>\n",
              "      <td>1.852600</td>\n",
              "    </tr>\n",
              "    <tr>\n",
              "      <th>2</th>\n",
              "      <td>2016-01-01 02:00:00</td>\n",
              "      <td>1.988000</td>\n",
              "    </tr>\n",
              "    <tr>\n",
              "      <th>3</th>\n",
              "      <td>2016-01-01 03:00:00</td>\n",
              "      <td>1.993267</td>\n",
              "    </tr>\n",
              "    <tr>\n",
              "      <th>4</th>\n",
              "      <td>2016-01-01 04:00:00</td>\n",
              "      <td>1.781533</td>\n",
              "    </tr>\n",
              "  </tbody>\n",
              "</table>\n",
              "</div>"
            ],
            "text/plain": [
              "              dateTime     usage\n",
              "0  2016-01-01 00:00:00  2.108533\n",
              "1  2016-01-01 01:00:00  1.852600\n",
              "2  2016-01-01 02:00:00  1.988000\n",
              "3  2016-01-01 03:00:00  1.993267\n",
              "4  2016-01-01 04:00:00  1.781533"
            ]
          },
          "execution_count": 10,
          "metadata": {},
          "output_type": "execute_result"
        }
      ],
      "source": [
        "data_cons.head()"
      ]
    },
    {
      "cell_type": "code",
      "execution_count": null,
      "id": "34e474dd",
      "metadata": {
        "id": "34e474dd",
        "outputId": "ba134478-380f-4189-8362-e561b3ea14ad"
      },
      "outputs": [
        {
          "name": "stdout",
          "output_type": "stream",
          "text": [
            "29.8692   0.0\n",
            "455.3   13.74\n"
          ]
        }
      ],
      "source": [
        "print(data_cons.usage.max(),\" \",data_cons.usage.min())\n",
        "print(data_elec.price.max(),\" \",data_elec.price.min())"
      ]
    },
    {
      "cell_type": "code",
      "execution_count": null,
      "id": "4f2fae08",
      "metadata": {
        "id": "4f2fae08",
        "outputId": "f48a8fc1-66d1-4fb2-fc28-b1ef9f55ff9c"
      },
      "outputs": [
        {
          "name": "stdout",
          "output_type": "stream",
          "text": [
            "3.519333333333332   5.361010481177894\n"
          ]
        }
      ],
      "source": [
        "print(data_cons.usage.median(), \" \", data_cons.usage.mean())"
      ]
    },
    {
      "cell_type": "code",
      "execution_count": null,
      "id": "c235e3da",
      "metadata": {
        "id": "c235e3da"
      },
      "outputs": [],
      "source": []
    },
    {
      "cell_type": "code",
      "execution_count": null,
      "id": "8fd1dfdb",
      "metadata": {
        "id": "8fd1dfdb",
        "outputId": "40fe78f9-7f69-4a8a-e46c-de65f1b02e47"
      },
      "outputs": [
        {
          "data": {
            "text/plain": [
              "(8737, 2)"
            ]
          },
          "execution_count": 13,
          "metadata": {},
          "output_type": "execute_result"
        }
      ],
      "source": [
        "data_elec.shape"
      ]
    },
    {
      "cell_type": "code",
      "execution_count": null,
      "id": "bb79e6dc",
      "metadata": {
        "id": "bb79e6dc",
        "outputId": "216e322a-1e72-4651-b285-c6514de61b64"
      },
      "outputs": [
        {
          "data": {
            "text/plain": [
              "(8784, 2)"
            ]
          },
          "execution_count": 14,
          "metadata": {},
          "output_type": "execute_result"
        }
      ],
      "source": [
        "data_cons.shape"
      ]
    },
    {
      "cell_type": "code",
      "execution_count": null,
      "id": "1e0a7ef2",
      "metadata": {
        "id": "1e0a7ef2",
        "outputId": "16bc2147-647e-4713-e5cc-1a686bf3b901"
      },
      "outputs": [
        {
          "name": "stdout",
          "output_type": "stream",
          "text": [
            "(7027, 2) (1710, 2)\n",
            "(7027, 2) (1757, 2)\n"
          ]
        }
      ],
      "source": [
        "split_point = 7027\n",
        "train_elec = data_elec[:split_point]\n",
        "train_cons = data_cons[:split_point]\n",
        "test_elec = data_elec[split_point:]\n",
        "test_cons = data_cons[split_point:]\n",
        "print(train_elec.shape, test_elec.shape)\n",
        "print(train_cons.shape, test_cons.shape)"
      ]
    },
    {
      "cell_type": "code",
      "execution_count": null,
      "id": "97ff7f3b",
      "metadata": {
        "id": "97ff7f3b",
        "outputId": "d11f5a80-9eb2-406c-a078-f88331e08b07"
      },
      "outputs": [
        {
          "data": {
            "text/plain": [
              "[<matplotlib.lines.Line2D at 0x208e5417ee0>]"
            ]
          },
          "execution_count": 46,
          "metadata": {},
          "output_type": "execute_result"
        },
        {
          "data": {
            "image/png": "[encoded data removed]",
            "text/plain": [
              "<Figure size 640x480 with 1 Axes>"
            ]
          },
          "metadata": {},
          "output_type": "display_data"
        }
      ],
      "source": [
        "plt.plot(data_elec.price[:10])"
      ]
    },
    {
      "cell_type": "code",
      "execution_count": null,
      "id": "c0751975",
      "metadata": {
        "id": "c0751975",
        "outputId": "a31404c4-58ba-479f-d855-8e9b3d63c619"
      },
      "outputs": [
        {
          "data": {
            "text/plain": [
              "[<matplotlib.lines.Line2D at 0x208d92b43a0>]"
            ]
          },
          "execution_count": 17,
          "metadata": {},
          "output_type": "execute_result"
        },
        {
          "data": {
            "image/png": "[encoded data removed]",
            "text/plain": [
              "<Figure size 640x480 with 1 Axes>"
            ]
          },
          "metadata": {},
          "output_type": "display_data"
        }
      ],
      "source": [
        "plt.plot(data_cons.usage[0:100])"
      ]
    },
    {
      "cell_type": "code",
      "execution_count": null,
      "id": "3d27be07",
      "metadata": {
        "id": "3d27be07"
      },
      "outputs": [],
      "source": [
        "data_usage = data_cons['usage'].values"
      ]
    },
    {
      "cell_type": "code",
      "execution_count": null,
      "id": "60e82a31",
      "metadata": {
        "id": "60e82a31"
      },
      "outputs": [],
      "source": [
        "data_price = data_elec['price'].values"
      ]
    },
    {
      "cell_type": "markdown",
      "id": "3d1dfb83",
      "metadata": {
        "id": "3d1dfb83"
      },
      "source": [
        "# Create Custom Environment of SmartGrid"
      ]
    },
    {
      "cell_type": "code",
      "execution_count": null,
      "id": "78bb17ce",
      "metadata": {
        "id": "78bb17ce"
      },
      "outputs": [],
      "source": [
        "class SmartGrid(Env):\n",
        "    def __init__(self,data_usage,data_price):\n",
        "        #load electricity price data\n",
        "\n",
        "        self.data_price = data_price\n",
        "\n",
        "        #load consumer price data\n",
        "        self.data_usage = data_usage\n",
        "\n",
        "        #set maximum battery capacity\n",
        "        self.max_capacity = 10\n",
        "\n",
        "        #Actions that we can take\n",
        "        #0 == -3, 1 == -2, 2 == -1, 3 ==0 , 4 == 1, 5 == 2, 6== 3 total 7 actions to take\n",
        "        #-ve values stand for discharge and positive values stand for charge\n",
        "        self.action_space = Discrete(7)\n",
        "\n",
        "        #state\n",
        "        self.observation_space = Box(low=np.array([0]), high=np.array([10]))\n",
        "\n",
        "        #set initial start state\n",
        "        self.state = 0\n",
        "\n",
        "        #set initial position\n",
        "        self.time_step = 0\n",
        "\n",
        "        #initiate profits\n",
        "        self.profits =0\n",
        "\n",
        "        #action history\n",
        "        self.action_history = []\n",
        "\n",
        "        #profits history\n",
        "        self.profits_history = []\n",
        "\n",
        "\n",
        "\n",
        "\n",
        "    def step(self,action):\n",
        "        reward=0\n",
        "        self.state += action -3\n",
        "        self.time_step+=1\n",
        "\n",
        "        #calculate the profit\n",
        "\n",
        "        self.profits = (3-action)*self.data_price[self.time_step]\n",
        "        #calculate the reward\n",
        "        if action==4 or action == 5 or action ==6:\n",
        "            reward = (25-(3-action)*self.data_price[self.time_step])+self.punishment_for_bad_choices(action)\n",
        "        else:\n",
        "            reward = self.profits+self.punishment_for_bad_choices(action)\n",
        "\n",
        "        #store the action in action_history\n",
        "        self.action_history.append(action-3)\n",
        "        self.profits_history.append(self.profits)\n",
        "\n",
        "        if self.time_step>10:\n",
        "            done = True\n",
        "        else:\n",
        "            done = False\n",
        "\n",
        "        info = {}\n",
        "\n",
        "        return self.state, reward, done, info\n",
        "\n",
        "    def punishment_for_bad_choices(self,action):\n",
        "        punishment = 0\n",
        "        if(self.state<0):\n",
        "            punishment = -100\n",
        "        if(self.state>10):\n",
        "            punishment = -100\n",
        "        return punishment\n",
        "\n",
        "    def render(self):\n",
        "        #implement vizualization\n",
        "        pass\n",
        "    def reset(self):\n",
        "        #reset the initial timestamp\n",
        "        self.time_step =0\n",
        "        #empty the entire battery\n",
        "        self.state = 0\n",
        "        #set done state as false\n",
        "        self.action_history = []\n",
        "        self.profits_history = []\n",
        "\n",
        "        return self.state\n",
        "    def get_action_history(self):\n",
        "        return self.action_history\n",
        "\n",
        "    def get_time_step(self):\n",
        "        return self.time_step\n",
        "\n",
        "    def get_profits_history(self):\n",
        "        return self.profits_history\n",
        ""
      ]
    },
    {
      "cell_type": "code",
      "execution_count": null,
      "id": "fccaa3c5",
      "metadata": {
        "id": "fccaa3c5"
      },
      "outputs": [],
      "source": []
    },
    {
      "cell_type": "code",
      "execution_count": null,
      "id": "ff91f733",
      "metadata": {
        "id": "ff91f733"
      },
      "outputs": [],
      "source": [
        "env = SmartGrid(data_usage,data_price)"
      ]
    },
    {
      "cell_type": "code",
      "execution_count": null,
      "id": "9cc6ce0d",
      "metadata": {
        "id": "9cc6ce0d",
        "outputId": "7a3506dd-7fdf-41ed-f858-1230922336c1"
      },
      "outputs": [
        {
          "data": {
            "text/plain": [
              "array([9.648768], dtype=float32)"
            ]
          },
          "execution_count": 66,
          "metadata": {},
          "output_type": "execute_result"
        }
      ],
      "source": [
        "env.observation_space.sample()"
      ]
    },
    {
      "cell_type": "code",
      "execution_count": null,
      "id": "26f7082d",
      "metadata": {
        "id": "26f7082d",
        "outputId": "edd072af-b8d0-4e25-b7fb-11622c26387f"
      },
      "outputs": [
        {
          "name": "stdout",
          "output_type": "stream",
          "text": [
            "(1,)\n"
          ]
        }
      ],
      "source": [
        "print(env.observation_space.shape)"
      ]
    },
    {
      "cell_type": "code",
      "execution_count": null,
      "id": "5af0c915",
      "metadata": {
        "id": "5af0c915",
        "outputId": "9e15fa36-1f5c-4d66-d855-5dac56fb1609"
      },
      "outputs": [
        {
          "name": "stdout",
          "output_type": "stream",
          "text": [
            "Episode:1 Score:2.319999999999979\n",
            "[0, 3, -1, 1, -3, -3, 2, 0, 3, -3, -1]\n",
            "[0.0, -54.33, 18.15, -17.7, 53.010000000000005, 53.16, -36.48, 0.0, -65.34, 77.85, 26.3]\n",
            "11 11\n",
            "Episode:2 Score:-128.81\n",
            "[2, -1, 0, -1, -1, -3, -1, 3, 2, -2, -3]\n",
            "[-36.86, 18.11, 0.0, 17.7, 17.67, 53.16, 18.24, -60.09, -43.56, 51.9, 78.9]\n",
            "11 11\n",
            "Episode:3 Score:247.75\n",
            "[-3, 2, 2, 1, 2, -1, 0, -1, 0, 3, -1]\n",
            "[55.29, -36.22, -36.3, -17.7, -35.34, 17.72, 0.0, 20.03, 0.0, -77.85, 26.3]\n",
            "11 11\n",
            "Episode:4 Score:-102.25999999999988\n",
            "[-1, -1, 0, -2, 3, -1, 2, 2, -1, 3, -3]\n",
            "[18.43, 18.11, 0.0, 35.4, -53.010000000000005, 17.72, -36.48, -40.06, 21.78, -77.85, 78.9]\n",
            "11 11\n",
            "Episode:5 Score:477.39\n",
            "[3, 3, 3, -3, -2, 2, 3, 3, 1, -3, 0]\n",
            "[-55.29, -54.33, -54.449999999999996, 53.099999999999994, 35.34, -35.44, -54.72, -60.09, -21.78, 77.85, 0.0]\n",
            "11 11\n",
            "Episode:6 Score:207.42\n",
            "[0, -2, 2, 2, 3, 1, 2, 2, 1, 3, -2]\n",
            "[0.0, 36.22, -36.3, -35.4, -53.010000000000005, -17.72, -36.48, -40.06, -21.78, -77.85, 52.6]\n",
            "11 11\n",
            "Episode:7 Score:-586.88\n",
            "[-1, 2, 0, -3, 0, -1, -1, 1, -1, 0, 2]\n",
            "[18.43, -36.22, 0.0, 53.099999999999994, 0.0, 17.72, 18.24, -20.03, 21.78, 0.0, -52.6]\n",
            "11 11\n",
            "Episode:8 Score:-615.29\n",
            "[2, -3, -1, -2, -3, -1, 0, 0, -3, 0, -3]\n",
            "[-36.86, 54.33, 18.15, 35.4, 53.010000000000005, 17.72, 0.0, 0.0, 65.34, 0.0, 78.9]\n",
            "11 11\n",
            "Episode:9 Score:-905.77\n",
            "[-1, 0, -1, -1, 1, 0, 0, -1, 0, -1, 1]\n",
            "[18.43, 0.0, 18.15, 17.7, -17.67, 0.0, 0.0, 20.03, 0.0, 25.95, -26.3]\n",
            "11 11\n",
            "Episode:10 Score:458.8\n",
            "[3, 2, 0, -1, -1, -1, 1, 1, 1, -3, 1]\n",
            "[-55.29, -36.22, 0.0, 17.7, 17.67, 17.72, -18.24, -20.03, -21.78, 77.85, -26.3]\n",
            "11 11\n"
          ]
        }
      ],
      "source": [
        "episodes = 10\n",
        "for episode in range(1,episodes+1):\n",
        "    state = env.reset()\n",
        "    done = False\n",
        "    score = 0\n",
        "\n",
        "    while not done:\n",
        "\n",
        "        action = env.action_space.sample()\n",
        "        n_state , reward, done, info = env.step(action)\n",
        "        score+=reward\n",
        "    print('Episode:{} Score:{}'.format(episode,score))\n",
        "    action_history = env.get_action_history()\n",
        "    print(action_history)\n",
        "    print(env.get_profits_history())\n",
        "    print(len(action_history),env.get_time_step())\n",
        ""
      ]
    },
    {
      "cell_type": "markdown",
      "id": "724b4696",
      "metadata": {
        "id": "724b4696"
      },
      "source": [
        "# Creating Deep Learning Model with Keras"
      ]
    },
    {
      "cell_type": "code",
      "execution_count": null,
      "id": "ccf83220",
      "metadata": {
        "id": "ccf83220"
      },
      "outputs": [],
      "source": [
        "import numpy as np\n",
        "from tensorflow.keras.models import Sequential\n",
        "from tensorflow.keras.layers import Dense, Flatten\n",
        "from tensorflow.keras.optimizers import Adam"
      ]
    },
    {
      "cell_type": "code",
      "execution_count": null,
      "id": "facac12b",
      "metadata": {
        "id": "facac12b"
      },
      "outputs": [],
      "source": [
        "states = env.observation_space.shape\n",
        "actions = env.action_space.n"
      ]
    },
    {
      "cell_type": "code",
      "execution_count": null,
      "id": "d6a91724",
      "metadata": {
        "id": "d6a91724"
      },
      "outputs": [],
      "source": [
        "del model"
      ]
    },
    {
      "cell_type": "code",
      "execution_count": null,
      "id": "c63cf7b6",
      "metadata": {
        "id": "c63cf7b6",
        "outputId": "fb99c1f4-d6d7-46fb-8f69-ee5f26f8559c"
      },
      "outputs": [
        {
          "name": "stdout",
          "output_type": "stream",
          "text": [
            "(1,)\n",
            "7\n"
          ]
        }
      ],
      "source": [
        "print(states)\n",
        "print(actions)"
      ]
    },
    {
      "cell_type": "code",
      "execution_count": null,
      "id": "c05b1d9e",
      "metadata": {
        "id": "c05b1d9e"
      },
      "outputs": [],
      "source": [
        "def build_model(states, actions):\n",
        "    model = Sequential()\n",
        "\n",
        "    model.add(Dense(24, activation='relu', input_shape=(1,)))  # Use input_shape as a tuple with a single integer\n",
        "    model.add(Dense(24, activation='relu'))\n",
        "    model.add(Dense(actions, activation='linear'))\n",
        "    return model"
      ]
    },
    {
      "cell_type": "code",
      "execution_count": null,
      "id": "886a9de8",
      "metadata": {
        "id": "886a9de8"
      },
      "outputs": [],
      "source": [
        "model = build_model(states, actions)"
      ]
    },
    {
      "cell_type": "code",
      "execution_count": null,
      "id": "274ad666",
      "metadata": {
        "id": "274ad666",
        "outputId": "e6a31f16-c1a1-4608-83d3-6f9f609c9884"
      },
      "outputs": [
        {
          "name": "stdout",
          "output_type": "stream",
          "text": [
            "Model: \"sequential_3\"\n",
            "_________________________________________________________________\n",
            " Layer (type)                Output Shape              Param #   \n",
            "=================================================================\n",
            " dense_9 (Dense)             (None, 24)                48        \n",
            "                                                                 \n",
            " dense_10 (Dense)            (None, 24)                600       \n",
            "                                                                 \n",
            " dense_11 (Dense)            (None, 7)                 175       \n",
            "                                                                 \n",
            "=================================================================\n",
            "Total params: 823\n",
            "Trainable params: 823\n",
            "Non-trainable params: 0\n",
            "_________________________________________________________________\n"
          ]
        }
      ],
      "source": [
        "model.summary()"
      ]
    },
    {
      "cell_type": "code",
      "execution_count": null,
      "id": "fb6a8077",
      "metadata": {
        "id": "fb6a8077"
      },
      "outputs": [],
      "source": [
        "from rl.agents import DQNAgent\n",
        "from rl.policy import BoltzmannQPolicy\n",
        "from rl.memory import SequentialMemory"
      ]
    },
    {
      "cell_type": "code",
      "execution_count": null,
      "id": "ceecf697",
      "metadata": {
        "id": "ceecf697"
      },
      "outputs": [],
      "source": [
        "def build_agent(model, actions):\n",
        "    policy = BoltzmannQPolicy()\n",
        "    memory = SequentialMemory(limit=50000, window_length=1)\n",
        "    dqn = DQNAgent(model=model, memory=memory, policy=policy,\n",
        "                  nb_actions=actions, nb_steps_warmup=10, target_model_update=1e-2)\n",
        "    return dqn"
      ]
    },
    {
      "cell_type": "code",
      "execution_count": null,
      "id": "6931a956",
      "metadata": {
        "id": "6931a956",
        "outputId": "2a6b651f-6fb1-478d-eb99-5cca3a8dbf53"
      },
      "outputs": [
        {
          "name": "stdout",
          "output_type": "stream",
          "text": [
            "Training for 50000 steps ...\n",
            "Interval 1 (0 steps performed)\n",
            "10000/10000 [==============================] - 53s 5ms/step - reward: 34.1809\n",
            "909 episodes - episode_reward: 375.939 [-659.840, 710.200] - loss: 7112.251 - mae: 296.217 - mean_q: 390.067\n",
            "\n",
            "Interval 2 (10000 steps performed)\n",
            " 2892/10000 [=======>......................] - ETA: 44s - reward: 37.6262"
          ]
        }
      ],
      "source": [
        "dqn = build_agent(model, actions)\n",
        "dqn.compile(Adam(learning_rate=1e-3), metrics=['mae'])\n",
        "dqn.fit(env, nb_steps=50000, visualize=False, verbose=1)"
      ]
    },
    {
      "cell_type": "code",
      "execution_count": null,
      "id": "623261d7",
      "metadata": {
        "id": "623261d7"
      },
      "outputs": [],
      "source": [
        "scores = dqn.test(env, nb_episodes=10, visualize=False)\n",
        "print(np.mean(scores.history['episode_reward']))"
      ]
    },
    {
      "cell_type": "code",
      "execution_count": null,
      "id": "eb5d1b30",
      "metadata": {
        "id": "eb5d1b30",
        "outputId": "7305b75a-fb42-46f2-a0f9-c20287e950fe"
      },
      "outputs": [
        {
          "name": "stdout",
          "output_type": "stream",
          "text": [
            "[0, 0, 0, 0, 0, 0, 0, 0, 0, 0, 0, 0, 0, 0, 0, 0, 0, 0, 0, 0, 0, 0, 0, 0]\n"
          ]
        }
      ],
      "source": [
        "print(env.get_action_history())"
      ]
    },
    {
      "cell_type": "code",
      "execution_count": null,
      "id": "5a2dd135",
      "metadata": {
        "id": "5a2dd135"
      },
      "outputs": [],
      "source": [
        "print(env.get_profits_history())"
      ]
    },
    {
      "cell_type": "code",
      "execution_count": null,
      "id": "cad11bbe",
      "metadata": {
        "id": "cad11bbe"
      },
      "outputs": [],
      "source": []
    },
    {
      "cell_type": "code",
      "execution_count": null,
      "id": "f1d64129",
      "metadata": {
        "id": "f1d64129"
      },
      "outputs": [],
      "source": []
    }
  ],
  "metadata": {
    "kernelspec": {
      "display_name": "Python 3 (ipykernel)",
      "language": "python",
      "name": "python3"
    },
    "language_info": {
      "codemirror_mode": {
        "name": "ipython",
        "version": 3
      },
      "file_extension": ".py",
      "mimetype": "text/x-python",
      "name": "python",
      "nbconvert_exporter": "python",
      "pygments_lexer": "ipython3",
      "version": "3.9.13"
    },
    "colab": {
      "provenance": [],
      "include_colab_link": true
    }
  },
  "nbformat": 4,
  "nbformat_minor": 5
}