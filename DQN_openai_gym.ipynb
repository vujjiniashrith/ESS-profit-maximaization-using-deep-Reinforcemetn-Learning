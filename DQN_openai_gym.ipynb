{
  "cells": [
    {
      "cell_type": "markdown",
      "metadata": {
        "id": "view-in-github",
        "colab_type": "text"
      },
      "source": [
        "<a href=\"https://colab.research.google.com/github/vujjiniashrith/ESS-profit-maximaization-using-deep-Reinforcemetn-Learning/blob/main/DQN_openai_gym.ipynb\" target=\"_parent\"><img src=\"https://colab.research.google.com/assets/colab-badge.svg\" alt=\"Open In Colab\"/></a>"
      ]
    },
    {
      "cell_type": "code",
      "execution_count": null,
      "id": "9663802d",
      "metadata": {
        "id": "9663802d"
      },
      "outputs": [],
      "source": [
        "import numpy as np\n",
        "import pandas as pd\n",
        "import matplotlib.pyplot as plt\n",
        "import seaborn as sns\n",
        "import gym\n",
        "import random\n"
      ]
    },
    {
      "cell_type": "code",
      "execution_count": null,
      "id": "e87a0eed",
      "metadata": {
        "id": "e87a0eed"
      },
      "outputs": [],
      "source": [
        "# !pip install seaborn"
      ]
    },
    {
      "cell_type": "code",
      "execution_count": null,
      "id": "3db67978",
      "metadata": {
        "id": "3db67978"
      },
      "outputs": [],
      "source": [
        "# import tensorflow as tf\n",
        "\n",
        "# # Force CPU-only execution (useful if you have GPU-related issues)\n",
        "# tf.config.set_visible_devices([], 'GPU')"
      ]
    },
    {
      "cell_type": "code",
      "execution_count": null,
      "id": "e4d05f82",
      "metadata": {
        "id": "e4d05f82"
      },
      "outputs": [],
      "source": [
        "from gym import Env\n",
        "from gym import spaces\n",
        "from gym.spaces import Discrete, Box\n"
      ]
    },
    {
      "cell_type": "code",
      "execution_count": null,
      "id": "167ca535",
      "metadata": {
        "id": "167ca535"
      },
      "outputs": [],
      "source": [
        "data_elec = pd.read_csv(\"electicity_data_hourly.csv\")\n",
        "data_cons = pd.read_csv(\"consumer_data_hourly.csv\")"
      ]
    },
    {
      "cell_type": "code",
      "execution_count": null,
      "id": "d1f00057",
      "metadata": {
        "id": "d1f00057",
        "outputId": "25a8cbb3-10a4-4ed2-9d66-500b578123be"
      },
      "outputs": [
        {
          "name": "stdout",
          "output_type": "stream",
          "text": [
            "Index(['datetime', 'system_energy_price_da'], dtype='object')\n"
          ]
        }
      ],
      "source": [
        "print(data_elec.columns)"
      ]
    },
    {
      "cell_type": "code",
      "execution_count": null,
      "id": "7bc6279b",
      "metadata": {
        "id": "7bc6279b",
        "outputId": "2ec27225-2384-427a-e492-01ecc2e7da87"
      },
      "outputs": [
        {
          "name": "stdout",
          "output_type": "stream",
          "text": [
            "Index(['dateTime', 'use'], dtype='object')\n"
          ]
        }
      ],
      "source": [
        "print(data_cons.columns)"
      ]
    },
    {
      "cell_type": "code",
      "execution_count": null,
      "id": "488424d0",
      "metadata": {
        "id": "488424d0",
        "outputId": "14184adf-e22a-4846-b666-488affd8873d"
      },
      "outputs": [
        {
          "data": {
            "text/html": [
              "<div>\n",
              "<style scoped>\n",
              "    .dataframe tbody tr th:only-of-type {\n",
              "        vertical-align: middle;\n",
              "    }\n",
              "\n",
              "    .dataframe tbody tr th {\n",
              "        vertical-align: top;\n",
              "    }\n",
              "\n",
              "    .dataframe thead th {\n",
              "        text-align: right;\n",
              "    }\n",
              "</style>\n",
              "<table border=\"1\" class=\"dataframe\">\n",
              "  <thead>\n",
              "    <tr style=\"text-align: right;\">\n",
              "      <th></th>\n",
              "      <th>datetime</th>\n",
              "      <th>system_energy_price_da</th>\n",
              "    </tr>\n",
              "  </thead>\n",
              "  <tbody>\n",
              "    <tr>\n",
              "      <th>0</th>\n",
              "      <td>2022-01-01 00:00:00</td>\n",
              "      <td>21.02</td>\n",
              "    </tr>\n",
              "    <tr>\n",
              "      <th>1</th>\n",
              "      <td>2022-01-01 01:00:00</td>\n",
              "      <td>18.43</td>\n",
              "    </tr>\n",
              "    <tr>\n",
              "      <th>2</th>\n",
              "      <td>2022-01-01 02:00:00</td>\n",
              "      <td>18.11</td>\n",
              "    </tr>\n",
              "    <tr>\n",
              "      <th>3</th>\n",
              "      <td>2022-01-01 03:00:00</td>\n",
              "      <td>18.15</td>\n",
              "    </tr>\n",
              "    <tr>\n",
              "      <th>4</th>\n",
              "      <td>2022-01-01 04:00:00</td>\n",
              "      <td>17.70</td>\n",
              "    </tr>\n",
              "    <tr>\n",
              "      <th>5</th>\n",
              "      <td>2022-01-01 05:00:00</td>\n",
              "      <td>17.67</td>\n",
              "    </tr>\n",
              "  </tbody>\n",
              "</table>\n",
              "</div>"
            ],
            "text/plain": [
              "              datetime  system_energy_price_da\n",
              "0  2022-01-01 00:00:00                   21.02\n",
              "1  2022-01-01 01:00:00                   18.43\n",
              "2  2022-01-01 02:00:00                   18.11\n",
              "3  2022-01-01 03:00:00                   18.15\n",
              "4  2022-01-01 04:00:00                   17.70\n",
              "5  2022-01-01 05:00:00                   17.67"
            ]
          },
          "execution_count": 9,
          "metadata": {},
          "output_type": "execute_result"
        }
      ],
      "source": [
        "data_elec.head(6)"
      ]
    },
    {
      "cell_type": "code",
      "execution_count": null,
      "id": "d0c097a8",
      "metadata": {
        "id": "d0c097a8"
      },
      "outputs": [],
      "source": [
        "data_elec.rename(columns={'system_energy_price_da':'price'},inplace = True)"
      ]
    },
    {
      "cell_type": "code",
      "execution_count": null,
      "id": "c90501a8",
      "metadata": {
        "id": "c90501a8",
        "outputId": "c11db176-089c-492c-d7ba-70eb684fba33"
      },
      "outputs": [
        {
          "data": {
            "text/html": [
              "<div>\n",
              "<style scoped>\n",
              "    .dataframe tbody tr th:only-of-type {\n",
              "        vertical-align: middle;\n",
              "    }\n",
              "\n",
              "    .dataframe tbody tr th {\n",
              "        vertical-align: top;\n",
              "    }\n",
              "\n",
              "    .dataframe thead th {\n",
              "        text-align: right;\n",
              "    }\n",
              "</style>\n",
              "<table border=\"1\" class=\"dataframe\">\n",
              "  <thead>\n",
              "    <tr style=\"text-align: right;\">\n",
              "      <th></th>\n",
              "      <th>datetime</th>\n",
              "      <th>price</th>\n",
              "    </tr>\n",
              "  </thead>\n",
              "  <tbody>\n",
              "    <tr>\n",
              "      <th>0</th>\n",
              "      <td>2022-01-01 00:00:00</td>\n",
              "      <td>21.02</td>\n",
              "    </tr>\n",
              "    <tr>\n",
              "      <th>1</th>\n",
              "      <td>2022-01-01 01:00:00</td>\n",
              "      <td>18.43</td>\n",
              "    </tr>\n",
              "    <tr>\n",
              "      <th>2</th>\n",
              "      <td>2022-01-01 02:00:00</td>\n",
              "      <td>18.11</td>\n",
              "    </tr>\n",
              "    <tr>\n",
              "      <th>3</th>\n",
              "      <td>2022-01-01 03:00:00</td>\n",
              "      <td>18.15</td>\n",
              "    </tr>\n",
              "    <tr>\n",
              "      <th>4</th>\n",
              "      <td>2022-01-01 04:00:00</td>\n",
              "      <td>17.70</td>\n",
              "    </tr>\n",
              "  </tbody>\n",
              "</table>\n",
              "</div>"
            ],
            "text/plain": [
              "              datetime  price\n",
              "0  2022-01-01 00:00:00  21.02\n",
              "1  2022-01-01 01:00:00  18.43\n",
              "2  2022-01-01 02:00:00  18.11\n",
              "3  2022-01-01 03:00:00  18.15\n",
              "4  2022-01-01 04:00:00  17.70"
            ]
          },
          "execution_count": 11,
          "metadata": {},
          "output_type": "execute_result"
        }
      ],
      "source": [
        "data_elec.head()"
      ]
    },
    {
      "cell_type": "code",
      "execution_count": null,
      "id": "92d2d73d",
      "metadata": {
        "id": "92d2d73d"
      },
      "outputs": [],
      "source": [
        "from sklearn.preprocessing import MinMaxScaler"
      ]
    },
    {
      "cell_type": "code",
      "execution_count": null,
      "id": "1343bf63",
      "metadata": {
        "id": "1343bf63"
      },
      "outputs": [],
      "source": [
        "scaler = MinMaxScaler()\n",
        "data_elec['price'] = scaler.fit_transform(data_elec[['price']])"
      ]
    },
    {
      "cell_type": "code",
      "execution_count": null,
      "id": "ffcc61c7",
      "metadata": {
        "id": "ffcc61c7",
        "outputId": "5802e078-b4ce-4484-a8cd-cbd74f50ec6f"
      },
      "outputs": [
        {
          "data": {
            "text/html": [
              "<div>\n",
              "<style scoped>\n",
              "    .dataframe tbody tr th:only-of-type {\n",
              "        vertical-align: middle;\n",
              "    }\n",
              "\n",
              "    .dataframe tbody tr th {\n",
              "        vertical-align: top;\n",
              "    }\n",
              "\n",
              "    .dataframe thead th {\n",
              "        text-align: right;\n",
              "    }\n",
              "</style>\n",
              "<table border=\"1\" class=\"dataframe\">\n",
              "  <thead>\n",
              "    <tr style=\"text-align: right;\">\n",
              "      <th></th>\n",
              "      <th>datetime</th>\n",
              "      <th>price</th>\n",
              "    </tr>\n",
              "  </thead>\n",
              "  <tbody>\n",
              "    <tr>\n",
              "      <th>0</th>\n",
              "      <td>2022-01-01 00:00:00</td>\n",
              "      <td>0.016487</td>\n",
              "    </tr>\n",
              "    <tr>\n",
              "      <th>1</th>\n",
              "      <td>2022-01-01 01:00:00</td>\n",
              "      <td>0.010621</td>\n",
              "    </tr>\n",
              "    <tr>\n",
              "      <th>2</th>\n",
              "      <td>2022-01-01 02:00:00</td>\n",
              "      <td>0.009897</td>\n",
              "    </tr>\n",
              "    <tr>\n",
              "      <th>3</th>\n",
              "      <td>2022-01-01 03:00:00</td>\n",
              "      <td>0.009987</td>\n",
              "    </tr>\n",
              "    <tr>\n",
              "      <th>4</th>\n",
              "      <td>2022-01-01 04:00:00</td>\n",
              "      <td>0.008968</td>\n",
              "    </tr>\n",
              "  </tbody>\n",
              "</table>\n",
              "</div>"
            ],
            "text/plain": [
              "              datetime     price\n",
              "0  2022-01-01 00:00:00  0.016487\n",
              "1  2022-01-01 01:00:00  0.010621\n",
              "2  2022-01-01 02:00:00  0.009897\n",
              "3  2022-01-01 03:00:00  0.009987\n",
              "4  2022-01-01 04:00:00  0.008968"
            ]
          },
          "execution_count": 14,
          "metadata": {},
          "output_type": "execute_result"
        }
      ],
      "source": [
        "data_elec.head()"
      ]
    },
    {
      "cell_type": "code",
      "execution_count": null,
      "id": "1d6c54bc",
      "metadata": {
        "id": "1d6c54bc"
      },
      "outputs": [],
      "source": []
    },
    {
      "cell_type": "code",
      "execution_count": null,
      "id": "33fb4644",
      "metadata": {
        "id": "33fb4644"
      },
      "outputs": [],
      "source": [
        "data_cons.rename(columns={'use':'usage'},inplace = True)"
      ]
    },
    {
      "cell_type": "code",
      "execution_count": null,
      "id": "03da744d",
      "metadata": {
        "id": "03da744d",
        "outputId": "4ffc5de1-919d-4d62-86f7-dca2f85d4c12"
      },
      "outputs": [
        {
          "data": {
            "text/html": [
              "<div>\n",
              "<style scoped>\n",
              "    .dataframe tbody tr th:only-of-type {\n",
              "        vertical-align: middle;\n",
              "    }\n",
              "\n",
              "    .dataframe tbody tr th {\n",
              "        vertical-align: top;\n",
              "    }\n",
              "\n",
              "    .dataframe thead th {\n",
              "        text-align: right;\n",
              "    }\n",
              "</style>\n",
              "<table border=\"1\" class=\"dataframe\">\n",
              "  <thead>\n",
              "    <tr style=\"text-align: right;\">\n",
              "      <th></th>\n",
              "      <th>dateTime</th>\n",
              "      <th>usage</th>\n",
              "    </tr>\n",
              "  </thead>\n",
              "  <tbody>\n",
              "    <tr>\n",
              "      <th>0</th>\n",
              "      <td>2016-01-01 00:00:00</td>\n",
              "      <td>2.108533</td>\n",
              "    </tr>\n",
              "    <tr>\n",
              "      <th>1</th>\n",
              "      <td>2016-01-01 01:00:00</td>\n",
              "      <td>1.852600</td>\n",
              "    </tr>\n",
              "    <tr>\n",
              "      <th>2</th>\n",
              "      <td>2016-01-01 02:00:00</td>\n",
              "      <td>1.988000</td>\n",
              "    </tr>\n",
              "    <tr>\n",
              "      <th>3</th>\n",
              "      <td>2016-01-01 03:00:00</td>\n",
              "      <td>1.993267</td>\n",
              "    </tr>\n",
              "    <tr>\n",
              "      <th>4</th>\n",
              "      <td>2016-01-01 04:00:00</td>\n",
              "      <td>1.781533</td>\n",
              "    </tr>\n",
              "  </tbody>\n",
              "</table>\n",
              "</div>"
            ],
            "text/plain": [
              "              dateTime     usage\n",
              "0  2016-01-01 00:00:00  2.108533\n",
              "1  2016-01-01 01:00:00  1.852600\n",
              "2  2016-01-01 02:00:00  1.988000\n",
              "3  2016-01-01 03:00:00  1.993267\n",
              "4  2016-01-01 04:00:00  1.781533"
            ]
          },
          "execution_count": 16,
          "metadata": {},
          "output_type": "execute_result"
        }
      ],
      "source": [
        "data_cons.head()"
      ]
    },
    {
      "cell_type": "code",
      "execution_count": null,
      "id": "34e474dd",
      "metadata": {
        "id": "34e474dd",
        "outputId": "9d17d8aa-946d-4551-af78-77b2bfac150e"
      },
      "outputs": [
        {
          "name": "stdout",
          "output_type": "stream",
          "text": [
            "29.8692   0.0\n",
            "1.0   0.0\n"
          ]
        }
      ],
      "source": [
        "print(data_cons.usage.max(),\" \",data_cons.usage.min())\n",
        "print(data_elec.price.max(),\" \",data_elec.price.min())"
      ]
    },
    {
      "cell_type": "code",
      "execution_count": null,
      "id": "4f2fae08",
      "metadata": {
        "id": "4f2fae08",
        "outputId": "77358980-6bda-4d52-b778-fd7923d8188c"
      },
      "outputs": [
        {
          "name": "stdout",
          "output_type": "stream",
          "text": [
            "3.519333333333332   5.361010481177898\n"
          ]
        }
      ],
      "source": [
        "print(data_cons.usage.median(), \" \", data_cons.usage.mean())"
      ]
    },
    {
      "cell_type": "code",
      "execution_count": null,
      "id": "8fd1dfdb",
      "metadata": {
        "id": "8fd1dfdb",
        "outputId": "85f4e196-5a3a-4323-a1b7-bb7dbf750e4f"
      },
      "outputs": [
        {
          "data": {
            "text/plain": [
              "(8737, 2)"
            ]
          },
          "execution_count": 19,
          "metadata": {},
          "output_type": "execute_result"
        }
      ],
      "source": [
        "data_elec.shape"
      ]
    },
    {
      "cell_type": "code",
      "execution_count": null,
      "id": "bb79e6dc",
      "metadata": {
        "id": "bb79e6dc",
        "outputId": "bcba1f1c-f247-4a17-fb58-25d8dabc1a1e"
      },
      "outputs": [
        {
          "data": {
            "text/plain": [
              "(8784, 2)"
            ]
          },
          "execution_count": 20,
          "metadata": {},
          "output_type": "execute_result"
        }
      ],
      "source": [
        "data_cons.shape"
      ]
    },
    {
      "cell_type": "code",
      "execution_count": null,
      "id": "1e0a7ef2",
      "metadata": {
        "id": "1e0a7ef2",
        "outputId": "73396a7e-2663-4cf6-c055-d3f14447476a"
      },
      "outputs": [
        {
          "name": "stdout",
          "output_type": "stream",
          "text": [
            "(7027, 2) (1710, 2)\n",
            "(7027, 2) (1757, 2)\n"
          ]
        }
      ],
      "source": [
        "split_point = 7027\n",
        "train_elec = data_elec[:split_point]\n",
        "train_cons = data_cons[:split_point]\n",
        "test_elec = data_elec[split_point:]\n",
        "test_cons = data_cons[split_point:]\n",
        "print(train_elec.shape, test_elec.shape)\n",
        "print(train_cons.shape, test_cons.shape)"
      ]
    },
    {
      "cell_type": "code",
      "execution_count": null,
      "id": "97ff7f3b",
      "metadata": {
        "id": "97ff7f3b",
        "outputId": "9c3a243a-7438-4e7a-a3a1-04d94ec73712"
      },
      "outputs": [
        {
          "data": {
            "text/plain": [
              "[<matplotlib.lines.Line2D at 0x7f9a7f2ebc10>]"
            ]
          },
          "execution_count": 22,
          "metadata": {},
          "output_type": "execute_result"
        },
        {
          "data": {
            "image/png": "[encoded data removed]",
            "text/plain": [
              "<Figure size 640x480 with 1 Axes>"
            ]
          },
          "metadata": {},
          "output_type": "display_data"
        }
      ],
      "source": [
        "plt.plot(data_elec.price[:24])"
      ]
    },
    {
      "cell_type": "code",
      "execution_count": null,
      "id": "56eaefa4",
      "metadata": {
        "id": "56eaefa4"
      },
      "outputs": [],
      "source": []
    },
    {
      "cell_type": "code",
      "execution_count": null,
      "id": "c0751975",
      "metadata": {
        "id": "c0751975",
        "outputId": "8378b9cd-40a4-4467-cf5d-f6dfe6f4eedb"
      },
      "outputs": [
        {
          "data": {
            "text/plain": [
              "[<matplotlib.lines.Line2D at 0x7f9a7d1e99d0>]"
            ]
          },
          "execution_count": 23,
          "metadata": {},
          "output_type": "execute_result"
        },
        {
          "data": {
            "image/png": "[encoded data removed]",
            "text/plain": [
              "<Figure size 640x480 with 1 Axes>"
            ]
          },
          "metadata": {},
          "output_type": "display_data"
        }
      ],
      "source": [
        "plt.plot(data_cons.usage[0:100])"
      ]
    },
    {
      "cell_type": "code",
      "execution_count": null,
      "id": "3d27be07",
      "metadata": {
        "id": "3d27be07"
      },
      "outputs": [],
      "source": [
        "data_usage = data_cons['usage'].values"
      ]
    },
    {
      "cell_type": "code",
      "execution_count": null,
      "id": "60e82a31",
      "metadata": {
        "id": "60e82a31"
      },
      "outputs": [],
      "source": [
        "data_price = data_elec['price'].values"
      ]
    },
    {
      "cell_type": "markdown",
      "id": "3d1dfb83",
      "metadata": {
        "id": "3d1dfb83"
      },
      "source": [
        "# Create Custom Environment of SmartGrid"
      ]
    },
    {
      "cell_type": "code",
      "execution_count": null,
      "id": "78bb17ce",
      "metadata": {
        "id": "78bb17ce"
      },
      "outputs": [],
      "source": [
        "class SmartGrid(Env):\n",
        "    def __init__(self,data_usage,data_price):\n",
        "        #load electricity price data\n",
        "\n",
        "        self.data_price = data_price\n",
        "\n",
        "        #load consumer price data\n",
        "        self.data_usage = data_usage\n",
        "\n",
        "        #set maximum battery capacity\n",
        "        self.max_capacity = 10\n",
        "\n",
        "        #Actions that we can take\n",
        "        #0 == -3, 1 == -2, 2 == -1, 3 ==0 , 4 == 1, 5 == 2, 6== 3 total 7 actions to take\n",
        "        #-ve values stand for discharge and positive values stand for charge\n",
        "        self.action_space = Discrete(7)\n",
        "\n",
        "        #state\n",
        "        self.observation_space = Box(low=np.array([0]), high=np.array([10]))\n",
        "\n",
        "        #set initial start state\n",
        "        self.state = 0\n",
        "\n",
        "        #set initial position\n",
        "        self.time_step = 0\n",
        "\n",
        "        #initiate profits\n",
        "        self.profits =0\n",
        "\n",
        "\n",
        "\n",
        "        #current capacity\n",
        "        self.current_capacity = []\n",
        "\n",
        "        #action history\n",
        "        self.action_history = []\n",
        "\n",
        "        #profits history\n",
        "        self.profits_history = []\n",
        "\n",
        "        #rewards history\n",
        "        self.reward_history = []\n",
        "\n",
        "\n",
        "    def step(self,action):\n",
        "        reward = 0\n",
        "\n",
        "        reward = self.custom_reward(action)\n",
        "        reward += self.punishment_for_bad_choices( action)\n",
        "\n",
        "        self.reward_history.append(reward)\n",
        "        self.action_history.append(action - 3)  # Store the action in action_history\n",
        "        self.profits_history.append(self.profits)\n",
        "        self.current_capacity.append(self.state);\n",
        "\n",
        "        if self.time_step > 100:\n",
        "            done = True\n",
        "        else:\n",
        "            done = False\n",
        "\n",
        "        self.state += action - 3\n",
        "\n",
        "\n",
        "        info = {}\n",
        "        self.time_step += 1\n",
        "\n",
        "        return self.state, reward, done, info\n",
        "\n",
        "    def custom_reward(self,action):\n",
        "        reward = 0\n",
        "\n",
        "        # Calculate the change in profits due to the current action\n",
        "        prev_profits = self.profits\n",
        "        self.profits += (3 - action) * self.data_price[self.time_step]\n",
        "        profit_change = self.profits - prev_profits\n",
        "\n",
        "            # Define the reward based on the action type\n",
        "        if action < 3:\n",
        "            # rewarding for buying\n",
        "            reward = -1 * profit_change*10\n",
        "        elif action ==0:\n",
        "            reward = 0\n",
        "        else:\n",
        "            # penalizing for selling\n",
        "            reward = -1 * profit_change*2\n",
        "\n",
        "        return -reward\n",
        "\n",
        "\n",
        "\n",
        "    def punishment_for_bad_choices(self, action):\n",
        "        punishment = 0\n",
        "\n",
        "        #criteria for bad choices and assign a punishment\n",
        "        if action == 1 or action == 0 or action == 2:\n",
        "            if self.state < 3 - action:\n",
        "                # Penalize actions that attempt to discharge more than available\n",
        "                punishment = -5\n",
        "        elif action == 4 or action == 5 or action == 6:\n",
        "            if self.state > self.max_capacity - (action - 3):\n",
        "                # Penalize actions that attempt to charge beyond capacity\n",
        "                punishment = -5\n",
        "\n",
        "        #punishment for storing the energy after horizon\n",
        "#         if(self.time_step == 24):\n",
        "#             if(self.state != 0):\n",
        "#                 punishment = -10\n",
        "\n",
        "        return punishment\n",
        "\n",
        "    def render(self):\n",
        "        #implement vizualization\n",
        "        pass\n",
        "    def reset(self):\n",
        "        #reset the initial timestamp\n",
        "        self.time_step =0\n",
        "        self.profits = 0\n",
        "\n",
        "        #empty the entire battery\n",
        "        self.state = 0\n",
        "        #set done state as false\n",
        "        self.action_history = []\n",
        "        self.profits_history = []\n",
        "        self.reward_history = []\n",
        "        self.current_capacity=[]\n",
        "\n",
        "        return self.state\n",
        "    def get_action_history(self):\n",
        "        return self.action_history\n",
        "\n",
        "    def get_time_step(self):\n",
        "        return self.time_step\n",
        "    def get_reward_history(self):\n",
        "        return self.reward_history\n",
        "\n",
        "    def get_profits_history(self):\n",
        "        return self.profits_history\n",
        "    def get_current_capacity(self):\n",
        "        return self.current_capacity\n",
        ""
      ]
    },
    {
      "cell_type": "code",
      "execution_count": null,
      "id": "fccaa3c5",
      "metadata": {
        "id": "fccaa3c5"
      },
      "outputs": [],
      "source": []
    },
    {
      "cell_type": "code",
      "execution_count": null,
      "id": "ff91f733",
      "metadata": {
        "id": "ff91f733"
      },
      "outputs": [],
      "source": [
        "env = SmartGrid(data_usage,data_price)"
      ]
    },
    {
      "cell_type": "code",
      "execution_count": null,
      "id": "9cc6ce0d",
      "metadata": {
        "id": "9cc6ce0d",
        "outputId": "f106f9e4-7719-4916-d40d-6136da9d5331"
      },
      "outputs": [
        {
          "data": {
            "text/plain": [
              "array([8.157816], dtype=float32)"
            ]
          },
          "execution_count": 93,
          "metadata": {},
          "output_type": "execute_result"
        }
      ],
      "source": [
        "env.observation_space.sample()"
      ]
    },
    {
      "cell_type": "code",
      "execution_count": null,
      "id": "26f7082d",
      "metadata": {
        "id": "26f7082d",
        "outputId": "a24ca062-da9f-49ff-fcdd-f0a0a912128a"
      },
      "outputs": [
        {
          "name": "stdout",
          "output_type": "stream",
          "text": [
            "(1,)\n"
          ]
        }
      ],
      "source": [
        "print(env.observation_space.shape)"
      ]
    },
    {
      "cell_type": "code",
      "execution_count": null,
      "id": "307a8cba",
      "metadata": {
        "id": "307a8cba",
        "outputId": "921ef719-024e-4a5b-ca60-4dc7a010e9f7"
      },
      "outputs": [
        {
          "data": {
            "text/plain": [
              "array([0.016487  , 0.01062143, 0.00989673, 0.00998732, 0.0089682 ,\n",
              "       0.00890026])"
            ]
          },
          "execution_count": 95,
          "metadata": {},
          "output_type": "execute_result"
        }
      ],
      "source": [
        "data_elec.price[:6].values"
      ]
    },
    {
      "cell_type": "code",
      "execution_count": null,
      "id": "5af0c915",
      "metadata": {
        "id": "5af0c915",
        "outputId": "29d2c6b1-e4ce-4cab-ae76-026493161ca2"
      },
      "outputs": [
        {
          "name": "stdout",
          "output_type": "stream",
          "text": [
            "Episode:1 Score:-167.81814475948906\n",
            "[-2, 2, -2, 2, -2, -3, 3, 2, -1, -3, 0, -2, -1, 0, 2, -2, -2, 2, -1, -1, -2, 2, 1, 0, 0, -3, 3, -3, 2, 0, 3, 1, -1, 2, -1, 2, 3, 1, -3, -1, -3, 3, -1, -2, 0, 2, -2, 3, -1, -3, 1, 0, 1, -2, 0, -2, -2, 3, -3, 3, 2, 0, 0, 3, 3, 0, -3, -1, -3, -1, 2, 1, 2, 2, -3, 0, -2, 2, -2, -3, -3, 1, 0, 2, 2, 1, 3, 2, 1, 0, 0, -2, -1, 1, 3, 1, 2, -1, -2, -1, -3, 2]\n",
            "[-4.670259987317692, -0.04248573240329741, -4.802065404475043, -0.039949270767279624, -4.820635927167316, -4.732992118851345, -0.05408098559652141, -0.04076456200742819, -4.8575505027629315, -4.453754869100462, 0.0, -4.431107890207446, -4.721895099193768, 0.0, -0.10390433916115593, -4.533472234803877, -4.449225473321859, -0.13551952169580578, -4.678639369508108, -4.711251019114051, -4.412990307093034, -0.11495606486094756, -0.04823806504212336, 0.0, 0.0, -4.525772261980252, -0.09348672887036868, -4.53800163058248, -0.05933508469970106, 0.0, -0.10191140501857054, -0.038228100371410445, -4.7651508288794275, -0.11749252649696529, -4.69698342241145, -0.12401485641815382, -0.1842558202735755, -0.06064860947549597, -4.097064951535465, -4.694265784944289, -3.85791285442522, -0.3440529033426941, -4.458284264879065, -3.922003804692454, 0.0, -0.21034513995832954, -3.969562460367787, -0.2176827611196666, -4.651010055258628, -3.9815653591810856, -0.06671799981882415, 0.0, -0.07391973910680313, -4.068756227919196, 0.0, -3.3830057070386808, -3.4749524413443247, -0.4372678684663466, -2.8156988857686387, -0.4412084427937313, -0.25337439985505933, 0.0, 0.0, -0.3039677507020563, -0.44093667904701506, 0.0, -2.2348038771627863, -4.178820545339251, -2.8449134885406293, -4.278467252468521, -0.25110970196575777, -0.09932964942476674, -0.25944379019838754, -0.258719086873811, -3.1187154633571885, 0.0, -3.594528489899447, -0.3080895008605852, -2.7978077724431567, -0.38273394329196364, -2.077180904067398, -0.12999365884591008, 0.0, -0.26560376845728784, -0.25038499864118124, -0.1244677959960141, -0.36389165685297575, -0.241326207083975, -0.12913307364797533, 0.0, 0.0, -3.36715282181357, -4.252423226741553, -0.13964127185433473, -0.3826433553763927, -0.1168584110879608, -0.29359543436905516, 0.6873358094030255, 1.3080895008605853, 0.609430202011052, -3.0691185795814846, -0.287526044025727]\n",
            "102 102\n",
            "Episode:2 Score:-164.8348129359544\n",
            "[1, 3, -1, -1, 1, 0, 1, -1, -1, -1, 1, -1, -3, 1, -3, 2, 1, -3, -1, 3, -3, 1, 1, -2, -2, -1, 3, -1, 1, -3, -3, -1, -2, 2, -3, 3, -2, 2, 3, -2, 3, -2, -2, 2, 0, 1, -2, -2, 1, 1, -3, 2, 1, -1, -2, -3, 0, 3, 0, -1, 1, 3, 0, 3, -3, 0, -2, 0, -2, 3, -3, -3, -3, 3, 1, 2, 1, -2, -2, -2, 1, 2, 1, -1, 0, 1, -1, 1, -2, 1, 0, -1, 3, 3, 3, -2, -2, 0, 2, 1, 0, 3]\n",
            "[-0.03297400126823082, -0.06372859860494612, 0.0989672977624785, 0.09987317691819905, -0.017936407283268403, 0.0, -0.018026995198840462, 0.10191140501857043, 0.14244949723706862, 0.18208171029984604, -0.05530392245674427, 0.2844460548962769, -4.165685297581303, -0.05430745538545159, -4.2207174562913305, -0.09330555303922455, -0.05507745266781411, -3.983603587281457, -4.678639369508108, -0.17324938853156988, -4.119485460639551, -0.05747803243047378, -0.04823806504212336, -4.630854244043845, -4.629042485732404, -4.841924087326751, -0.09348672887036868, -4.846000543527493, -0.02966754234985053, -4.518298758945557, -4.490442974907147, -4.808859498142947, -4.530301657758855, -0.11749252649696529, -4.0909502672343505, -0.1860222846272307, -4.385813932421415, -0.12129721895099188, -0.18058700969290697, -4.388531569888577, -0.228417429114956, -3.8531569888576866, -3.9165685297581305, -0.21559923906150924, 0.0, -0.1051725699791648, -3.9695624603677873, -4.274390796267778, -0.06979798894827427, -0.06789564272126103, -3.9992300027176375, -0.13805598333182356, -0.07391973910680316, -4.534378113959598, -3.7299574236796813, -2.574508560558022, 0.0, -0.43726786846634647, 0.0, -4.264652595343781, -0.12668719992752964, -0.3539722800978349, 0.0, -0.3039677507020563, -2.795316604764925, 0.0, -3.1565359181085246, 0.0, -3.563275659027086, -0.43291964851888753, -3.1166772352568173, -3.5100552586284994, -3.0541715735120922, -0.38807863031071665, -0.12541896910952088, -0.24685206993387077, -0.14054715101005533, -3.4595524956970736, -2.7978077724431563, -1.9218226288613085, -0.194854606395507, -0.2599873176918197, -0.1457106621976627, -4.335990578856781, 0.0, -0.1244677959960141, -4.393513905245041, -0.1206631035419874, -3.7086692635202456, -0.1752423226741553, 0.0, -4.183576410906785, -0.44854606395506846, -0.41892381556300395, -0.3826433553763927, -3.8314158891203913, -3.532022828154724, 0.0, -0.26161790017211706, -0.1218860404022104, 0.0, -0.4312890660385904]\n",
            "102 102\n",
            "Episode:3 Score:-206.76134613642546\n",
            "[0, -2, 1, -3, -2, -2, 0, -2, -1, 1, -1, 0, -3, 1, -1, -1, -1, 1, -2, -2, -3, 2, 1, 1, -3, -1, 1, -3, 0, -3, 2, 3, 1, -1, 1, -2, 3, 2, -2, -1, 3, 3, 1, -1, -3, 1, -1, -3, -3, -3, 2, -2, -3, -3, 3, -2, 0, -3, -1, 0, 0, -2, 2, -1, 2, -1, -1, 1, 0, 2, 2, -1, 1, 0, -3, -3, 3, -3, 3, 3, 2, -3, 1, -2, -3, -3, 3, -3, 0, 2, 0, 1, 0, 2, 2, 3, -1, 0, 1, 3, 0, 3]\n",
            "[0.0, -4.787571337983513, -0.019793459552495694, -4.7003804692454025, -4.820635927167316, -4.821994745900897, 0.0, -4.796177189962859, -4.8575505027629315, -0.036416342059969214, -4.723480387716279, 0.0, -4.165685297581303, -0.054307455385451564, -4.74023915209711, -4.766736117401939, -4.724612736660929, -0.06775976084790292, -4.357278739016215, -4.4225020382281, -4.119485460639551, -0.11495606486094756, -0.04823806504212336, -0.036914575595615506, -4.443563728598605, -4.841924087326751, -0.0311622429567896, -4.53800163058248, 0.0, -4.518298758945557, -0.06794093667904699, -0.11468430111423134, -0.04696983422411449, -4.706268683757587, -0.06060331551770992, -4.379925717909231, -0.18425582027357557, -0.12129721895099188, -4.398043301023644, -4.694265784944289, -0.228417429114956, -0.3440529033426941, -0.10834314702418696, -4.4610019023462275, -3.406105625509557, -0.1051725699791648, -4.484781230183893, -3.911586194401667, -3.9530301657758855, -3.9815653591810856, -0.1334359996376483, -4.309720083340883, -3.891203913397953, -3.603134341878793, -0.3810127728960957, -3.3830057070386808, 0.0, -2.813660657668268, -4.271899628589546, 0.0, 0.0, -3.8200923996738845, -0.20644985958873097, -4.49338708216324, -0.29395778603134337, -3.8096747893830973, -4.078267959054262, -0.16423589093214952, 0.0, -0.2886130990125917, -0.25110970196575777, -4.503351752876167, -0.12972189509919385, 0.0, -3.118715463357189, -3.1486094754959693, -0.42164145303016576, -2.6893287435456106, -0.6606576682670531, -0.9234532113416072, -0.3897092127910136, -3.0500951173113506, -0.14571066219766282, -3.671981157713561, -3.12211251019114, -3.1329830600597877, -0.36389165685297575, -3.190053446870187, 0.0, -0.3504846453483106, 0.0, -0.16328471781864295, 0.0, -0.27928254370866923, -0.25509557025092855, -0.35057523326388257, -4.266011414077362, 0.0, -0.13080895008605853, -0.36565812120663105, 0.0, -0.4312890660385904]\n",
            "102 102\n",
            "Episode:4 Score:-159.2993477670079\n",
            "[0, 3, 3, 3, 0, 1, 1, 1, 2, 1, -1, 3, 2, 2, 0, -1, -2, -3, 2, -3, 1, 0, -3, 1, 3, -3, -1, -3, 1, -2, 2, 3, 2, -3, -3, -1, 3, -1, -2, 2, -1, 2, 3, -1, -2, -2, -2, 2, 3, 2, -1, 1, 1, -1, 3, 0, 3, 1, -3, -2, -3, 0, 3, -2, -3, -1, -3, -2, 0, 3, 2, 3, 2, 3, 2, -1, 0, -1, -3, 3, -3, -1, 3, -2, 3, 3, 1, 2, -3, -2, -2, 0, 1, 1, -2, -2, -1, 0, 3, 0, 2, 2]\n",
            "[0.0, -0.06372859860494612, -0.059380378657487076, -0.05992390615091944, 0.0, -0.01780052540991031, -5.0180269951988405, -5.020382281003714, -5.056979798894828, -5.036416342059969, 0.2765196122837213, -5.170667632937766, -5.111241960322493, -5.108614910770903, 0.0, 0.23326388259806152, 0.5507745266781411, 1.0163964127185432, -5.128544252196757, 0.8662469426578495, -5.058700969290697, 0.0, 0.7235709756318507, -5.036914575595616, -5.111287254280279, 0.4742277380197482, 0.15581121478394785, 0.46199836941751976, -0.02966754234985053, 0.32113416070296213, -0.067940936679047, -5.114684301114231, -5.093939668448229, 0.8811939487272398, 0.909049732765649, 0.3100371410453845, -5.184255820273576, 0.3032430473774798, 0.6019566989763565, -0.12229368602228462, 0.3806957151915934, -5.229368602228463, -5.3250294410725605, 0.5389980976537728, 1.0625962496602952, 1.0517256997916478, 1.0304375396322132, -0.1451218407464444, -5.209393966844823, -5.135791285442522, 0.33358999909412074, -5.069027991665911, -5.073919739106803, 0.4656218860404021, -5.381012772896096, 0.0, -5.457514267596703, -5.145755956155449, 2.1843011142313613, 1.470694809312438, 1.900307998912945, 0.0, -5.309674789383096, 1.013225835673521, 2.204683395235075, 1.1903252106169038, 2.7651961228372137, 1.6423589093214963, 0.0, -0.43291964851888765, -0.25110970196575777, -5.2979889482743, -5.259443790198388, -5.388078630310717, -5.250837938219042, 0.6171301748346769, 0.0, 0.770223752151463, 3.303288341335265, -5.923453211341608, 2.9228190959326024, 0.6499682942295497, -5.437131986592989, 1.3280188422864392, -5.375577497961772, -5.373403387988042, -5.121297218950992, -5.241326207083975, 1.9369961047196305, 1.7524232267415527, 1.6536823987680043, 0.0, -5.149515354651689, -5.139641271854335, 1.2754778512546425, 1.1685841108796087, 0.7339885859226378, 0.0, -5.392426850258175, 0.0, -5.257450856055802, -5.287526044025727]\n",
            "102 102\n",
            "Episode:5 Score:-217.09307908325027\n",
            "[3, 1, -1, 0, 3, 3, 3, 2, 1, -2, 1, 0, 0, 1, 3, 3, 0, -1, -2, 0, 2, -1, -2, -2, 3, -1, -1, 0, 2, 3, 2, 0, -1, 2, -2, -3, -1, -1, 3, -3, 1, 0, 2, 1, 2, 2, -2, -1, -1, 1, 3, -3, 0, -2, -3, 0, 1, -1, 2, 3, 1, -1, 3, 2, 1, -1, 1, -1, -1, -3, 3, -1, -3, 1, -1, 3, 3, 2, 2, 2, 0, 2, 1, 2, -1, -2, -2, 1, 2, 3, -2, 3, 3, 0, -2, 1, -3, 1, -3, 1, -3, 2]\n",
            "[-0.09892200380469246, -0.021242866201648697, 0.0989672977624785, 0.0, -0.05380922184980522, -0.05340157622973096, -5.054080985596522, -5.040764562007428, -5.028489899447414, 0.36416342059969214, -5.055303922456744, 0.0, 0.0, -5.054307455385452, -5.155856508741734, -5.139958329558837, 0.0, 0.3387988042395146, 0.6427212609837846, 0.0, -5.117401938581393, 0.2873901621523689, 0.48238065042123385, 0.36914575595615534, -5.111287254280279, 0.1580759126732495, 0.15581121478394772, 0.0, -5.059335084699701, -5.096340248210889, -5.067940936679047, 0.0, 0.23484917112057246, -5.1174925264969655, 0.6060331551770992, 0.9301114231361535, 0.3070930337892924, 0.3032430473774797, -5.180587009692907, 0.9172026451671347, -5.0761391430383185, 0.0, -5.216686294048374, -5.107799619530755, -5.212519249932059, -5.21034513995833, 1.030437539632213, 0.3628046018661113, 0.34898994474137135, -5.067895642721261, -5.2001539994564725, 1.0354198749886763, 0.0, 0.9312437720808042, 1.9050638644804783, 0.0, -5.152504755865568, 0.7287797807772444, -5.291240148564182, -5.441208442793731, -5.126687199927529, 0.5899538001630583, -5.309674789383096, -5.202645167134705, -5.146978893015672, 1.1903252106169038, -5.184346408189148, 0.8211794546607487, 0.7183621704864573, 2.164598242594438, -5.376664552948637, 0.49664824712383315, 1.9458284264879067, -5.129359543436905, 0.6270948455476039, -5.370278104900806, -5.4216414530301655, -5.308089500860586, -5.440438445511369, -5.615635474227738, 0.0, -5.25998731769182, -5.145710662197663, -5.265603768457288, 0.6259624966029542, 1.244677959960141, 1.21297218950992, -5.120663103541988, -5.25826614729595, -5.525726968022466, 1.6536823987680038, -5.489854153455929, -5.448546063955068, 0.0, 1.2754778512546405, -5.116858411087961, 2.201965757767914, -5.137467161880606, 1.9621342512908768, -5.12188604040221, 1.9308814204185154, -5.287526044025727]\n",
            "102 102\n",
            "Episode:6 Score:-93.90750973820093\n",
            "[2, 1, 1, 1, 0, 1, 2, 1, 1, 1, -2, 2, -2, 2, 2, 1, -3, 0, 0, -2, 3, -2, 3, -2, -2, -2, -3, -3, 1, 2, 1, -2, 1, 2, -1, -3, 3, -2, -3, 1, 2, 2, 2, -1, -3, -2, 3, 0, 2, -2, -3, 2, -2, -1, 3, -2, -3, -2, -2, 1, 2, -3, 0, 0, 2, 3, 0, -3, -1, -2, 2, 2, 3, -3, 1, 2, -3, 3, -1, -3, 0, -2, 0, 3, 2, 0, -1, 0, 1, -3, -3, 2, 0, -1, -3, -3, 1, -3, 0, 0, -1, -3]\n",
            "[-0.06594800253646164, -0.02124286620164871, -0.0197934595524957, -0.019974635383639805, 0.0, -0.01780052540991031, -0.03605399039768095, -0.020382281003714087, -0.02848989944741373, -5.036416342059969, 0.5530392245674426, -5.113778421958511, 0.556209801612465, -5.108614910770903, -5.103904339161156, -5.046652776519612, 0.8261617900172114, 0.0, 0.0, 0.5774979617718995, -5.17610290787209, 0.5747803243047378, -5.14471419512637, 0.36914575595615534, 0.37095751426759666, 0.3161518253464987, 0.4674336443518434, 0.46199836941751976, -0.02966754234985052, -0.06422683214059242, -0.0339704683395235, 0.3822810037141045, -0.0469698342241145, -0.11749252649696532, 0.3030165775885497, 0.9301114231361536, -0.1842558202735755, 0.6064860947549596, 0.9029350484645349, -0.061146843011142316, -0.15227828607663735, -0.22936860222846273, -0.21668629404837392, 0.5389980976537732, 1.593894374490443, 1.0517256997916478, -0.309131261889664, 0.0, -0.1395959778965486, 0.6789564272126097, 1.0007699972823623, -0.1380559833318235, 0.7391973910680314, 0.4656218860404021, -0.38101277289609564, 1.6169942929613188, -2.712428662016487, -3.5424404384455115, -3.543799257179092, -0.14706948093124383, -0.2533743998550593, -3.2301385995108256, 0.0, 0.0, -0.29395778603134337, -0.7141951263701422, 0.0, -2.536461636017755, -4.281637829513543, -3.5569345049370416, -0.25110970196575777, -0.19865929884953348, -0.38916568529758133, -3.059606848446417, -0.12541896910952077, -0.24685206993387082, -2.891792734849171, -0.46213425129087776, -3.8989038862215786, -0.38273394329196364, 0.0, -3.7000634115409, 0.0, -0.39840565268593164, -0.25038499864118124, 0.0, -4.39351390524504, 0.0, -0.12913307364797533, -2.371365159887671, -2.519476401847993, -0.3265694356372859, 0.0, -4.301793640728326, -3.086783223118037, -3.2471238336805874, -0.1467977171845276, -2.9379925717909217, 0.0, 0.0, -4.356372859860496, -2.843554669807047]\n",
            "102 102\n",
            "Episode:7 Score:-196.4699248120301\n",
            "[-3, 2, 0, 2, -2, -2, 3, -3, 0, -2, 2, -1, -1, -3, 0, 1, -1, -1, -2, -1, -3, 2, 0, 0, 3, 1, 3, 3, 0, 3, 1, 2, -3, -2, 0, 1, -2, 0, -1, -2, 3, -3, 3, -2, -3, 2, -3, 0, -3, 1, 3, -2, -2, 0, 0, -1, -2, 2, 2, -2, -3, 0, 2, -1, -2, 0, 3, 3, -1, 0, -1, 3, 2, -3, -2, 3, 1, 1, -1, -1, 2, -1, -2, 0, -2, -1, -1, -1, 2, 2, -2, 1, 1, 0, -1, 2, -2, 3, 0, 0, -1, 3]\n",
            "[-4.505389980976537, -0.04248573240329741, 0.0, -0.039949270767279624, -4.820635927167316, -4.821994745900897, -0.05408098559652141, -4.694265784944289, 0.0, -4.6358365794003085, -0.11060784491348853, -4.715553945103723, -4.721895099193768, -4.185388169218227, 0.0, -0.046652776519612305, -4.724612736660929, -4.661201195760485, -4.357278739016215, -4.71125101911405, -4.119485460639551, -0.11495606486094756, 0.0, 0.0, -0.11128725428027897, -0.0316151825346499, -0.09348672887036868, -0.09239967388350395, 0.0, -0.09634024821088863, -0.033970468339523496, -0.0764562007428209, 0.7045475133617176, -4.412537367515173, 0.0, -0.0620074282090769, -4.385813932421415, 0.0, -4.699021650511821, -4.388531569888577, -0.228417429114956, -3.2797354832865295, -0.3250294410725609, -3.922003804692454, -3.406105625509557, -0.2103451399583296, -3.45434369055168, 0.0, -3.953030165775886, -0.06789564272126092, -0.2001539994564725, -4.309720083340882, -4.260802608931968, 0.0, 0.0, -4.191502853519341, -3.4749524413443247, -0.2915119123108978, -0.29124014856418157, -3.5293051906875625, -3.0996920010870554, 0.0, -0.20644985958873097, -4.493387082163239, -3.5302110698432845, 0.0, -0.5530392245674427, -0.492707672796449, -4.281637829513542, 0.0, -4.372225745085606, -0.2979889482743002, -0.2594437901983876, -3.0596068484464167, -3.745810308904792, -0.37027810490080626, -0.14054715101005522, -0.15404475043029264, -3.898903886221578, -3.460911314430655, -0.38970921279101356, -4.3500317057704505, -3.5428933780233725, 0.0, -3.7480750067940938, -4.3776610200199295, -4.39351390524504, -4.396684482290062, -0.25826614729595065, -0.3504846453483106, -3.346317601231995, -0.16328471781864295, -0.1495153546516894, 0.0, -4.362261074372679, -0.23371682217592182, -3.532022828154724, -0.41240148564181545, 0.0, 0.0, -4.356372859860494, -0.4312890660385904]\n",
            "102 102\n",
            "Episode:8 Score:-100.78186429930244\n",
            "[-3, 0, 0, -2, -3, 0, -3, -2, -1, -2, 1, 3, -2, 1, 1, -1, -2, 1, 2, -1, 2, -1, 1, 2, 3, -1, 1, -1, 0, 0, 3, -1, -2, 1, -2, 3, -1, -1, 3, 0, 0, -3, 2, 2, 3, -3, 1, -2, 3, 2, 1, 3, 1, -2, 3, 3, -1, -1, -1, 2, -3, -1, -2, 1, -1, 2, 2, -1, 0, -3, 1, 3, 1, 1, -2, 2, 1, -2, -3, 2, 3, -1, 1, 1, 1, 0, 2, 2, -3, 0, 0, -1, 0, -3, -3, -2, 1, 1, -2, -3, 3, 1]\n",
            "[-4.505389980976537, 0.0, 0.0, -4.800253646163602, -4.730953890750974, 0.0, -4.729595072017393, -4.796177189962859, -4.8575505027629315, -4.635836579400308, -0.05530392245674426, -0.17066763293776613, -4.443790198387535, -0.05430745538545159, -0.05195216958057797, -4.766736117401939, -4.449225473321859, -0.06775976084790292, -0.12854425219675691, -4.711251019114051, -0.11740193858139324, -4.712609837847631, -0.048238065042123385, -0.07382915119123108, -0.11128725428027902, -4.841924087326751, -0.03116224295678957, -4.846000543527493, 0.0, 0.0, -0.10191140501857052, -4.808859498142947, -4.530301657758855, -0.05874626324848266, -4.3939668448229, -0.1860222846272307, -4.692906966210708, -4.69675695262252, -0.18058700969290697, 0.0, 0.0, -3.2797354832865295, -0.21668629404837392, -0.21559923906150918, -0.31877887489808865, -3.4224114503125285, -0.1030437539632213, -4.274390796267778, -0.20939396684482292, -0.13579128544252195, -0.0667179998188242, -0.20708397499773523, -0.07391973910680316, 0.9312437720808042, -0.3810127728960956, -0.4850982878883956, 0.7625237793278372, 0.7287797807772445, 0.7281003714104539, -0.29413896186248767, 1.9003079989129446, 0.5899538001630578, 1.0322492979436544, -0.10132258356735213, 0.7348944650783584, -0.4761300842467614, -0.3686928163782952, 0.8211794546607487, 0.0, 2.164598242594438, -0.12555485098287889, -0.2979889482743001, -0.12972189509919385, -0.12935954343690548, 1.2541896910952077, -0.24685206993387077, -0.14054715101005533, 1.5404475043029264, 3.303288341335265, -0.6156354742277381, -0.5845638191865203, 0.6499682942295493, -0.14571066219766293, -5.132801884228644, -5.12519249932059, 0.0, -5.2425944379019835, -5.241326207083975, 1.9369961047196305, 0.0, 0.0, 0.8164235890932159, 0.0, 2.09461907781502, 1.9132167768819641, 1.1685841108796091, -0.1467977171845276, -0.13746716188060515, 1.3080895008605853, 1.828290606033155, -0.3861762840837031, -0.1437630220128634]\n",
            "102 102\n",
            "Episode:9 Score:-96.6712111604312\n",
            "[1, 1, 2, -3, -3, 2, 1, 3, 2, -1, 3, 1, -1, -3, -1, 0, -1, -3, -1, 3, -3, 3, -3, -2, -2, -3, -2, -2, 3, 0, -1, 0, -2, 0, -1, -2, 2, 1, 3, 1, 3, 3, 2, -1, -2, 3, 1, 3, -2, -3, 0, 1, -2, -1, 3, 3, -3, -1, 2, 3, 1, -2, 1, -3, -3, 0, 0, 0, 3, 3, 3, 1, -1, 3, 0, 1, 0, -1, -2, 0, 2, 1, -3, -1, -2, 2, 3, -3, -2, -1, 3, -3, 3, 2, 0, 2, -3, 2, 3, 1, 0, -1]\n",
            "[-0.03297400126823082, -0.021242866201648704, -0.03958691910499139, 0.2996195307545972, -4.730953890750974, -0.03560105081982064, -0.01802699519884047, -0.06114684301114228, -0.056979798894827446, 0.18208171029984607, -0.1659117673702328, -0.05688921097925537, 0.2781049008062325, 0.8146118307817738, 0.25976084790288984, 0.0, 0.2753872633390705, 1.0163964127185434, -4.678639369508108, -0.17324938853156988, -4.119485460639551, -0.1724340972914213, -4.2764290243681495, -4.630854244043844, -4.629042485732404, -4.525772261980252, -4.688377570432104, -4.692001087054987, -0.08900262704955153, 0.0, -4.830147658302383, 0.0, -4.530301657758855, 0.0, -4.69698342241145, -4.379925717909231, -0.12283721351571697, -0.060648609475495996, -0.18058700969290697, -0.061146843011142316, -0.22841742911495602, -0.3440529033426941, -0.21668629404837395, -4.4610019023462275, -3.937403750339705, -0.3155177099374943, -0.1030437539632213, -0.21768276111966667, 0.6979798894827427, -3.9815653591810856, 0.0, -0.06902799166591173, -4.260802608931969, -4.534378113959598, -0.38101277289609564, -0.4850982878883957, 2.287571337983513, -4.271220219222755, -0.29124014856418157, -0.4412084427937313, -0.12668719992752964, 1.1799076003261166, -0.10322492979436548, 1.5198387535102813, -2.795316604764925, 0.0, 0.0, 0.0, -0.4310173022918743, -0.43291964851888776, -0.37666455294863654, -0.09932964942476685, 0.6486094754959693, -0.38807863031071665, 0.0, -5.123426034966935, 0.0, 0.7702237521514621, 2.2021922275568437, 0.0, -0.38970921279101356, -5.12999365884591, 2.185659932964943, 0.664009421143219, 1.2519249932059062, -0.2489355919920282, -0.36389165685297575, 1.8099465531298131, 1.2913307364797533, 0.8762116133707765, -0.49610471963040137, 2.4492707672796445, -0.44854606395506846, -0.27928254370866923, 0.0, -5.233716822175921, 2.201965757767914, -0.2749343237612103, -5.392426850258175, -5.12188604040221, 0.0, 0.718815110064317]\n",
            "102 102\n",
            "Episode:10 Score:-45.77167315880063\n",
            "[2, -2, -2, -3, 1, -2, 1, 0, -2, -2, 1, -3, 2, 1, -2, 1, -1, 2, 3, -2, 3, 0, 3, -2, -3, 1, 3, 3, -2, 2, 3, 1, 0, -1, 1, 2, -2, 2, 0, 2, -3, -3, 3, -3, 0, 0, 2, -3, 1, 1, 2, 1, 1, -3, 2, 3, -3, -1, -3, -3, -3, 1, 2, -1, 1, -1, 1, 3, 3, 2, 0, -3, 0, 0, 1, -3, 0, 1, 3, -1, -1, -2, 3, -3, -1, -3, 3, -1, 3, -1, -1, 3, 1, 0, 3, 1, -2, 1, 1, -3, -1, -2]\n",
            "[-0.06594800253646164, 0.21242866201648702, -4.802065404475043, -4.7003804692454025, -0.017936407283268403, -4.821994745900897, -0.018026995198840462, 0.0, -4.715101005525863, -4.635836579400308, -0.05530392245674426, -4.1466618353111695, -0.111241960322493, -0.05430745538545159, -4.480478304194221, -0.04665277651961228, -4.72461273666093, -0.13551952169580578, -0.19281637829513537, -4.4225020382281, -0.17610290787208985, 0.0, -0.14471419512637013, -4.630854244043845, -4.443563728598605, -0.03161518253464987, -0.09348672887036868, -0.09239967388350398, -4.703324576501495, -0.06422683214059244, -0.10191140501857054, -0.038228100371410445, 0.0, 0.2937313162424132, -0.06060331551770992, -0.1240148564181538, 0.6141860675785851, -0.12129721895099194, 0.0, -0.12229368602228463, 1.1420871455747799, 1.7202645167134705, -0.3250294410725609, 1.616994292961319, 0.0, 0.0, -0.20608750792644265, 1.088413805598333, -0.0697979889482743, -0.06789564272126097, -0.13343599963764827, -0.06902799166591178, -0.07391973910680316, 1.3968656581212064, -0.25400851526406376, -0.4850982878883956, 2.287571337983513, 0.7287797807772445, 2.1843011142313613, 2.2060422139686566, -3.099692001087055, -0.11799076003261166, -0.20644985958873086, -4.493387082163239, -0.14697889301567169, -3.809674789383096, -0.1843464081891475, -0.492707672796449, -0.43101730229187424, -0.28861309901259175, 0.0, 1.489944741371501, 0.0, 0.0, -0.12541896910952077, 1.8513905245040312, 0.0, -0.1540447504302926, -0.6606576682670531, 1.5390886855693453, 0.9742730319775339, 1.2999365884590994, -0.4371319865929885, 1.9920282634296589, 0.6259624966029532, -3.132983060059788, -0.3638916568529758, 0.6033155177099375, -0.3873992209439261, 0.8762116133707764, 0.8268411993840021, -0.489854153455929, -0.1495153546516894, 0.0, -0.3826433553763928, -0.11685841108796091, 1.467977171845276, -0.13746716188060515, -0.13080895008605853, 1.828290606033155, 0.6436271401395055, 1.4376302201286348]\n",
            "102 102\n"
          ]
        }
      ],
      "source": [
        "episodes = 10\n",
        "for episode in range(1,episodes+1):\n",
        "    state = env.reset()\n",
        "    done = False\n",
        "    score = 0\n",
        "\n",
        "    while not done:\n",
        "\n",
        "        action = env.action_space.sample()\n",
        "        n_state , reward, done, info = env.step(action)\n",
        "        score+=reward\n",
        "    print('Episode:{} Score:{}'.format(episode,score))\n",
        "    action_history = env.get_action_history()\n",
        "    print(action_history)\n",
        "    #print(env.get_profits_history())\n",
        "    print(env.get_reward_history())\n",
        "    print(len(action_history),env.get_time_step())\n",
        ""
      ]
    },
    {
      "cell_type": "markdown",
      "id": "724b4696",
      "metadata": {
        "id": "724b4696"
      },
      "source": [
        "# Creating Deep Learning Model with Keras"
      ]
    },
    {
      "cell_type": "code",
      "execution_count": null,
      "id": "ccf83220",
      "metadata": {
        "id": "ccf83220"
      },
      "outputs": [],
      "source": [
        "import numpy as np\n",
        "from tensorflow.keras.models import Sequential\n",
        "from tensorflow.keras.layers import Dense, Flatten\n",
        "from tensorflow.keras.optimizers import Adam"
      ]
    },
    {
      "cell_type": "code",
      "execution_count": null,
      "id": "facac12b",
      "metadata": {
        "id": "facac12b"
      },
      "outputs": [],
      "source": [
        "states = env.observation_space.shape\n",
        "actions = env.action_space.n"
      ]
    },
    {
      "cell_type": "code",
      "execution_count": null,
      "id": "a3fb6be9",
      "metadata": {
        "id": "a3fb6be9"
      },
      "outputs": [],
      "source": [
        "!"
      ]
    },
    {
      "cell_type": "code",
      "execution_count": null,
      "id": "d6a91724",
      "metadata": {
        "id": "d6a91724"
      },
      "outputs": [],
      "source": [
        "del model"
      ]
    },
    {
      "cell_type": "code",
      "execution_count": null,
      "id": "c63cf7b6",
      "metadata": {
        "id": "c63cf7b6",
        "outputId": "86e42b84-eac9-48de-9055-c79efe4a25d8"
      },
      "outputs": [
        {
          "name": "stdout",
          "output_type": "stream",
          "text": [
            "(1,)\n",
            "7\n"
          ]
        }
      ],
      "source": [
        "print(states)\n",
        "print(actions)"
      ]
    },
    {
      "cell_type": "code",
      "execution_count": null,
      "id": "c05b1d9e",
      "metadata": {
        "id": "c05b1d9e"
      },
      "outputs": [],
      "source": [
        "def build_model(states, actions):\n",
        "    model = Sequential()\n",
        "\n",
        "    model.add(Dense(24, activation='relu', input_shape=(1,)))  # Use input_shape as a tuple with a single integer\n",
        "    model.add(Dense(64, activation='relu'))\n",
        "    model.add(Dense(24, activation='relu'))\n",
        "    model.add(Dense(actions, activation='linear'))\n",
        "    return model"
      ]
    },
    {
      "cell_type": "code",
      "execution_count": null,
      "id": "886a9de8",
      "metadata": {
        "id": "886a9de8"
      },
      "outputs": [],
      "source": [
        "model = build_model(states, actions)"
      ]
    },
    {
      "cell_type": "code",
      "execution_count": null,
      "id": "274ad666",
      "metadata": {
        "id": "274ad666",
        "outputId": "760b4fae-ce87-4810-fe58-e94101f3a71c"
      },
      "outputs": [
        {
          "name": "stdout",
          "output_type": "stream",
          "text": [
            "Model: \"sequential_3\"\n",
            "_________________________________________________________________\n",
            " Layer (type)                Output Shape              Param #   \n",
            "=================================================================\n",
            " dense_12 (Dense)            (None, 24)                48        \n",
            "                                                                 \n",
            " dense_13 (Dense)            (None, 64)                1600      \n",
            "                                                                 \n",
            " dense_14 (Dense)            (None, 24)                1560      \n",
            "                                                                 \n",
            " dense_15 (Dense)            (None, 7)                 175       \n",
            "                                                                 \n",
            "=================================================================\n",
            "Total params: 3,383\n",
            "Trainable params: 3,383\n",
            "Non-trainable params: 0\n",
            "_________________________________________________________________\n"
          ]
        }
      ],
      "source": [
        "model.summary()"
      ]
    },
    {
      "cell_type": "code",
      "execution_count": null,
      "id": "fb6a8077",
      "metadata": {
        "id": "fb6a8077"
      },
      "outputs": [],
      "source": [
        "from rl.agents import DQNAgent\n",
        "from rl.policy import BoltzmannQPolicy\n",
        "from rl.memory import SequentialMemory\n",
        "from rl.policy import EpsGreedyQPolicy"
      ]
    },
    {
      "cell_type": "code",
      "execution_count": null,
      "id": "ceecf697",
      "metadata": {
        "id": "ceecf697"
      },
      "outputs": [],
      "source": [
        "def build_agent(model, actions):\n",
        "    policy = EpsGreedyQPolicy(eps=0.2)\n",
        "    memory = SequentialMemory(limit=50000, window_length=1)\n",
        "    dqn = DQNAgent(model=model, memory=memory, policy=policy,\n",
        "                  nb_actions=actions, nb_steps_warmup=10, target_model_update=1e-4,gamma = 0.99)\n",
        "    return dqn"
      ]
    },
    {
      "cell_type": "code",
      "execution_count": null,
      "id": "6931a956",
      "metadata": {
        "id": "6931a956",
        "outputId": "861e9744-d265-4f08-f2b1-7b7f5110dd8a"
      },
      "outputs": [
        {
          "name": "stdout",
          "output_type": "stream",
          "text": [
            "Training for 100000 steps ...\n",
            "Interval 1 (0 steps performed)\n",
            "10000/10000 [==============================] - 37s 4ms/step - reward: -0.7626\n",
            "98 episodes - episode_reward: -77.821 [-383.338, 37.333] - loss: 7.501 - mae: 3.286 - mean_q: 5.985\n",
            "\n",
            "Interval 2 (10000 steps performed)\n",
            "10000/10000 [==============================] - 37s 4ms/step - reward: 0.2502\n",
            "98 episodes - episode_reward: 25.525 [-72.006, 48.003] - loss: 1.025 - mae: 1.632 - mean_q: 2.479\n",
            "\n",
            "Interval 3 (20000 steps performed)\n",
            "10000/10000 [==============================] - 38s 4ms/step - reward: 0.2033\n",
            "98 episodes - episode_reward: 20.735 [-58.089, 46.128] - loss: 0.679 - mae: 1.577 - mean_q: 2.567\n",
            "\n",
            "Interval 4 (30000 steps performed)\n",
            "10000/10000 [==============================] - 39s 4ms/step - reward: 0.1636\n",
            "98 episodes - episode_reward: 16.682 [-73.141, 46.647] - loss: 0.579 - mae: 2.082 - mean_q: 3.007\n",
            "\n",
            "Interval 5 (40000 steps performed)\n",
            "10000/10000 [==============================] - 40s 4ms/step - reward: 0.3288\n",
            "98 episodes - episode_reward: 33.538 [-5.031, 55.461] - loss: 0.528 - mae: 2.376 - mean_q: 3.433\n",
            "\n",
            "Interval 6 (50000 steps performed)\n",
            "10000/10000 [==============================] - 40s 4ms/step - reward: 0.3117\n",
            "98 episodes - episode_reward: 31.800 [7.376, 52.828] - loss: 0.468 - mae: 2.514 - mean_q: 3.708\n",
            "\n",
            "Interval 7 (60000 steps performed)\n",
            "10000/10000 [==============================] - 40s 4ms/step - reward: 0.3471\n",
            "98 episodes - episode_reward: 35.464 [8.542, 47.386] - loss: 0.484 - mae: 2.940 - mean_q: 4.260\n",
            "\n",
            "Interval 8 (70000 steps performed)\n",
            "10000/10000 [==============================] - 38s 4ms/step - reward: 0.3413\n",
            "98 episodes - episode_reward: 35.024 [7.538, 47.885] - loss: 0.454 - mae: 3.218 - mean_q: 4.599\n",
            "\n",
            "Interval 9 (80000 steps performed)\n",
            "10000/10000 [==============================] - 38s 4ms/step - reward: 0.3337\n",
            "98 episodes - episode_reward: 33.904 [2.227, 46.571] - loss: 0.426 - mae: 3.507 - mean_q: 4.896\n",
            "\n",
            "Interval 10 (90000 steps performed)\n",
            "10000/10000 [==============================] - 38s 4ms/step - reward: 0.3047\n",
            "done, took 385.277 seconds\n"
          ]
        },
        {
          "data": {
            "text/plain": [
              "<keras.callbacks.History at 0x7f99c02f3d90>"
            ]
          },
          "execution_count": 107,
          "metadata": {},
          "output_type": "execute_result"
        }
      ],
      "source": [
        "dqn = build_agent(model, actions)\n",
        "dqn.compile(Adam(learning_rate=1e-5), metrics=['mae'])\n",
        "dqn.fit(env, nb_steps=100000, visualize=False, verbose=1)"
      ]
    },
    {
      "cell_type": "code",
      "execution_count": null,
      "id": "eb5d1b30",
      "metadata": {
        "id": "eb5d1b30",
        "outputId": "e7a92720-77e8-40b6-9922-089d2795e052"
      },
      "outputs": [
        {
          "name": "stdout",
          "output_type": "stream",
          "text": [
            "[2, 3, 3, -2, 3, -2, -2, 3, -2, 3, -2, -2, 3, -2, 3, -2, -2, 3, -2, 3, -2, -2, 3, -2, 3, -2, -2, 3, -2, 3, -2, -2, 3, -2, 3, -2, -2, 3, -2, 3, -2, -2, 3, -2, 3, -2, -2, 3, -2, 3, -2, -2, 3, -2, 3, -2, -2, 3, -2, 3, -2, -2, 3, -2, 3, -2, -2, 3, -2, 3, -2, -2, 3, -2, 3, -2, -2, 3, -2, 3, -2, -2, 3, -2, 3, -2, -2, 3, -2, 3, -2, -2, 3, -2, 3, -2, -2, 3, -2, 3, -2, -2]\n"
          ]
        }
      ],
      "source": [
        "print(env.get_action_history())"
      ]
    },
    {
      "cell_type": "code",
      "execution_count": null,
      "id": "5c48e39e",
      "metadata": {
        "id": "5c48e39e",
        "outputId": "bce2abb6-89ca-4623-9c72-e058cc7e1ad2"
      },
      "outputs": [
        {
          "name": "stdout",
          "output_type": "stream",
          "text": [
            "Testing for 10 episodes ...\n",
            "Episode 1: reward: 47.677, steps: 102\n",
            "Episode 2: reward: 47.677, steps: 102\n",
            "Episode 3: reward: 47.677, steps: 102\n",
            "Episode 4: reward: 47.677, steps: 102\n",
            "Episode 5: reward: 47.677, steps: 102\n",
            "Episode 6: reward: 47.677, steps: 102\n",
            "Episode 7: reward: 47.677, steps: 102\n",
            "Episode 8: reward: 47.677, steps: 102\n",
            "Episode 9: reward: 47.677, steps: 102\n",
            "Episode 10: reward: 47.677, steps: 102\n",
            "47.67678231723887\n"
          ]
        }
      ],
      "source": [
        "scores = dqn.test(env, nb_episodes=10, visualize=False)\n",
        "print(np.mean(scores.history['episode_reward']))"
      ]
    },
    {
      "cell_type": "code",
      "execution_count": null,
      "id": "5a2dd135",
      "metadata": {
        "id": "5a2dd135",
        "outputId": "943dda3a-1875-4dfa-fa1e-7b63e58bc776"
      },
      "outputs": [
        {
          "name": "stdout",
          "output_type": "stream",
          "text": [
            "[-0.03297400126823082, -0.06483830057070389, -0.09452848989944743, -0.07455385451580762, -0.10145846544071023, -0.0836579400307999, -0.06563094483195944, -0.09620436633753059, -0.06771446689011687, -0.12233897998007068, -0.06703505752332642, -0.010145846544071045, -0.09357731678594078, -0.039269861400489194, -0.11719811577135614, -0.07054533925174386, -0.015467886583929759, -0.1171075278557841, -0.05283540175740564, -0.1394600960231906, -0.08075912673249397, -0.023281094302020196, -0.09563819186520525, -0.05872361626958971, -0.11436724340972923, -0.08275206087507936, -0.051589817918289795, -0.09778965486004176, -0.06812211251019124, -0.11629223661563555, -0.08232176827611204, -0.04409366790470159, -0.11454841924087333, -0.05580215599239068, -0.1467071292689556, -0.0846997010598787, -0.023281094302020196, -0.11425400851526413, -0.05405833861762847, -0.14577860313434193, -0.06963946009602326, 0.045044841018208104, -0.11746987951807233, -0.009670259987317742, -0.16905969743636204, -0.06388712745719727, 0.039156626506024056, -0.06968475405380925, 0.00011323489446504742, -0.10173022918742641, -0.035012229368602266, 0.03401576229730949, -0.07686384636289521, 0.01626053084518521, -0.1742458556028626, -0.012546426306730724, 0.1399583295588368, -0.07867560467433649, 0.06694446960775427, -0.1536597517891114, -0.026972551861581734, 0.0910182081710299, -0.06381918652051824, 0.037503397046833864, -0.18296494247667366, 0.05510009964670706, 0.2394465078358546, -0.006907328562369891, 0.13676510553492152, -0.0796947187245223, 0.045860132258356584, 0.14518978168312333, -0.04939306096566734, 0.07996648247123816, -0.108161971193043, 0.015264063773892417, 0.1558112147839477, -0.0752559108614912, 0.14496331189419318, -0.3167632937766104, -0.12190868738110358, 0.008084971464806356, -0.21048102183168788, -0.07767913760304396, -0.26546788658392995, -0.14100009058791582, -0.019702871636923885, -0.20069752694990514, -0.07156445330192979, -0.33442793731316267, -0.16905969743636223, -0.00577497961771925, -0.23004801159525345, -0.09040673974091881, -0.28172841742911514, -0.16487000634115428, -0.018072289156626703, -0.22427303197753443, -0.09346408189147593, -0.2762931424947914, -0.14756771446689035, -0.00380469245402687]\n"
          ]
        }
      ],
      "source": [
        "print(env.get_profits_history())"
      ]
    },
    {
      "cell_type": "code",
      "execution_count": null,
      "id": "cad11bbe",
      "metadata": {
        "id": "cad11bbe",
        "outputId": "94329b28-432e-4bd8-9e9a-7a3d297a9f91"
      },
      "outputs": [
        {
          "name": "stdout",
          "output_type": "stream",
          "text": [
            "[-0.06594800253646164, -0.06372859860494613, -0.059380378657487076, 0.19974635383639805, -0.05380922184980522, 0.17800525409910326, 0.18026995198840462, -0.06114684301114229, 0.28489899447413713, -0.10924902617990762, 0.5530392245674426, 0.5688921097925538, -0.16686294048373945, 0.5430745538545159, -0.1558565087417339, 0.46652776519612277, 0.550774526678141, -0.2032792825437087, 0.6427212609837846, -0.1732493885315699, 0.5870096929069663, 0.5747803243047377, -0.14471419512637013, 0.3691457559561554, -0.11128725428027904, 0.3161518253464987, 0.31162242956789565, -0.09239967388350394, 0.2966754234985053, -0.09634024821088863, 0.3397046833952351, 0.3822810037141045, -0.14090950267234348, 0.5874626324848266, -0.18180994655312982, 0.620074282090769, 0.6141860675785851, -0.18194582842648788, 0.6019566989763566, -0.18344052903342695, 0.7613914303831868, 1.1468430111423136, -0.3250294410725609, 1.0779961953075459, -0.3187788748980886, 1.0517256997916478, 1.0304375396322132, -0.2176827611196666, 0.6979798894827429, -0.20368692816378292, 0.6671799981882415, 0.6902799166591176, -0.2217592173204094, 0.9312437720808042, -0.3810127728960956, 1.6169942929613188, 1.5250475586556753, -0.4372678684663466, 1.4562007428209076, -0.44120844279373134, 1.2668719992752966, 1.1799076003261164, -0.3096747893830963, 1.013225835673521, -0.44093667904701506, 2.380650421233807, 1.8434640818914754, -0.492707672796449, 1.4367243409729142, -0.43291964851888765, 1.2555485098287889, 0.9932964942476674, -0.38916568529758133, 1.293595434369055, -0.3762569073285623, 1.234260349669354, 1.4054715101005528, -0.46213425129087776, 2.2021922275568437, -0.9234532113416072, 1.948546063955068, 1.2999365884590994, -0.43713198659298846, 1.3280188422864392, -0.375577497961772, 1.2446779599601412, 1.2129721895099195, -0.3619893106259625, 1.2913307364797535, -0.5257269680224658, 1.6536823987680043, 1.6328471781864298, -0.4485460639550684, 1.3964127185433464, -0.38264335537639266, 1.1685841108796087, 1.4679771718452759, -0.41240148564181545, 1.308089500860585, -0.365658121206631, 1.2872542802790108, 1.4376302201286348]\n"
          ]
        }
      ],
      "source": [
        "print(env.get_reward_history())"
      ]
    },
    {
      "cell_type": "code",
      "execution_count": null,
      "id": "a1abf473",
      "metadata": {
        "id": "a1abf473",
        "outputId": "bbb10045-5830-480e-a71e-caf011e641a7"
      },
      "outputs": [
        {
          "name": "stdout",
          "output_type": "stream",
          "text": [
            "[0, 2, 5, 8, 6, 9, 7, 5, 8, 6, 9, 7, 5, 8, 6, 9, 7, 5, 8, 6, 9, 7, 5, 8, 6, 9, 7, 5, 8, 6, 9, 7, 5, 8, 6, 9, 7, 5, 8, 6, 9, 7, 5, 8, 6, 9, 7, 5, 8, 6, 9, 7, 5, 8, 6, 9, 7, 5, 8, 6, 9, 7, 5, 8, 6, 9, 7, 5, 8, 6, 9, 7, 5, 8, 6, 9, 7, 5, 8, 6, 9, 7, 5, 8, 6, 9, 7, 5, 8, 6, 9, 7, 5, 8, 6, 9, 7, 5, 8, 6, 9, 7]\n"
          ]
        }
      ],
      "source": [
        "print(env.get_current_capacity())"
      ]
    },
    {
      "cell_type": "code",
      "execution_count": null,
      "id": "f1d64129",
      "metadata": {
        "id": "f1d64129"
      },
      "outputs": [],
      "source": [
        "capacity_history = env.get_current_capacity()"
      ]
    },
    {
      "cell_type": "code",
      "execution_count": null,
      "id": "66024ec3",
      "metadata": {
        "id": "66024ec3"
      },
      "outputs": [],
      "source": [
        "profit_history = env.get_profits_history()"
      ]
    },
    {
      "cell_type": "code",
      "execution_count": null,
      "id": "c7ddb1b4",
      "metadata": {
        "id": "c7ddb1b4"
      },
      "outputs": [],
      "source": [
        "net_profit = profit_history[-1] + capacity_history[-1]*data_elec.price[100]"
      ]
    },
    {
      "cell_type": "code",
      "execution_count": null,
      "id": "57c8b145",
      "metadata": {
        "id": "57c8b145",
        "outputId": "8ecf91b4-40e6-4710-db4e-6f2d39f9830d"
      },
      "outputs": [
        {
          "data": {
            "text/plain": [
              "0.44673430564362687"
            ]
          },
          "execution_count": 121,
          "metadata": {},
          "output_type": "execute_result"
        }
      ],
      "source": [
        "net_profit"
      ]
    },
    {
      "cell_type": "code",
      "execution_count": null,
      "id": "cbf7fecd",
      "metadata": {
        "id": "cbf7fecd",
        "outputId": "27b928cc-b065-47af-fecd-072ce3538dff"
      },
      "outputs": [
        {
          "name": "stdout",
          "output_type": "stream",
          "text": [
            "[[211.]]\n"
          ]
        }
      ],
      "source": [
        "print(scaler.inverse_transform(net_profit.reshape(-1, 1)))"
      ]
    },
    {
      "cell_type": "code",
      "execution_count": null,
      "id": "b2ef0c6b",
      "metadata": {
        "id": "b2ef0c6b"
      },
      "outputs": [],
      "source": []
    },
    {
      "cell_type": "code",
      "execution_count": null,
      "id": "64088601",
      "metadata": {
        "id": "64088601"
      },
      "outputs": [],
      "source": []
    },
    {
      "cell_type": "code",
      "execution_count": null,
      "id": "54b5667d",
      "metadata": {
        "id": "54b5667d"
      },
      "outputs": [],
      "source": []
    },
    {
      "cell_type": "code",
      "execution_count": null,
      "id": "679095b5",
      "metadata": {
        "id": "679095b5"
      },
      "outputs": [],
      "source": []
    },
    {
      "cell_type": "code",
      "execution_count": null,
      "id": "a9840b4f",
      "metadata": {
        "id": "a9840b4f"
      },
      "outputs": [],
      "source": []
    },
    {
      "cell_type": "code",
      "execution_count": null,
      "id": "d659aa31",
      "metadata": {
        "id": "d659aa31"
      },
      "outputs": [],
      "source": []
    }
  ],
  "metadata": {
    "kernelspec": {
      "display_name": "Python 3 (ipykernel)",
      "language": "python",
      "name": "python3"
    },
    "language_info": {
      "codemirror_mode": {
        "name": "ipython",
        "version": 3
      },
      "file_extension": ".py",
      "mimetype": "text/x-python",
      "name": "python",
      "nbconvert_exporter": "python",
      "pygments_lexer": "ipython3",
      "version": "3.8.10"
    },
    "colab": {
      "provenance": [],
      "include_colab_link": true
    }
  },
  "nbformat": 4,
  "nbformat_minor": 5
}