{
  "cells": [
    {
      "cell_type": "markdown",
      "metadata": {
        "id": "view-in-github",
        "colab_type": "text"
      },
      "source": [
        "<a href=\"https://colab.research.google.com/github/vujjiniashrith/ESS-profit-maximaization-using-deep-Reinforcemetn-Learning/blob/main/DQN_openai_gym.ipynb\" target=\"_parent\"><img src=\"https://colab.research.google.com/assets/colab-badge.svg\" alt=\"Open In Colab\"/></a>"
      ]
    },
    {
      "cell_type": "code",
      "execution_count": null,
      "id": "9663802d",
      "metadata": {
        "id": "9663802d"
      },
      "outputs": [],
      "source": [
        "import numpy as np\n",
        "import pandas as pd\n",
        "import matplotlib.pyplot as plt\n",
        "import seaborn as sns\n",
        "import gym\n",
        "import random\n"
      ]
    },
    {
      "cell_type": "code",
      "execution_count": null,
      "id": "94366272",
      "metadata": {
        "id": "94366272"
      },
      "outputs": [],
      "source": [
        "from gym import Env\n",
        "from gym import spaces\n",
        "from gym.spaces import Discrete, Box\n"
      ]
    },
    {
      "cell_type": "code",
      "execution_count": null,
      "id": "167ca535",
      "metadata": {
        "id": "167ca535"
      },
      "outputs": [],
      "source": [
        "data_elec = pd.read_csv(\"electicity_data_hourly.csv\")\n",
        "data_cons = pd.read_csv(\"consumer_data_hourly.csv\")"
      ]
    },
    {
      "cell_type": "code",
      "execution_count": null,
      "id": "d1f00057",
      "metadata": {
        "id": "d1f00057",
        "outputId": "c9583b1f-2bb6-4548-e8ba-532f68fb56e7"
      },
      "outputs": [
        {
          "name": "stdout",
          "output_type": "stream",
          "text": [
            "Index(['datetime', 'system_energy_price_da'], dtype='object')\n"
          ]
        }
      ],
      "source": [
        "print(data_elec.columns)"
      ]
    },
    {
      "cell_type": "code",
      "execution_count": null,
      "id": "7bc6279b",
      "metadata": {
        "id": "7bc6279b",
        "outputId": "66b5ded9-c3f7-41a9-909c-63fd530066a0"
      },
      "outputs": [
        {
          "name": "stdout",
          "output_type": "stream",
          "text": [
            "Index(['dateTime', 'use'], dtype='object')\n"
          ]
        }
      ],
      "source": [
        "print(data_cons.columns)"
      ]
    },
    {
      "cell_type": "code",
      "execution_count": null,
      "id": "26d3f0bf",
      "metadata": {
        "id": "26d3f0bf",
        "outputId": "a811c20c-6f15-4af6-e154-d2db85909666"
      },
      "outputs": [
        {
          "data": {
            "text/html": [
              "<div>\n",
              "<style scoped>\n",
              "    .dataframe tbody tr th:only-of-type {\n",
              "        vertical-align: middle;\n",
              "    }\n",
              "\n",
              "    .dataframe tbody tr th {\n",
              "        vertical-align: top;\n",
              "    }\n",
              "\n",
              "    .dataframe thead th {\n",
              "        text-align: right;\n",
              "    }\n",
              "</style>\n",
              "<table border=\"1\" class=\"dataframe\">\n",
              "  <thead>\n",
              "    <tr style=\"text-align: right;\">\n",
              "      <th></th>\n",
              "      <th>datetime</th>\n",
              "      <th>system_energy_price_da</th>\n",
              "    </tr>\n",
              "  </thead>\n",
              "  <tbody>\n",
              "    <tr>\n",
              "      <th>0</th>\n",
              "      <td>2022-01-01 00:00:00</td>\n",
              "      <td>21.02</td>\n",
              "    </tr>\n",
              "    <tr>\n",
              "      <th>1</th>\n",
              "      <td>2022-01-01 01:00:00</td>\n",
              "      <td>18.43</td>\n",
              "    </tr>\n",
              "    <tr>\n",
              "      <th>2</th>\n",
              "      <td>2022-01-01 02:00:00</td>\n",
              "      <td>18.11</td>\n",
              "    </tr>\n",
              "    <tr>\n",
              "      <th>3</th>\n",
              "      <td>2022-01-01 03:00:00</td>\n",
              "      <td>18.15</td>\n",
              "    </tr>\n",
              "    <tr>\n",
              "      <th>4</th>\n",
              "      <td>2022-01-01 04:00:00</td>\n",
              "      <td>17.70</td>\n",
              "    </tr>\n",
              "  </tbody>\n",
              "</table>\n",
              "</div>"
            ],
            "text/plain": [
              "              datetime  system_energy_price_da\n",
              "0  2022-01-01 00:00:00                   21.02\n",
              "1  2022-01-01 01:00:00                   18.43\n",
              "2  2022-01-01 02:00:00                   18.11\n",
              "3  2022-01-01 03:00:00                   18.15\n",
              "4  2022-01-01 04:00:00                   17.70"
            ]
          },
          "execution_count": 6,
          "metadata": {},
          "output_type": "execute_result"
        }
      ],
      "source": [
        "data_elec.head(5)"
      ]
    },
    {
      "cell_type": "code",
      "execution_count": null,
      "id": "dc456352",
      "metadata": {
        "id": "dc456352"
      },
      "outputs": [],
      "source": [
        "data_elec.rename(columns={'system_energy_price_da':'price'},inplace = True)"
      ]
    },
    {
      "cell_type": "code",
      "execution_count": null,
      "id": "104713d6",
      "metadata": {
        "id": "104713d6"
      },
      "outputs": [],
      "source": [
        "data_cons.rename(columns={'use':'usage'},inplace = True)"
      ]
    },
    {
      "cell_type": "code",
      "execution_count": null,
      "id": "60d78db7",
      "metadata": {
        "id": "60d78db7",
        "outputId": "aafae9a0-ea7f-47e8-c577-9f24b4ac2465"
      },
      "outputs": [
        {
          "data": {
            "text/html": [
              "<div>\n",
              "<style scoped>\n",
              "    .dataframe tbody tr th:only-of-type {\n",
              "        vertical-align: middle;\n",
              "    }\n",
              "\n",
              "    .dataframe tbody tr th {\n",
              "        vertical-align: top;\n",
              "    }\n",
              "\n",
              "    .dataframe thead th {\n",
              "        text-align: right;\n",
              "    }\n",
              "</style>\n",
              "<table border=\"1\" class=\"dataframe\">\n",
              "  <thead>\n",
              "    <tr style=\"text-align: right;\">\n",
              "      <th></th>\n",
              "      <th>dateTime</th>\n",
              "      <th>usage</th>\n",
              "    </tr>\n",
              "  </thead>\n",
              "  <tbody>\n",
              "    <tr>\n",
              "      <th>0</th>\n",
              "      <td>2016-01-01 00:00:00</td>\n",
              "      <td>2.108533</td>\n",
              "    </tr>\n",
              "    <tr>\n",
              "      <th>1</th>\n",
              "      <td>2016-01-01 01:00:00</td>\n",
              "      <td>1.852600</td>\n",
              "    </tr>\n",
              "    <tr>\n",
              "      <th>2</th>\n",
              "      <td>2016-01-01 02:00:00</td>\n",
              "      <td>1.988000</td>\n",
              "    </tr>\n",
              "    <tr>\n",
              "      <th>3</th>\n",
              "      <td>2016-01-01 03:00:00</td>\n",
              "      <td>1.993267</td>\n",
              "    </tr>\n",
              "    <tr>\n",
              "      <th>4</th>\n",
              "      <td>2016-01-01 04:00:00</td>\n",
              "      <td>1.781533</td>\n",
              "    </tr>\n",
              "  </tbody>\n",
              "</table>\n",
              "</div>"
            ],
            "text/plain": [
              "              dateTime     usage\n",
              "0  2016-01-01 00:00:00  2.108533\n",
              "1  2016-01-01 01:00:00  1.852600\n",
              "2  2016-01-01 02:00:00  1.988000\n",
              "3  2016-01-01 03:00:00  1.993267\n",
              "4  2016-01-01 04:00:00  1.781533"
            ]
          },
          "execution_count": 9,
          "metadata": {},
          "output_type": "execute_result"
        }
      ],
      "source": [
        "data_cons.head()"
      ]
    },
    {
      "cell_type": "code",
      "execution_count": null,
      "id": "828aacd0",
      "metadata": {
        "id": "828aacd0",
        "outputId": "f67d18ef-c218-4373-8e33-d87ca38c0510"
      },
      "outputs": [
        {
          "name": "stdout",
          "output_type": "stream",
          "text": [
            "29.8692   0.0\n",
            "455.3   13.74\n"
          ]
        }
      ],
      "source": [
        "print(data_cons.usage.max(),\" \",data_cons.usage.min())\n",
        "print(data_elec.price.max(),\" \",data_elec.price.min())"
      ]
    },
    {
      "cell_type": "code",
      "execution_count": null,
      "id": "0406faef",
      "metadata": {
        "id": "0406faef",
        "outputId": "fe123021-e705-4c7c-ce56-fa061336a402"
      },
      "outputs": [
        {
          "name": "stdout",
          "output_type": "stream",
          "text": [
            "3.519333333333332   5.361010481177894\n"
          ]
        }
      ],
      "source": [
        "print(data_cons.usage.median(), \" \", data_cons.usage.mean())"
      ]
    },
    {
      "cell_type": "code",
      "execution_count": null,
      "id": "87f1e1ea",
      "metadata": {
        "id": "87f1e1ea"
      },
      "outputs": [],
      "source": []
    },
    {
      "cell_type": "code",
      "execution_count": null,
      "id": "8fd1dfdb",
      "metadata": {
        "id": "8fd1dfdb",
        "outputId": "6f5bf6dc-e731-4613-8d35-fc5885a7fe55"
      },
      "outputs": [
        {
          "data": {
            "text/plain": [
              "(8737, 2)"
            ]
          },
          "execution_count": 12,
          "metadata": {},
          "output_type": "execute_result"
        }
      ],
      "source": [
        "data_elec.shape"
      ]
    },
    {
      "cell_type": "code",
      "execution_count": null,
      "id": "bb79e6dc",
      "metadata": {
        "id": "bb79e6dc",
        "outputId": "95603a62-37e7-4325-e756-a25ef9bb71f0"
      },
      "outputs": [
        {
          "data": {
            "text/plain": [
              "(8784, 2)"
            ]
          },
          "execution_count": 13,
          "metadata": {},
          "output_type": "execute_result"
        }
      ],
      "source": [
        "data_cons.shape"
      ]
    },
    {
      "cell_type": "code",
      "execution_count": null,
      "id": "1e0a7ef2",
      "metadata": {
        "id": "1e0a7ef2",
        "outputId": "4da709e5-2c2b-4caf-d782-a749dabb8b07"
      },
      "outputs": [
        {
          "name": "stdout",
          "output_type": "stream",
          "text": [
            "(7027, 2) (1710, 2)\n",
            "(7027, 2) (1757, 2)\n"
          ]
        }
      ],
      "source": [
        "split_point = 7027\n",
        "train_elec = data_elec[:split_point]\n",
        "train_cons = data_cons[:split_point]\n",
        "test_elec = data_elec[split_point:]\n",
        "test_cons = data_cons[split_point:]\n",
        "print(train_elec.shape, test_elec.shape)\n",
        "print(train_cons.shape, test_cons.shape)"
      ]
    },
    {
      "cell_type": "code",
      "execution_count": null,
      "id": "97ff7f3b",
      "metadata": {
        "id": "97ff7f3b",
        "outputId": "706c1315-1b63-4270-86f6-447cccd439f5"
      },
      "outputs": [
        {
          "data": {
            "text/plain": [
              "[<matplotlib.lines.Line2D at 0x1f7373a8550>]"
            ]
          },
          "execution_count": 15,
          "metadata": {},
          "output_type": "execute_result"
        },
        {
          "data": {
            "image/png": "[encoded data removed]",
            "text/plain": [
              "<Figure size 640x480 with 1 Axes>"
            ]
          },
          "metadata": {},
          "output_type": "display_data"
        }
      ],
      "source": [
        "plt.plot(data_elec.price[:100])"
      ]
    },
    {
      "cell_type": "code",
      "execution_count": null,
      "id": "c0751975",
      "metadata": {
        "id": "c0751975",
        "outputId": "f8915c1b-af81-4152-f65f-581e6cd979ee"
      },
      "outputs": [
        {
          "data": {
            "text/plain": [
              "[<matplotlib.lines.Line2D at 0x1f7374e5ca0>]"
            ]
          },
          "execution_count": 16,
          "metadata": {},
          "output_type": "execute_result"
        },
        {
          "data": {
            "image/png": "[encoded data removed]",
            "text/plain": [
              "<Figure size 640x480 with 1 Axes>"
            ]
          },
          "metadata": {},
          "output_type": "display_data"
        }
      ],
      "source": [
        "plt.plot(data_cons.usage[0:100])"
      ]
    },
    {
      "cell_type": "code",
      "execution_count": null,
      "id": "173d184e",
      "metadata": {
        "id": "173d184e"
      },
      "outputs": [],
      "source": [
        "data_usage = data_cons['usage'].values"
      ]
    },
    {
      "cell_type": "code",
      "execution_count": null,
      "id": "91da77b7",
      "metadata": {
        "id": "91da77b7"
      },
      "outputs": [],
      "source": [
        "data_price = data_elec['price'].values"
      ]
    },
    {
      "cell_type": "markdown",
      "id": "daf3050d",
      "metadata": {
        "id": "daf3050d"
      },
      "source": [
        "# Create Custom Environment of SmartGrid"
      ]
    },
    {
      "cell_type": "code",
      "execution_count": null,
      "id": "78bb17ce",
      "metadata": {
        "id": "78bb17ce"
      },
      "outputs": [],
      "source": [
        "class SmartGrid(Env):\n",
        "    def __init__(self,data_usage,data_price):\n",
        "        #load electricity price data\n",
        "\n",
        "        self.data_price = data_price\n",
        "\n",
        "        #load consumer price data\n",
        "        self.data_usage = data_usage\n",
        "\n",
        "        #set maximum battery capacity\n",
        "        self.max_capacity = 10\n",
        "\n",
        "        #Actions that we can take\n",
        "        #0 == -3, 1 == -2, 2 == -1, 3 ==0 , 4 == 1, 5 == 2, 6== 3 total 7 actions to take\n",
        "        #-ve values stand for discharge and positive values stand for charge\n",
        "        self.action_space = Discrete(7)\n",
        "\n",
        "        #state\n",
        "        self.observation_space = Box(low=np.array([0]), high=np.array([100]))\n",
        "\n",
        "        #set initial start state\n",
        "        self.state = 0\n",
        "\n",
        "        #set initial position\n",
        "        self.time_step = 0\n",
        "\n",
        "        #initiate profits\n",
        "        self.profits =0\n",
        "\n",
        "\n",
        "\n",
        "\n",
        "\n",
        "    def step(self,action):\n",
        "        reward=0\n",
        "        self.state += action -3\n",
        "        self.time_step+=1\n",
        "\n",
        "        #calculate reward\n",
        "        reward = -(action-3)*self.data_price[self.time_step]\n",
        "\n",
        "        if self.time_step>5:\n",
        "            done = True\n",
        "        else:\n",
        "            done = False\n",
        "\n",
        "        info = {}\n",
        "\n",
        "        return self.state, reward, done, info\n",
        "\n",
        "\n",
        "\n",
        "    def render(self):\n",
        "        #implement vizualization\n",
        "        pass\n",
        "    def reset(self):\n",
        "        #reset the initial timestamp\n",
        "        self.time_step =0\n",
        "        #empty the entire battery\n",
        "        self.state = 0\n",
        "        #set done state as false\n",
        "\n",
        "        return self.state\n",
        "\n",
        ""
      ]
    },
    {
      "cell_type": "code",
      "execution_count": null,
      "id": "dbf82ced",
      "metadata": {
        "id": "dbf82ced"
      },
      "outputs": [],
      "source": []
    },
    {
      "cell_type": "code",
      "execution_count": null,
      "id": "0c9b97d8",
      "metadata": {
        "id": "0c9b97d8",
        "outputId": "d0865c47-4770-4cc6-bcc4-6649b70173c5"
      },
      "outputs": [
        {
          "name": "stderr",
          "output_type": "stream",
          "text": [
            "C:\\Users\\vujji\\anaconda3\\lib\\site-packages\\gym\\spaces\\box.py:128: UserWarning: \u001b[33mWARN: Box bound precision lowered by casting to float32\u001b[0m\n",
            "  logger.warn(f\"Box bound precision lowered by casting to {self.dtype}\")\n"
          ]
        }
      ],
      "source": [
        "env = SmartGrid(data_usage,data_price)"
      ]
    },
    {
      "cell_type": "code",
      "execution_count": null,
      "id": "afbd3e4a",
      "metadata": {
        "id": "afbd3e4a",
        "outputId": "eb9e705f-c1ad-4c33-b90d-9e245e7c8868"
      },
      "outputs": [
        {
          "data": {
            "text/plain": [
              "array([0.9994507], dtype=float32)"
            ]
          },
          "execution_count": 26,
          "metadata": {},
          "output_type": "execute_result"
        }
      ],
      "source": [
        "env.observation_space.sample()"
      ]
    },
    {
      "cell_type": "code",
      "execution_count": null,
      "id": "a7450f34",
      "metadata": {
        "id": "a7450f34",
        "outputId": "c8eb30f1-31c2-4a6f-deb8-4c30f3cfbedf"
      },
      "outputs": [
        {
          "name": "stdout",
          "output_type": "stream",
          "text": [
            "(1,)\n"
          ]
        }
      ],
      "source": [
        "print(env.observation_space.shape)"
      ]
    },
    {
      "cell_type": "code",
      "execution_count": null,
      "id": "d63e8dd5",
      "metadata": {
        "id": "d63e8dd5",
        "outputId": "16477e49-777f-47a7-b75c-5f4107650d5b"
      },
      "outputs": [
        {
          "name": "stdout",
          "output_type": "stream",
          "text": [
            "Episode:1 Score:72.38\n",
            "Episode:2 Score:72.19999999999999\n",
            "Episode:3 Score:35.67\n",
            "Episode:4 Score:-90.99000000000001\n",
            "Episode:5 Score:34.910000000000004\n",
            "Episode:6 Score:126.1\n",
            "Episode:7 Score:37.139999999999986\n",
            "Episode:8 Score:-123.12\n",
            "Episode:9 Score:-142.32999999999998\n",
            "Episode:10 Score:51.76\n"
          ]
        }
      ],
      "source": [
        "episodes = 10\n",
        "for episode in range(1,episodes+1):\n",
        "    state = env.reset()\n",
        "    done = False\n",
        "    score = 0\n",
        "\n",
        "    while not done:\n",
        "\n",
        "        action = env.action_space.sample()\n",
        "        n_state , reward, done, info = env.step(action)\n",
        "        score+=reward\n",
        "    print('Episode:{} Score:{}'.format(episode,score))"
      ]
    },
    {
      "cell_type": "markdown",
      "id": "eb61db6c",
      "metadata": {
        "id": "eb61db6c"
      },
      "source": [
        "# Creating Deep Learning Model with Keras"
      ]
    },
    {
      "cell_type": "code",
      "execution_count": null,
      "id": "a80070ff",
      "metadata": {
        "id": "a80070ff"
      },
      "outputs": [],
      "source": [
        "import numpy as np\n",
        "from tensorflow.keras.models import Sequential\n",
        "from tensorflow.keras.layers import Dense, Flatten\n",
        "from tensorflow.keras.optimizers import Adam"
      ]
    },
    {
      "cell_type": "code",
      "execution_count": null,
      "id": "385049cd",
      "metadata": {
        "id": "385049cd"
      },
      "outputs": [],
      "source": [
        "states = env.observation_space.shape\n",
        "actions = env.action_space.n"
      ]
    },
    {
      "cell_type": "code",
      "execution_count": null,
      "id": "7bb0230f",
      "metadata": {
        "id": "7bb0230f"
      },
      "outputs": [],
      "source": [
        "del model"
      ]
    },
    {
      "cell_type": "code",
      "execution_count": null,
      "id": "3f535154",
      "metadata": {
        "id": "3f535154",
        "outputId": "5c7ecac2-3bf9-4e13-e8eb-780127f49854"
      },
      "outputs": [
        {
          "name": "stdout",
          "output_type": "stream",
          "text": [
            "(1,)\n",
            "7\n"
          ]
        }
      ],
      "source": [
        "print(states)\n",
        "print(actions)"
      ]
    },
    {
      "cell_type": "code",
      "execution_count": null,
      "id": "9b49cd31",
      "metadata": {
        "id": "9b49cd31"
      },
      "outputs": [],
      "source": [
        "def build_model(states, actions):\n",
        "    model = Sequential()\n",
        "\n",
        "    model.add(Dense(24, activation='relu', input_shape=(1,)))  # Use input_shape as a tuple with a single integer\n",
        "    model.add(Dense(24, activation='relu'))\n",
        "    model.add(Dense(actions, activation='linear'))\n",
        "    return model"
      ]
    },
    {
      "cell_type": "code",
      "execution_count": null,
      "id": "f524099f",
      "metadata": {
        "id": "f524099f"
      },
      "outputs": [],
      "source": [
        "model = build_model(states, actions)"
      ]
    },
    {
      "cell_type": "code",
      "execution_count": null,
      "id": "bd3fb071",
      "metadata": {
        "id": "bd3fb071",
        "outputId": "a7a2c818-8247-401a-b2de-2fbbefcb178c"
      },
      "outputs": [
        {
          "name": "stdout",
          "output_type": "stream",
          "text": [
            "Model: \"sequential_1\"\n",
            "_________________________________________________________________\n",
            " Layer (type)                Output Shape              Param #   \n",
            "=================================================================\n",
            " dense_3 (Dense)             (None, 24)                48        \n",
            "                                                                 \n",
            " dense_4 (Dense)             (None, 24)                600       \n",
            "                                                                 \n",
            " dense_5 (Dense)             (None, 7)                 175       \n",
            "                                                                 \n",
            "=================================================================\n",
            "Total params: 823\n",
            "Trainable params: 823\n",
            "Non-trainable params: 0\n",
            "_________________________________________________________________\n"
          ]
        }
      ],
      "source": [
        "model.summary()"
      ]
    },
    {
      "cell_type": "code",
      "execution_count": null,
      "id": "3621ef0f",
      "metadata": {
        "id": "3621ef0f"
      },
      "outputs": [],
      "source": [
        "from rl.agents import DQNAgent\n",
        "from rl.policy import BoltzmannQPolicy\n",
        "from rl.memory import SequentialMemory"
      ]
    },
    {
      "cell_type": "code",
      "execution_count": null,
      "id": "d40b7cee",
      "metadata": {
        "id": "d40b7cee"
      },
      "outputs": [],
      "source": [
        "def build_agent(model, actions):\n",
        "    policy = BoltzmannQPolicy()\n",
        "    memory = SequentialMemory(limit=50000, window_length=1)\n",
        "    dqn = DQNAgent(model=model, memory=memory, policy=policy,\n",
        "                  nb_actions=actions, nb_steps_warmup=10, target_model_update=1e-2)\n",
        "    return dqn"
      ]
    },
    {
      "cell_type": "code",
      "execution_count": null,
      "id": "618313df",
      "metadata": {
        "id": "618313df",
        "outputId": "b4febc70-2933-47f1-b4ac-c6b24ec789dc"
      },
      "outputs": [
        {
          "name": "stdout",
          "output_type": "stream",
          "text": [
            "Training for 50000 steps ...\n",
            "Interval 1 (0 steps performed)\n",
            "\r",
            "    1/10000 [..............................] - ETA: 11:30 - reward: 18.4300"
          ]
        },
        {
          "name": "stderr",
          "output_type": "stream",
          "text": [
            "C:\\Users\\vujji\\anaconda3\\lib\\site-packages\\keras\\engine\\training_v1.py:2079: UserWarning: `Model.state_updates` will be removed in a future version. This property should not be used in TensorFlow 2.0, as `updates` are applied automatically.\n",
            "  updates=self.state_updates,\n",
            "C:\\Users\\vujji\\anaconda3\\lib\\site-packages\\rl\\memory.py:37: UserWarning: Not enough entries to sample without replacement. Consider increasing your warm-up phase to avoid oversampling!\n",
            "  warnings.warn('Not enough entries to sample without replacement. Consider increasing your warm-up phase to avoid oversampling!')\n",
            "C:\\Users\\vujji\\anaconda3\\lib\\site-packages\\rl\\memory.py:38: DeprecationWarning: This function is deprecated. Please call randint(1, 11 + 1) instead\n",
            "  batch_idxs = np.random.random_integers(low, high - 1, size=size)\n"
          ]
        },
        {
          "name": "stdout",
          "output_type": "stream",
          "text": [
            "   30/10000 [..............................] - ETA: 3:45 - reward: 8.2950 "
          ]
        },
        {
          "name": "stderr",
          "output_type": "stream",
          "text": [
            "C:\\Users\\vujji\\anaconda3\\lib\\site-packages\\rl\\memory.py:38: DeprecationWarning: This function is deprecated. Please call randint(1, 12 + 1) instead\n",
            "  batch_idxs = np.random.random_integers(low, high - 1, size=size)\n",
            "C:\\Users\\vujji\\anaconda3\\lib\\site-packages\\rl\\memory.py:38: DeprecationWarning: This function is deprecated. Please call randint(1, 13 + 1) instead\n",
            "  batch_idxs = np.random.random_integers(low, high - 1, size=size)\n",
            "C:\\Users\\vujji\\anaconda3\\lib\\site-packages\\rl\\memory.py:38: DeprecationWarning: This function is deprecated. Please call randint(1, 14 + 1) instead\n",
            "  batch_idxs = np.random.random_integers(low, high - 1, size=size)\n",
            "C:\\Users\\vujji\\anaconda3\\lib\\site-packages\\rl\\memory.py:38: DeprecationWarning: This function is deprecated. Please call randint(1, 15 + 1) instead\n",
            "  batch_idxs = np.random.random_integers(low, high - 1, size=size)\n",
            "C:\\Users\\vujji\\anaconda3\\lib\\site-packages\\rl\\memory.py:38: DeprecationWarning: This function is deprecated. Please call randint(1, 16 + 1) instead\n",
            "  batch_idxs = np.random.random_integers(low, high - 1, size=size)\n",
            "C:\\Users\\vujji\\anaconda3\\lib\\site-packages\\rl\\memory.py:38: DeprecationWarning: This function is deprecated. Please call randint(1, 17 + 1) instead\n",
            "  batch_idxs = np.random.random_integers(low, high - 1, size=size)\n",
            "C:\\Users\\vujji\\anaconda3\\lib\\site-packages\\rl\\memory.py:38: DeprecationWarning: This function is deprecated. Please call randint(1, 18 + 1) instead\n",
            "  batch_idxs = np.random.random_integers(low, high - 1, size=size)\n",
            "C:\\Users\\vujji\\anaconda3\\lib\\site-packages\\rl\\memory.py:38: DeprecationWarning: This function is deprecated. Please call randint(1, 19 + 1) instead\n",
            "  batch_idxs = np.random.random_integers(low, high - 1, size=size)\n",
            "C:\\Users\\vujji\\anaconda3\\lib\\site-packages\\rl\\memory.py:38: DeprecationWarning: This function is deprecated. Please call randint(1, 20 + 1) instead\n",
            "  batch_idxs = np.random.random_integers(low, high - 1, size=size)\n",
            "C:\\Users\\vujji\\anaconda3\\lib\\site-packages\\rl\\memory.py:38: DeprecationWarning: This function is deprecated. Please call randint(1, 21 + 1) instead\n",
            "  batch_idxs = np.random.random_integers(low, high - 1, size=size)\n",
            "C:\\Users\\vujji\\anaconda3\\lib\\site-packages\\rl\\memory.py:38: DeprecationWarning: This function is deprecated. Please call randint(1, 22 + 1) instead\n",
            "  batch_idxs = np.random.random_integers(low, high - 1, size=size)\n",
            "C:\\Users\\vujji\\anaconda3\\lib\\site-packages\\rl\\memory.py:38: DeprecationWarning: This function is deprecated. Please call randint(1, 23 + 1) instead\n",
            "  batch_idxs = np.random.random_integers(low, high - 1, size=size)\n",
            "C:\\Users\\vujji\\anaconda3\\lib\\site-packages\\rl\\memory.py:38: DeprecationWarning: This function is deprecated. Please call randint(1, 24 + 1) instead\n",
            "  batch_idxs = np.random.random_integers(low, high - 1, size=size)\n",
            "C:\\Users\\vujji\\anaconda3\\lib\\site-packages\\rl\\memory.py:38: DeprecationWarning: This function is deprecated. Please call randint(1, 25 + 1) instead\n",
            "  batch_idxs = np.random.random_integers(low, high - 1, size=size)\n",
            "C:\\Users\\vujji\\anaconda3\\lib\\site-packages\\rl\\memory.py:38: DeprecationWarning: This function is deprecated. Please call randint(1, 26 + 1) instead\n",
            "  batch_idxs = np.random.random_integers(low, high - 1, size=size)\n",
            "C:\\Users\\vujji\\anaconda3\\lib\\site-packages\\rl\\memory.py:38: DeprecationWarning: This function is deprecated. Please call randint(1, 27 + 1) instead\n",
            "  batch_idxs = np.random.random_integers(low, high - 1, size=size)\n",
            "C:\\Users\\vujji\\anaconda3\\lib\\site-packages\\rl\\memory.py:38: DeprecationWarning: This function is deprecated. Please call randint(1, 28 + 1) instead\n",
            "  batch_idxs = np.random.random_integers(low, high - 1, size=size)\n",
            "C:\\Users\\vujji\\anaconda3\\lib\\site-packages\\rl\\memory.py:38: DeprecationWarning: This function is deprecated. Please call randint(1, 29 + 1) instead\n",
            "  batch_idxs = np.random.random_integers(low, high - 1, size=size)\n",
            "C:\\Users\\vujji\\anaconda3\\lib\\site-packages\\rl\\memory.py:38: DeprecationWarning: This function is deprecated. Please call randint(1, 30 + 1) instead\n",
            "  batch_idxs = np.random.random_integers(low, high - 1, size=size)\n",
            "C:\\Users\\vujji\\anaconda3\\lib\\site-packages\\rl\\memory.py:38: DeprecationWarning: This function is deprecated. Please call randint(1, 31 + 1) instead\n",
            "  batch_idxs = np.random.random_integers(low, high - 1, size=size)\n"
          ]
        },
        {
          "name": "stdout",
          "output_type": "stream",
          "text": [
            "10000/10000 [==============================] - 85s 8ms/step - reward: 49.6159\n",
            "1666 episodes - episode_reward: 297.684 [-107.780, 323.340] - loss: 266.308 - mae: 122.692 - mean_q: 180.207\n",
            "\n",
            "Interval 2 (10000 steps performed)\n",
            "10000/10000 [==============================] - 87s 9ms/step - reward: 51.4960\n",
            "1667 episodes - episode_reward: 308.989 [268.650, 323.340] - loss: 75.873 - mae: 127.297 - mean_q: 182.704\n",
            "\n",
            "Interval 3 (20000 steps performed)\n",
            "10000/10000 [==============================] - 89s 9ms/step - reward: 51.6734\n",
            "1667 episodes - episode_reward: 310.033 [18.310, 323.340] - loss: 52.414 - mae: 131.133 - mean_q: 181.861\n",
            "\n",
            "Interval 4 (30000 steps performed)\n",
            "10000/10000 [==============================] - 90s 9ms/step - reward: 51.9043\n",
            "1666 episodes - episode_reward: 311.420 [250.540, 323.340] - loss: 43.093 - mae: 132.918 - mean_q: 181.923\n",
            "\n",
            "Interval 5 (40000 steps performed)\n",
            "10000/10000 [==============================] - 92s 9ms/step - reward: 51.5685\n",
            "done, took 443.421 seconds\n"
          ]
        },
        {
          "data": {
            "text/plain": [
              "<keras.callbacks.History at 0x1f7421a8ca0>"
            ]
          },
          "execution_count": 46,
          "metadata": {},
          "output_type": "execute_result"
        }
      ],
      "source": [
        "dqn = build_agent(model, actions)\n",
        "dqn.compile(Adam(learning_rate=1e-3), metrics=['mae'])\n",
        "dqn.fit(env, nb_steps=50000, visualize=False, verbose=1)"
      ]
    },
    {
      "cell_type": "code",
      "execution_count": null,
      "id": "141c4d18",
      "metadata": {
        "id": "141c4d18",
        "outputId": "9a5064b4-3147-4aed-8401-2a1c600cb1d8"
      },
      "outputs": [
        {
          "name": "stdout",
          "output_type": "stream",
          "text": [
            "Testing for 100 episodes ...\n",
            "Episode 1: reward: 323.340, steps: 6\n",
            "Episode 2: reward: 323.340, steps: 6\n",
            "Episode 3: reward: 323.340, steps: 6\n",
            "Episode 4: reward: 323.340, steps: 6\n",
            "Episode 5: reward: 323.340, steps: 6\n",
            "Episode 6: reward: 323.340, steps: 6\n",
            "Episode 7: reward: 323.340, steps: 6\n",
            "Episode 8: reward: 323.340, steps: 6\n",
            "Episode 9: reward: 323.340, steps: 6\n",
            "Episode 10: reward: 323.340, steps: 6\n",
            "Episode 11: reward: 323.340, steps: 6\n",
            "Episode 12: reward: 323.340, steps: 6\n",
            "Episode 13: reward: 323.340, steps: 6\n",
            "Episode 14: reward: 323.340, steps: 6\n",
            "Episode 15: reward: 323.340, steps: 6\n",
            "Episode 16: reward: 323.340, steps: 6\n",
            "Episode 17: reward: 323.340, steps: 6\n",
            "Episode 18: reward: 323.340, steps: 6\n",
            "Episode 19: reward: 323.340, steps: 6\n",
            "Episode 20: reward: 323.340, steps: 6\n",
            "Episode 21: reward: 323.340, steps: 6\n",
            "Episode 22: reward: 323.340, steps: 6\n",
            "Episode 23: reward: 323.340, steps: 6\n",
            "Episode 24: reward: 323.340, steps: 6\n",
            "Episode 25: reward: 323.340, steps: 6\n",
            "Episode 26: reward: 323.340, steps: 6\n",
            "Episode 27: reward: 323.340, steps: 6\n",
            "Episode 28: reward: 323.340, steps: 6\n",
            "Episode 29: reward: 323.340, steps: 6\n",
            "Episode 30: reward: 323.340, steps: 6\n",
            "Episode 31: reward: 323.340, steps: 6\n",
            "Episode 32: reward: 323.340, steps: 6\n",
            "Episode 33: reward: 323.340, steps: 6\n",
            "Episode 34: reward: 323.340, steps: 6\n",
            "Episode 35: reward: 323.340, steps: 6\n",
            "Episode 36: reward: 323.340, steps: 6\n",
            "Episode 37: reward: 323.340, steps: 6\n",
            "Episode 38: reward: 323.340, steps: 6\n",
            "Episode 39: reward: 323.340, steps: 6\n",
            "Episode 40: reward: 323.340, steps: 6\n",
            "Episode 41: reward: 323.340, steps: 6\n",
            "Episode 42: reward: 323.340, steps: 6\n",
            "Episode 43: reward: 323.340, steps: 6\n",
            "Episode 44: reward: 323.340, steps: 6\n",
            "Episode 45: reward: 323.340, steps: 6\n",
            "Episode 46: reward: 323.340, steps: 6\n",
            "Episode 47: reward: 323.340, steps: 6\n",
            "Episode 48: reward: 323.340, steps: 6\n",
            "Episode 49: reward: 323.340, steps: 6\n",
            "Episode 50: reward: 323.340, steps: 6\n",
            "Episode 51: reward: 323.340, steps: 6\n",
            "Episode 52: reward: 323.340, steps: 6\n",
            "Episode 53: reward: 323.340, steps: 6\n",
            "Episode 54: reward: 323.340, steps: 6\n",
            "Episode 55: reward: 323.340, steps: 6\n",
            "Episode 56: reward: 323.340, steps: 6\n",
            "Episode 57: reward: 323.340, steps: 6\n",
            "Episode 58: reward: 323.340, steps: 6\n",
            "Episode 59: reward: 323.340, steps: 6\n",
            "Episode 60: reward: 323.340, steps: 6\n",
            "Episode 61: reward: 323.340, steps: 6\n",
            "Episode 62: reward: 323.340, steps: 6\n",
            "Episode 63: reward: 323.340, steps: 6\n",
            "Episode 64: reward: 323.340, steps: 6\n",
            "Episode 65: reward: 323.340, steps: 6\n",
            "Episode 66: reward: 323.340, steps: 6\n",
            "Episode 67: reward: 323.340, steps: 6\n",
            "Episode 68: reward: 323.340, steps: 6\n",
            "Episode 69: reward: 323.340, steps: 6\n",
            "Episode 70: reward: 323.340, steps: 6\n",
            "Episode 71: reward: 323.340, steps: 6\n",
            "Episode 72: reward: 323.340, steps: 6\n",
            "Episode 73: reward: 323.340, steps: 6\n",
            "Episode 74: reward: 323.340, steps: 6\n",
            "Episode 75: reward: 323.340, steps: 6\n",
            "Episode 76: reward: 323.340, steps: 6\n",
            "Episode 77: reward: 323.340, steps: 6\n",
            "Episode 78: reward: 323.340, steps: 6\n",
            "Episode 79: reward: 323.340, steps: 6\n",
            "Episode 80: reward: 323.340, steps: 6\n",
            "Episode 81: reward: 323.340, steps: 6\n",
            "Episode 82: reward: 323.340, steps: 6\n",
            "Episode 83: reward: 323.340, steps: 6\n",
            "Episode 84: reward: 323.340, steps: 6\n",
            "Episode 85: reward: 323.340, steps: 6\n",
            "Episode 86: reward: 323.340, steps: 6\n",
            "Episode 87: reward: 323.340, steps: 6\n",
            "Episode 88: reward: 323.340, steps: 6\n",
            "Episode 89: reward: 323.340, steps: 6\n",
            "Episode 90: reward: 323.340, steps: 6\n",
            "Episode 91: reward: 323.340, steps: 6\n",
            "Episode 92: reward: 323.340, steps: 6\n",
            "Episode 93: reward: 323.340, steps: 6\n",
            "Episode 94: reward: 323.340, steps: 6\n",
            "Episode 95: reward: 323.340, steps: 6\n",
            "Episode 96: reward: 323.340, steps: 6\n",
            "Episode 97: reward: 323.340, steps: 6\n",
            "Episode 98: reward: 323.340, steps: 6\n",
            "Episode 99: reward: 323.340, steps: 6\n",
            "Episode 100: reward: 323.340, steps: 6\n",
            "323.3400000000001\n"
          ]
        }
      ],
      "source": [
        "scores = dqn.test(env, nb_episodes=100, visualize=False)\n",
        "print(np.mean(scores.history['episode_reward']))"
      ]
    },
    {
      "cell_type": "code",
      "execution_count": null,
      "id": "53c2e1e5",
      "metadata": {
        "id": "53c2e1e5"
      },
      "outputs": [],
      "source": []
    },
    {
      "cell_type": "code",
      "execution_count": null,
      "id": "4c525e78",
      "metadata": {
        "id": "4c525e78"
      },
      "outputs": [],
      "source": []
    }
  ],
  "metadata": {
    "kernelspec": {
      "display_name": "Python 3 (ipykernel)",
      "language": "python",
      "name": "python3"
    },
    "language_info": {
      "codemirror_mode": {
        "name": "ipython",
        "version": 3
      },
      "file_extension": ".py",
      "mimetype": "text/x-python",
      "name": "python",
      "nbconvert_exporter": "python",
      "pygments_lexer": "ipython3",
      "version": "3.9.13"
    },
    "colab": {
      "provenance": [],
      "include_colab_link": true
    }
  },
  "nbformat": 4,
  "nbformat_minor": 5
}