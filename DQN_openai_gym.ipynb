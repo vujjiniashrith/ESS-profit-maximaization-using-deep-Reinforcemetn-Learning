{
  "cells": [
    {
      "cell_type": "markdown",
      "metadata": {
        "id": "view-in-github",
        "colab_type": "text"
      },
      "source": [
        "<a href=\"https://colab.research.google.com/github/vujjiniashrith/ESS-profit-maximization-using-deep-Reinforcement-Learning/blob/main/DQN_openai_gym.ipynb\" target=\"_parent\"><img src=\"https://colab.research.google.com/assets/colab-badge.svg\" alt=\"Open In Colab\"/></a>"
      ]
    },
    {
      "cell_type": "code",
      "execution_count": null,
      "id": "9663802d",
      "metadata": {
        "id": "9663802d"
      },
      "outputs": [],
      "source": [
        "import numpy as np\n",
        "import pandas as pd\n",
        "import matplotlib.pyplot as plt\n",
        "import seaborn as sns\n",
        "import gym\n",
        "import random\n"
      ]
    },
    {
      "cell_type": "code",
      "execution_count": null,
      "id": "2278ab73",
      "metadata": {
        "id": "2278ab73"
      },
      "outputs": [],
      "source": [
        "# import tensorflow as tf\n",
        "# physical_devices = tf.config.list_physical_devices('GPU')\n",
        "# tf.config.experimental.set_memory_growth(physical_devices[0], enable=True)"
      ]
    },
    {
      "cell_type": "code",
      "execution_count": null,
      "id": "e87a0eed",
      "metadata": {
        "id": "e87a0eed"
      },
      "outputs": [],
      "source": [
        "# !pip install seaborn"
      ]
    },
    {
      "cell_type": "code",
      "execution_count": null,
      "id": "3db67978",
      "metadata": {
        "id": "3db67978"
      },
      "outputs": [],
      "source": [
        "# import tensorflow as tf\n",
        "\n",
        "# # Force CPU-only execution (useful if you have GPU-related issues)\n",
        "# tf.config.set_visible_devices([], 'GPU')"
      ]
    },
    {
      "cell_type": "code",
      "execution_count": null,
      "id": "e4d05f82",
      "metadata": {
        "id": "e4d05f82"
      },
      "outputs": [],
      "source": [
        "from gym import Env\n",
        "from gym import spaces\n",
        "from gym.spaces import Discrete, Box\n"
      ]
    },
    {
      "cell_type": "code",
      "execution_count": null,
      "id": "167ca535",
      "metadata": {
        "id": "167ca535"
      },
      "outputs": [],
      "source": [
        "data_elec = pd.read_csv(\"electicity_data_hourly.csv\")\n",
        "data_cons = pd.read_csv(\"consumer_data_hourly.csv\")"
      ]
    },
    {
      "cell_type": "code",
      "execution_count": null,
      "id": "d1f00057",
      "metadata": {
        "id": "d1f00057",
        "outputId": "e6dd87d3-574b-4187-fdd9-58e4f0174e0a"
      },
      "outputs": [
        {
          "name": "stdout",
          "output_type": "stream",
          "text": [
            "Index(['datetime', 'system_energy_price_da'], dtype='object')\n"
          ]
        }
      ],
      "source": [
        "print(data_elec.columns)"
      ]
    },
    {
      "cell_type": "code",
      "execution_count": null,
      "id": "7bc6279b",
      "metadata": {
        "id": "7bc6279b",
        "outputId": "0b6827d2-3454-4f3d-a685-6659ba608be6"
      },
      "outputs": [
        {
          "name": "stdout",
          "output_type": "stream",
          "text": [
            "Index(['dateTime', 'use'], dtype='object')\n"
          ]
        }
      ],
      "source": [
        "print(data_cons.columns)"
      ]
    },
    {
      "cell_type": "code",
      "execution_count": null,
      "id": "488424d0",
      "metadata": {
        "id": "488424d0",
        "outputId": "4ea4768c-78fa-4833-8993-3320d437c9d3"
      },
      "outputs": [
        {
          "data": {
            "text/html": [
              "<div>\n",
              "<style scoped>\n",
              "    .dataframe tbody tr th:only-of-type {\n",
              "        vertical-align: middle;\n",
              "    }\n",
              "\n",
              "    .dataframe tbody tr th {\n",
              "        vertical-align: top;\n",
              "    }\n",
              "\n",
              "    .dataframe thead th {\n",
              "        text-align: right;\n",
              "    }\n",
              "</style>\n",
              "<table border=\"1\" class=\"dataframe\">\n",
              "  <thead>\n",
              "    <tr style=\"text-align: right;\">\n",
              "      <th></th>\n",
              "      <th>datetime</th>\n",
              "      <th>system_energy_price_da</th>\n",
              "    </tr>\n",
              "  </thead>\n",
              "  <tbody>\n",
              "    <tr>\n",
              "      <th>0</th>\n",
              "      <td>2022-01-01 00:00:00</td>\n",
              "      <td>21.02</td>\n",
              "    </tr>\n",
              "    <tr>\n",
              "      <th>1</th>\n",
              "      <td>2022-01-01 01:00:00</td>\n",
              "      <td>18.43</td>\n",
              "    </tr>\n",
              "    <tr>\n",
              "      <th>2</th>\n",
              "      <td>2022-01-01 02:00:00</td>\n",
              "      <td>18.11</td>\n",
              "    </tr>\n",
              "    <tr>\n",
              "      <th>3</th>\n",
              "      <td>2022-01-01 03:00:00</td>\n",
              "      <td>18.15</td>\n",
              "    </tr>\n",
              "    <tr>\n",
              "      <th>4</th>\n",
              "      <td>2022-01-01 04:00:00</td>\n",
              "      <td>17.70</td>\n",
              "    </tr>\n",
              "    <tr>\n",
              "      <th>5</th>\n",
              "      <td>2022-01-01 05:00:00</td>\n",
              "      <td>17.67</td>\n",
              "    </tr>\n",
              "  </tbody>\n",
              "</table>\n",
              "</div>"
            ],
            "text/plain": [
              "              datetime  system_energy_price_da\n",
              "0  2022-01-01 00:00:00                   21.02\n",
              "1  2022-01-01 01:00:00                   18.43\n",
              "2  2022-01-01 02:00:00                   18.11\n",
              "3  2022-01-01 03:00:00                   18.15\n",
              "4  2022-01-01 04:00:00                   17.70\n",
              "5  2022-01-01 05:00:00                   17.67"
            ]
          },
          "execution_count": 10,
          "metadata": {},
          "output_type": "execute_result"
        }
      ],
      "source": [
        "data_elec.head(6)"
      ]
    },
    {
      "cell_type": "code",
      "execution_count": null,
      "id": "d0c097a8",
      "metadata": {
        "id": "d0c097a8"
      },
      "outputs": [],
      "source": [
        "data_elec.rename(columns={'system_energy_price_da':'price'},inplace = True)"
      ]
    },
    {
      "cell_type": "code",
      "execution_count": null,
      "id": "c90501a8",
      "metadata": {
        "id": "c90501a8",
        "outputId": "a4122eab-dac0-43e8-80e6-d720a5c6780d"
      },
      "outputs": [
        {
          "data": {
            "text/html": [
              "<div>\n",
              "<style scoped>\n",
              "    .dataframe tbody tr th:only-of-type {\n",
              "        vertical-align: middle;\n",
              "    }\n",
              "\n",
              "    .dataframe tbody tr th {\n",
              "        vertical-align: top;\n",
              "    }\n",
              "\n",
              "    .dataframe thead th {\n",
              "        text-align: right;\n",
              "    }\n",
              "</style>\n",
              "<table border=\"1\" class=\"dataframe\">\n",
              "  <thead>\n",
              "    <tr style=\"text-align: right;\">\n",
              "      <th></th>\n",
              "      <th>datetime</th>\n",
              "      <th>price</th>\n",
              "    </tr>\n",
              "  </thead>\n",
              "  <tbody>\n",
              "    <tr>\n",
              "      <th>0</th>\n",
              "      <td>2022-01-01 00:00:00</td>\n",
              "      <td>21.02</td>\n",
              "    </tr>\n",
              "    <tr>\n",
              "      <th>1</th>\n",
              "      <td>2022-01-01 01:00:00</td>\n",
              "      <td>18.43</td>\n",
              "    </tr>\n",
              "    <tr>\n",
              "      <th>2</th>\n",
              "      <td>2022-01-01 02:00:00</td>\n",
              "      <td>18.11</td>\n",
              "    </tr>\n",
              "    <tr>\n",
              "      <th>3</th>\n",
              "      <td>2022-01-01 03:00:00</td>\n",
              "      <td>18.15</td>\n",
              "    </tr>\n",
              "    <tr>\n",
              "      <th>4</th>\n",
              "      <td>2022-01-01 04:00:00</td>\n",
              "      <td>17.70</td>\n",
              "    </tr>\n",
              "  </tbody>\n",
              "</table>\n",
              "</div>"
            ],
            "text/plain": [
              "              datetime  price\n",
              "0  2022-01-01 00:00:00  21.02\n",
              "1  2022-01-01 01:00:00  18.43\n",
              "2  2022-01-01 02:00:00  18.11\n",
              "3  2022-01-01 03:00:00  18.15\n",
              "4  2022-01-01 04:00:00  17.70"
            ]
          },
          "execution_count": 12,
          "metadata": {},
          "output_type": "execute_result"
        }
      ],
      "source": [
        "data_elec.head()"
      ]
    },
    {
      "cell_type": "code",
      "execution_count": null,
      "id": "92d2d73d",
      "metadata": {
        "id": "92d2d73d"
      },
      "outputs": [],
      "source": [
        "from sklearn.preprocessing import MinMaxScaler"
      ]
    },
    {
      "cell_type": "code",
      "execution_count": null,
      "id": "1343bf63",
      "metadata": {
        "id": "1343bf63"
      },
      "outputs": [],
      "source": [
        "scaler = MinMaxScaler()\n",
        "data_elec['price'] = scaler.fit_transform(data_elec[['price']])"
      ]
    },
    {
      "cell_type": "code",
      "execution_count": null,
      "id": "ffcc61c7",
      "metadata": {
        "id": "ffcc61c7",
        "outputId": "01f6727c-5b0e-431c-acd5-d0dee9606c48"
      },
      "outputs": [
        {
          "data": {
            "text/html": [
              "<div>\n",
              "<style scoped>\n",
              "    .dataframe tbody tr th:only-of-type {\n",
              "        vertical-align: middle;\n",
              "    }\n",
              "\n",
              "    .dataframe tbody tr th {\n",
              "        vertical-align: top;\n",
              "    }\n",
              "\n",
              "    .dataframe thead th {\n",
              "        text-align: right;\n",
              "    }\n",
              "</style>\n",
              "<table border=\"1\" class=\"dataframe\">\n",
              "  <thead>\n",
              "    <tr style=\"text-align: right;\">\n",
              "      <th></th>\n",
              "      <th>datetime</th>\n",
              "      <th>price</th>\n",
              "    </tr>\n",
              "  </thead>\n",
              "  <tbody>\n",
              "    <tr>\n",
              "      <th>0</th>\n",
              "      <td>2022-01-01 00:00:00</td>\n",
              "      <td>0.016487</td>\n",
              "    </tr>\n",
              "    <tr>\n",
              "      <th>1</th>\n",
              "      <td>2022-01-01 01:00:00</td>\n",
              "      <td>0.010621</td>\n",
              "    </tr>\n",
              "    <tr>\n",
              "      <th>2</th>\n",
              "      <td>2022-01-01 02:00:00</td>\n",
              "      <td>0.009897</td>\n",
              "    </tr>\n",
              "    <tr>\n",
              "      <th>3</th>\n",
              "      <td>2022-01-01 03:00:00</td>\n",
              "      <td>0.009987</td>\n",
              "    </tr>\n",
              "    <tr>\n",
              "      <th>4</th>\n",
              "      <td>2022-01-01 04:00:00</td>\n",
              "      <td>0.008968</td>\n",
              "    </tr>\n",
              "  </tbody>\n",
              "</table>\n",
              "</div>"
            ],
            "text/plain": [
              "              datetime     price\n",
              "0  2022-01-01 00:00:00  0.016487\n",
              "1  2022-01-01 01:00:00  0.010621\n",
              "2  2022-01-01 02:00:00  0.009897\n",
              "3  2022-01-01 03:00:00  0.009987\n",
              "4  2022-01-01 04:00:00  0.008968"
            ]
          },
          "execution_count": 15,
          "metadata": {},
          "output_type": "execute_result"
        }
      ],
      "source": [
        "data_elec.head()"
      ]
    },
    {
      "cell_type": "code",
      "execution_count": null,
      "id": "1d6c54bc",
      "metadata": {
        "id": "1d6c54bc"
      },
      "outputs": [],
      "source": []
    },
    {
      "cell_type": "code",
      "execution_count": null,
      "id": "33fb4644",
      "metadata": {
        "id": "33fb4644"
      },
      "outputs": [],
      "source": [
        "data_cons.rename(columns={'use':'usage'},inplace = True)"
      ]
    },
    {
      "cell_type": "code",
      "execution_count": null,
      "id": "03da744d",
      "metadata": {
        "id": "03da744d",
        "outputId": "fa666930-6164-42cf-89b7-f79c55c3fd8e"
      },
      "outputs": [
        {
          "data": {
            "text/html": [
              "<div>\n",
              "<style scoped>\n",
              "    .dataframe tbody tr th:only-of-type {\n",
              "        vertical-align: middle;\n",
              "    }\n",
              "\n",
              "    .dataframe tbody tr th {\n",
              "        vertical-align: top;\n",
              "    }\n",
              "\n",
              "    .dataframe thead th {\n",
              "        text-align: right;\n",
              "    }\n",
              "</style>\n",
              "<table border=\"1\" class=\"dataframe\">\n",
              "  <thead>\n",
              "    <tr style=\"text-align: right;\">\n",
              "      <th></th>\n",
              "      <th>dateTime</th>\n",
              "      <th>usage</th>\n",
              "    </tr>\n",
              "  </thead>\n",
              "  <tbody>\n",
              "    <tr>\n",
              "      <th>0</th>\n",
              "      <td>2016-01-01 00:00:00</td>\n",
              "      <td>2.108533</td>\n",
              "    </tr>\n",
              "    <tr>\n",
              "      <th>1</th>\n",
              "      <td>2016-01-01 01:00:00</td>\n",
              "      <td>1.852600</td>\n",
              "    </tr>\n",
              "    <tr>\n",
              "      <th>2</th>\n",
              "      <td>2016-01-01 02:00:00</td>\n",
              "      <td>1.988000</td>\n",
              "    </tr>\n",
              "    <tr>\n",
              "      <th>3</th>\n",
              "      <td>2016-01-01 03:00:00</td>\n",
              "      <td>1.993267</td>\n",
              "    </tr>\n",
              "    <tr>\n",
              "      <th>4</th>\n",
              "      <td>2016-01-01 04:00:00</td>\n",
              "      <td>1.781533</td>\n",
              "    </tr>\n",
              "  </tbody>\n",
              "</table>\n",
              "</div>"
            ],
            "text/plain": [
              "              dateTime     usage\n",
              "0  2016-01-01 00:00:00  2.108533\n",
              "1  2016-01-01 01:00:00  1.852600\n",
              "2  2016-01-01 02:00:00  1.988000\n",
              "3  2016-01-01 03:00:00  1.993267\n",
              "4  2016-01-01 04:00:00  1.781533"
            ]
          },
          "execution_count": 17,
          "metadata": {},
          "output_type": "execute_result"
        }
      ],
      "source": [
        "data_cons.head()"
      ]
    },
    {
      "cell_type": "code",
      "execution_count": null,
      "id": "34e474dd",
      "metadata": {
        "id": "34e474dd",
        "outputId": "650841d4-ddb1-4139-de2b-20e851f03f45"
      },
      "outputs": [
        {
          "name": "stdout",
          "output_type": "stream",
          "text": [
            "29.8692   0.0\n",
            "1.0   0.0\n"
          ]
        }
      ],
      "source": [
        "print(data_cons.usage.max(),\" \",data_cons.usage.min())\n",
        "print(data_elec.price.max(),\" \",data_elec.price.min())"
      ]
    },
    {
      "cell_type": "code",
      "execution_count": null,
      "id": "4f2fae08",
      "metadata": {
        "id": "4f2fae08",
        "outputId": "3887e218-f481-4642-da84-462e7a676aff"
      },
      "outputs": [
        {
          "name": "stdout",
          "output_type": "stream",
          "text": [
            "3.519333333333332   5.361010481177898\n"
          ]
        }
      ],
      "source": [
        "print(data_cons.usage.median(), \" \", data_cons.usage.mean())"
      ]
    },
    {
      "cell_type": "code",
      "execution_count": null,
      "id": "8fd1dfdb",
      "metadata": {
        "id": "8fd1dfdb",
        "outputId": "259117f6-fb73-466a-fed9-4b4c2d441366"
      },
      "outputs": [
        {
          "data": {
            "text/plain": [
              "(8737, 2)"
            ]
          },
          "execution_count": 20,
          "metadata": {},
          "output_type": "execute_result"
        }
      ],
      "source": [
        "data_elec.shape"
      ]
    },
    {
      "cell_type": "code",
      "execution_count": null,
      "id": "bb79e6dc",
      "metadata": {
        "id": "bb79e6dc",
        "outputId": "b637ffa6-b2a2-4f85-eec5-fb7ed8830e60"
      },
      "outputs": [
        {
          "data": {
            "text/plain": [
              "(8784, 2)"
            ]
          },
          "execution_count": 21,
          "metadata": {},
          "output_type": "execute_result"
        }
      ],
      "source": [
        "data_cons.shape"
      ]
    },
    {
      "cell_type": "code",
      "execution_count": null,
      "id": "1e0a7ef2",
      "metadata": {
        "id": "1e0a7ef2",
        "outputId": "5a94374e-955a-4ace-ce84-424702cad376"
      },
      "outputs": [
        {
          "name": "stdout",
          "output_type": "stream",
          "text": [
            "(7027, 2) (1710, 2)\n",
            "(7027, 2) (1757, 2)\n"
          ]
        }
      ],
      "source": [
        "split_point = 7027\n",
        "train_elec = data_elec[:split_point]\n",
        "train_cons = data_cons[:split_point]\n",
        "test_elec = data_elec[split_point:]\n",
        "test_cons = data_cons[split_point:]\n",
        "print(train_elec.shape, test_elec.shape)\n",
        "print(train_cons.shape, test_cons.shape)"
      ]
    },
    {
      "cell_type": "code",
      "execution_count": null,
      "id": "97ff7f3b",
      "metadata": {
        "id": "97ff7f3b",
        "outputId": "45d4284f-3201-4a5c-d72e-dcc4f8086eb9"
      },
      "outputs": [
        {
          "data": {
            "text/plain": [
              "[<matplotlib.lines.Line2D at 0x7f73a68efdf0>]"
            ]
          },
          "execution_count": 23,
          "metadata": {},
          "output_type": "execute_result"
        },
        {
          "data": {
            "image/png": "[encoded data removed]",
            "text/plain": [
              "<Figure size 640x480 with 1 Axes>"
            ]
          },
          "metadata": {},
          "output_type": "display_data"
        }
      ],
      "source": [
        "plt.plot(data_elec.price[:24])"
      ]
    },
    {
      "cell_type": "code",
      "execution_count": null,
      "id": "56eaefa4",
      "metadata": {
        "id": "56eaefa4"
      },
      "outputs": [],
      "source": []
    },
    {
      "cell_type": "code",
      "execution_count": null,
      "id": "c0751975",
      "metadata": {
        "id": "c0751975",
        "outputId": "a50a283d-f5ee-45ba-e68b-9d9bc6fd6754"
      },
      "outputs": [
        {
          "data": {
            "text/plain": [
              "[<matplotlib.lines.Line2D at 0x7f73a47eaa30>]"
            ]
          },
          "execution_count": 24,
          "metadata": {},
          "output_type": "execute_result"
        },
        {
          "data": {
            "image/png": "[encoded data removed]",
            "text/plain": [
              "<Figure size 640x480 with 1 Axes>"
            ]
          },
          "metadata": {},
          "output_type": "display_data"
        }
      ],
      "source": [
        "plt.plot(data_cons.usage[0:100])"
      ]
    },
    {
      "cell_type": "code",
      "execution_count": null,
      "id": "3d27be07",
      "metadata": {
        "id": "3d27be07"
      },
      "outputs": [],
      "source": [
        "data_usage = data_cons['usage'].values"
      ]
    },
    {
      "cell_type": "code",
      "execution_count": null,
      "id": "60e82a31",
      "metadata": {
        "id": "60e82a31"
      },
      "outputs": [],
      "source": [
        "data_price = data_elec['price'].values"
      ]
    },
    {
      "cell_type": "markdown",
      "id": "3d1dfb83",
      "metadata": {
        "id": "3d1dfb83"
      },
      "source": [
        "# Create Custom Environment of SmartGrid"
      ]
    },
    {
      "cell_type": "code",
      "execution_count": null,
      "id": "78bb17ce",
      "metadata": {
        "id": "78bb17ce"
      },
      "outputs": [],
      "source": [
        "class SmartGrid(Env):\n",
        "    def __init__(self,data_usage,data_price):\n",
        "        #load electricity price data\n",
        "\n",
        "        self.data_price = data_price\n",
        "\n",
        "        #load consumer price data\n",
        "        self.data_usage = data_usage\n",
        "\n",
        "        #set maximum battery capacity\n",
        "        self.max_capacity = 10\n",
        "\n",
        "        #Actions that we can take\n",
        "        #0 == -3, 1 == -2, 2 == -1, 3 ==0 , 4 == 1, 5 == 2, 6== 3 total 7 actions to take\n",
        "        #-ve values stand for discharge and positive values stand for charge\n",
        "        self.action_space = Discrete(7)\n",
        "\n",
        "        #state\n",
        "        self.observation_space = Box(low=np.array([0]), high=np.array([10]))\n",
        "\n",
        "        #set initial start state\n",
        "        self.state = 0\n",
        "\n",
        "        #set initial position\n",
        "        self.time_step = 0\n",
        "\n",
        "        #initiate profits\n",
        "        self.profits =0\n",
        "\n",
        "\n",
        "\n",
        "        #current capacity\n",
        "        self.current_capacity = []\n",
        "\n",
        "        #action history\n",
        "        self.action_history = []\n",
        "\n",
        "        #profits history\n",
        "        self.profits_history = []\n",
        "\n",
        "        #rewards history\n",
        "        self.reward_history = []\n",
        "\n",
        "\n",
        "    def step(self,action):\n",
        "        reward = 0\n",
        "\n",
        "        reward = self.custom_reward(action)\n",
        "        reward += self.punishment_for_bad_choices( action)\n",
        "\n",
        "        self.reward_history.append(reward)\n",
        "        self.action_history.append(action - 3)  # Store the action in action_history\n",
        "        self.profits_history.append(self.profits)\n",
        "        self.current_capacity.append(self.state);\n",
        "\n",
        "        if self.time_step > 100:\n",
        "            done = True\n",
        "        else:\n",
        "            done = False\n",
        "\n",
        "        self.state += action - 3\n",
        "\n",
        "\n",
        "        info = {}\n",
        "        self.time_step += 1\n",
        "\n",
        "        return self.state, reward, done, info\n",
        "\n",
        "    def custom_reward(self,action):\n",
        "        reward = 0\n",
        "\n",
        "        # Calculate the change in profits due to the current action\n",
        "        prev_profits = self.profits\n",
        "        self.profits += (3 - action) * self.data_price[self.time_step]\n",
        "        profit_change = self.profits - prev_profits\n",
        "\n",
        "            # Define the reward based on the action type\n",
        "        if action < 3:\n",
        "            # rewarding for buying\n",
        "            reward = -1 * profit_change*10\n",
        "        elif action ==0:\n",
        "            reward = 0\n",
        "        else:\n",
        "            # penalizing for selling\n",
        "            reward = -1 * profit_change*2\n",
        "\n",
        "        return -reward\n",
        "\n",
        "\n",
        "\n",
        "    def punishment_for_bad_choices(self, action):\n",
        "        punishment = 0\n",
        "\n",
        "        #criteria for bad choices and assign a punishment\n",
        "        if action == 1 or action == 0 or action == 2:\n",
        "            if self.state < 3 - action:\n",
        "                # Penalize actions that attempt to discharge more than available\n",
        "                punishment = -5\n",
        "        elif action == 4 or action == 5 or action == 6:\n",
        "            if self.state > self.max_capacity - (action - 3):\n",
        "                # Penalize actions that attempt to charge beyond capacity\n",
        "                punishment = -5\n",
        "\n",
        "        #punishment for storing the energy after horizon\n",
        "#         if(self.time_step == 24):\n",
        "#             if(self.state != 0):\n",
        "#                 punishment = -10\n",
        "\n",
        "        return punishment\n",
        "\n",
        "    def render(self):\n",
        "        #implement vizualization\n",
        "        pass\n",
        "    def reset(self):\n",
        "        #reset the initial timestamp\n",
        "        self.time_step =0\n",
        "        self.profits = 0\n",
        "\n",
        "        #empty the entire battery\n",
        "        self.state = 0\n",
        "        #set done state as false\n",
        "        self.action_history = []\n",
        "        self.profits_history = []\n",
        "        self.reward_history = []\n",
        "        self.current_capacity=[]\n",
        "\n",
        "        return self.state\n",
        "    def get_action_history(self):\n",
        "        return self.action_history\n",
        "\n",
        "    def get_time_step(self):\n",
        "        return self.time_step\n",
        "    def get_reward_history(self):\n",
        "        return self.reward_history\n",
        "\n",
        "    def get_profits_history(self):\n",
        "        return self.profits_history\n",
        "    def get_current_capacity(self):\n",
        "        return self.current_capacity\n",
        ""
      ]
    },
    {
      "cell_type": "code",
      "execution_count": null,
      "id": "fccaa3c5",
      "metadata": {
        "id": "fccaa3c5"
      },
      "outputs": [],
      "source": []
    },
    {
      "cell_type": "code",
      "execution_count": null,
      "id": "ff91f733",
      "metadata": {
        "id": "ff91f733",
        "outputId": "a56aa7cf-bba7-4c5f-ce7b-08b9a6dd0d95"
      },
      "outputs": [
        {
          "name": "stderr",
          "output_type": "stream",
          "text": [
            "/home/pratyush/.local/lib/python3.8/site-packages/gym/spaces/box.py:128: UserWarning: \u001b[33mWARN: Box bound precision lowered by casting to float32\u001b[0m\n",
            "  logger.warn(f\"Box bound precision lowered by casting to {self.dtype}\")\n"
          ]
        }
      ],
      "source": [
        "env = SmartGrid(data_usage,data_price)"
      ]
    },
    {
      "cell_type": "code",
      "execution_count": null,
      "id": "9cc6ce0d",
      "metadata": {
        "id": "9cc6ce0d",
        "outputId": "d7e14f18-6f26-4c4c-b511-3728ff01ea13"
      },
      "outputs": [
        {
          "data": {
            "text/plain": [
              "array([1.4659163], dtype=float32)"
            ]
          },
          "execution_count": 66,
          "metadata": {},
          "output_type": "execute_result"
        }
      ],
      "source": [
        "env.observation_space.sample()"
      ]
    },
    {
      "cell_type": "code",
      "execution_count": null,
      "id": "26f7082d",
      "metadata": {
        "id": "26f7082d",
        "outputId": "b7f700d6-d2cf-4ec4-e818-26f1e49bf974"
      },
      "outputs": [
        {
          "name": "stdout",
          "output_type": "stream",
          "text": [
            "(1,)\n"
          ]
        }
      ],
      "source": [
        "print(env.observation_space.shape)"
      ]
    },
    {
      "cell_type": "code",
      "execution_count": null,
      "id": "307a8cba",
      "metadata": {
        "id": "307a8cba",
        "outputId": "fe5cf3ba-1fc5-4877-a142-6798877dbb9c"
      },
      "outputs": [
        {
          "data": {
            "text/plain": [
              "array([0.016487  , 0.01062143, 0.00989673, 0.00998732, 0.0089682 ,\n",
              "       0.00890026])"
            ]
          },
          "execution_count": 68,
          "metadata": {},
          "output_type": "execute_result"
        }
      ],
      "source": [
        "data_elec.price[:6].values"
      ]
    },
    {
      "cell_type": "code",
      "execution_count": null,
      "id": "5af0c915",
      "metadata": {
        "id": "5af0c915",
        "outputId": "3cf05aa0-6427-4028-dbe4-e75ef88ce6ff"
      },
      "outputs": [
        {
          "name": "stdout",
          "output_type": "stream",
          "text": [
            "Episode:1 Score:-181.82593532022827\n",
            "[-2, -3, 2, 2, -3, 0, -2, -3, 0, -1, 3, 3, 3, -1, -2, 2, -3, -3, -2, -2, 0, -2, 2, -1, -1, 2, -3, 2, -3, -3, -3, 2, 3, 3, 0, -3, -3, 0, 1, 0, 3, -1, -2, -1, 2, 3, 3, 2, 2, 1, 1, -1, 1, -1, -3, -1, -1, 1, 0, -3, -1, 3, -2, 0, 0, 2, 2, 3, -1, 2, 1, -2, 3, 3, 3, -3, 2, 0, 2, -3, -2, 0, 1, 2, 1, -2, 0, -1, -2, 2, 0, 3, 1, -1, 0, -3, -1, 0, -3, -3, -2, 2]\n",
            "[-4.670259987317692, -4.6813570069752695, -0.03958691910499139, -0.039949270767279624, -4.730953890750974, 0.0, -4.819730048011595, -4.694265784944289, 0.0, -4.817918289700154, -0.1659117673702328, -0.17066763293776613, -0.16686294048373945, -4.728462723072742, -4.480478304194221, -0.09330555303922457, -4.173838209982788, -3.983603587281457, -4.357278739016215, -4.4225020382281, 0.0, -4.425219675695262, -0.09647613008424677, -4.815427122021922, -4.814521242866202, -0.06323036506929974, -4.532566355648156, -0.061599782589002616, -4.554986864752242, -4.518298758945557, -4.490442974907147, -0.07645620074282089, -0.14090950267234348, -0.17623878974544793, 0.0, -4.069888576863846, -4.078720898632122, 0.0, -0.060195669897635695, 0.0, -0.228417429114956, -4.426578494428844, -3.9165685297581305, -4.4610019023462275, -0.21251924993205906, -0.3155177099374943, -0.309131261889664, -0.1451218407464444, -0.1395959778965486, -0.06789564272126097, -0.06671799981882415, -4.6548600416704415, -0.07391973910680316, -4.534378113959598, -3.0949361355195215, -4.19150285351934, -4.237476220672162, -0.1457559561554489, 0.0, -2.793957786031343, -4.366564000362352, -0.3539722800978349, -3.9677507020563456, 0.0, 0.0, -0.47613008424676145, -0.3686928163782951, -0.49270767279644906, -4.281637829513542, -0.2886130990125917, -0.12555485098287889, -4.006703505752332, -0.38916568529758144, -0.38807863031071665, -0.3762569073285622, -3.1486094754959693, -0.28109430202011065, 0.0, -0.44043844551136857, 4.617266056708036, -3.051453936044932, 0.0, -0.1457106621976627, -0.26560376845728784, -0.12519249932059062, 1.244677959960141, 0.0, -4.396684482290063, -3.708669263520247, -0.3504846453483106, 0.0, -0.48985415345592886, -0.1495153546516894, 0.6982063592716736, 0.0, -3.2471238336805874, -4.2660114140773615, 0.0, -3.0378657487091227, -3.171709393966845, -3.7127457197209894, -0.28752604402572696]\n",
            "102 102\n",
            "Episode:2 Score:-179.59516260530847\n",
            "[-1, -3, 2, -1, 3, 1, 2, 3, 2, 0, -2, 0, 0, 1, -3, 0, 1, 0, 1, 0, 2, -3, 1, -3, -3, -1, -1, -1, -3, 1, -3, 0, -1, -1, -3, -2, -1, 0, -1, -2, -3, 2, -2, 0, 2, -3, -3, 3, -1, -3, -1, 1, 0, -3, -3, -3, 3, 1, -1, 1, -1, 1, 2, 2, 0, -1, -3, 2, 3, 3, 1, -1, 0, 1, -3, -2, 2, -1, 2, 0, 2, 0, 0, 0, -1, -1, 2, 1, 3, -3, -1, 2, -2, 2, -2, -1, 1, -1, -3, -1, 1, 1]\n",
            "[-4.835129993658846, -4.6813570069752695, -0.03958691910499139, -4.900126823081801, -0.05380922184980521, -0.01780052540991032, -0.03605399039768094, -0.061146843011142274, -0.05697979889482743, 0.0, 0.5530392245674427, 0.0, 0.0, -0.05430745538545158, 0.7792825437086693, 0.0, -0.0550774526678141, 0.0, -0.06427212609837846, 0.0, -0.11740193858139322, 0.8621704864571066, -0.04823806504212338, 0.5537186339342332, 0.5564362714013951, -4.841924087326751, -4.844188785216052, -4.846000543527493, -4.554986864752242, -0.03211341607029622, -4.490442974907148, 0.0, -4.7651508288794275, -4.706268683757587, -4.090950267234351, -4.379925717909231, -4.692906966210708, 0.0, -4.699021650511821, -4.388531569888578, -3.8579128544252193, -0.22936860222846267, -3.9165685297581296, 0.0, -0.21251924993205895, -3.422411450312528, -3.45434369055168, -0.21768276111966656, -4.651010055258629, -3.981565359181085, -4.66641000090588, -0.06902799166591178, 0.0, -3.603134341878793, -3.0949361355195215, -2.574508560558022, -0.45751426759670233, -0.1457559561554489, -4.271899628589546, -0.14706948093124383, -4.366564000362352, -0.11799076003261177, -0.20644985958873097, -0.20264516713470426, 0.0, -3.8096747893830973, -2.2348038771627876, -0.3284717818642995, -0.4310173022918742, -0.43291964851888776, -0.125554850982879, -4.503351752876165, 0.0, -0.12935954343690548, -3.118715463357188, -3.765739650330646, -0.28109430202011065, -4.229776247848537, -0.4404384455113688, 0.0, -0.38970921279101356, 0.0, 0.0, 0.0, -4.374037503397047, -4.3776610200199295, -0.24259443790198376, -0.1206631035419875, -0.3873992209439261, -2.371365159887671, -4.173158800615998, -0.3265694356372859, -3.504846453483106, -0.27928254370866923, -3.7245221487453573, -4.415707944560196, -0.1467977171845276, -4.3126641905969745, -3.0378657487091223, -4.390569797988948, -0.1287254280279011, -0.1437630220128634]\n",
            "102 102\n",
            "Episode:3 Score:-195.03143400670362\n",
            "[-1, -3, -2, 3, -3, -1, 1, 3, -3, 2, 1, 0, 3, 3, -1, -1, 2, 1, 2, 3, 0, -1, 3, -3, 2, 3, 3, 0, -1, 1, 3, -2, 2, 1, 0, 1, 1, 2, 0, 1, 2, 1, 0, 0, -1, 3, 1, -3, -1, 0, 2, 0, 2, -2, -1, 2, -3, 1, -3, 1, -2, 3, 2, 0, -3, -3, -2, 3, 0, -3, -3, 1, 0, 0, -2, 3, -1, 2, 2, -2, 2, 3, 2, 2, 1, 3, -2, 3, -1, 1, -3, 1, 3, -1, -2, 0, -1, 3, 3, -1, -2, -2]\n",
            "[-4.835129993658846, -4.6813570069752695, -4.8020654044750435, -0.05992390615091944, -4.730953890750974, -4.910997372950448, -0.018026995198840462, -0.06114684301114229, -4.572651508288795, -0.07283268411993842, -0.055303922456744266, 0.0, -0.16686294048373948, -0.16292236615635475, 0.25976084790288984, 0.23326388259806138, -0.11015490533562819, -0.06775976084790286, -0.12854425219675691, -0.1732493885315699, 0.0, 0.2873901621523689, -5.14471419512637, 0.5537186339342332, -0.07419150285351939, -5.09484554760395, -5.093486728870369, 0.0, 0.14833771174925237, -5.032113416070296, -5.10191140501857, 0.38228100371410445, -5.093939668448229, -5.058746263248483, 0.0, -5.062007428209077, -5.061418606757859, -5.121297218950992, 0.0, -5.061146843011143, -5.152278286076637, -5.114684301114231, 0.0, 0.0, 0.5312981248301474, -5.315517709937494, -5.103043753963221, 1.0884138055983328, 0.34898994474137135, 0.0, -5.133435999637648, 0.0, -5.147839478213607, 0.9312437720808042, 0.6350212881601591, -5.323398858592264, 2.287571337983513, -5.145755956155449, 2.1843011142313618, -5.147069480931243, 1.2668719992752964, -5.353972280097835, -5.206449859588731, 0.0, 2.204683395235075, 3.5709756318507107, 1.8434640818914754, -5.492707672796449, 0.0, 2.164598242594438, 1.8833227647431832, -5.099329649424766, 0.0, 0.0, 1.2541896910952077, -5.370278104900806, 0.7027357550502764, -5.308089500860585, -5.440438445511369, 3.0781773711386906, -5.389709212791014, -5.38998097653773, -5.291421324395325, -5.265603768457288, -5.12519249932059, -5.373403387988042, 1.21297218950992, -5.361989310625963, 0.6456653682398772, -5.175242322674155, 2.480523598152007, -5.163284717818643, -5.448546063955068, 0.6982063592716736, 1.2754778512546427, 0.0, 0.733988585922638, -5.412401485641816, -5.392426850258175, 0.609430202011052, 1.287254280279011, 1.437630220128635]\n",
            "102 102\n",
            "Episode:4 Score:-41.532385179817005\n",
            "[-2, -2, 1, 1, 1, -3, 2, 3, 0, 3, -3, -3, 2, 2, -1, 3, 0, -3, 3, 2, -1, 0, 2, 1, -2, 1, -2, 0, -3, 1, 0, -2, 2, -2, 3, -1, 1, -1, 1, -1, 3, -3, 3, -3, 2, 3, -2, -3, -2, 2, 1, -1, -3, 0, 0, -2, 3, 1, -2, -3, 3, 0, 0, -1, 1, -3, 0, -2, -3, 1, 1, -3, 1, -1, 2, 0, 3, -1, 2, 2, -1, 3, -3, 2, 0, 1, 0, 3, 2, -2, 0, 1, 3, -2, -3, 0, 1, 1, -2, -3, 1, 1]\n",
            "[-4.670259987317692, -4.787571337983513, -0.0197934595524957, -0.019974635383639805, -0.017936407283268403, -4.732992118851345, -0.03605399039768094, -0.06114684301114228, 0.0, -0.10924902617990762, 0.829558836851164, -4.1466618353111695, -0.11124196032249299, -0.10861491077090317, 0.25976084790288984, -0.13995832955883686, 0.0, 1.0163964127185434, -0.19281637829513537, -0.11549959235437993, 0.2935048464534831, 0.0, -0.09647613008424677, -0.03691457559561556, 0.37095751426759666, -0.03161518253464987, 0.31162242956789554, 0.0, 0.44501313524775776, -0.03211341607029622, 0.0, 0.3822810037141045, -0.093939668448229, 0.5874626324848266, -0.18180994655312982, 0.3100371410453845, -0.06141860675785851, 0.30324304737747987, -0.06019566989763567, 0.3057342150557116, -0.22841742911495602, 1.7202645167134705, -0.3250294410725609, 1.616994292961319, -0.21251924993205906, -0.3155177099374943, 1.0304375396322132, 1.088413805598333, 0.6979798894827429, -0.13579128544252195, -0.06671799981882415, 0.3451399583295588, 1.108796086602047, 0.0, 0.0, -3.383005707038681, -0.45751426759670255, -0.14575595615544887, 1.4562007428209076, -2.793957786031343, -0.380061599782589, 0.0, 0.0, -4.493387082163239, -0.14697889301567169, -1.4290243681492893, 0.0, -3.357641090678503, -2.8449134885406293, -0.14430654950629584, -0.125554850982879, -3.5100552586284994, -0.12972189509919385, -4.353202282815473, -0.25083793821904155, 0.0, -0.42164145303016576, -4.229776247848537, -0.4404384455113688, -0.6156354742277381, -4.025726968022466, -0.3899809765377298, -2.8143400670350576, -0.26560376845728784, 0.0, -0.12446779599601412, 0.0, -0.3619893106259625, -0.25826614729595065, 1.7524232267415527, 0.0, -0.163284717818643, -0.44854606395506835, 1.3964127185433461, 1.9132167768819635, 0.0, -0.1467977171845276, -0.13746716188060515, 1.308089500860585, 1.8282906060331552, -0.12872542802790107, -0.14376302201286348]\n",
            "102 102\n",
            "Episode:5 Score:-115.77162786484283\n",
            "[-2, 2, 0, -2, 3, -2, 1, -1, 3, -3, -3, -1, 0, 3, 3, 0, 3, -3, 0, 2, 0, -1, 1, -2, 0, -1, -1, -2, 3, -1, 0, 2, 2, 3, 1, -3, 0, -1, 0, 0, -2, 2, -3, -3, 3, -3, 1, 3, 1, 0, -3, 2, -3, 0, 3, -3, -1, 3, 3, -3, -1, -1, 0, 1, 3, 0, -3, 3, -3, -3, -3, -2, 3, -3, 3, -1, 0, 3, -1, -3, -2, 3, 3, -2, 1, 1, 1, 1, 0, -1, -1, 3, 2, 2, 0, 3, -2, -2, 3, 0, 3, -3]\n",
            "[-4.670259987317692, -0.04248573240329741, 0.0, -4.800253646163602, -0.05380922184980521, -4.821994745900897, -0.01802699519884047, -4.89808859498143, -0.08546969834224116, -4.453754869100462, -4.170441163148836, -4.715553945103723, 0.0, -0.16292236615635475, -0.15585650874173387, 0.0, -0.1652323580034423, 1.0163964127185434, 0.0, -0.11549959235437991, 0.0, 0.28739016215236884, -0.04823806504212338, 0.3691457559561554, 0.0, 0.15807591267324939, -4.844188785216052, -4.692001087054987, -0.08900262704955156, -4.839432919648519, 0.0, -0.0764562007428209, -0.09393966844822901, -0.176238789745448, -0.06060331551770992, 0.9301114231361536, 0.0, 0.30324304737747987, 0.0, 0.0, 0.7613914303831868, -0.22936860222846273, 1.6251472053628044, -3.3830057070386808, -0.3187788748980886, -3.4224114503125285, -0.1030437539632213, -0.2176827611196666, -0.0697979889482743, 0.0, -3.9992300027176375, -0.1380559833318235, -3.891203913397953, 0.0, -0.38101277289609564, -2.574508560558022, -4.237476220672162, -0.4372678684663466, -0.43686022284627224, 2.2060422139686566, -4.366564000362351, -4.410046199836942, 0.0, -0.10132258356735213, -0.44093667904701506, 0.0, -2.2348038771627863, -0.492707672796449, -2.844913488540629, -2.8354017574055614, -3.116677235256816, -4.006703505752332, -0.38916568529758133, -3.0596068484464167, -0.3762569073285623, -4.382869825165322, 0.0, -0.4621342512908777, -3.898903886221578, -0.38273394329196453, -3.051453936044932, -0.3899809765377298, -0.4371319865929886, -3.671981157713561, -0.12519249932059062, -0.1244677959960141, -0.12129721895099199, -0.12066310354198762, 0.0, -4.123788386629224, -4.173158800615998, -0.489854153455929, -0.29903070930337894, -0.2792825437086693, 0.0, -0.35057523326388257, 1.4679771718452759, 1.3746716188060513, -0.3924268502581755, 0.0, -0.3861762840837032, 2.156445330192952]\n",
            "102 102\n",
            "Episode:6 Score:-181.71813570069745\n",
            "[-1, -1, 1, -3, -2, -2, 3, -3, 0, -1, 3, 1, 0, 0, 1, 0, 3, 2, -1, 1, -2, 0, -1, 1, -2, 0, -1, 0, 2, 3, 3, 1, 1, 1, -3, -3, -1, -1, 1, -1, 3, 3, -3, 0, 0, 1, -2, -3, -1, -3, 1, 3, -1, 2, -1, 1, 2, 0, -3, -2, 1, 3, -3, -2, -2, -3, 3, -3, 1, 3, -2, -3, 3, -1, -2, 3, 0, -1, -1, -1, 3, -2, 0, -1, -1, 2, 3, 2, -1, -3, -3, 0, -1, -1, 2, 2, -3, -1, -3, 0, -2, -1]\n",
            "[-4.835129993658846, -4.8937856689917565, -0.019793459552495694, -4.7003804692454025, -4.8206359271673165, -4.821994745900897, -0.054080985596521414, -4.694265784944289, 0.0, -4.817918289700154, -0.1659117673702328, -0.056889210979255374, 0.0, 0.0, -0.05195216958057796, 0.0, -0.1652323580034423, -0.13551952169580578, 0.3213606304918923, -0.05774979617718995, -4.412990307093033, 0.0, -4.758809674789383, -0.036914575595615534, -4.629042485732404, 0.0, -4.844188785216052, 0.0, -0.05933508469970103, -0.09634024821088866, -0.10191140501857054, -0.038228100371410445, -0.04696983422411449, -0.058746263248482644, 0.909049732765649, 0.9301114231361536, 0.30709303378929254, -4.69675695262252, -0.06019566989763566, -4.694265784944289, -0.22841742911495605, -0.3440529033426941, 1.6251472053628044, 0.0, 0.0, -0.10517256997916474, 1.0304375396322132, -3.911586194401667, -4.651010055258628, -3.9815653591810856, -0.06671799981882415, -0.20708397499773526, -4.630401304465984, -0.18624875441616084, -4.364978711839841, -0.16169942929613187, -0.3050095117311351, 0.0, -2.8156988857686387, -3.529305190687562, -0.12668719992752966, -0.3539722800978349, -3.4516260530845186, -3.986774164326479, -3.530211069843283, -1.4290243681492893, -0.5530392245674427, -2.536461636017755, -0.14367243409729147, -0.43291964851888765, -3.744451490171211, -3.510055258628499, -0.38916568529758133, -4.353202282815473, -3.745810308904792, -0.37027810490080626, 0.0, -4.2297762478485375, -3.8989038862215786, -3.4609113144306547, -0.5845638191865205, -3.700063411540901, 0.0, -4.335990578856781, -4.374037503397047, -0.2489355919920282, -0.36389165685297575, -0.241326207083975, -4.354334631760123, -2.371365159887671, -2.519476401847993, 0.0, -4.252423226741553, -4.301793640728326, -0.25509557025092855, -0.23371682217592182, -2.798034242232086, -4.312664190596975, -3.037865748709123, 0.0, -3.712745719720989, -4.281184889935683]\n",
            "102 102\n",
            "Episode:7 Score:-149.7470332457651\n",
            "[2, -3, 0, -3, -1, -2, 2, -2, 2, 1, 3, 3, 0, 0, -1, -2, 2, 1, -1, -2, 3, -1, 1, 0, 0, 2, -1, -3, -1, -2, 3, 0, -2, -3, 0, 1, 1, -2, 0, -1, -2, -3, 3, 2, -2, 2, -3, -1, -2, 1, 3, 3, -3, 2, 1, 1, -3, 3, 0, 1, 3, -2, 1, 2, -1, 1, -3, 1, -3, 1, 1, 3, -2, 3, 3, -1, -3, -1, 2, 3, -1, 2, 1, 0, 1, 3, 3, -1, -2, 1, 3, 2, -3, 0, 2, 3, -1, 2, -2, -3, 3, 3]\n",
            "[-0.06594800253646164, -4.6813570069752695, 0.0, -4.7003804692454025, -4.910317963583658, -4.821994745900897, -0.03605399039768094, -4.796177189962859, -0.056979798894827446, -0.03641634205996921, -0.1659117673702328, -0.17066763293776613, 0.0, 0.0, 0.25976084790288984, -4.533472234803877, -0.11015490533562822, -0.06775976084790292, 0.3213606304918923, -4.4225020382281, -0.17610290787208988, 0.2873901621523689, -0.04823806504212336, 0.0, 0.0, -0.06323036506929974, 0.15581121478394772, 0.46199836941751976, -4.851662288250747, -4.678865839297038, -0.10191140501857054, 0.0, -4.530301657758855, -4.1188060512727604, 0.0, -0.0620074282090769, -0.06141860675785851, -4.39351390524504, 0.0, -4.694265784944289, -4.238608569616813, -3.2797354832865295, -0.3250294410725609, -0.21559923906150918, -3.937403750339705, -0.21034513995832954, -3.45434369055168, -4.637195398133889, -4.302020110517257, -0.06789564272126097, -0.20015399945647244, -0.20708397499773526, -3.891203913397953, -0.18624875441616084, -0.12700425763203188, -0.16169942929613187, -2.712428662016487, -0.4372678684663466, 0.0, -0.14706948093124378, -0.38006159978258897, -3.8200923996738836, -0.10322492979436543, -0.20264516713470426, 0.7348944650783584, -0.23806504212338075, -2.2348038771627863, -0.16423589093214963, -2.844913488540629, -0.14430654950629587, -0.1255548509828789, -0.2979889482743002, -3.7027810490080624, -0.3880786303107166, -0.37625690732856243, 0.6171301748346769, 2.1082072651508286, 0.770223752151463, -0.44043844551136874, -0.9234532113416072, 0.9742730319775339, -0.25998731769181993, -0.14571066219766293, 0.0, -0.12519249932059084, -5.373403387988042, -5.363891656852976, 0.603315517709937, 1.2913307364797544, -5.175242322674155, -5.496104719630401, -5.3265694356372855, 2.242730319775341, 0.0, -5.255095570250928, -5.350575233263882, 0.733988585922638, -5.27493432376121, 1.3080895008605853, 1.828290606033156, -5.386176284083703, -5.431289066038591]\n",
            "102 102\n",
            "Episode:8 Score:-182.42417791466622\n",
            "[-2, -2, -1, 3, 3, 2, -2, 3, 0, -2, 2, -3, 0, -3, -3, 0, -1, -1, -2, -2, -3, -2, 2, 0, 1, 1, 3, -3, 0, 2, -1, 1, -1, -3, -3, 2, 0, -2, 2, 0, 1, 3, -1, 2, -2, -3, -1, -3, 1, 2, 0, -2, 2, 0, -2, 3, -2, -2, -3, 3, 2, -1, 2, -3, 1, 2, 2, 2, -3, 2, -3, 3, 3, 3, -2, 0, -1, -1, 3, 2, -1, 1, 0, 0, -2, -1, 2, -2, 3, 3, 2, -2, -3, 1, -2, 0, 0, 1, 0, -2, 3, -1]\n",
            "[-4.670259987317692, -4.787571337983513, -4.901032702237521, -0.05992390615091944, -0.05380922184980521, -0.03560105081982064, 0.18026995198840468, -0.06114684301114228, 0.0, 0.3641634205996921, -0.11060784491348853, 0.8533381646888306, 0.0, -4.185388169218227, -4.2207174562913305, 0.0, -4.724612736660929, -4.661201195760485, -4.357278739016215, -4.4225020382281, -4.119485460639551, -4.425219675695262, -0.09647613008424671, 0.0, -0.03709575142675969, -0.0316151825346499, -0.09348672887036868, -4.53800163058248, 0.0, -0.06422683214059244, -4.830147658302383, -0.038228100371410445, -4.7651508288794275, -4.11880605127276, -4.090950267234351, -0.1240148564181538, 0.0, -4.39351390524504, -0.12039133979527139, 0.0, -0.0761391430383187, -0.3440529033426941, -4.458284264879065, -0.21559923906150913, -3.937403750339705, -3.4224114503125285, -4.484781230183893, -3.911586194401667, -0.06979798894827427, -0.13579128544252206, 0.0, -4.309720083340882, -0.14783947821360632, 0.0, -3.7299574236796817, -0.4850982878883956, -3.4749524413443247, -3.542440438445511, -2.815698885768639, -0.4412084427937313, -0.2533743998550593, -4.410046199836942, -0.20644985958873097, -3.480161246489719, -0.14697889301567169, -0.4761300842467615, -0.3686928163782951, -0.3284717818642993, -2.844913488540629, -0.28861309901259175, -3.1166772352568164, -0.2979889482743002, -0.38916568529758133, -0.38807863031071654, -3.745810308904792, 0.0, -4.297264244949724, -4.2297762478485375, -0.6606576682670531, -0.6156354742277382, -4.025726968022466, -0.12999365884590985, 0.0, 0.0, -3.7480750067940938, -4.3776610200199295, -0.24259443790198387, -3.793368964580125, -0.387399220943926, -0.5257269680224659, -0.33073647975360077, -3.3671528218135705, -2.757269680224658, -0.13964127185433473, -3.7245221487453573, 0.0, 0.0, -0.13746716188060515, 0.0, -3.7811395959778964, -0.3861762840837032, -4.281184889935683]\n",
            "102 102\n",
            "Episode:9 Score:-184.81189419331466\n",
            "[0, 2, -3, 2, 3, 1, 0, -2, -3, 1, 0, -3, -2, -1, 1, -1, -2, -3, 2, -3, 0, 3, 2, 1, -1, 3, -2, -3, 0, 2, 2, -2, -2, -2, 0, 0, -3, -2, -2, 0, -1, 3, -1, 3, -1, -3, 3, 0, 0, 0, -1, -1, 1, 3, 0, 3, 3, 0, -1, 2, -2, -3, 0, 3, -3, -1, -3, 3, -2, 1, -3, 0, -2, 0, 3, -1, -1, -3, 2, 0, -3, -3, 1, -3, 1, -3, -1, 0, -2, 2, 1, -1, -1, 1, 0, -3, 2, 2, 0, 3, -3, 2]\n",
            "[0.0, -0.04248573240329741, -4.703098106712565, -0.039949270767279624, -0.05380922184980521, -0.017800525409910326, 0.0, 0.20382281003714092, 0.4273484917112058, -0.03641634205996921, 0.0, -4.1466618353111695, -4.443790198387535, -4.7284627230727425, -0.05195216958057797, -4.766736117401939, -4.449225473321859, -3.983603587281457, -0.12854425219675691, -4.13375305734215, 0.0, -0.17243409729142134, -0.09647613008424677, -0.03691457559561556, -4.814521242866202, -0.09484554760394964, -4.688377570432104, -4.53800163058248, 0.0, -0.06422683214059244, -0.06794093667904699, -4.6177189962858955, -4.530301657758855, -4.412537367515173, 0.0, 0.0, -4.078720898632123, -4.39351390524504, -4.398043301023644, 0.0, -4.619304284808407, -0.3440529033426941, -4.458284264879065, -0.3233988585922638, -4.468701875169852, -3.4224114503125285, -0.309131261889664, 0.0, 0.0, 0.0, -4.666410000905879, -4.654860041670441, -0.07391973910680316, -0.27937313162424127, 0.0, -0.4850982878883956, -0.45751426759670255, 0.0, -4.271899628589546, -0.29413896186248756, -3.7331280007247036, -3.2301385995108256, 0.0, -0.3039677507020563, -2.795316604764925, -3.8096747893830964, -2.2348038771627863, -0.492707672796449, -3.5632756590270858, -0.14430654950629584, -3.116677235256817, 0.0, -3.702781049008062, 0.0, -0.3762569073285623, -4.382869825165323, -4.297264244949724, -2.6893287435456115, -0.4404384455113688, 0.0, -2.077180904067397, -3.050095117311351, -0.1457106621976627, -3.0079717365703407, -0.12519249932059084, -3.1329830600597885, -4.393513905245041, 0.0, -3.7086692635202456, -0.3504846453483106, -0.1653682398768006, -4.183576410906785, -4.252423226741553, -0.13964127185433473, 0.0, -3.2471238336805874, -0.2935954343690552, -0.2749343237612103, 0.0, -0.3656581212066312, -3.0691185795814846, -0.2875260440257268]\n",
            "102 102\n",
            "Episode:10 Score:-112.32942295497779\n",
            "[-3, 3, 3, 3, 2, 0, -2, 0, 1, 0, 1, 3, -3, 0, -2, 0, 1, 1, 1, -1, -3, 2, -3, 0, 1, 3, -2, 1, 1, 0, 2, 2, -1, 3, -2, 2, 1, -3, 0, -3, 0, 2, -2, 0, 2, 1, -1, -3, 2, 0, 1, 3, 2, 0, -1, 2, 0, -3, 0, 3, -1, -1, -3, -1, 1, 1, -1, 3, -2, -2, -1, -1, 0, -2, 0, 0, -2, -2, -1, -3, -2, -1, 3, -3, 1, 0, 0, -1, -2, 2, 2, 0, -3, -3, -1, -2, -1, -2, -2, 1, -3, 2]\n",
            "[-4.505389980976537, -0.06372859860494612, -0.05938037865748708, -0.059923906150919436, -0.035872814566536806, 0.0, 0.18026995198840468, 0.0, -0.02848989944741373, 0.0, -0.05530392245674426, -5.170667632937766, 0.8343147024186974, 0.0, 0.5195216958057796, 0.0, -0.055077452667814095, -0.06775976084790289, -0.06427212609837846, 0.28874898088594975, 0.8805145393604492, -0.11495606486094753, 0.7235709756318507, 0.0, -0.03709575142675967, -0.09484554760394964, 0.31162242956789565, -0.030799891294501322, -0.02966754234985053, 0.0, -0.06794093667904702, -5.076456200742821, 0.23484917112057246, -5.176238789745448, 0.6060331551770994, -5.124014856418154, -5.061418606757859, 0.9097291421324394, 0.0, 0.9172026451671346, 0.0, -5.229368602228463, 1.0834314702418695, 0.0, -5.212519249932059, -5.105172569979165, 0.5152187698161065, 1.088413805598333, -0.1395959778965486, 0.0, -5.066717999818824, -5.207083974997735, -5.147839478213607, 0.0, 0.6350212881601591, -5.323398858592264, 0.0, 2.186339342331733, 0.0, -5.441208442793731, 0.6334359996376482, 0.5899538001630583, 1.5483739469154814, 0.5066129178367605, -5.146978893015672, -5.238065042123381, 0.9217320409457377, -5.492707672796449, 1.4367243409729142, 1.4430654950629587, 0.6277742549143944, 0.4966482471238337, 0.0, 1.293595434369055, 0.0, 0.0, 1.4054715101005528, 1.540447504302926, 1.1010961137784219, -0.38273394329196364, -3.051453936044932, -4.35003170577045, -0.4371319865929886, -3.0079717365703407, -0.12519249932059084, 0.0, 0.0, -4.396684482290063, -3.7086692635202456, -0.3504846453483106, -0.33073647975360077, 0.0, -2.757269680224659, -2.9053809221849813, -4.36226107437268, -3.831415889120391, -4.2660114140773615, -3.6253283811939485, -3.6919104991394147, -0.1218860404022104, -3.0691185795814846, -0.2875260440257268]\n",
            "102 102\n"
          ]
        }
      ],
      "source": [
        "episodes = 10\n",
        "for episode in range(1,episodes+1):\n",
        "    state = env.reset()\n",
        "    done = False\n",
        "    score = 0\n",
        "\n",
        "    while not done:\n",
        "\n",
        "        action = env.action_space.sample()\n",
        "        n_state , reward, done, info = env.step(action)\n",
        "        score+=reward\n",
        "    print('Episode:{} Score:{}'.format(episode,score))\n",
        "    action_history = env.get_action_history()\n",
        "    print(action_history)\n",
        "    #print(env.get_profits_history())\n",
        "    print(env.get_reward_history())\n",
        "    print(len(action_history),env.get_time_step())\n",
        ""
      ]
    },
    {
      "cell_type": "markdown",
      "id": "724b4696",
      "metadata": {
        "id": "724b4696"
      },
      "source": [
        "# Creating Deep Learning Model with Keras"
      ]
    },
    {
      "cell_type": "code",
      "execution_count": null,
      "id": "ccf83220",
      "metadata": {
        "id": "ccf83220"
      },
      "outputs": [],
      "source": [
        "import numpy as np\n",
        "from tensorflow.keras.models import Sequential\n",
        "from tensorflow.keras.layers import Dense, Flatten\n",
        "from tensorflow.keras.optimizers import Adam"
      ]
    },
    {
      "cell_type": "code",
      "execution_count": null,
      "id": "facac12b",
      "metadata": {
        "id": "facac12b"
      },
      "outputs": [],
      "source": [
        "states = env.observation_space.shape\n",
        "actions = env.action_space.n"
      ]
    },
    {
      "cell_type": "code",
      "execution_count": null,
      "id": "a3fb6be9",
      "metadata": {
        "id": "a3fb6be9"
      },
      "outputs": [],
      "source": [
        "!"
      ]
    },
    {
      "cell_type": "code",
      "execution_count": null,
      "id": "d6a91724",
      "metadata": {
        "id": "d6a91724"
      },
      "outputs": [],
      "source": [
        "del model"
      ]
    },
    {
      "cell_type": "code",
      "execution_count": null,
      "id": "c63cf7b6",
      "metadata": {
        "id": "c63cf7b6",
        "outputId": "29706418-39aa-4c45-d4d4-e60aaf46e5df"
      },
      "outputs": [
        {
          "name": "stdout",
          "output_type": "stream",
          "text": [
            "(1,)\n",
            "7\n"
          ]
        }
      ],
      "source": [
        "print(states)\n",
        "print(actions)"
      ]
    },
    {
      "cell_type": "code",
      "execution_count": null,
      "id": "c05b1d9e",
      "metadata": {
        "id": "c05b1d9e"
      },
      "outputs": [],
      "source": [
        "def build_model(states, actions):\n",
        "    model = Sequential()\n",
        "\n",
        "    model.add(Dense(24, activation='relu', input_shape=(1,)))  # Use input_shape as a tuple with a single integer\n",
        "    model.add(Dense(64, activation='relu'))\n",
        "    model.add(Dense(24, activation='relu'))\n",
        "    model.add(Dense(actions, activation='linear'))\n",
        "    return model"
      ]
    },
    {
      "cell_type": "code",
      "execution_count": null,
      "id": "886a9de8",
      "metadata": {
        "id": "886a9de8"
      },
      "outputs": [],
      "source": [
        "model = build_model(states, actions)"
      ]
    },
    {
      "cell_type": "code",
      "execution_count": null,
      "id": "274ad666",
      "metadata": {
        "id": "274ad666",
        "outputId": "da71c9a4-d335-49bc-9d1f-76e66a3583cd"
      },
      "outputs": [
        {
          "name": "stdout",
          "output_type": "stream",
          "text": [
            "Model: \"sequential_2\"\n",
            "_________________________________________________________________\n",
            " Layer (type)                Output Shape              Param #   \n",
            "=================================================================\n",
            " dense_8 (Dense)             (None, 24)                48        \n",
            "                                                                 \n",
            " dense_9 (Dense)             (None, 64)                1600      \n",
            "                                                                 \n",
            " dense_10 (Dense)            (None, 24)                1560      \n",
            "                                                                 \n",
            " dense_11 (Dense)            (None, 7)                 175       \n",
            "                                                                 \n",
            "=================================================================\n",
            "Total params: 3,383\n",
            "Trainable params: 3,383\n",
            "Non-trainable params: 0\n",
            "_________________________________________________________________\n"
          ]
        }
      ],
      "source": [
        "model.summary()"
      ]
    },
    {
      "cell_type": "code",
      "execution_count": null,
      "id": "fb6a8077",
      "metadata": {
        "id": "fb6a8077"
      },
      "outputs": [],
      "source": [
        "from rl.agents import DQNAgent\n",
        "from rl.policy import BoltzmannQPolicy\n",
        "from rl.memory import SequentialMemory\n",
        "from rl.policy import EpsGreedyQPolicy"
      ]
    },
    {
      "cell_type": "code",
      "execution_count": null,
      "id": "ceecf697",
      "metadata": {
        "id": "ceecf697"
      },
      "outputs": [],
      "source": [
        "def build_agent(model, actions):\n",
        "    policy = EpsGreedyQPolicy(eps=0.2)\n",
        "    memory = SequentialMemory(limit=50000, window_length=1)\n",
        "    dqn = DQNAgent(model=model, memory=memory, policy=policy,\n",
        "                  nb_actions=actions, nb_steps_warmup=10, target_model_update=1e-4,gamma = 0.99)\n",
        "    return dqn"
      ]
    },
    {
      "cell_type": "code",
      "execution_count": null,
      "id": "6931a956",
      "metadata": {
        "id": "6931a956",
        "outputId": "a5a7500e-4ec5-4194-d087-e7d1a75424e2"
      },
      "outputs": [
        {
          "name": "stdout",
          "output_type": "stream",
          "text": [
            "Training for 100000 steps ...\n",
            "Interval 1 (0 steps performed)\n",
            "\r",
            "    1/10000 [..............................] - ETA: 8:42 - reward: -4.5054"
          ]
        },
        {
          "name": "stderr",
          "output_type": "stream",
          "text": [
            "/home/pratyush/.local/lib/python3.8/site-packages/keras/engine/training_v1.py:2079: UserWarning: `Model.state_updates` will be removed in a future version. This property should not be used in TensorFlow 2.0, as `updates` are applied automatically.\n",
            "  updates=self.state_updates,\n",
            "/home/pratyush/.local/lib/python3.8/site-packages/rl/memory.py:37: UserWarning: Not enough entries to sample without replacement. Consider increasing your warm-up phase to avoid oversampling!\n",
            "  warnings.warn('Not enough entries to sample without replacement. Consider increasing your warm-up phase to avoid oversampling!')\n",
            "/home/pratyush/.local/lib/python3.8/site-packages/rl/memory.py:38: DeprecationWarning: This function is deprecated. Please call randint(1, 10 + 1) instead\n",
            "  batch_idxs = np.random.random_integers(low, high - 1, size=size)\n"
          ]
        },
        {
          "name": "stdout",
          "output_type": "stream",
          "text": [
            "   42/10000 [..............................] - ETA: 1:59 - reward: -0.4866"
          ]
        },
        {
          "name": "stderr",
          "output_type": "stream",
          "text": [
            "/home/pratyush/.local/lib/python3.8/site-packages/rl/memory.py:38: DeprecationWarning: This function is deprecated. Please call randint(1, 11 + 1) instead\n",
            "  batch_idxs = np.random.random_integers(low, high - 1, size=size)\n",
            "/home/pratyush/.local/lib/python3.8/site-packages/rl/memory.py:38: DeprecationWarning: This function is deprecated. Please call randint(1, 12 + 1) instead\n",
            "  batch_idxs = np.random.random_integers(low, high - 1, size=size)\n",
            "/home/pratyush/.local/lib/python3.8/site-packages/rl/memory.py:38: DeprecationWarning: This function is deprecated. Please call randint(1, 13 + 1) instead\n",
            "  batch_idxs = np.random.random_integers(low, high - 1, size=size)\n",
            "/home/pratyush/.local/lib/python3.8/site-packages/rl/memory.py:38: DeprecationWarning: This function is deprecated. Please call randint(1, 14 + 1) instead\n",
            "  batch_idxs = np.random.random_integers(low, high - 1, size=size)\n",
            "/home/pratyush/.local/lib/python3.8/site-packages/rl/memory.py:38: DeprecationWarning: This function is deprecated. Please call randint(1, 15 + 1) instead\n",
            "  batch_idxs = np.random.random_integers(low, high - 1, size=size)\n",
            "/home/pratyush/.local/lib/python3.8/site-packages/rl/memory.py:38: DeprecationWarning: This function is deprecated. Please call randint(1, 16 + 1) instead\n",
            "  batch_idxs = np.random.random_integers(low, high - 1, size=size)\n",
            "/home/pratyush/.local/lib/python3.8/site-packages/rl/memory.py:38: DeprecationWarning: This function is deprecated. Please call randint(1, 17 + 1) instead\n",
            "  batch_idxs = np.random.random_integers(low, high - 1, size=size)\n",
            "/home/pratyush/.local/lib/python3.8/site-packages/rl/memory.py:38: DeprecationWarning: This function is deprecated. Please call randint(1, 18 + 1) instead\n",
            "  batch_idxs = np.random.random_integers(low, high - 1, size=size)\n",
            "/home/pratyush/.local/lib/python3.8/site-packages/rl/memory.py:38: DeprecationWarning: This function is deprecated. Please call randint(1, 19 + 1) instead\n",
            "  batch_idxs = np.random.random_integers(low, high - 1, size=size)\n",
            "/home/pratyush/.local/lib/python3.8/site-packages/rl/memory.py:38: DeprecationWarning: This function is deprecated. Please call randint(1, 20 + 1) instead\n",
            "  batch_idxs = np.random.random_integers(low, high - 1, size=size)\n",
            "/home/pratyush/.local/lib/python3.8/site-packages/rl/memory.py:38: DeprecationWarning: This function is deprecated. Please call randint(1, 21 + 1) instead\n",
            "  batch_idxs = np.random.random_integers(low, high - 1, size=size)\n",
            "/home/pratyush/.local/lib/python3.8/site-packages/rl/memory.py:38: DeprecationWarning: This function is deprecated. Please call randint(1, 22 + 1) instead\n",
            "  batch_idxs = np.random.random_integers(low, high - 1, size=size)\n",
            "/home/pratyush/.local/lib/python3.8/site-packages/rl/memory.py:38: DeprecationWarning: This function is deprecated. Please call randint(1, 23 + 1) instead\n",
            "  batch_idxs = np.random.random_integers(low, high - 1, size=size)\n",
            "/home/pratyush/.local/lib/python3.8/site-packages/rl/memory.py:38: DeprecationWarning: This function is deprecated. Please call randint(1, 24 + 1) instead\n",
            "  batch_idxs = np.random.random_integers(low, high - 1, size=size)\n",
            "/home/pratyush/.local/lib/python3.8/site-packages/rl/memory.py:38: DeprecationWarning: This function is deprecated. Please call randint(1, 25 + 1) instead\n",
            "  batch_idxs = np.random.random_integers(low, high - 1, size=size)\n",
            "/home/pratyush/.local/lib/python3.8/site-packages/rl/memory.py:38: DeprecationWarning: This function is deprecated. Please call randint(1, 26 + 1) instead\n",
            "  batch_idxs = np.random.random_integers(low, high - 1, size=size)\n",
            "/home/pratyush/.local/lib/python3.8/site-packages/rl/memory.py:38: DeprecationWarning: This function is deprecated. Please call randint(1, 27 + 1) instead\n",
            "  batch_idxs = np.random.random_integers(low, high - 1, size=size)\n",
            "/home/pratyush/.local/lib/python3.8/site-packages/rl/memory.py:38: DeprecationWarning: This function is deprecated. Please call randint(1, 28 + 1) instead\n",
            "  batch_idxs = np.random.random_integers(low, high - 1, size=size)\n",
            "/home/pratyush/.local/lib/python3.8/site-packages/rl/memory.py:38: DeprecationWarning: This function is deprecated. Please call randint(1, 29 + 1) instead\n",
            "  batch_idxs = np.random.random_integers(low, high - 1, size=size)\n",
            "/home/pratyush/.local/lib/python3.8/site-packages/rl/memory.py:38: DeprecationWarning: This function is deprecated. Please call randint(1, 30 + 1) instead\n",
            "  batch_idxs = np.random.random_integers(low, high - 1, size=size)\n",
            "/home/pratyush/.local/lib/python3.8/site-packages/rl/memory.py:38: DeprecationWarning: This function is deprecated. Please call randint(1, 31 + 1) instead\n",
            "  batch_idxs = np.random.random_integers(low, high - 1, size=size)\n"
          ]
        },
        {
          "name": "stdout",
          "output_type": "stream",
          "text": [
            "10000/10000 [==============================] - 46s 5ms/step - reward: 0.1036\n",
            "98 episodes - episode_reward: 10.614 [-122.331, 54.209] - loss: 1.264 - mae: 0.352 - mean_q: 0.507\n",
            "\n",
            "Interval 2 (10000 steps performed)\n",
            "10000/10000 [==============================] - 45s 4ms/step - reward: 0.4421\n",
            "98 episodes - episode_reward: 45.065 [19.319, 58.585] - loss: 0.589 - mae: 0.749 - mean_q: 1.195\n",
            "\n",
            "Interval 3 (20000 steps performed)\n",
            "10000/10000 [==============================] - 45s 4ms/step - reward: 0.1709\n",
            "98 episodes - episode_reward: 17.482 [-91.285, 56.628] - loss: 0.526 - mae: 1.534 - mean_q: 2.135\n",
            "\n",
            "Interval 4 (30000 steps performed)\n",
            "10000/10000 [==============================] - 45s 4ms/step - reward: 0.2113\n",
            "98 episodes - episode_reward: 21.541 [-135.043, 54.285] - loss: 0.588 - mae: 2.042 - mean_q: 2.768\n",
            "\n",
            "Interval 5 (40000 steps performed)\n",
            "10000/10000 [==============================] - 45s 5ms/step - reward: 0.3135\n",
            "98 episodes - episode_reward: 31.932 [-87.923, 55.918] - loss: 0.612 - mae: 2.408 - mean_q: 3.256\n",
            "\n",
            "Interval 6 (50000 steps performed)\n",
            "10000/10000 [==============================] - 45s 4ms/step - reward: 0.3625\n",
            "98 episodes - episode_reward: 37.093 [-6.367, 56.567] - loss: 0.618 - mae: 2.790 - mean_q: 3.798\n",
            "\n",
            "Interval 7 (60000 steps performed)\n",
            "10000/10000 [==============================] - 47s 5ms/step - reward: 0.3743\n",
            "98 episodes - episode_reward: 38.078 [8.155, 57.126] - loss: 0.623 - mae: 3.204 - mean_q: 4.379\n",
            "\n",
            "Interval 8 (70000 steps performed)\n",
            "10000/10000 [==============================] - 45s 5ms/step - reward: 0.4230\n",
            "98 episodes - episode_reward: 43.202 [-2.954, 57.103] - loss: 0.571 - mae: 3.432 - mean_q: 4.720\n",
            "\n",
            "Interval 9 (80000 steps performed)\n",
            "10000/10000 [==============================] - 45s 5ms/step - reward: 0.4390\n",
            "98 episodes - episode_reward: 44.747 [23.117, 57.380] - loss: 0.494 - mae: 3.694 - mean_q: 5.049\n",
            "\n",
            "Interval 10 (90000 steps performed)\n",
            "10000/10000 [==============================] - 48s 5ms/step - reward: 0.4501\n",
            "done, took 455.531 seconds\n"
          ]
        },
        {
          "data": {
            "text/plain": [
              "<keras.callbacks.History at 0x7f735033f670>"
            ]
          },
          "execution_count": 80,
          "metadata": {},
          "output_type": "execute_result"
        }
      ],
      "source": [
        "dqn = build_agent(model, actions)\n",
        "dqn.compile(Adam(learning_rate=1e-5), metrics=['mae'])\n",
        "dqn.fit(env, nb_steps=100000, visualize=False, verbose=1)"
      ]
    },
    {
      "cell_type": "code",
      "execution_count": null,
      "id": "eb5d1b30",
      "metadata": {
        "id": "eb5d1b30",
        "outputId": "e120ff50-55eb-4957-e980-8a5851128af3"
      },
      "outputs": [
        {
          "name": "stdout",
          "output_type": "stream",
          "text": [
            "[2, 3, 3, -3, 3, -3, 3, -3, 3, -3, 3, -3, 3, -3, 3, -3, 3, -3, 3, -3, 3, -3, 3, -3, 3, -3, 3, -3, 3, -3, 3, -3, 3, -3, 3, -3, 3, -3, 3, -3, 3, -3, 3, -3, 3, -3, 3, -3, 3, -3, 3, -3, 3, -3, 3, -3, 3, -3, 3, -3, 3, -3, 3, -3, 3, -3, 3, -3, 3, -3, 3, -3, 3, -3, 3, -3, 3, -3, 3, -3, 3, -3, 3, -3, 3, -3, 3, -3, 3, -3, 3, -3, 3, -3, 3, -3, 3, -3, 3, -3, 3, -3]\n"
          ]
        }
      ],
      "source": [
        "print(env.get_action_history())"
      ]
    },
    {
      "cell_type": "code",
      "execution_count": null,
      "id": "5c48e39e",
      "metadata": {
        "id": "5c48e39e",
        "outputId": "62dff955-baa2-4497-80da-23db118fd2a1"
      },
      "outputs": [
        {
          "name": "stdout",
          "output_type": "stream",
          "text": [
            "Testing for 10 episodes ...\n",
            "Episode 1: reward: 60.521, steps: 102\n",
            "Episode 2: reward: 60.521, steps: 102\n",
            "Episode 3: reward: 60.521, steps: 102\n",
            "Episode 4: reward: 60.521, steps: 102\n",
            "Episode 5: reward: 60.521, steps: 102\n",
            "Episode 6: reward: 60.521, steps: 102\n",
            "Episode 7: reward: 60.521, steps: 102\n",
            "Episode 8: reward: 60.521, steps: 102\n",
            "Episode 9: reward: 60.521, steps: 102\n",
            "Episode 10: reward: 60.521, steps: 102\n",
            "60.52065404475043\n"
          ]
        }
      ],
      "source": [
        "scores = dqn.test(env, nb_episodes=10, visualize=False)\n",
        "print(np.mean(scores.history['episode_reward']))"
      ]
    },
    {
      "cell_type": "code",
      "execution_count": null,
      "id": "5a2dd135",
      "metadata": {
        "id": "5a2dd135",
        "outputId": "5f1d1c6e-d086-4cd8-8c0a-2885ad92cbc0"
      },
      "outputs": [
        {
          "name": "stdout",
          "output_type": "stream",
          "text": [
            "[-0.03297400126823082, -0.06483830057070389, -0.09452848989944743, -0.0645665368239877, -0.09147114774889031, -0.06477035963402483, -0.09181085243228554, -0.061237430926714395, -0.10397228009783498, -0.04934776700788117, -0.13230365069299757, -0.04696983422411451, -0.13040130446598425, -0.04894012138780687, -0.12686837575867382, -0.056889210979255395, -0.13950538998097656, -0.037865748709122224, -0.1342739378566899, -0.04764924359090496, -0.13570069752694988, -0.049483648881239226, -0.12184074644442429, -0.06646888305100097, -0.12211251019114049, -0.07468973638916566, -0.12143310082435001, -0.07523326388259803, -0.11973457740737381, -0.0715644533019295, -0.12252015581121475, -0.06517800525409907, -0.13563275659027083, -0.047513361717546845, -0.13841833499411177, -0.04540719268049641, -0.13753510281728415, -0.04656218860404021, -0.1368556934504937, -0.04513542893378024, -0.15934414349125825, 0.012682308180088808, -0.14983241235619163, 0.011867016939940273, -0.14752242050910402, 0.010236434459643118, -0.14432919648518888, -0.035487815925355576, -0.140184799347767, -0.03834133526587555, -0.13841833499411177, -0.03487634749524414, -0.14575595615544884, -0.006069390343328207, -0.19657577679137603, 0.04597336715282177, -0.1827837666455295, 0.03585016758764378, -0.18257994383549234, 0.03802427756137333, -0.15200652232992118, 0.02497961771899626, -0.12985777697255188, 0.02212609837847626, -0.19834224114503127, 0.1587553220400398, -0.11776429024368154, 0.12858954615454296, -0.08691910499139416, 0.12954071926804966, -0.05879155720626866, 0.09020291693088145, -0.10437992571790922, 0.08965938943744906, -0.0984690642268321, 0.08666998822357103, -0.12415073829151188, 0.106916387353927, -0.22341244677959954, 0.23831415889120405, -0.05396775070205617, 0.14102273756680872, -0.07754325572968551, 0.12165957061328037, -0.06612917836760562, 0.12057251562641558, -0.06137331280007233, 0.11962134251290893, -0.07407826795905412, 0.18878521605217877, -0.05926714376302189, 0.1856599329649426, -0.038613099012591606, 0.17084880876891037, -0.020472868919285986, 0.1548147477126553, -0.06538182806413606, 0.14081891475677166, -0.055394510372316075, 0.12743455023099945, -0.06565359181085215, 0.14999094120844306]\n"
          ]
        }
      ],
      "source": [
        "print(env.get_profits_history())"
      ]
    },
    {
      "cell_type": "code",
      "execution_count": null,
      "id": "cad11bbe",
      "metadata": {
        "id": "cad11bbe",
        "outputId": "6509aae3-6ee2-4ccd-a465-1604fd3aeeff"
      },
      "outputs": [
        {
          "name": "stdout",
          "output_type": "stream",
          "text": [
            "[-0.06594800253646164, -0.06372859860494613, -0.059380378657487076, 0.29961953075459724, -0.05380922184980522, 0.2670078811486548, -0.054080985596521414, 0.3057342150557114, -0.08546969834224116, 0.5462451308995381, -0.1659117673702328, 0.8533381646888306, -0.16686294048373948, 0.8146118307817738, -0.1558565087417339, 0.6997916477941843, -0.16523235800344233, 1.0163964127185434, -0.19281637829513534, 0.8662469426578494, -0.17610290787208985, 0.8621704864571066, -0.14471419512637013, 0.5537186339342332, -0.11128725428027902, 0.4742277380197482, -0.09348672887036868, 0.46199836941751976, -0.08900262704955156, 0.4817012410544431, -0.10191140501857052, 0.5734215055711568, -0.1409095026723435, 0.8811939487272398, -0.18180994655312985, 0.9301114231361536, -0.18425582027357548, 0.9097291421324394, -0.18058700969290697, 0.9172026451671346, -0.22841742911495602, 1.7202645167134705, -0.3250294410725609, 1.616994292961319, -0.3187788748980886, 1.5775885496874715, -0.309131261889664, 1.088413805598333, -0.20939396684482287, 1.0184346408189147, -0.20015399945647244, 1.0354198749886763, -0.2217592173204094, 1.3968656581212064, -0.38101277289609564, 2.425491439441978, -0.45751426759670255, 2.186339342331733, -0.43686022284627224, 2.2060422139686566, -0.380061599782589, 1.7698614004891744, -0.3096747893830963, 1.5198387535102813, -0.44093667904701506, 3.5709756318507107, -0.5530392245674427, 2.463538363982245, -0.43101730229187424, 2.164598242594438, -0.37666455294863666, 1.489944741371501, -0.38916568529758133, 1.9403931515535828, -0.3762569073285623, 1.8513905245040312, -0.4216414530301658, 2.310671256454389, -0.6606576682670531, 4.617266056708036, -0.5845638191865205, 1.949904882688649, -0.43713198659298846, 1.9920282634296589, -0.375577497961772, 1.867016939940212, -0.3638916568529758, 1.8099465531298127, -0.3873992209439261, 2.628634840112329, -0.4961047196304013, 2.449270767279645, -0.4485460639550684, 2.09461907781502, -0.3826433553763927, 1.7528761663194128, -0.4403931515535827, 2.0620074282090775, -0.3924268502581755, 1.8282906060331552, -0.3861762840837032, 2.156445330192952]\n"
          ]
        }
      ],
      "source": [
        "print(env.get_reward_history())"
      ]
    },
    {
      "cell_type": "code",
      "execution_count": null,
      "id": "a1abf473",
      "metadata": {
        "id": "a1abf473",
        "outputId": "3806b7d8-b06b-4cb9-fd01-8859932a43bb"
      },
      "outputs": [
        {
          "name": "stdout",
          "output_type": "stream",
          "text": [
            "[0, 2, 5, 8, 5, 8, 5, 8, 5, 8, 5, 8, 5, 8, 5, 8, 5, 8, 5, 8, 5, 8, 5, 8, 5, 8, 5, 8, 5, 8, 5, 8, 5, 8, 5, 8, 5, 8, 5, 8, 5, 8, 5, 8, 5, 8, 5, 8, 5, 8, 5, 8, 5, 8, 5, 8, 5, 8, 5, 8, 5, 8, 5, 8, 5, 8, 5, 8, 5, 8, 5, 8, 5, 8, 5, 8, 5, 8, 5, 8, 5, 8, 5, 8, 5, 8, 5, 8, 5, 8, 5, 8, 5, 8, 5, 8, 5, 8, 5, 8, 5, 8]\n"
          ]
        }
      ],
      "source": [
        "print(env.get_current_capacity())"
      ]
    },
    {
      "cell_type": "code",
      "execution_count": null,
      "id": "f1d64129",
      "metadata": {
        "id": "f1d64129"
      },
      "outputs": [],
      "source": [
        "capacity_history = env.get_current_capacity()"
      ]
    },
    {
      "cell_type": "code",
      "execution_count": null,
      "id": "66024ec3",
      "metadata": {
        "id": "66024ec3"
      },
      "outputs": [],
      "source": [
        "profit_history = env.get_profits_history()"
      ]
    },
    {
      "cell_type": "code",
      "execution_count": null,
      "id": "c7ddb1b4",
      "metadata": {
        "id": "c7ddb1b4"
      },
      "outputs": [],
      "source": [
        "net_profit = profit_history[-1] + capacity_history[-1]*data_elec.price[100]"
      ]
    },
    {
      "cell_type": "code",
      "execution_count": null,
      "id": "57c8b145",
      "metadata": {
        "id": "57c8b145",
        "outputId": "085723b2-47fd-44f9-cd1c-447bfe0a26c0"
      },
      "outputs": [
        {
          "data": {
            "text/plain": [
              "0.6648926533200473"
            ]
          },
          "execution_count": 107,
          "metadata": {},
          "output_type": "execute_result"
        }
      ],
      "source": [
        "net_profit"
      ]
    },
    {
      "cell_type": "code",
      "execution_count": null,
      "id": "cbf7fecd",
      "metadata": {
        "id": "cbf7fecd",
        "outputId": "c8c17e74-21bc-47e4-c945-56820b8857a9"
      },
      "outputs": [
        {
          "name": "stdout",
          "output_type": "stream",
          "text": [
            "[[307.33]]\n"
          ]
        }
      ],
      "source": [
        "print(scaler.inverse_transform(net_profit.reshape(-1, 1)))"
      ]
    },
    {
      "cell_type": "code",
      "execution_count": null,
      "id": "02b76e70",
      "metadata": {
        "id": "02b76e70",
        "outputId": "ec65f52a-cd70-420c-bde5-e8e8fc13cd0f"
      },
      "outputs": [
        {
          "name": "stdout",
          "output_type": "stream",
          "text": [
            "Time Step 1: Action taken = 2\n",
            "Time Step 2: Action taken = 3\n",
            "Time Step 3: Action taken = 3\n",
            "Time Step 4: Action taken = -3\n",
            "Time Step 5: Action taken = 3\n",
            "Time Step 6: Action taken = -3\n",
            "Time Step 7: Action taken = 3\n",
            "Time Step 8: Action taken = -3\n",
            "Time Step 9: Action taken = 3\n",
            "Time Step 10: Action taken = -3\n",
            "Time Step 11: Action taken = 3\n",
            "Time Step 12: Action taken = -3\n",
            "Time Step 13: Action taken = 3\n",
            "Time Step 14: Action taken = -3\n",
            "Time Step 15: Action taken = 3\n",
            "Time Step 16: Action taken = -3\n",
            "Time Step 17: Action taken = 3\n",
            "Time Step 18: Action taken = -3\n",
            "Time Step 19: Action taken = 3\n",
            "Time Step 20: Action taken = -3\n",
            "Time Step 21: Action taken = 3\n",
            "Time Step 22: Action taken = -3\n",
            "Time Step 23: Action taken = 3\n",
            "Time Step 24: Action taken = -3\n",
            "Time Step 25: Action taken = 3\n",
            "Time Step 26: Action taken = -3\n",
            "Time Step 27: Action taken = 3\n",
            "Time Step 28: Action taken = -3\n",
            "Time Step 29: Action taken = 3\n",
            "Time Step 30: Action taken = -3\n",
            "Time Step 31: Action taken = 3\n",
            "Time Step 32: Action taken = -3\n",
            "Time Step 33: Action taken = 3\n",
            "Time Step 34: Action taken = -3\n",
            "Time Step 35: Action taken = 3\n",
            "Time Step 36: Action taken = -3\n",
            "Time Step 37: Action taken = 3\n",
            "Time Step 38: Action taken = -3\n",
            "Time Step 39: Action taken = 3\n",
            "Time Step 40: Action taken = -3\n",
            "Time Step 41: Action taken = 3\n",
            "Time Step 42: Action taken = -3\n",
            "Time Step 43: Action taken = 3\n",
            "Time Step 44: Action taken = -3\n",
            "Time Step 45: Action taken = 3\n",
            "Time Step 46: Action taken = -3\n",
            "Time Step 47: Action taken = 3\n",
            "Time Step 48: Action taken = -3\n",
            "Time Step 49: Action taken = 3\n",
            "Time Step 50: Action taken = -3\n",
            "Time Step 51: Action taken = 3\n",
            "Time Step 52: Action taken = -3\n",
            "Time Step 53: Action taken = 3\n",
            "Time Step 54: Action taken = -3\n",
            "Time Step 55: Action taken = 3\n",
            "Time Step 56: Action taken = -3\n",
            "Time Step 57: Action taken = 3\n",
            "Time Step 58: Action taken = -3\n",
            "Time Step 59: Action taken = 3\n",
            "Time Step 60: Action taken = -3\n",
            "Time Step 61: Action taken = 3\n",
            "Time Step 62: Action taken = -3\n",
            "Time Step 63: Action taken = 3\n",
            "Time Step 64: Action taken = -3\n",
            "Time Step 65: Action taken = 3\n",
            "Time Step 66: Action taken = -3\n",
            "Time Step 67: Action taken = 3\n",
            "Time Step 68: Action taken = -3\n",
            "Time Step 69: Action taken = 3\n",
            "Time Step 70: Action taken = -3\n",
            "Time Step 71: Action taken = 3\n",
            "Time Step 72: Action taken = -3\n",
            "Time Step 73: Action taken = 3\n",
            "Time Step 74: Action taken = -3\n",
            "Time Step 75: Action taken = 3\n",
            "Time Step 76: Action taken = -3\n",
            "Time Step 77: Action taken = 3\n",
            "Time Step 78: Action taken = -3\n",
            "Time Step 79: Action taken = 3\n",
            "Time Step 80: Action taken = -3\n",
            "Time Step 81: Action taken = 3\n",
            "Time Step 82: Action taken = -3\n",
            "Time Step 83: Action taken = 3\n",
            "Time Step 84: Action taken = -3\n",
            "Time Step 85: Action taken = 3\n",
            "Time Step 86: Action taken = -3\n",
            "Time Step 87: Action taken = 3\n",
            "Time Step 88: Action taken = -3\n",
            "Time Step 89: Action taken = 3\n",
            "Time Step 90: Action taken = -3\n",
            "Time Step 91: Action taken = 3\n",
            "Time Step 92: Action taken = -3\n",
            "Time Step 93: Action taken = 3\n",
            "Time Step 94: Action taken = -3\n",
            "Time Step 95: Action taken = 3\n",
            "Time Step 96: Action taken = -3\n",
            "Time Step 97: Action taken = 3\n",
            "Time Step 98: Action taken = -3\n",
            "Time Step 99: Action taken = 3\n",
            "Time Step 100: Action taken = -3\n",
            "Time Step 101: Action taken = 3\n",
            "Time Step 102: Action taken = -3\n"
          ]
        }
      ],
      "source": [
        "\n",
        "action_history = env.get_action_history()\n",
        "\n",
        "# Iterate through the action history to view individual time step actions\n",
        "for time_step, action in enumerate(action_history):\n",
        "    print(f\"Time Step {time_step + 1}: Action taken = {action}\")"
      ]
    },
    {
      "cell_type": "code",
      "execution_count": null,
      "id": "c12376a9",
      "metadata": {
        "id": "c12376a9"
      },
      "outputs": [],
      "source": []
    },
    {
      "cell_type": "code",
      "execution_count": null,
      "id": "bd27fafd",
      "metadata": {
        "id": "bd27fafd"
      },
      "outputs": [],
      "source": []
    },
    {
      "cell_type": "code",
      "execution_count": null,
      "id": "94c2e024",
      "metadata": {
        "id": "94c2e024"
      },
      "outputs": [],
      "source": []
    }
  ],
  "metadata": {
    "kernelspec": {
      "display_name": "Python 3 (ipykernel)",
      "language": "python",
      "name": "python3"
    },
    "language_info": {
      "codemirror_mode": {
        "name": "ipython",
        "version": 3
      },
      "file_extension": ".py",
      "mimetype": "text/x-python",
      "name": "python",
      "nbconvert_exporter": "python",
      "pygments_lexer": "ipython3",
      "version": "3.8.10"
    },
    "colab": {
      "provenance": [],
      "include_colab_link": true
    }
  },
  "nbformat": 4,
  "nbformat_minor": 5
}