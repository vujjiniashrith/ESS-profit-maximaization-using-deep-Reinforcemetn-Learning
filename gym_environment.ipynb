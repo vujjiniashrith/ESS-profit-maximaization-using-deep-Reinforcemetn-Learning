{
  "cells": [
    {
      "cell_type": "markdown",
      "metadata": {
        "id": "view-in-github",
        "colab_type": "text"
      },
      "source": [
        "<a href=\"https://colab.research.google.com/github/vujjiniashrith/ESS-profit-maximization-using-deep-Reinforcement-Learning/blob/main/gym_environment.ipynb\" target=\"_parent\"><img src=\"https://colab.research.google.com/assets/colab-badge.svg\" alt=\"Open In Colab\"/></a>"
      ]
    },
    {
      "cell_type": "code",
      "execution_count": null,
      "id": "87ac180a",
      "metadata": {
        "id": "87ac180a"
      },
      "outputs": [],
      "source": [
        "import numpy as np\n",
        "import pandas as pd\n",
        "import matplotlib.pyplot as plt\n",
        "import seaborn as sns\n",
        "import gym\n",
        "import random\n",
        "from sklearn.preprocessing import MinMaxScaler"
      ]
    },
    {
      "cell_type": "code",
      "execution_count": null,
      "id": "771b421c",
      "metadata": {
        "id": "771b421c"
      },
      "outputs": [],
      "source": [
        "from gym import Env\n",
        "from gym import spaces\n",
        "from gym.spaces import Discrete, Box"
      ]
    },
    {
      "cell_type": "code",
      "execution_count": null,
      "id": "511f85e2",
      "metadata": {
        "id": "511f85e2",
        "outputId": "4a9b386f-f06d-4652-9a48-22cf9d1ecb06"
      },
      "outputs": [
        {
          "name": "stdout",
          "output_type": "stream",
          "text": [
            "Index(['datetime', 'system_energy_price_da'], dtype='object')\n",
            "Index(['dateTime', 'use'], dtype='object')\n"
          ]
        }
      ],
      "source": [
        "data_elec = pd.read_csv(\"electicity_data_hourly.csv\")\n",
        "data_cons = pd.read_csv(\"consumer_data_hourly.csv\")\n",
        "print(data_elec.columns)\n",
        "print(data_cons.columns)"
      ]
    },
    {
      "cell_type": "code",
      "execution_count": null,
      "id": "150ed32d",
      "metadata": {
        "id": "150ed32d"
      },
      "outputs": [],
      "source": [
        "data_elec.rename(columns={'system_energy_price_da':'price'},inplace = True)"
      ]
    },
    {
      "cell_type": "code",
      "execution_count": null,
      "id": "3eefd0c2",
      "metadata": {
        "id": "3eefd0c2"
      },
      "outputs": [],
      "source": [
        "scaler = MinMaxScaler()\n",
        "data_elec['price'] = scaler.fit_transform(data_elec[['price']])"
      ]
    },
    {
      "cell_type": "code",
      "execution_count": null,
      "id": "31a2cd23",
      "metadata": {
        "id": "31a2cd23",
        "outputId": "10ee3a62-f556-4ccf-f76f-dbbe3ff5a69c"
      },
      "outputs": [
        {
          "data": {
            "text/html": [
              "<div>\n",
              "<style scoped>\n",
              "    .dataframe tbody tr th:only-of-type {\n",
              "        vertical-align: middle;\n",
              "    }\n",
              "\n",
              "    .dataframe tbody tr th {\n",
              "        vertical-align: top;\n",
              "    }\n",
              "\n",
              "    .dataframe thead th {\n",
              "        text-align: right;\n",
              "    }\n",
              "</style>\n",
              "<table border=\"1\" class=\"dataframe\">\n",
              "  <thead>\n",
              "    <tr style=\"text-align: right;\">\n",
              "      <th></th>\n",
              "      <th>datetime</th>\n",
              "      <th>price</th>\n",
              "    </tr>\n",
              "  </thead>\n",
              "  <tbody>\n",
              "    <tr>\n",
              "      <th>0</th>\n",
              "      <td>2022-01-01 00:00:00</td>\n",
              "      <td>0.016487</td>\n",
              "    </tr>\n",
              "    <tr>\n",
              "      <th>1</th>\n",
              "      <td>2022-01-01 01:00:00</td>\n",
              "      <td>0.010621</td>\n",
              "    </tr>\n",
              "    <tr>\n",
              "      <th>2</th>\n",
              "      <td>2022-01-01 02:00:00</td>\n",
              "      <td>0.009897</td>\n",
              "    </tr>\n",
              "    <tr>\n",
              "      <th>3</th>\n",
              "      <td>2022-01-01 03:00:00</td>\n",
              "      <td>0.009987</td>\n",
              "    </tr>\n",
              "    <tr>\n",
              "      <th>4</th>\n",
              "      <td>2022-01-01 04:00:00</td>\n",
              "      <td>0.008968</td>\n",
              "    </tr>\n",
              "  </tbody>\n",
              "</table>\n",
              "</div>"
            ],
            "text/plain": [
              "              datetime     price\n",
              "0  2022-01-01 00:00:00  0.016487\n",
              "1  2022-01-01 01:00:00  0.010621\n",
              "2  2022-01-01 02:00:00  0.009897\n",
              "3  2022-01-01 03:00:00  0.009987\n",
              "4  2022-01-01 04:00:00  0.008968"
            ]
          },
          "execution_count": 6,
          "metadata": {},
          "output_type": "execute_result"
        }
      ],
      "source": [
        "data_elec.head()"
      ]
    },
    {
      "cell_type": "code",
      "execution_count": null,
      "id": "5ca6923f",
      "metadata": {
        "id": "5ca6923f",
        "outputId": "cf90a17a-cb28-4a6e-9570-814e2ab22ed0"
      },
      "outputs": [
        {
          "name": "stdout",
          "output_type": "stream",
          "text": [
            "29.8692   0.0\n",
            "1.0   0.0\n"
          ]
        }
      ],
      "source": [
        "data_cons.rename(columns={'use':'usage'},inplace = True)\n",
        "print(data_cons.usage.max(),\" \",data_cons.usage.min())\n",
        "print(data_elec.price.max(),\" \",data_elec.price.min())"
      ]
    },
    {
      "cell_type": "code",
      "execution_count": null,
      "id": "a6035ed2",
      "metadata": {
        "id": "a6035ed2",
        "outputId": "95a5c58a-1f72-4632-e6b3-6238563be68a"
      },
      "outputs": [
        {
          "name": "stdout",
          "output_type": "stream",
          "text": [
            "(7027, 2) (1710, 2)\n",
            "(7027, 2) (1757, 2)\n"
          ]
        }
      ],
      "source": [
        "split_point = 7027\n",
        "train_elec = data_elec[:split_point]\n",
        "train_cons = data_cons[:split_point]\n",
        "test_elec = data_elec[split_point:]\n",
        "test_cons = data_cons[split_point:]\n",
        "print(train_elec.shape, test_elec.shape)\n",
        "print(train_cons.shape, test_cons.shape)"
      ]
    },
    {
      "cell_type": "code",
      "execution_count": null,
      "id": "d09a3399",
      "metadata": {
        "id": "d09a3399",
        "outputId": "720d85bd-185e-48fe-bcd4-75882cbf0fac"
      },
      "outputs": [
        {
          "data": {
            "text/plain": [
              "[<matplotlib.lines.Line2D at 0x7f0ef9451130>]"
            ]
          },
          "execution_count": 9,
          "metadata": {},
          "output_type": "execute_result"
        },
        {
          "data": {
            "image/png": "[encoded data removed]",
            "text/plain": [
              "<Figure size 640x480 with 1 Axes>"
            ]
          },
          "metadata": {},
          "output_type": "display_data"
        }
      ],
      "source": [
        "plt.plot(data_elec.price)"
      ]
    },
    {
      "cell_type": "code",
      "execution_count": null,
      "id": "6d9ba0fd",
      "metadata": {
        "id": "6d9ba0fd",
        "outputId": "88d5296a-e031-4f46-d5b4-d55a17ac4a20"
      },
      "outputs": [
        {
          "data": {
            "text/plain": [
              "[<matplotlib.lines.Line2D at 0x7f0ef73411f0>]"
            ]
          },
          "execution_count": 10,
          "metadata": {},
          "output_type": "execute_result"
        },
        {
          "data": {
            "image/png": "[encoded data removed]",
            "text/plain": [
              "<Figure size 640x480 with 1 Axes>"
            ]
          },
          "metadata": {},
          "output_type": "display_data"
        }
      ],
      "source": [
        "plt.plot(data_cons.usage)"
      ]
    },
    {
      "cell_type": "code",
      "execution_count": null,
      "id": "fbbd3ff9",
      "metadata": {
        "id": "fbbd3ff9"
      },
      "outputs": [],
      "source": [
        "data_usage = data_cons['usage'].values\n",
        "data_price = data_elec['price'].values"
      ]
    },
    {
      "cell_type": "markdown",
      "id": "2a4e6d9a",
      "metadata": {
        "id": "2a4e6d9a"
      },
      "source": [
        "# Custom Environment for smartGrid\n"
      ]
    },
    {
      "cell_type": "code",
      "execution_count": null,
      "id": "f31be9a5",
      "metadata": {
        "id": "f31be9a5"
      },
      "outputs": [],
      "source": [
        "class SmartGrid(Env):\n",
        "    def __init__(self, data_usage, data_price, max_capacity):\n",
        "        # Load the electricity and consumer usage\n",
        "        self.data_price = data_price\n",
        "        self.data_usage = data_usage\n",
        "\n",
        "        # Set maximum capacity\n",
        "        self.max_capacity = max_capacity\n",
        "\n",
        "        # Set action space\n",
        "        self.action_space = spaces.Box(low=np.array([-3]), high=np.array([3]))\n",
        "\n",
        "        # Set observation space\n",
        "        self.observation_space = spaces.Dict({\n",
        "            'curr_capacity': spaces.Box(low=0, high=self.max_capacity, shape=(1,), dtype=np.float64),\n",
        "            'curr_price': spaces.Box(low=0, high=1, shape=(1,), dtype=np.float64),\n",
        "            'cons_demand': spaces.Box(low=0, high=30, shape=(1,), dtype=np.float64)\n",
        "        })\n",
        "        #horizon- total time for which our code runs\n",
        "        self.horizon = 100\n",
        "\n",
        "        #this tells us the present_capcity of our battery, also the first component of the observation_space\n",
        "        self.present_capacity = 0\n",
        "\n",
        "        #this keeps track of all the time_steps and keeps it below horizon\n",
        "        self.curr_pos = 0\n",
        "\n",
        "        #done flag, if curr_pos>horizon initialize the done flag\n",
        "        self.done = False\n",
        "\n",
        "        #this keeps track of curr_profits\n",
        "        self.profits = 0\n",
        "\n",
        "        #all four below are for rendering the information\n",
        "        self.action_history = []\n",
        "        self.profits_history = []\n",
        "        self.reward_history = []\n",
        "        self.current_capacity = []\n",
        "\n",
        "    def step(self, action):\n",
        "        curr_profits = self.profits\n",
        "\n",
        "         #increment the current position\n",
        "        self.curr_pos += 1\n",
        "        if self.curr_pos >= self.horizon:\n",
        "            self.done = True\n",
        "\n",
        "        #update the capacity of the battery\n",
        "        # 0-3 is selling where 0 means selling 3 units of electricity\n",
        "        # 3 is being idle\n",
        "        # 3-0 is buying the electricity from the grid\n",
        "        self.present_capacity += action - 3\n",
        "\n",
        "        #update the profits\n",
        "        self.profits += self.find_profits(action)\n",
        "\n",
        "        #profits of the current step\n",
        "        curr_profits = self.profits - curr_profits\n",
        "\n",
        "        #calculate the\n",
        "        step_reward = self.calculate_reward(curr_profits, action)\n",
        "\n",
        "        info = {}\n",
        "\n",
        "        observation = {\n",
        "            'curr_capacity': self.present_capacity,  # Use 'self.present_capacity' here\n",
        "            'curr_price': self.data_price[self.curr_pos],  # Use 'self.data_price' and 'self.curr_pos' here\n",
        "            'cons_demand': 0\n",
        "        }\n",
        "\n",
        "        # Save all the info\n",
        "        self.action_history.append(action)\n",
        "        self.profits_history.append(curr_profits)\n",
        "        self.reward_history.append(step_reward)\n",
        "\n",
        "        return observation, step_reward, self.done, info\n",
        "\n",
        "    def reset(self):\n",
        "        self.done = False\n",
        "        self.curr_pos = 0\n",
        "        self.present_capacity = 0\n",
        "        self.profits = 0\n",
        "        self.action_history = []\n",
        "        self.profits_history = []\n",
        "        self.reward_history = []\n",
        "        self.current_capacity = []\n",
        "\n",
        "    def calculate_reward(self, curr_profits, action):\n",
        "        reward = 0\n",
        "        if action - 3 < 0:\n",
        "            reward = curr_profits * 10 + self.punishment_for_bad_action(action)  # Use 'self.punishment_for_bad_action'\n",
        "        elif action == 0:\n",
        "            reward = 0\n",
        "        else:\n",
        "            reward = curr_profits * 10 + self.punishment_for_bad_action(action)  # Use 'self.punishment_for_bad_action'\n",
        "        return reward\n",
        "\n",
        "    def punishment_for_bad_action(self, action):\n",
        "        punishment = 0\n",
        "\n",
        "        #criteria for bad choices and assign a punishment\n",
        "        if action <3:\n",
        "            if self.present_capacity < 3 - action:\n",
        "                # Penalize actions that attempt to discharge more than available\n",
        "                punishment = -5\n",
        "        elif action >3:\n",
        "            if self.present_capacity > self.max_capacity - (action - 3):\n",
        "                # Penalize actions that attempt to charge beyond capacity\n",
        "                punishment = -5\n",
        "        return punishment\n",
        "\n",
        "    def find_profits(self, action):\n",
        "        step_transaction = 0\n",
        "        step_transaction = -(action - 3) * self.data_price[self.curr_pos]  # Use 'self.data_price' and 'self.curr_pos'\n",
        "        return step_transaction\n",
        "\n",
        "    def create_info(self, **kwargs):\n",
        "        pass\n",
        "\n",
        "    def render(self):\n",
        "        pass\n",
        "\n",
        "    def get_action_history(self):\n",
        "        return self.action_history\n",
        "\n",
        "\n",
        "    def get_reward_history(self):\n",
        "        return self.reward_history\n",
        "\n",
        "    def get_profits_history(self):\n",
        "        return self.profits_history\n",
        "\n",
        "    def get_current_capacity(self):\n",
        "        return self.current_capacity\n",
        "\n"
      ]
    },
    {
      "cell_type": "code",
      "execution_count": null,
      "id": "89d255b1",
      "metadata": {
        "id": "89d255b1"
      },
      "outputs": [],
      "source": [
        "env = SmartGrid(data_usage,data_price,10)"
      ]
    },
    {
      "cell_type": "code",
      "execution_count": null,
      "id": "25af3400",
      "metadata": {
        "id": "25af3400",
        "outputId": "7371fb9d-9380-406c-b21d-1d4a5c7c1af2"
      },
      "outputs": [
        {
          "data": {
            "text/plain": [
              "OrderedDict([('cons_demand', array([24.93865229])),\n",
              "             ('curr_capacity', array([6.23478797])),\n",
              "             ('curr_price', array([0.76876584]))])"
            ]
          },
          "execution_count": 144,
          "metadata": {},
          "output_type": "execute_result"
        }
      ],
      "source": [
        "env.observation_space.sample()"
      ]
    },
    {
      "cell_type": "code",
      "execution_count": null,
      "id": "007a749c",
      "metadata": {
        "id": "007a749c",
        "outputId": "cac3ea93-3f9b-4eb1-9ef4-0a76f7fc25ed"
      },
      "outputs": [
        {
          "name": "stdout",
          "output_type": "stream",
          "text": [
            "ItemsView(Dict('cons_demand': Box(0.0, 30.0, (1,), float64), 'curr_capacity': Box(0.0, 10.0, (1,), float64), 'curr_price': Box(0.0, 1.0, (1,), float64)))\n"
          ]
        }
      ],
      "source": [
        "print(env.observation_space.items())"
      ]
    },
    {
      "cell_type": "code",
      "execution_count": null,
      "id": "6d1ec18d",
      "metadata": {
        "id": "6d1ec18d",
        "outputId": "5ec62be4-2a93-4d1a-8cbc-79414e724558"
      },
      "outputs": [
        {
          "data": {
            "text/plain": [
              "array([1.0901161], dtype=float32)"
            ]
          },
          "execution_count": 146,
          "metadata": {},
          "output_type": "execute_result"
        }
      ],
      "source": [
        "action = env.action_space.sample()\n",
        "action"
      ]
    },
    {
      "cell_type": "code",
      "execution_count": null,
      "id": "810e98ba",
      "metadata": {
        "id": "810e98ba",
        "outputId": "e5b41a62-25ca-49c7-f227-029f6da49263"
      },
      "outputs": [
        {
          "name": "stdout",
          "output_type": "stream",
          "text": [
            "Episode:1 Score:[-499.71417]\n",
            "Episode:2 Score:[-499.77203]\n",
            "Episode:3 Score:[-499.6532]\n",
            "Episode:4 Score:[-499.78687]\n",
            "Episode:5 Score:[-499.71783]\n",
            "Episode:6 Score:[-499.38226]\n",
            "Episode:7 Score:[-499.5948]\n",
            "Episode:8 Score:[-499.99738]\n",
            "Episode:9 Score:[-499.96375]\n",
            "Episode:10 Score:[-499.84344]\n"
          ]
        }
      ],
      "source": [
        "episodes = 10\n",
        "for episode in range(1,episodes+1):\n",
        "    state = env.reset()\n",
        "    done = False\n",
        "    score = 0\n",
        "\n",
        "    while not done:\n",
        "\n",
        "        action = env.action_space.sample()\n",
        "        n_state , reward, done, info = env.step(action)\n",
        "        score+=reward\n",
        "    print('Episode:{} Score:{}'.format(episode,score))\n",
        "#     action_history = env.get_action_history()\n",
        "#     print(action_history)\n",
        "    #print(env.get_profits_history())\n",
        "#     print(env.get_reward_history())\n",
        ""
      ]
    },
    {
      "cell_type": "code",
      "execution_count": null,
      "id": "e5e6004f",
      "metadata": {
        "id": "e5e6004f"
      },
      "outputs": [],
      "source": []
    },
    {
      "cell_type": "code",
      "execution_count": null,
      "id": "f70ac90c",
      "metadata": {
        "id": "f70ac90c"
      },
      "outputs": [],
      "source": []
    },
    {
      "cell_type": "code",
      "execution_count": null,
      "id": "97f1804a",
      "metadata": {
        "id": "97f1804a"
      },
      "outputs": [],
      "source": []
    }
  ],
  "metadata": {
    "kernelspec": {
      "display_name": "Python 3 (ipykernel)",
      "language": "python",
      "name": "python3"
    },
    "language_info": {
      "codemirror_mode": {
        "name": "ipython",
        "version": 3
      },
      "file_extension": ".py",
      "mimetype": "text/x-python",
      "name": "python",
      "nbconvert_exporter": "python",
      "pygments_lexer": "ipython3",
      "version": "3.8.10"
    },
    "colab": {
      "provenance": [],
      "include_colab_link": true
    }
  },
  "nbformat": 4,
  "nbformat_minor": 5
}